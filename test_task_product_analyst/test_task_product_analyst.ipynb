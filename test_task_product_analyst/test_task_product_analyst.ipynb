{
 "cells": [
  {
   "cell_type": "markdown",
   "id": "e33e17a0",
   "metadata": {
    "toc": true
   },
   "source": [
    "<h1>Оглавление<span class=\"tocSkip\"></span></h1>\n",
    "<div class=\"toc\"><ul class=\"toc-item\"><li><span><a href=\"#Техническое-задание\" data-toc-modified-id=\"Техническое-задание-1\"><span class=\"toc-item-num\">1&nbsp;&nbsp;</span>Техническое задание</a></span></li><li><span><a href=\"#Описание-данных\" data-toc-modified-id=\"Описание-данных-2\"><span class=\"toc-item-num\">2&nbsp;&nbsp;</span>Описание данных</a></span></li><li><span><a href=\"#Предобработка-данных\" data-toc-modified-id=\"Предобработка-данных-3\"><span class=\"toc-item-num\">3&nbsp;&nbsp;</span>Предобработка данных</a></span><ul class=\"toc-item\"><li><span><a href=\"#Проверка-на-пропуски\" data-toc-modified-id=\"Проверка-на-пропуски-3.1\"><span class=\"toc-item-num\">3.1&nbsp;&nbsp;</span>Проверка на пропуски</a></span></li><li><span><a href=\"#Проверка-на-дубликаты\" data-toc-modified-id=\"Проверка-на-дубликаты-3.2\"><span class=\"toc-item-num\">3.2&nbsp;&nbsp;</span>Проверка на дубликаты</a></span></li><li><span><a href=\"#Выводы-по-предобработке-данных\" data-toc-modified-id=\"Выводы-по-предобработке-данных-3.3\"><span class=\"toc-item-num\">3.3&nbsp;&nbsp;</span>Выводы по предобработке данных</a></span></li></ul></li><li><span><a href=\"#Исследовательский-анализ-данных\" data-toc-modified-id=\"Исследовательский-анализ-данных-4\"><span class=\"toc-item-num\">4&nbsp;&nbsp;</span>Исследовательский анализ данных</a></span><ul class=\"toc-item\"><li><span><a href=\"#Расчёт-LTV-пользователей\" data-toc-modified-id=\"Расчёт-LTV-пользователей-4.1\"><span class=\"toc-item-num\">4.1&nbsp;&nbsp;</span>Расчёт LTV пользователей</a></span></li><li><span><a href=\"#Прогноз-LTV-на-полгода\" data-toc-modified-id=\"Прогноз-LTV-на-полгода-4.2\"><span class=\"toc-item-num\">4.2&nbsp;&nbsp;</span>Прогноз LTV на полгода</a></span></li><li><span><a href=\"#Визуализация-LTV\" data-toc-modified-id=\"Визуализация-LTV-4.3\"><span class=\"toc-item-num\">4.3&nbsp;&nbsp;</span>Визуализация LTV</a></span></li><li><span><a href=\"#Расчёт-ROMI\" data-toc-modified-id=\"Расчёт-ROMI-4.4\"><span class=\"toc-item-num\">4.4&nbsp;&nbsp;</span>Расчёт ROMI</a></span></li></ul></li><li><span><a href=\"#Общие-выводы-по-исследованию\" data-toc-modified-id=\"Общие-выводы-по-исследованию-5\"><span class=\"toc-item-num\">5&nbsp;&nbsp;</span>Общие выводы по исследованию</a></span></li></ul></div>"
   ]
  },
  {
   "cell_type": "markdown",
   "id": "25d16e6b",
   "metadata": {},
   "source": [
    "## Техническое задание"
   ]
  },
  {
   "cell_type": "markdown",
   "id": "1b1d9dcd",
   "metadata": {},
   "source": [
    "**Приложение - мобильная утилита для сканирования документов.** Модель монетизации подписочная, есть пробный период 7 дней с дальнейшим переходом в оплату 4.99 USD в неделю. По ссылке ниже выгрузка с базы данных по оформлениям подписок и оплат.\n",
    "Каждая строка представляет собой отдельное событие (либо оформление пробной подписки, либо оплата после завершения пробного периода). Задание построено таким образом, чтобы проверить понимание принципов unit-экономики предприятия. Задание\n",
    "1 предпочтительней делать с помощью Python."
   ]
  },
  {
   "cell_type": "markdown",
   "id": "428a9e9c",
   "metadata": {},
   "source": [
    "**Задание 1**\n",
    "\n",
    "1. Необходимо рассчитать текущий LTV юзера, используя когортный анализ (cohorting event - оформление пробного периода, когорта представляет собой кол-во возможных операций).\n",
    "2. Спрогнозировать, каким будет LTV на полгода.\n",
    "3. Построить график, который будет отображать кривую фактического LTV на фоне кривой прогнозируемого LTV.\n",
    "4. Рассчитать ROMI на 4 недели и на полгода, если стоимость привлечения платящего пользователя 6 USD (ROMI нужно брать операционный, а не бухгалтерский, цель: узнать как окупятся наши инвестиции)."
   ]
  },
  {
   "cell_type": "markdown",
   "id": "84282c46",
   "metadata": {},
   "source": [
    "## Описание данных"
   ]
  },
  {
   "cell_type": "markdown",
   "id": "68c0e22b",
   "metadata": {},
   "source": [
    "В ТЗ описание данных не предоставленно. Будем учитывать наименование столбца и составим описание данных самостоятельно."
   ]
  },
  {
   "cell_type": "markdown",
   "id": "95538530",
   "metadata": {},
   "source": [
    "- product_id: наименование продукта\n",
    "- quantity: количество\n",
    "- is_trial_period: пробный период\n",
    "- purchase_date: дата покупки\n",
    "- user_id: идентификатор пользователя"
   ]
  },
  {
   "cell_type": "markdown",
   "id": "113755b7",
   "metadata": {},
   "source": [
    "## Предобработка данных"
   ]
  },
  {
   "cell_type": "markdown",
   "id": "a0d5f738",
   "metadata": {},
   "source": [
    "Загрузим основные библиотеки для работы с данными."
   ]
  },
  {
   "cell_type": "code",
   "execution_count": 1,
   "id": "8c00cc76",
   "metadata": {},
   "outputs": [],
   "source": [
    "import pandas as pd\n",
    "import numpy as np\n",
    "import seaborn as sns\n",
    "from datetime import datetime, timedelta\n",
    "from matplotlib import pyplot as plt\n",
    "from scipy.optimize import curve_fit"
   ]
  },
  {
   "cell_type": "markdown",
   "id": "8cc3acc2",
   "metadata": {},
   "source": [
    "Откроем датасет с помощью команды pd.read_excel."
   ]
  },
  {
   "cell_type": "code",
   "execution_count": 2,
   "id": "ad9288f7",
   "metadata": {},
   "outputs": [],
   "source": [
    "df = pd.read_excel('C:/Users/truel/datasets/test_case_data_analyst.xlsx')"
   ]
  },
  {
   "cell_type": "markdown",
   "id": "cf5a9d68",
   "metadata": {},
   "source": [
    "Теперь с помощью команды info посмотрим на основные особенности датасета и проведем необходимую предобработку данных."
   ]
  },
  {
   "cell_type": "code",
   "execution_count": 3,
   "id": "75025f3d",
   "metadata": {},
   "outputs": [
    {
     "name": "stdout",
     "output_type": "stream",
     "text": [
      "<class 'pandas.core.frame.DataFrame'>\n",
      "RangeIndex: 114200 entries, 0 to 114199\n",
      "Data columns (total 5 columns):\n",
      " #   Column           Non-Null Count   Dtype         \n",
      "---  ------           --------------   -----         \n",
      " 0   product_id       114200 non-null  object        \n",
      " 1   quantity         114200 non-null  int64         \n",
      " 2   is_trial_period  114200 non-null  bool          \n",
      " 3   purchase_date    114200 non-null  datetime64[ns]\n",
      " 4   user_id          114200 non-null  int64         \n",
      "dtypes: bool(1), datetime64[ns](1), int64(2), object(1)\n",
      "memory usage: 3.6+ MB\n"
     ]
    }
   ],
   "source": [
    "df.info()"
   ]
  },
  {
   "cell_type": "markdown",
   "id": "be61a56b",
   "metadata": {},
   "source": [
    "Датасет состоит из 5 столбцов и 114200 строк. Присутствуют различные типы данных такие как: object, int64, bool, datetime64[ns]."
   ]
  },
  {
   "cell_type": "markdown",
   "id": "9743a813",
   "metadata": {},
   "source": [
    "### Проверка на пропуски"
   ]
  },
  {
   "cell_type": "markdown",
   "id": "c6ebe683",
   "metadata": {},
   "source": [
    "Выполним проверку на пропуски с помощью команды isna().sum()"
   ]
  },
  {
   "cell_type": "code",
   "execution_count": 4,
   "id": "d43af64b",
   "metadata": {},
   "outputs": [
    {
     "data": {
      "text/plain": [
       "product_id         0\n",
       "quantity           0\n",
       "is_trial_period    0\n",
       "purchase_date      0\n",
       "user_id            0\n",
       "dtype: int64"
      ]
     },
     "execution_count": 4,
     "metadata": {},
     "output_type": "execute_result"
    }
   ],
   "source": [
    "df.isna().sum()"
   ]
  },
  {
   "cell_type": "markdown",
   "id": "0c5cb2ca",
   "metadata": {},
   "source": [
    "Пропусков в датасете не обнаружено."
   ]
  },
  {
   "cell_type": "markdown",
   "id": "dd384fb4",
   "metadata": {},
   "source": [
    "### Проверка на дубликаты"
   ]
  },
  {
   "cell_type": "markdown",
   "id": "2e19a036",
   "metadata": {},
   "source": [
    "Выполним проверку на дубликаты с помощью метода duplicated().sum()"
   ]
  },
  {
   "cell_type": "code",
   "execution_count": 5,
   "id": "e851ace6",
   "metadata": {},
   "outputs": [
    {
     "data": {
      "text/plain": [
       "84"
      ]
     },
     "execution_count": 5,
     "metadata": {},
     "output_type": "execute_result"
    }
   ],
   "source": [
    "df.duplicated().sum()"
   ]
  },
  {
   "cell_type": "markdown",
   "id": "30c0f375",
   "metadata": {},
   "source": [
    "В датасете зафиксировано 84 явных дубликата. Посчитаем какой процент дубликаты составляют от общего массива данных."
   ]
  },
  {
   "cell_type": "code",
   "execution_count": 6,
   "id": "7bc63ed3",
   "metadata": {},
   "outputs": [
    {
     "data": {
      "text/plain": [
       "0.07"
      ]
     },
     "metadata": {},
     "output_type": "display_data"
    }
   ],
   "source": [
    "primary_rows = df.shape[0] \n",
    "percent_duplicated = df.duplicated().sum() / primary_rows *100\n",
    "display(round(percent_duplicated,2))"
   ]
  },
  {
   "cell_type": "markdown",
   "id": "0c2dc7d8",
   "metadata": {},
   "source": [
    "Доля дубликатов ничтожно мала и составляет 0.07%. Можно удалить данные дубликаты, отсутствие которых не повлияет на достоверность исследований."
   ]
  },
  {
   "cell_type": "code",
   "execution_count": 7,
   "id": "2863bed4",
   "metadata": {},
   "outputs": [],
   "source": [
    "df = df.drop_duplicates().reset_index(drop=True)"
   ]
  },
  {
   "cell_type": "markdown",
   "id": "8e1bf8bc",
   "metadata": {},
   "source": [
    "Дубликаты успешно удалены."
   ]
  },
  {
   "cell_type": "markdown",
   "id": "6ba81a61",
   "metadata": {},
   "source": [
    "### Выводы по предобработке данных"
   ]
  },
  {
   "cell_type": "markdown",
   "id": "89d2c9f9",
   "metadata": {},
   "source": [
    "**В результате преодобработки были проведены следующие действия:**  \n",
    "1) Датасет проверен на соответствие форматов данных;  \n",
    "2) Датасет проверен на пропуски. Пропущенных значений не обнаружено;   \n",
    "3) Датасет проверен на дубликаты, выявлено 84 явных дубликата. Дубликаты были удалены, процент потерь  составил 0.07%."
   ]
  },
  {
   "cell_type": "markdown",
   "id": "3fbaaa59",
   "metadata": {},
   "source": [
    "## Исследовательский анализ данных"
   ]
  },
  {
   "cell_type": "markdown",
   "id": "3817e974",
   "metadata": {},
   "source": [
    "Отобразим первые 5 строк датасета."
   ]
  },
  {
   "cell_type": "code",
   "execution_count": 8,
   "id": "9d36d52a",
   "metadata": {},
   "outputs": [
    {
     "data": {
      "text/html": [
       "<div>\n",
       "<style scoped>\n",
       "    .dataframe tbody tr th:only-of-type {\n",
       "        vertical-align: middle;\n",
       "    }\n",
       "\n",
       "    .dataframe tbody tr th {\n",
       "        vertical-align: top;\n",
       "    }\n",
       "\n",
       "    .dataframe thead th {\n",
       "        text-align: right;\n",
       "    }\n",
       "</style>\n",
       "<table border=\"1\" class=\"dataframe\">\n",
       "  <thead>\n",
       "    <tr style=\"text-align: right;\">\n",
       "      <th></th>\n",
       "      <th>product_id</th>\n",
       "      <th>quantity</th>\n",
       "      <th>is_trial_period</th>\n",
       "      <th>purchase_date</th>\n",
       "      <th>user_id</th>\n",
       "    </tr>\n",
       "  </thead>\n",
       "  <tbody>\n",
       "    <tr>\n",
       "      <th>0</th>\n",
       "      <td>1week_4.99_USD_subscription_7days_trial</td>\n",
       "      <td>1</td>\n",
       "      <td>False</td>\n",
       "      <td>2020-02-19</td>\n",
       "      <td>9484222</td>\n",
       "    </tr>\n",
       "    <tr>\n",
       "      <th>1</th>\n",
       "      <td>1week_4.99_USD_subscription_7days_trial</td>\n",
       "      <td>1</td>\n",
       "      <td>False</td>\n",
       "      <td>2020-02-17</td>\n",
       "      <td>9422402</td>\n",
       "    </tr>\n",
       "    <tr>\n",
       "      <th>2</th>\n",
       "      <td>1week_4.99_USD_subscription_7days_trial</td>\n",
       "      <td>1</td>\n",
       "      <td>False</td>\n",
       "      <td>2020-02-18</td>\n",
       "      <td>4997991</td>\n",
       "    </tr>\n",
       "    <tr>\n",
       "      <th>3</th>\n",
       "      <td>1week_4.99_USD_subscription_7days_trial</td>\n",
       "      <td>1</td>\n",
       "      <td>False</td>\n",
       "      <td>2020-02-18</td>\n",
       "      <td>9455582</td>\n",
       "    </tr>\n",
       "    <tr>\n",
       "      <th>4</th>\n",
       "      <td>1week_4.99_USD_subscription_7days_trial</td>\n",
       "      <td>1</td>\n",
       "      <td>False</td>\n",
       "      <td>2020-02-16</td>\n",
       "      <td>8803657</td>\n",
       "    </tr>\n",
       "  </tbody>\n",
       "</table>\n",
       "</div>"
      ],
      "text/plain": [
       "                                product_id  quantity  is_trial_period  \\\n",
       "0  1week_4.99_USD_subscription_7days_trial         1            False   \n",
       "1  1week_4.99_USD_subscription_7days_trial         1            False   \n",
       "2  1week_4.99_USD_subscription_7days_trial         1            False   \n",
       "3  1week_4.99_USD_subscription_7days_trial         1            False   \n",
       "4  1week_4.99_USD_subscription_7days_trial         1            False   \n",
       "\n",
       "  purchase_date  user_id  \n",
       "0    2020-02-19  9484222  \n",
       "1    2020-02-17  9422402  \n",
       "2    2020-02-18  4997991  \n",
       "3    2020-02-18  9455582  \n",
       "4    2020-02-16  8803657  "
      ]
     },
     "execution_count": 8,
     "metadata": {},
     "output_type": "execute_result"
    }
   ],
   "source": [
    "df.head()"
   ]
  },
  {
   "cell_type": "markdown",
   "id": "0ca1761e",
   "metadata": {},
   "source": [
    "### Расчёт LTV пользователей"
   ]
  },
  {
   "cell_type": "markdown",
   "id": "e68d664a",
   "metadata": {},
   "source": [
    "Обратимся к ТЗ и начнём исследовательский анализ данных по порядку:\n",
    "\n",
    "1. Необходимо рассчитать текущий LTV юзера, используя когортный анализ (cohorting event - оформление пробного периода, когорта представляет собой кол-во возможных операций)."
   ]
  },
  {
   "cell_type": "markdown",
   "id": "c356f9d9",
   "metadata": {},
   "source": [
    "Стоит отметить, что когорта представляет собой пользователей оформивших подписку в одну и ту же дату. Для составления когорт необходимо посчитать дату покупки подписки пользователями. Также необходимо учитывать данные в столбце is_trial_period, т.к часть пользователей оформила подписку впервые и у них есть бесплатные 7 дней пользования приложением. Данных пользователей необходимо не учитывать при расчёте LTV, т.к они не приносят прибыли."
   ]
  },
  {
   "cell_type": "code",
   "execution_count": 10,
   "id": "139eaab2",
   "metadata": {},
   "outputs": [
    {
     "data": {
      "text/html": [
       "<div>\n",
       "<style scoped>\n",
       "    .dataframe tbody tr th:only-of-type {\n",
       "        vertical-align: middle;\n",
       "    }\n",
       "\n",
       "    .dataframe tbody tr th {\n",
       "        vertical-align: top;\n",
       "    }\n",
       "\n",
       "    .dataframe thead th {\n",
       "        text-align: right;\n",
       "    }\n",
       "</style>\n",
       "<table border=\"1\" class=\"dataframe\">\n",
       "  <thead>\n",
       "    <tr style=\"text-align: right;\">\n",
       "      <th></th>\n",
       "      <th>product_id</th>\n",
       "      <th>quantity</th>\n",
       "      <th>is_trial_period</th>\n",
       "      <th>purchase_date</th>\n",
       "      <th>user_id</th>\n",
       "    </tr>\n",
       "  </thead>\n",
       "  <tbody>\n",
       "    <tr>\n",
       "      <th>0</th>\n",
       "      <td>1week_4.99_USD_subscription_7days_trial</td>\n",
       "      <td>1</td>\n",
       "      <td>False</td>\n",
       "      <td>2020-02-19</td>\n",
       "      <td>9484222</td>\n",
       "    </tr>\n",
       "    <tr>\n",
       "      <th>1</th>\n",
       "      <td>1week_4.99_USD_subscription_7days_trial</td>\n",
       "      <td>1</td>\n",
       "      <td>False</td>\n",
       "      <td>2020-02-17</td>\n",
       "      <td>9422402</td>\n",
       "    </tr>\n",
       "    <tr>\n",
       "      <th>2</th>\n",
       "      <td>1week_4.99_USD_subscription_7days_trial</td>\n",
       "      <td>1</td>\n",
       "      <td>False</td>\n",
       "      <td>2020-02-18</td>\n",
       "      <td>4997991</td>\n",
       "    </tr>\n",
       "    <tr>\n",
       "      <th>3</th>\n",
       "      <td>1week_4.99_USD_subscription_7days_trial</td>\n",
       "      <td>1</td>\n",
       "      <td>False</td>\n",
       "      <td>2020-02-18</td>\n",
       "      <td>9455582</td>\n",
       "    </tr>\n",
       "    <tr>\n",
       "      <th>4</th>\n",
       "      <td>1week_4.99_USD_subscription_7days_trial</td>\n",
       "      <td>1</td>\n",
       "      <td>False</td>\n",
       "      <td>2020-02-16</td>\n",
       "      <td>8803657</td>\n",
       "    </tr>\n",
       "  </tbody>\n",
       "</table>\n",
       "</div>"
      ],
      "text/plain": [
       "                                product_id  quantity  is_trial_period  \\\n",
       "0  1week_4.99_USD_subscription_7days_trial         1            False   \n",
       "1  1week_4.99_USD_subscription_7days_trial         1            False   \n",
       "2  1week_4.99_USD_subscription_7days_trial         1            False   \n",
       "3  1week_4.99_USD_subscription_7days_trial         1            False   \n",
       "4  1week_4.99_USD_subscription_7days_trial         1            False   \n",
       "\n",
       "  purchase_date  user_id  \n",
       "0    2020-02-19  9484222  \n",
       "1    2020-02-17  9422402  \n",
       "2    2020-02-18  4997991  \n",
       "3    2020-02-18  9455582  \n",
       "4    2020-02-16  8803657  "
      ]
     },
     "execution_count": 10,
     "metadata": {},
     "output_type": "execute_result"
    }
   ],
   "source": [
    "df.head()"
   ]
  },
  {
   "cell_type": "markdown",
   "id": "a89e3c2e",
   "metadata": {},
   "source": [
    "Необходимо добавить столбец со стоимостью подписки, учитывая тот факт, что есть пользователи, которые оформили бесплатный период."
   ]
  },
  {
   "cell_type": "code",
   "execution_count": 11,
   "id": "15668bc4",
   "metadata": {},
   "outputs": [
    {
     "data": {
      "text/html": [
       "<div>\n",
       "<style scoped>\n",
       "    .dataframe tbody tr th:only-of-type {\n",
       "        vertical-align: middle;\n",
       "    }\n",
       "\n",
       "    .dataframe tbody tr th {\n",
       "        vertical-align: top;\n",
       "    }\n",
       "\n",
       "    .dataframe thead th {\n",
       "        text-align: right;\n",
       "    }\n",
       "</style>\n",
       "<table border=\"1\" class=\"dataframe\">\n",
       "  <thead>\n",
       "    <tr style=\"text-align: right;\">\n",
       "      <th></th>\n",
       "      <th>product_id</th>\n",
       "      <th>quantity</th>\n",
       "      <th>is_trial_period</th>\n",
       "      <th>purchase_date</th>\n",
       "      <th>user_id</th>\n",
       "      <th>subscription_cost</th>\n",
       "    </tr>\n",
       "  </thead>\n",
       "  <tbody>\n",
       "    <tr>\n",
       "      <th>0</th>\n",
       "      <td>1week_4.99_USD_subscription_7days_trial</td>\n",
       "      <td>1</td>\n",
       "      <td>False</td>\n",
       "      <td>2020-02-19</td>\n",
       "      <td>9484222</td>\n",
       "      <td>4.99</td>\n",
       "    </tr>\n",
       "    <tr>\n",
       "      <th>1</th>\n",
       "      <td>1week_4.99_USD_subscription_7days_trial</td>\n",
       "      <td>1</td>\n",
       "      <td>False</td>\n",
       "      <td>2020-02-17</td>\n",
       "      <td>9422402</td>\n",
       "      <td>4.99</td>\n",
       "    </tr>\n",
       "    <tr>\n",
       "      <th>2</th>\n",
       "      <td>1week_4.99_USD_subscription_7days_trial</td>\n",
       "      <td>1</td>\n",
       "      <td>False</td>\n",
       "      <td>2020-02-18</td>\n",
       "      <td>4997991</td>\n",
       "      <td>4.99</td>\n",
       "    </tr>\n",
       "    <tr>\n",
       "      <th>3</th>\n",
       "      <td>1week_4.99_USD_subscription_7days_trial</td>\n",
       "      <td>1</td>\n",
       "      <td>False</td>\n",
       "      <td>2020-02-18</td>\n",
       "      <td>9455582</td>\n",
       "      <td>4.99</td>\n",
       "    </tr>\n",
       "    <tr>\n",
       "      <th>4</th>\n",
       "      <td>1week_4.99_USD_subscription_7days_trial</td>\n",
       "      <td>1</td>\n",
       "      <td>False</td>\n",
       "      <td>2020-02-16</td>\n",
       "      <td>8803657</td>\n",
       "      <td>4.99</td>\n",
       "    </tr>\n",
       "    <tr>\n",
       "      <th>...</th>\n",
       "      <td>...</td>\n",
       "      <td>...</td>\n",
       "      <td>...</td>\n",
       "      <td>...</td>\n",
       "      <td>...</td>\n",
       "      <td>...</td>\n",
       "    </tr>\n",
       "    <tr>\n",
       "      <th>114111</th>\n",
       "      <td>1week_4.99_USD_subscription_7days_trial</td>\n",
       "      <td>1</td>\n",
       "      <td>True</td>\n",
       "      <td>2020-01-04</td>\n",
       "      <td>8291100</td>\n",
       "      <td>0.00</td>\n",
       "    </tr>\n",
       "    <tr>\n",
       "      <th>114112</th>\n",
       "      <td>1week_4.99_USD_subscription_7days_trial</td>\n",
       "      <td>1</td>\n",
       "      <td>True</td>\n",
       "      <td>2020-01-02</td>\n",
       "      <td>8236936</td>\n",
       "      <td>0.00</td>\n",
       "    </tr>\n",
       "    <tr>\n",
       "      <th>114113</th>\n",
       "      <td>1week_4.99_USD_subscription_7days_trial</td>\n",
       "      <td>1</td>\n",
       "      <td>True</td>\n",
       "      <td>2020-01-03</td>\n",
       "      <td>8247910</td>\n",
       "      <td>0.00</td>\n",
       "    </tr>\n",
       "    <tr>\n",
       "      <th>114114</th>\n",
       "      <td>1week_4.99_USD_subscription_7days_trial</td>\n",
       "      <td>1</td>\n",
       "      <td>True</td>\n",
       "      <td>2020-01-04</td>\n",
       "      <td>8294146</td>\n",
       "      <td>0.00</td>\n",
       "    </tr>\n",
       "    <tr>\n",
       "      <th>114115</th>\n",
       "      <td>1week_4.99_USD_subscription_7days_trial</td>\n",
       "      <td>1</td>\n",
       "      <td>True</td>\n",
       "      <td>2020-01-03</td>\n",
       "      <td>8274954</td>\n",
       "      <td>0.00</td>\n",
       "    </tr>\n",
       "  </tbody>\n",
       "</table>\n",
       "<p>114116 rows × 6 columns</p>\n",
       "</div>"
      ],
      "text/plain": [
       "                                     product_id  quantity  is_trial_period  \\\n",
       "0       1week_4.99_USD_subscription_7days_trial         1            False   \n",
       "1       1week_4.99_USD_subscription_7days_trial         1            False   \n",
       "2       1week_4.99_USD_subscription_7days_trial         1            False   \n",
       "3       1week_4.99_USD_subscription_7days_trial         1            False   \n",
       "4       1week_4.99_USD_subscription_7days_trial         1            False   \n",
       "...                                         ...       ...              ...   \n",
       "114111  1week_4.99_USD_subscription_7days_trial         1             True   \n",
       "114112  1week_4.99_USD_subscription_7days_trial         1             True   \n",
       "114113  1week_4.99_USD_subscription_7days_trial         1             True   \n",
       "114114  1week_4.99_USD_subscription_7days_trial         1             True   \n",
       "114115  1week_4.99_USD_subscription_7days_trial         1             True   \n",
       "\n",
       "       purchase_date  user_id  subscription_cost  \n",
       "0         2020-02-19  9484222               4.99  \n",
       "1         2020-02-17  9422402               4.99  \n",
       "2         2020-02-18  4997991               4.99  \n",
       "3         2020-02-18  9455582               4.99  \n",
       "4         2020-02-16  8803657               4.99  \n",
       "...              ...      ...                ...  \n",
       "114111    2020-01-04  8291100               0.00  \n",
       "114112    2020-01-02  8236936               0.00  \n",
       "114113    2020-01-03  8247910               0.00  \n",
       "114114    2020-01-04  8294146               0.00  \n",
       "114115    2020-01-03  8274954               0.00  \n",
       "\n",
       "[114116 rows x 6 columns]"
      ]
     },
     "metadata": {},
     "output_type": "display_data"
    }
   ],
   "source": [
    "df['subscription_cost'] = np.where(df['is_trial_period'], 0, 4.99)\n",
    "display(df)"
   ]
  },
  {
   "cell_type": "code",
   "execution_count": 12,
   "id": "c563dcc5",
   "metadata": {},
   "outputs": [
    {
     "name": "stdout",
     "output_type": "stream",
     "text": [
      "       cohort_month  cohort_period  cohort_size  total_revenue       ltv\n",
      "0           2020-02              7         4123       12814.32  3.108009\n",
      "1           2020-02              7         4123       12814.32  3.108009\n",
      "2           2020-02              7         4123       12814.32  3.108009\n",
      "3           2020-02              7         4123       12814.32  3.108009\n",
      "4           2020-02              7         4123       12814.32  3.108009\n",
      "...             ...            ...          ...            ...       ...\n",
      "114111      2020-01              0         9178          34.93  0.003806\n",
      "114112      2020-01              0         9178          34.93  0.003806\n",
      "114113      2020-01              0         9178          34.93  0.003806\n",
      "114114      2020-01              0         9178          34.93  0.003806\n",
      "114115      2020-01              0         9178          34.93  0.003806\n",
      "\n",
      "[114116 rows x 5 columns]\n"
     ]
    }
   ],
   "source": [
    "# Создание когорт\n",
    "df['cohort_month'] = df['purchase_date'].dt.to_period('M')\n",
    "df['cohort_period'] = (df['purchase_date'] - df['purchase_date'].min()).dt.days // 7\n",
    "\n",
    "# Рассчет общего количества пользователей в каждой когорте\n",
    "cohorts = df.groupby(['cohort_month', 'cohort_period']).agg({'user_id': 'nunique'}).reset_index()\n",
    "cohorts.rename(columns={'user_id': 'cohort_size'}, inplace=True)\n",
    "\n",
    "# Объединение данных с исходными\n",
    "df = df.merge(cohorts, on=['cohort_month', 'cohort_period'])\n",
    "\n",
    "# Рассчет суммарной выручки для каждой когорты\n",
    "revenue_per_cohort = df.groupby(['cohort_month', 'cohort_period']).agg({'subscription_cost': 'sum'}).reset_index()\n",
    "revenue_per_cohort.rename(columns={'subscription_cost': 'total_revenue'}, inplace=True)\n",
    "\n",
    "# Объединение данных о выручке с исходными\n",
    "df = df.merge(revenue_per_cohort, on=['cohort_month', 'cohort_period'])\n",
    "\n",
    "# Рассчет LTV\n",
    "df = df.assign(ltv=df['total_revenue'] / df['cohort_size'])\n",
    "\n",
    "# Вывод результатов\n",
    "print(df[['cohort_month', 'cohort_period', 'cohort_size', 'total_revenue', 'ltv']])"
   ]
  },
  {
   "cell_type": "code",
   "execution_count": 13,
   "id": "513adc96",
   "metadata": {
    "scrolled": true
   },
   "outputs": [
    {
     "data": {
      "text/html": [
       "<div>\n",
       "<style scoped>\n",
       "    .dataframe tbody tr th:only-of-type {\n",
       "        vertical-align: middle;\n",
       "    }\n",
       "\n",
       "    .dataframe tbody tr th {\n",
       "        vertical-align: top;\n",
       "    }\n",
       "\n",
       "    .dataframe thead th {\n",
       "        text-align: right;\n",
       "    }\n",
       "</style>\n",
       "<table border=\"1\" class=\"dataframe\">\n",
       "  <thead>\n",
       "    <tr style=\"text-align: right;\">\n",
       "      <th></th>\n",
       "      <th>product_id</th>\n",
       "      <th>quantity</th>\n",
       "      <th>is_trial_period</th>\n",
       "      <th>purchase_date</th>\n",
       "      <th>user_id</th>\n",
       "      <th>subscription_cost</th>\n",
       "      <th>cohort_month</th>\n",
       "      <th>cohort_period</th>\n",
       "      <th>cohort_size</th>\n",
       "      <th>total_revenue</th>\n",
       "      <th>ltv</th>\n",
       "    </tr>\n",
       "  </thead>\n",
       "  <tbody>\n",
       "    <tr>\n",
       "      <th>0</th>\n",
       "      <td>1week_4.99_USD_subscription_7days_trial</td>\n",
       "      <td>1</td>\n",
       "      <td>False</td>\n",
       "      <td>2020-02-19</td>\n",
       "      <td>9484222</td>\n",
       "      <td>4.99</td>\n",
       "      <td>2020-02</td>\n",
       "      <td>7</td>\n",
       "      <td>4123</td>\n",
       "      <td>12814.32</td>\n",
       "      <td>3.108009</td>\n",
       "    </tr>\n",
       "    <tr>\n",
       "      <th>1</th>\n",
       "      <td>1week_4.99_USD_subscription_7days_trial</td>\n",
       "      <td>1</td>\n",
       "      <td>False</td>\n",
       "      <td>2020-02-19</td>\n",
       "      <td>9480949</td>\n",
       "      <td>4.99</td>\n",
       "      <td>2020-02</td>\n",
       "      <td>7</td>\n",
       "      <td>4123</td>\n",
       "      <td>12814.32</td>\n",
       "      <td>3.108009</td>\n",
       "    </tr>\n",
       "    <tr>\n",
       "      <th>2</th>\n",
       "      <td>1week_4.99_USD_subscription_7days_trial</td>\n",
       "      <td>1</td>\n",
       "      <td>False</td>\n",
       "      <td>2020-02-20</td>\n",
       "      <td>8709129</td>\n",
       "      <td>4.99</td>\n",
       "      <td>2020-02</td>\n",
       "      <td>7</td>\n",
       "      <td>4123</td>\n",
       "      <td>12814.32</td>\n",
       "      <td>3.108009</td>\n",
       "    </tr>\n",
       "    <tr>\n",
       "      <th>3</th>\n",
       "      <td>1week_4.99_USD_subscription_7days_trial</td>\n",
       "      <td>1</td>\n",
       "      <td>False</td>\n",
       "      <td>2020-02-19</td>\n",
       "      <td>9481570</td>\n",
       "      <td>4.99</td>\n",
       "      <td>2020-02</td>\n",
       "      <td>7</td>\n",
       "      <td>4123</td>\n",
       "      <td>12814.32</td>\n",
       "      <td>3.108009</td>\n",
       "    </tr>\n",
       "    <tr>\n",
       "      <th>4</th>\n",
       "      <td>1week_4.99_USD_subscription_7days_trial</td>\n",
       "      <td>1</td>\n",
       "      <td>False</td>\n",
       "      <td>2020-02-19</td>\n",
       "      <td>8494799</td>\n",
       "      <td>4.99</td>\n",
       "      <td>2020-02</td>\n",
       "      <td>7</td>\n",
       "      <td>4123</td>\n",
       "      <td>12814.32</td>\n",
       "      <td>3.108009</td>\n",
       "    </tr>\n",
       "    <tr>\n",
       "      <th>...</th>\n",
       "      <td>...</td>\n",
       "      <td>...</td>\n",
       "      <td>...</td>\n",
       "      <td>...</td>\n",
       "      <td>...</td>\n",
       "      <td>...</td>\n",
       "      <td>...</td>\n",
       "      <td>...</td>\n",
       "      <td>...</td>\n",
       "      <td>...</td>\n",
       "      <td>...</td>\n",
       "    </tr>\n",
       "    <tr>\n",
       "      <th>114111</th>\n",
       "      <td>1week_4.99_USD_subscription_7days_trial</td>\n",
       "      <td>1</td>\n",
       "      <td>True</td>\n",
       "      <td>2020-01-04</td>\n",
       "      <td>8291100</td>\n",
       "      <td>0.00</td>\n",
       "      <td>2020-01</td>\n",
       "      <td>0</td>\n",
       "      <td>9178</td>\n",
       "      <td>34.93</td>\n",
       "      <td>0.003806</td>\n",
       "    </tr>\n",
       "    <tr>\n",
       "      <th>114112</th>\n",
       "      <td>1week_4.99_USD_subscription_7days_trial</td>\n",
       "      <td>1</td>\n",
       "      <td>True</td>\n",
       "      <td>2020-01-02</td>\n",
       "      <td>8236936</td>\n",
       "      <td>0.00</td>\n",
       "      <td>2020-01</td>\n",
       "      <td>0</td>\n",
       "      <td>9178</td>\n",
       "      <td>34.93</td>\n",
       "      <td>0.003806</td>\n",
       "    </tr>\n",
       "    <tr>\n",
       "      <th>114113</th>\n",
       "      <td>1week_4.99_USD_subscription_7days_trial</td>\n",
       "      <td>1</td>\n",
       "      <td>True</td>\n",
       "      <td>2020-01-03</td>\n",
       "      <td>8247910</td>\n",
       "      <td>0.00</td>\n",
       "      <td>2020-01</td>\n",
       "      <td>0</td>\n",
       "      <td>9178</td>\n",
       "      <td>34.93</td>\n",
       "      <td>0.003806</td>\n",
       "    </tr>\n",
       "    <tr>\n",
       "      <th>114114</th>\n",
       "      <td>1week_4.99_USD_subscription_7days_trial</td>\n",
       "      <td>1</td>\n",
       "      <td>True</td>\n",
       "      <td>2020-01-04</td>\n",
       "      <td>8294146</td>\n",
       "      <td>0.00</td>\n",
       "      <td>2020-01</td>\n",
       "      <td>0</td>\n",
       "      <td>9178</td>\n",
       "      <td>34.93</td>\n",
       "      <td>0.003806</td>\n",
       "    </tr>\n",
       "    <tr>\n",
       "      <th>114115</th>\n",
       "      <td>1week_4.99_USD_subscription_7days_trial</td>\n",
       "      <td>1</td>\n",
       "      <td>True</td>\n",
       "      <td>2020-01-03</td>\n",
       "      <td>8274954</td>\n",
       "      <td>0.00</td>\n",
       "      <td>2020-01</td>\n",
       "      <td>0</td>\n",
       "      <td>9178</td>\n",
       "      <td>34.93</td>\n",
       "      <td>0.003806</td>\n",
       "    </tr>\n",
       "  </tbody>\n",
       "</table>\n",
       "<p>114116 rows × 11 columns</p>\n",
       "</div>"
      ],
      "text/plain": [
       "                                     product_id  quantity  is_trial_period  \\\n",
       "0       1week_4.99_USD_subscription_7days_trial         1            False   \n",
       "1       1week_4.99_USD_subscription_7days_trial         1            False   \n",
       "2       1week_4.99_USD_subscription_7days_trial         1            False   \n",
       "3       1week_4.99_USD_subscription_7days_trial         1            False   \n",
       "4       1week_4.99_USD_subscription_7days_trial         1            False   \n",
       "...                                         ...       ...              ...   \n",
       "114111  1week_4.99_USD_subscription_7days_trial         1             True   \n",
       "114112  1week_4.99_USD_subscription_7days_trial         1             True   \n",
       "114113  1week_4.99_USD_subscription_7days_trial         1             True   \n",
       "114114  1week_4.99_USD_subscription_7days_trial         1             True   \n",
       "114115  1week_4.99_USD_subscription_7days_trial         1             True   \n",
       "\n",
       "       purchase_date  user_id  subscription_cost cohort_month  cohort_period  \\\n",
       "0         2020-02-19  9484222               4.99      2020-02              7   \n",
       "1         2020-02-19  9480949               4.99      2020-02              7   \n",
       "2         2020-02-20  8709129               4.99      2020-02              7   \n",
       "3         2020-02-19  9481570               4.99      2020-02              7   \n",
       "4         2020-02-19  8494799               4.99      2020-02              7   \n",
       "...              ...      ...                ...          ...            ...   \n",
       "114111    2020-01-04  8291100               0.00      2020-01              0   \n",
       "114112    2020-01-02  8236936               0.00      2020-01              0   \n",
       "114113    2020-01-03  8247910               0.00      2020-01              0   \n",
       "114114    2020-01-04  8294146               0.00      2020-01              0   \n",
       "114115    2020-01-03  8274954               0.00      2020-01              0   \n",
       "\n",
       "        cohort_size  total_revenue       ltv  \n",
       "0              4123       12814.32  3.108009  \n",
       "1              4123       12814.32  3.108009  \n",
       "2              4123       12814.32  3.108009  \n",
       "3              4123       12814.32  3.108009  \n",
       "4              4123       12814.32  3.108009  \n",
       "...             ...            ...       ...  \n",
       "114111         9178          34.93  0.003806  \n",
       "114112         9178          34.93  0.003806  \n",
       "114113         9178          34.93  0.003806  \n",
       "114114         9178          34.93  0.003806  \n",
       "114115         9178          34.93  0.003806  \n",
       "\n",
       "[114116 rows x 11 columns]"
      ]
     },
     "metadata": {},
     "output_type": "display_data"
    }
   ],
   "source": [
    "display(df)"
   ]
  },
  {
   "cell_type": "code",
   "execution_count": 14,
   "id": "9420a7a7",
   "metadata": {},
   "outputs": [
    {
     "name": "stdout",
     "output_type": "stream",
     "text": [
      "<class 'pandas.core.frame.DataFrame'>\n",
      "Int64Index: 114116 entries, 0 to 114115\n",
      "Data columns (total 11 columns):\n",
      " #   Column             Non-Null Count   Dtype         \n",
      "---  ------             --------------   -----         \n",
      " 0   product_id         114116 non-null  object        \n",
      " 1   quantity           114116 non-null  int64         \n",
      " 2   is_trial_period    114116 non-null  bool          \n",
      " 3   purchase_date      114116 non-null  datetime64[ns]\n",
      " 4   user_id            114116 non-null  int64         \n",
      " 5   subscription_cost  114116 non-null  float64       \n",
      " 6   cohort_month       114116 non-null  period[M]     \n",
      " 7   cohort_period      114116 non-null  int64         \n",
      " 8   cohort_size        114116 non-null  int64         \n",
      " 9   total_revenue      114116 non-null  float64       \n",
      " 10  ltv                114116 non-null  float64       \n",
      "dtypes: bool(1), datetime64[ns](1), float64(3), int64(4), object(1), period[M](1)\n",
      "memory usage: 9.7+ MB\n"
     ]
    }
   ],
   "source": [
    "df.info()"
   ]
  },
  {
   "cell_type": "code",
   "execution_count": 15,
   "id": "8684e095",
   "metadata": {},
   "outputs": [
    {
     "data": {
      "text/plain": [
       "2020-01    59647\n",
       "2020-02    54469\n",
       "Freq: M, Name: cohort_month, dtype: int64"
      ]
     },
     "execution_count": 15,
     "metadata": {},
     "output_type": "execute_result"
    }
   ],
   "source": [
    "df['cohort_month'].value_counts()"
   ]
  },
  {
   "cell_type": "code",
   "execution_count": 16,
   "id": "436a7170",
   "metadata": {},
   "outputs": [
    {
     "data": {
      "image/png": "[encoded data removed]",
      "text/plain": [
       "<Figure size 1200x800 with 1 Axes>"
      ]
     },
     "metadata": {},
     "output_type": "display_data"
    }
   ],
   "source": [
    "# Построение графика LTV\n",
    "plt.figure(figsize=(12, 8))\n",
    "sns.lineplot(x='cohort_period', y='ltv', hue='cohort_month', data=df)\n",
    "plt.title('LTV по когортам')\n",
    "plt.xlabel('Когортный период (недели)')\n",
    "plt.ylabel('LTV')\n",
    "plt.show()"
   ]
  },
  {
   "cell_type": "markdown",
   "id": "00a3d2fa",
   "metadata": {},
   "source": [
    "### Прогноз LTV на полгода\n"
   ]
  },
  {
   "cell_type": "markdown",
   "id": "591735ff",
   "metadata": {},
   "source": [
    "Приступим к выполнению следующего задания в соответствии с ТЗ:\n",
    "\n",
    "**2. Спрогнозировать, каким будет LTV на полгода.**"
   ]
  },
  {
   "cell_type": "markdown",
   "id": "011a7586",
   "metadata": {},
   "source": [
    "Прогнозирование LTV представляет из себя сложную задачу, так как необходимо учитывать множество факторов.\n",
    "Ввиду того что в нашем датасете представлено не так много данных, воспользуемся одним из самых простых способов прогнозирования LTV - использование среднего значения на основе исторических данных."
   ]
  },
  {
   "cell_type": "code",
   "execution_count": 24,
   "id": "a5a31e96",
   "metadata": {},
   "outputs": [
    {
     "data": {
      "text/plain": [
       "'Прогноз LTV на полгода:'"
      ]
     },
     "metadata": {},
     "output_type": "display_data"
    },
    {
     "data": {
      "text/plain": [
       "[2.2382304303968783,\n",
       " 2.2382304303968783,\n",
       " 2.2382304303968783,\n",
       " 2.2382304303968783,\n",
       " 2.2382304303968783,\n",
       " 2.2382304303968783]"
      ]
     },
     "metadata": {},
     "output_type": "display_data"
    }
   ],
   "source": [
    "# Рассчитаем средний LTV за предыдущие периоды\n",
    "avg_ltv = df['ltv'].mean()\n",
    "\n",
    "# Прогноз LTV на полгода\n",
    "forecast_steps = 6\n",
    "forecast_ltv = [avg_ltv] * forecast_steps  # Предполагаем полгода\n",
    "\n",
    "display(\"Прогноз LTV на полгода:\", forecast_ltv)"
   ]
  },
  {
   "cell_type": "markdown",
   "id": "60c06830",
   "metadata": {},
   "source": [
    "На основе среднего значения можно сделать прогноз, что LTV снизится в следующие полгода."
   ]
  },
  {
   "cell_type": "markdown",
   "id": "b092ae53",
   "metadata": {},
   "source": [
    "### Визуализация LTV"
   ]
  },
  {
   "cell_type": "code",
   "execution_count": 17,
   "id": "22ee2da5",
   "metadata": {},
   "outputs": [
    {
     "data": {
      "image/png": "[encoded data removed]",
      "text/plain": [
       "<Figure size 1000x600 with 1 Axes>"
      ]
     },
     "metadata": {},
     "output_type": "display_data"
    }
   ],
   "source": [
    "# Рассчитаем средний LTV за предыдущие периоды\n",
    "avg_ltv = df['ltv'].mean()\n",
    "\n",
    "# Прогноз LTV на полгода\n",
    "forecast_steps = 6\n",
    "forecast_ltv = [avg_ltv] * forecast_steps  # Предполагаем полгода\n",
    "\n",
    "# Определяем начальную дату для прогноза (март 2020)\n",
    "start_date = pd.to_datetime('2020-03-01')\n",
    "forecast_dates = pd.date_range(start_date, periods=forecast_steps, freq='M')\n",
    "\n",
    "# Добавляем прогноз в DataFrame\n",
    "forecast_df = pd.DataFrame({'purchase_date': forecast_dates, 'ltv': forecast_ltv})\n",
    "df_forecast = pd.concat([df, forecast_df])\n",
    "\n",
    "# Построение графика\n",
    "plt.figure(figsize=(10, 6))\n",
    "\n",
    "# Фактический LTV (январь 2020 - февраль 2020)\n",
    "plt.plot(df['purchase_date'], df['ltv'], label='Фактический LTV (Январь-Февраль 2020)', color='blue')\n",
    "\n",
    "# Прогнозируемый LTV (март 2020 - август 2020)\n",
    "plt.plot(df_forecast['purchase_date'], df_forecast['ltv'], label='Прогнозируемый LTV (Март-Август 2020)', linestyle='dashed', color='orange')\n",
    "\n",
    "# Настройка графика\n",
    "plt.title('Фактический и Прогнозируемый LTV')\n",
    "plt.xlabel('Дата')\n",
    "plt.ylabel('LTV')\n",
    "plt.legend()\n",
    "plt.grid(True)\n",
    "plt.show()"
   ]
  },
  {
   "cell_type": "markdown",
   "id": "06462fe0",
   "metadata": {},
   "source": [
    "### Расчёт ROMI"
   ]
  },
  {
   "cell_type": "markdown",
   "id": "92c67b96",
   "metadata": {},
   "source": [
    "**В соответствии с ТЗ необходимо: Рассчитать ROMI на 4 недели и на полгода, если стоимость привлечения платящего пользователя 6 USD (ROMI нужно брать операционный, а не бухгалтерский, цель: узнать как окупятся наши инвестиции).**"
   ]
  },
  {
   "cell_type": "markdown",
   "id": "5c6559fe",
   "metadata": {},
   "source": [
    "ROMI (Return on Marketing Investment) рассчитывается как отношение прибыли к затратам на маркетинг."
   ]
  },
  {
   "cell_type": "code",
   "execution_count": 18,
   "id": "1c414aa3",
   "metadata": {},
   "outputs": [
    {
     "name": "stdout",
     "output_type": "stream",
     "text": [
      "ROMI на 4 недели: 23466.47\n",
      "ROMI на полгода: 152537.57\n"
     ]
    }
   ],
   "source": [
    "# Затраты на маркетинг\n",
    "marketing_costs = 6  # USD\n",
    "\n",
    "# Фактический LTV\n",
    "actual_ltv = df['ltv'].mean()\n",
    "\n",
    "# Количество платящих пользователей (предположим, что это среднее количество пользователей за период)\n",
    "paying_users = df['user_id'].nunique()\n",
    "\n",
    "# Расчет ROMI на 4 недели\n",
    "romi_4_weeks = ((actual_ltv * paying_users) - marketing_costs) / marketing_costs\n",
    "\n",
    "# Расчет ROMI на полгода\n",
    "romi_6_months = ((actual_ltv * paying_users * 26/4) - marketing_costs) / marketing_costs  # Предполагаем 4 недели в месяце\n",
    "\n",
    "print(f\"ROMI на 4 недели: {romi_4_weeks:.2f}\")\n",
    "print(f\"ROMI на полгода: {romi_6_months:.2f}\")"
   ]
  },
  {
   "cell_type": "markdown",
   "id": "ecd8e56e",
   "metadata": {},
   "source": [
    "## Общие выводы по исследованию"
   ]
  },
  {
   "cell_type": "markdown",
   "id": "689448c7",
   "metadata": {},
   "source": [
    "**В результате работы с данными были получены следующие результаты:**\n",
    "1) Выполнена предобработка данных, а именно:\n",
    "- Датасет проверен на соответствие форматов данных;  \n",
    "- Датасет проверен на пропуски. Пропущенных значений не обнаружено;   \n",
    "- Датасет проверен на дубликаты, выявлено 84 явных дубликата. Дубликаты были удалены, процент потерь  составил 0.07%.\n",
    "\n",
    "2) Произведен расчёт LTV пользователей приложения используя когортный анализ, прирост LTV также отображен на линейном графике;  \n",
    "3) Произведен прогнозный расчёт LTV на полгода(до августа 2020) с использованием среднего значения LTV на основе исторических данных;  \n",
    "4) Построен график на котором отображен текущий LTV и прогнозный LTV;  \n",
    "5) Расчитан ROMI (Return on Marketing Investment) на 4 недели и полгода.  "
   ]
  }
 ],
 "metadata": {
  "kernelspec": {
   "display_name": "Python 3 (ipykernel)",
   "language": "python",
   "name": "python3"
  },
  "language_info": {
   "codemirror_mode": {
    "name": "ipython",
    "version": 3
   },
   "file_extension": ".py",
   "mimetype": "text/x-python",
   "name": "python",
   "nbconvert_exporter": "python",
   "pygments_lexer": "ipython3",
   "version": "3.9.13"
  },
  "toc": {
   "base_numbering": 1,
   "nav_menu": {},
   "number_sections": true,
   "sideBar": true,
   "skip_h1_title": true,
   "title_cell": "Оглавление",
   "title_sidebar": "Contents",
   "toc_cell": true,
   "toc_position": {},
   "toc_section_display": true,
   "toc_window_display": true
  }
 },
 "nbformat": 4,
 "nbformat_minor": 5
}
