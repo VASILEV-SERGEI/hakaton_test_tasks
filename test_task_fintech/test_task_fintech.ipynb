{
 "cells": [
  {
   "cell_type": "markdown",
   "id": "96fda199",
   "metadata": {
    "toc": true
   },
   "source": [
    "<h1>Table of Contents<span class=\"tocSkip\"></span></h1>\n",
    "<div class=\"toc\"><ul class=\"toc-item\"><li><span><a href=\"#Техническое-задание\" data-toc-modified-id=\"Техническое-задание-1\"><span class=\"toc-item-num\">1&nbsp;&nbsp;</span>Техническое задание</a></span></li><li><span><a href=\"#Описание-данных\" data-toc-modified-id=\"Описание-данных-2\"><span class=\"toc-item-num\">2&nbsp;&nbsp;</span>Описание данных</a></span></li><li><span><a href=\"#Анализ-данных\" data-toc-modified-id=\"Анализ-данных-3\"><span class=\"toc-item-num\">3&nbsp;&nbsp;</span>Анализ данных</a></span><ul class=\"toc-item\"><li><span><a href=\"#Задание-1\" data-toc-modified-id=\"Задание-1-3.1\"><span class=\"toc-item-num\">3.1&nbsp;&nbsp;</span>Задание 1</a></span></li><li><span><a href=\"#Задание-2\" data-toc-modified-id=\"Задание-2-3.2\"><span class=\"toc-item-num\">3.2&nbsp;&nbsp;</span>Задание 2</a></span></li><li><span><a href=\"#Задание-3\" data-toc-modified-id=\"Задание-3-3.3\"><span class=\"toc-item-num\">3.3&nbsp;&nbsp;</span>Задание 3</a></span></li><li><span><a href=\"#Задание-4\" data-toc-modified-id=\"Задание-4-3.4\"><span class=\"toc-item-num\">3.4&nbsp;&nbsp;</span>Задание 4</a></span></li></ul></li></ul></div>"
   ]
  },
  {
   "cell_type": "markdown",
   "id": "eaad6ff6",
   "metadata": {},
   "source": [
    "# Тестовое задание для компании в сфере Fintech"
   ]
  },
  {
   "cell_type": "markdown",
   "id": "908b6dae",
   "metadata": {},
   "source": [
    "## Техническое задание"
   ]
  },
  {
   "cell_type": "markdown",
   "id": "77c1b7ef",
   "metadata": {},
   "source": [
    "1) Необходимо рассчитать число активных займов в портфелях инвесторов. В качестве ответа нужно предоставить разницу по модулю этих значений между инвесторами с id = 1 и id = 3.\n",
    "\n",
    "2) Необходимо рассчитать, какую долю от общей суммы каждого займа составляет инвестиция каждого конкретного инвестора.\n",
    "Среди рассчитанных значений  получить среднее значение по всем займам, а также максимальное значение для займа с id = 3.\n",
    " \n",
    "В качестве ответа предоставить разницу по модулю двух полученных выше значений (среднего из всех и максимального по займу с id = 3), умножить на 10 000 и взять от полученного числа целую часть.\n",
    "\n",
    "3) Фактические суммы дохода / потерь инвестора рассчитываются следующим образом: в качестве дохода берётся сумма процентных платежей, а в качестве потерь — неоплаченный остаток долга в случае, если произошёл дефолт. Относительное значение можно получить путём деления рассчитанной суммы на общую сумму инвестированных в займы средств инвестора. В настоящем задании необходимо рассчитать относительное значение дохода (или потерь) инвесторов на конец дня 01.03.2023 по каждому.\n",
    "Для корректности расчёта стоит обратить внимание на указанную дату, так как часть дефолтов ещё не реализовалась к указанной дате, денежные средства инвесторов ещё не были проинвестированы в займы, выданные после этой даты, а процентный доход после указанной даты не был получен.\n",
    " \n",
    "\n",
    "В качестве ответа необходимо указать разницу по модулю между максимальным и минимальным значениями относительной доходности среди инвесторов на указанную дату, умножить на 10 000 и использовать для ответа целую часть полученного числа.\n",
    "\n",
    "4) Необходимо рассчитать помесячный относительный доход инвесторов аналогично методике, описанной в предыдущем задании с даты начала их инвестирования по конец наблюдений 01.02.2024, построить график, объединяющий доходности разных инвесторов и провести анализ указанных результатов."
   ]
  },
  {
   "cell_type": "markdown",
   "id": "b3efd0d7",
   "metadata": {},
   "source": [
    "## Описание данных"
   ]
  },
  {
   "cell_type": "markdown",
   "id": "5f528aab",
   "metadata": {},
   "source": [
    "Таблица investor cashflow представляет из себя датасет операций: инвестирование средств в займ и последующие выплаты процентов заёмщиком в пользу инвестора. История инвестирования начинается с инвестиции суммы в займ (отрицательное значение amount) и заканчивается последней совершённой выплатой согласно графику платежей (положительные значения amount). Все займы имеют аннуитетную структуру платежей.\n",
    "\n",
    "\n",
    "investor cashflow\n",
    "\n",
    "**Описание полей:**  \n",
    "investor_id — идентификатор инвестора  \n",
    "date — дата операции  \n",
    "loan_id — идентификатор займа  \n",
    "amount — сумма займа  \n",
    "principal_payment — часть платежа в погашение основного долга  \n",
    "interest_payment — часть платежа в погашение процентов  \n",
    " \n",
    "\n",
    "Loan table — таблица с условиями по займам и их статус на момент окончания наблюдений (01.02.2024). \n",
    "\n",
    "**Описание полей:**   \n",
    "loan_id — идентификатор займа  \n",
    "loan_rate — годовая процентная ставка по займу  \n",
    "amount — общая сумма займа  \n",
    "term — срок займа (дней)  \n",
    "status — статус займа на момент окончания наблюдений: active — активен, closed — завершён, default — дефолт  \n",
    "start_date — дата выдачи займа  \n",
    "date_of_default — дата дефолта, если такое событие произошло  "
   ]
  },
  {
   "cell_type": "markdown",
   "id": "b70a2962",
   "metadata": {},
   "source": [
    "## Анализ данных"
   ]
  },
  {
   "cell_type": "markdown",
   "id": "1ec26012",
   "metadata": {},
   "source": [
    "Загружаем основные библиотеки для работы с данными."
   ]
  },
  {
   "cell_type": "code",
   "execution_count": 1,
   "id": "f0d03fe5",
   "metadata": {},
   "outputs": [],
   "source": [
    "import pandas as pd\n",
    "import matplotlib.pyplot as plt\n",
    "import warnings\n",
    "warnings.filterwarnings(\"ignore\")"
   ]
  },
  {
   "cell_type": "markdown",
   "id": "4d009bf7",
   "metadata": {},
   "source": [
    "Откроем датасет с помощью команды pd.read_excel."
   ]
  },
  {
   "cell_type": "code",
   "execution_count": 2,
   "id": "87ba6e59",
   "metadata": {},
   "outputs": [],
   "source": [
    "investor_cashflow = pd.read_excel('C:/Users/truel/datasets/investor_cashflow.xlsx')"
   ]
  },
  {
   "cell_type": "markdown",
   "id": "ecb93962",
   "metadata": {},
   "source": [
    "Теперь с помощью команды info посмотрим на основные особенности датасета."
   ]
  },
  {
   "cell_type": "code",
   "execution_count": 3,
   "id": "246a97b0",
   "metadata": {},
   "outputs": [
    {
     "name": "stdout",
     "output_type": "stream",
     "text": [
      "<class 'pandas.core.frame.DataFrame'>\n",
      "RangeIndex: 21093 entries, 0 to 21092\n",
      "Data columns (total 6 columns):\n",
      " #   Column             Non-Null Count  Dtype         \n",
      "---  ------             --------------  -----         \n",
      " 0   investor_id        21093 non-null  int64         \n",
      " 1   date               21093 non-null  datetime64[ns]\n",
      " 2   loan_id            21093 non-null  int64         \n",
      " 3   amount             21093 non-null  float64       \n",
      " 4   principal_payment  21093 non-null  float64       \n",
      " 5   interest_payment   21093 non-null  float64       \n",
      "dtypes: datetime64[ns](1), float64(3), int64(2)\n",
      "memory usage: 988.9 KB\n"
     ]
    }
   ],
   "source": [
    "investor_cashflow.info()"
   ]
  },
  {
   "cell_type": "markdown",
   "id": "0cead94b",
   "metadata": {},
   "source": [
    "Количество строк 21093. Пропущенных значений не обнаруженно. Формат данных - int64, datetime64[ns], float64. "
   ]
  },
  {
   "cell_type": "markdown",
   "id": "b3f0f67d",
   "metadata": {},
   "source": [
    "Проделаем аналогичные манипуляции для датасета loan_table."
   ]
  },
  {
   "cell_type": "code",
   "execution_count": 4,
   "id": "0a601c34",
   "metadata": {},
   "outputs": [],
   "source": [
    "loan_table = pd.read_excel('C:/Users/truel/datasets/loan_table.xlsx')"
   ]
  },
  {
   "cell_type": "code",
   "execution_count": 5,
   "id": "69d1e187",
   "metadata": {},
   "outputs": [
    {
     "name": "stdout",
     "output_type": "stream",
     "text": [
      "<class 'pandas.core.frame.DataFrame'>\n",
      "RangeIndex: 1000 entries, 0 to 999\n",
      "Data columns (total 7 columns):\n",
      " #   Column           Non-Null Count  Dtype         \n",
      "---  ------           --------------  -----         \n",
      " 0   loan_id          1000 non-null   int64         \n",
      " 1   loan_rate        1000 non-null   float64       \n",
      " 2   amount           1000 non-null   int64         \n",
      " 3   term             1000 non-null   int64         \n",
      " 4   status           1000 non-null   object        \n",
      " 5   start_date       1000 non-null   datetime64[ns]\n",
      " 6   date_of_default  76 non-null     datetime64[ns]\n",
      "dtypes: datetime64[ns](2), float64(1), int64(3), object(1)\n",
      "memory usage: 54.8+ KB\n"
     ]
    }
   ],
   "source": [
    "loan_table.info()"
   ]
  },
  {
   "cell_type": "markdown",
   "id": "088e8441",
   "metadata": {},
   "source": [
    "В столбце date_of_default 924 пропущенных значения. Это говорит о том, что для данной операции дефолт не применялся. Следовательно данные пропуски вполне логичны и обоснованы, никакие операции с ними производить ненужно."
   ]
  },
  {
   "cell_type": "markdown",
   "id": "f5b52c46",
   "metadata": {},
   "source": [
    "Для дальнейшей работы необходимо объединить датасеты. Воспользуемся методом pd.merge и запишем результат объединения в новую переменную df. Общий столбец для объединения loan_id."
   ]
  },
  {
   "cell_type": "code",
   "execution_count": 6,
   "id": "b053da21",
   "metadata": {},
   "outputs": [
    {
     "data": {
      "text/html": [
       "<div>\n",
       "<style scoped>\n",
       "    .dataframe tbody tr th:only-of-type {\n",
       "        vertical-align: middle;\n",
       "    }\n",
       "\n",
       "    .dataframe tbody tr th {\n",
       "        vertical-align: top;\n",
       "    }\n",
       "\n",
       "    .dataframe thead th {\n",
       "        text-align: right;\n",
       "    }\n",
       "</style>\n",
       "<table border=\"1\" class=\"dataframe\">\n",
       "  <thead>\n",
       "    <tr style=\"text-align: right;\">\n",
       "      <th></th>\n",
       "      <th>investor_id</th>\n",
       "      <th>date</th>\n",
       "      <th>loan_id</th>\n",
       "      <th>amount_x</th>\n",
       "      <th>principal_payment</th>\n",
       "      <th>interest_payment</th>\n",
       "      <th>loan_rate</th>\n",
       "      <th>amount_y</th>\n",
       "      <th>term</th>\n",
       "      <th>status</th>\n",
       "      <th>start_date</th>\n",
       "      <th>date_of_default</th>\n",
       "    </tr>\n",
       "  </thead>\n",
       "  <tbody>\n",
       "    <tr>\n",
       "      <th>0</th>\n",
       "      <td>3</td>\n",
       "      <td>2022-05-01</td>\n",
       "      <td>592</td>\n",
       "      <td>-11000.0</td>\n",
       "      <td>-11000.0</td>\n",
       "      <td>0.0</td>\n",
       "      <td>0.395</td>\n",
       "      <td>1500000</td>\n",
       "      <td>360</td>\n",
       "      <td>closed</td>\n",
       "      <td>2022-05-01</td>\n",
       "      <td>NaT</td>\n",
       "    </tr>\n",
       "    <tr>\n",
       "      <th>1</th>\n",
       "      <td>1</td>\n",
       "      <td>2022-05-01</td>\n",
       "      <td>781</td>\n",
       "      <td>-26250.0</td>\n",
       "      <td>-26250.0</td>\n",
       "      <td>0.0</td>\n",
       "      <td>0.395</td>\n",
       "      <td>1500000</td>\n",
       "      <td>180</td>\n",
       "      <td>closed</td>\n",
       "      <td>2022-05-01</td>\n",
       "      <td>NaT</td>\n",
       "    </tr>\n",
       "    <tr>\n",
       "      <th>2</th>\n",
       "      <td>3</td>\n",
       "      <td>2022-05-01</td>\n",
       "      <td>781</td>\n",
       "      <td>-11000.0</td>\n",
       "      <td>-11000.0</td>\n",
       "      <td>0.0</td>\n",
       "      <td>0.395</td>\n",
       "      <td>1500000</td>\n",
       "      <td>180</td>\n",
       "      <td>closed</td>\n",
       "      <td>2022-05-01</td>\n",
       "      <td>NaT</td>\n",
       "    </tr>\n",
       "    <tr>\n",
       "      <th>3</th>\n",
       "      <td>4</td>\n",
       "      <td>2022-05-01</td>\n",
       "      <td>781</td>\n",
       "      <td>-2500.0</td>\n",
       "      <td>-2500.0</td>\n",
       "      <td>0.0</td>\n",
       "      <td>0.395</td>\n",
       "      <td>1500000</td>\n",
       "      <td>180</td>\n",
       "      <td>closed</td>\n",
       "      <td>2022-05-01</td>\n",
       "      <td>NaT</td>\n",
       "    </tr>\n",
       "    <tr>\n",
       "      <th>4</th>\n",
       "      <td>2</td>\n",
       "      <td>2022-05-02</td>\n",
       "      <td>381</td>\n",
       "      <td>-16000.0</td>\n",
       "      <td>-16000.0</td>\n",
       "      <td>0.0</td>\n",
       "      <td>0.206</td>\n",
       "      <td>5000000</td>\n",
       "      <td>360</td>\n",
       "      <td>closed</td>\n",
       "      <td>2022-05-02</td>\n",
       "      <td>NaT</td>\n",
       "    </tr>\n",
       "  </tbody>\n",
       "</table>\n",
       "</div>"
      ],
      "text/plain": [
       "   investor_id       date  loan_id  amount_x  principal_payment  \\\n",
       "0            3 2022-05-01      592  -11000.0           -11000.0   \n",
       "1            1 2022-05-01      781  -26250.0           -26250.0   \n",
       "2            3 2022-05-01      781  -11000.0           -11000.0   \n",
       "3            4 2022-05-01      781   -2500.0            -2500.0   \n",
       "4            2 2022-05-02      381  -16000.0           -16000.0   \n",
       "\n",
       "   interest_payment  loan_rate  amount_y  term  status start_date  \\\n",
       "0               0.0      0.395   1500000   360  closed 2022-05-01   \n",
       "1               0.0      0.395   1500000   180  closed 2022-05-01   \n",
       "2               0.0      0.395   1500000   180  closed 2022-05-01   \n",
       "3               0.0      0.395   1500000   180  closed 2022-05-01   \n",
       "4               0.0      0.206   5000000   360  closed 2022-05-02   \n",
       "\n",
       "  date_of_default  \n",
       "0             NaT  \n",
       "1             NaT  \n",
       "2             NaT  \n",
       "3             NaT  \n",
       "4             NaT  "
      ]
     },
     "execution_count": 6,
     "metadata": {},
     "output_type": "execute_result"
    }
   ],
   "source": [
    "df = pd.merge(investor_cashflow, loan_table, on='loan_id', how='left')\n",
    "df.head()"
   ]
  },
  {
   "cell_type": "code",
   "execution_count": 7,
   "id": "21705a36",
   "metadata": {},
   "outputs": [
    {
     "name": "stdout",
     "output_type": "stream",
     "text": [
      "<class 'pandas.core.frame.DataFrame'>\n",
      "Int64Index: 21093 entries, 0 to 21092\n",
      "Data columns (total 12 columns):\n",
      " #   Column             Non-Null Count  Dtype         \n",
      "---  ------             --------------  -----         \n",
      " 0   investor_id        21093 non-null  int64         \n",
      " 1   date               21093 non-null  datetime64[ns]\n",
      " 2   loan_id            21093 non-null  int64         \n",
      " 3   amount_x           21093 non-null  float64       \n",
      " 4   principal_payment  21093 non-null  float64       \n",
      " 5   interest_payment   21093 non-null  float64       \n",
      " 6   loan_rate          21093 non-null  float64       \n",
      " 7   amount_y           21093 non-null  int64         \n",
      " 8   term               21093 non-null  int64         \n",
      " 9   status             21093 non-null  object        \n",
      " 10  start_date         21093 non-null  datetime64[ns]\n",
      " 11  date_of_default    641 non-null    datetime64[ns]\n",
      "dtypes: datetime64[ns](3), float64(4), int64(4), object(1)\n",
      "memory usage: 2.1+ MB\n"
     ]
    }
   ],
   "source": [
    "df.info()"
   ]
  },
  {
   "cell_type": "markdown",
   "id": "34f840ed",
   "metadata": {},
   "source": [
    "Данные успешно объединены. Строки не были потеряны."
   ]
  },
  {
   "cell_type": "markdown",
   "id": "60b54893",
   "metadata": {},
   "source": [
    "Приступим к изучению ТЗ и проведения исследования."
   ]
  },
  {
   "cell_type": "markdown",
   "id": "a4b6f298",
   "metadata": {},
   "source": [
    "### Задание 1"
   ]
  },
  {
   "cell_type": "markdown",
   "id": "ed41e0f4",
   "metadata": {},
   "source": [
    "**Необходимо рассчитать число активных займов в портфелях инвесторов. В качестве ответа нужно предоставить разницу по модулю этих значений между инвесторами с id = 1 и id = 3.**"
   ]
  },
  {
   "cell_type": "markdown",
   "id": "ca4a9755",
   "metadata": {},
   "source": [
    "Для выполнения данного задания необходимо рассчитать количество активных займов для каждого инвестора. Известно, что статус инвестора записан в столбце status. Следовательно сделаем фильтрацию по статусу, воспользуемся методом groupby и сгруппируем investor_id и loan_id, затем посчитаем количество уникальных значений с помощью метода nunique."
   ]
  },
  {
   "cell_type": "markdown",
   "id": "fae79c8a",
   "metadata": {},
   "source": [
    "Далее воспользуемся методом get и определим количество активных займов для инвестора с id = 1 и аналогично для инвестора с id = 3."
   ]
  },
  {
   "cell_type": "markdown",
   "id": "aaf07baf",
   "metadata": {},
   "source": [
    "Для расчета разницы по модулю воспользуемся методом abs."
   ]
  },
  {
   "cell_type": "code",
   "execution_count": 8,
   "id": "2242b70f",
   "metadata": {},
   "outputs": [
    {
     "name": "stdout",
     "output_type": "stream",
     "text": [
      "Разница по модулю между инвесторами с id = 1 и id = 3: 29\n",
      "86\n",
      "57\n"
     ]
    }
   ],
   "source": [
    "investor_active_loans = df[df['status'] == 'active'].groupby('investor_id')['loan_id'].nunique()\n",
    "investor_1 = investor_active_loans.get(1, 0)\n",
    "investor_3 = investor_active_loans.get(3, 0)\n",
    "\n",
    "difference = abs(investor_1 - investor_3)\n",
    "\n",
    "print(\"Разница по модулю между инвесторами с id = 1 и id = 3:\", difference)\n",
    "print(investor_1)\n",
    "print(investor_3)"
   ]
  },
  {
   "cell_type": "code",
   "execution_count": 16,
   "id": "b162bc70",
   "metadata": {},
   "outputs": [
    {
     "data": {
      "text/plain": [
       "investor_id             5\n",
       "date                  636\n",
       "loan_id               941\n",
       "amount_x               50\n",
       "principal_payment     368\n",
       "interest_payment      346\n",
       "loan_rate               3\n",
       "amount_y               10\n",
       "term                    2\n",
       "status                  3\n",
       "start_date            335\n",
       "date_of_default        64\n",
       "investment_share     1105\n",
       "dtype: int64"
      ]
     },
     "execution_count": 16,
     "metadata": {},
     "output_type": "execute_result"
    }
   ],
   "source": [
    "df.nunique()"
   ]
  },
  {
   "cell_type": "markdown",
   "id": "8d65ea02",
   "metadata": {},
   "source": [
    "### Задание 2"
   ]
  },
  {
   "cell_type": "markdown",
   "id": "6a88353f",
   "metadata": {},
   "source": [
    "**Необходимо рассчитать, какую долю от общей суммы каждого займа составляет инвестиция каждого конкретного инвестора.\n",
    "Среди рассчитанных значений  получить среднее значение по всем займам, а также максимальное значение для займа с id = 3.  \n",
    "В качестве ответа предоставить разницу по модулю двух полученных выше значений (среднего из всех и максимального по займу с id = 3), умножить на 10 000 и взять от полученного числа целую часть.**"
   ]
  },
  {
   "cell_type": "markdown",
   "id": "f601abd8",
   "metadata": {},
   "source": [
    "Для выполнения данного задания необходимо рассчитать сумму значения в столбце amount_x для каждого займа, затем рассчитать долю от общей суммы для каждого инвестора. Для этого нам необходимо использовать методы groupby и transform('sum')."
   ]
  },
  {
   "cell_type": "markdown",
   "id": "29fa9024",
   "metadata": {},
   "source": [
    "Затем необходимо рассчитать среднее значения с помощью метода mean."
   ]
  },
  {
   "cell_type": "markdown",
   "id": "5c5364e9",
   "metadata": {},
   "source": [
    "Далее посчитаем максимальное значение для займа с id =3. Для этого используем фильтрацию и метод max."
   ]
  },
  {
   "cell_type": "markdown",
   "id": "76eb7467",
   "metadata": {},
   "source": [
    "После этого считаем разницу по модулю между средним и максимальным значением."
   ]
  },
  {
   "cell_type": "markdown",
   "id": "0c7b297d",
   "metadata": {},
   "source": [
    "Остается умножить результат на 10000 и взять от полученного числа целую часть с помощью метода int."
   ]
  },
  {
   "cell_type": "code",
   "execution_count": 10,
   "id": "ff525dca",
   "metadata": {},
   "outputs": [
    {
     "name": "stdout",
     "output_type": "stream",
     "text": [
      "Разница по модулю умноженная на 10 000: 4748\n"
     ]
    }
   ],
   "source": [
    "df['investment_share'] = df['amount_x'] / df.groupby('loan_id')['amount_x'].transform('sum')\n",
    "\n",
    "avg_inv = df['investment_share'].mean()\n",
    "\n",
    "max_inv_id_3 = df[df['loan_id'] == 3]['investment_share'].max()\n",
    "\n",
    "difference = abs(avg_inv - max_inv_id_3)\n",
    "\n",
    "result = int(difference * 10000)\n",
    "\n",
    "print(\"Разница по модулю умноженная на 10 000:\", result)"
   ]
  },
  {
   "cell_type": "code",
   "execution_count": 11,
   "id": "9bc2937f",
   "metadata": {},
   "outputs": [
    {
     "data": {
      "text/html": [
       "<div>\n",
       "<style scoped>\n",
       "    .dataframe tbody tr th:only-of-type {\n",
       "        vertical-align: middle;\n",
       "    }\n",
       "\n",
       "    .dataframe tbody tr th {\n",
       "        vertical-align: top;\n",
       "    }\n",
       "\n",
       "    .dataframe thead th {\n",
       "        text-align: right;\n",
       "    }\n",
       "</style>\n",
       "<table border=\"1\" class=\"dataframe\">\n",
       "  <thead>\n",
       "    <tr style=\"text-align: right;\">\n",
       "      <th></th>\n",
       "      <th>investor_id</th>\n",
       "      <th>date</th>\n",
       "      <th>loan_id</th>\n",
       "      <th>amount_x</th>\n",
       "      <th>principal_payment</th>\n",
       "      <th>interest_payment</th>\n",
       "      <th>loan_rate</th>\n",
       "      <th>amount_y</th>\n",
       "      <th>term</th>\n",
       "      <th>status</th>\n",
       "      <th>start_date</th>\n",
       "      <th>date_of_default</th>\n",
       "      <th>investment_share</th>\n",
       "    </tr>\n",
       "  </thead>\n",
       "  <tbody>\n",
       "    <tr>\n",
       "      <th>0</th>\n",
       "      <td>3</td>\n",
       "      <td>2022-05-01</td>\n",
       "      <td>592</td>\n",
       "      <td>-11000.0</td>\n",
       "      <td>-11000.0</td>\n",
       "      <td>0.0</td>\n",
       "      <td>0.395</td>\n",
       "      <td>1500000</td>\n",
       "      <td>360</td>\n",
       "      <td>closed</td>\n",
       "      <td>2022-05-01</td>\n",
       "      <td>NaT</td>\n",
       "      <td>-4.412477</td>\n",
       "    </tr>\n",
       "    <tr>\n",
       "      <th>1</th>\n",
       "      <td>1</td>\n",
       "      <td>2022-05-01</td>\n",
       "      <td>781</td>\n",
       "      <td>-26250.0</td>\n",
       "      <td>-26250.0</td>\n",
       "      <td>0.0</td>\n",
       "      <td>0.395</td>\n",
       "      <td>1500000</td>\n",
       "      <td>180</td>\n",
       "      <td>closed</td>\n",
       "      <td>2022-05-01</td>\n",
       "      <td>NaT</td>\n",
       "      <td>-5.581488</td>\n",
       "    </tr>\n",
       "    <tr>\n",
       "      <th>2</th>\n",
       "      <td>3</td>\n",
       "      <td>2022-05-01</td>\n",
       "      <td>781</td>\n",
       "      <td>-11000.0</td>\n",
       "      <td>-11000.0</td>\n",
       "      <td>0.0</td>\n",
       "      <td>0.395</td>\n",
       "      <td>1500000</td>\n",
       "      <td>180</td>\n",
       "      <td>closed</td>\n",
       "      <td>2022-05-01</td>\n",
       "      <td>NaT</td>\n",
       "      <td>-2.338909</td>\n",
       "    </tr>\n",
       "    <tr>\n",
       "      <th>3</th>\n",
       "      <td>4</td>\n",
       "      <td>2022-05-01</td>\n",
       "      <td>781</td>\n",
       "      <td>-2500.0</td>\n",
       "      <td>-2500.0</td>\n",
       "      <td>0.0</td>\n",
       "      <td>0.395</td>\n",
       "      <td>1500000</td>\n",
       "      <td>180</td>\n",
       "      <td>closed</td>\n",
       "      <td>2022-05-01</td>\n",
       "      <td>NaT</td>\n",
       "      <td>-0.531570</td>\n",
       "    </tr>\n",
       "    <tr>\n",
       "      <th>4</th>\n",
       "      <td>2</td>\n",
       "      <td>2022-05-02</td>\n",
       "      <td>381</td>\n",
       "      <td>-16000.0</td>\n",
       "      <td>-16000.0</td>\n",
       "      <td>0.0</td>\n",
       "      <td>0.206</td>\n",
       "      <td>5000000</td>\n",
       "      <td>360</td>\n",
       "      <td>closed</td>\n",
       "      <td>2022-05-02</td>\n",
       "      <td>NaT</td>\n",
       "      <td>-3.160328</td>\n",
       "    </tr>\n",
       "  </tbody>\n",
       "</table>\n",
       "</div>"
      ],
      "text/plain": [
       "   investor_id       date  loan_id  amount_x  principal_payment  \\\n",
       "0            3 2022-05-01      592  -11000.0           -11000.0   \n",
       "1            1 2022-05-01      781  -26250.0           -26250.0   \n",
       "2            3 2022-05-01      781  -11000.0           -11000.0   \n",
       "3            4 2022-05-01      781   -2500.0            -2500.0   \n",
       "4            2 2022-05-02      381  -16000.0           -16000.0   \n",
       "\n",
       "   interest_payment  loan_rate  amount_y  term  status start_date  \\\n",
       "0               0.0      0.395   1500000   360  closed 2022-05-01   \n",
       "1               0.0      0.395   1500000   180  closed 2022-05-01   \n",
       "2               0.0      0.395   1500000   180  closed 2022-05-01   \n",
       "3               0.0      0.395   1500000   180  closed 2022-05-01   \n",
       "4               0.0      0.206   5000000   360  closed 2022-05-02   \n",
       "\n",
       "  date_of_default  investment_share  \n",
       "0             NaT         -4.412477  \n",
       "1             NaT         -5.581488  \n",
       "2             NaT         -2.338909  \n",
       "3             NaT         -0.531570  \n",
       "4             NaT         -3.160328  "
      ]
     },
     "execution_count": 11,
     "metadata": {},
     "output_type": "execute_result"
    }
   ],
   "source": [
    "df.head()"
   ]
  },
  {
   "cell_type": "markdown",
   "id": "e49eeb93",
   "metadata": {},
   "source": [
    "### Задание 3"
   ]
  },
  {
   "cell_type": "markdown",
   "id": "d5309fe1",
   "metadata": {},
   "source": [
    "**Фактические суммы дохода / потерь инвестора рассчитываются следующим образом: в качестве дохода берётся сумма процентных платежей, а в качестве потерь — неоплаченный остаток долга в случае, если произошёл дефолт. Относительное значение можно получить путём деления рассчитанной суммы на общую сумму инвестированных в займы средств инвестора. В настоящем задании необходимо рассчитать относительное значение дохода (или потерь) инвесторов на конец дня 01.03.2023 по каждому.\n",
    "Для корректности расчёта стоит обратить внимание на указанную дату, так как часть дефолтов ещё не реализовалась к указанной дате, денежные средства инвесторов ещё не были проинвестированы в займы, выданные после этой даты, а процентный доход после указанной даты не был получен. В качестве ответа необходимо указать разницу по модулю между максимальным и минимальным значениями относительной доходности среди инвесторов на указанную дату, умножить на 10 000 и использовать для ответа целую часть полученного числа.**"
   ]
  },
  {
   "cell_type": "markdown",
   "id": "4abf6d5a",
   "metadata": {},
   "source": [
    "Для выполнения данного задания, необходимо выполнить фильтрацию по дате до 2023-03-01 включительно. Также необходимо создать новый столбец relative_income в котором будут содержаться значения потенциального дохода или убытка. Для этого нам поможет лямбда функция а также метод apply. В зависимости от условия (row['status'] != 'default'), функция вычисляет относительный доход. Если условие выполняется, то результатом является отношение платежа процентов к сумме займа (row['interest_payment'] / row['amount_x']), в противном случае результатом является отрицательная сумма займа (-row['amount_x']). Это используется для отметки случаев дефолта. Обязательно задаем параметр axis = 1, тем самым функция будет применятся к каждой строке а не столбцам."
   ]
  },
  {
   "cell_type": "markdown",
   "id": "19f50732",
   "metadata": {},
   "source": [
    "Далее необходимо сгруппировать данные по инвесторам и рассчитать относительный доход для каждого."
   ]
  },
  {
   "cell_type": "markdown",
   "id": "ad3c1b3c",
   "metadata": {},
   "source": [
    "Затем находим максимальное и минимальное значение относительной доходности."
   ]
  },
  {
   "cell_type": "markdown",
   "id": "12c77a3e",
   "metadata": {},
   "source": [
    "После этого рассчитываем разницу по модулю и умножаем на 10000."
   ]
  },
  {
   "cell_type": "markdown",
   "id": "e270ca17",
   "metadata": {},
   "source": [
    "Берем целую часть от числа с помощью метода int."
   ]
  },
  {
   "cell_type": "code",
   "execution_count": 12,
   "id": "f310e2a5",
   "metadata": {},
   "outputs": [
    {
     "name": "stdout",
     "output_type": "stream",
     "text": [
      "Разница по модулю, умноженная на 10 000: 6658480007\n"
     ]
    }
   ],
   "source": [
    "filtered_data = df[df['date'] <= '2023-03-01']\n",
    "\n",
    "filtered_data['relative_income'] = filtered_data.apply(\n",
    "    lambda row: row['interest_payment'] / row['amount_x'] if row['status'] != 'default' else -row['amount_x'],\n",
    "    axis=1\n",
    ")\n",
    "\n",
    "investor_relative_income = filtered_data.groupby('investor_id')['relative_income'].sum()\n",
    "\n",
    "max_relative_income = investor_relative_income.max()\n",
    "min_relative_income = investor_relative_income.min()\n",
    "\n",
    "difference = abs(max_relative_income - min_relative_income) * 10000\n",
    "\n",
    "result = int(difference)\n",
    "\n",
    "print(\"Разница по модулю, умноженная на 10 000:\", result)"
   ]
  },
  {
   "cell_type": "markdown",
   "id": "8a663abd",
   "metadata": {},
   "source": [
    "### Задание 4"
   ]
  },
  {
   "cell_type": "markdown",
   "id": "b74854d3",
   "metadata": {},
   "source": [
    "**Необходимо рассчитать помесячный относительный доход инвесторов аналогично методике, описанной в предыдущем задании с даты начала их инвестирования по конец наблюдений 01.02.2024, построить график, объединяющий доходности разных инвесторов и провести анализ указанных результатов.**"
   ]
  },
  {
   "cell_type": "markdown",
   "id": "8cdfa027",
   "metadata": {},
   "source": [
    "Для выполнения данного задания необходимо сделать фильтрацию по времени от даты начала инвестирования и до конца наблюдений(по 2024-02-01 включительно)."
   ]
  },
  {
   "cell_type": "markdown",
   "id": "74e51579",
   "metadata": {},
   "source": [
    "Далее преобразуем дату в period c помощью метода dt.to_period('M')."
   ]
  },
  {
   "cell_type": "markdown",
   "id": "59d3bc83",
   "metadata": {},
   "source": [
    "Код для расчёта помесячного относительного дохода для каждого инвестора у нас уже есть из предыдущего задания."
   ]
  },
  {
   "cell_type": "markdown",
   "id": "18efc000",
   "metadata": {},
   "source": [
    "Теперь необходимо сгруппировать данные по инвесторам и месяцам, а также рассчитать суммарный относительный доход для каждого. Используем groupby и sum."
   ]
  },
  {
   "cell_type": "markdown",
   "id": "d0964237",
   "metadata": {},
   "source": [
    "Построим линейный график с помощью библиотеки matplotlib. Задаем размер фигур, подписываем оси, включаем отображение легенды. Также необходимо написать цикл который будет проходить по каждому инвестору и соответствующим ему данным. Необходимо повернуть подписи на оси Х, иначе они будут сливаться в сплошной текст."
   ]
  },
  {
   "cell_type": "code",
   "execution_count": 13,
   "id": "e8352256",
   "metadata": {},
   "outputs": [
    {
     "data": {
      "image/png": "[encoded data removed]",
      "text/plain": [
       "<Figure size 1000x600 with 1 Axes>"
      ]
     },
     "metadata": {},
     "output_type": "display_data"
    }
   ],
   "source": [
    "filtered_data = df[(df['date'] >= df['start_date']) & (df['date'] <= '2024-02-01')]\n",
    "\n",
    "filtered_data['month'] = filtered_data['date'].dt.to_period('M')\n",
    "\n",
    "filtered_data['relative_income'] = filtered_data.apply(\n",
    "    lambda row: row['interest_payment'] / row['amount_x'] if row['status'] != 'default' else -row['amount_x'],\n",
    "    axis=1\n",
    ")\n",
    "\n",
    "monthly_investor_relative_income = filtered_data.groupby(['investor_id', 'month'])['relative_income'].sum().reset_index()\n",
    "\n",
    "fig, ax = plt.subplots(figsize=(10, 6))\n",
    "\n",
    "for investor_id, data in monthly_investor_relative_income.groupby('investor_id'):\n",
    "    ax.plot(data['month'].astype(str), data['relative_income'], label=f'Investor {investor_id}')\n",
    "\n",
    "ax.set_xlabel('Месяц')\n",
    "ax.set_ylabel('Относительный доход')\n",
    "ax.legend()\n",
    "plt.title('Помесячный относительный доход инвесторов')\n",
    "\n",
    "plt.xticks(rotation=45, ha='right')\n",
    "\n",
    "plt.tight_layout()\n",
    "plt.show()"
   ]
  },
  {
   "cell_type": "markdown",
   "id": "64fa15ff",
   "metadata": {},
   "source": [
    "**На основе данного графика можно сделать следующие выводы:**\n",
    "\n",
    "1) Относительная доходность инвестора №1 менялась значительнее всего, возможно данный инвестор предпочитаем вкладывать инвестиции в нестандартные проекты с высоким уровнем риска, но также высокой потенциальной доходностью. (Агрессивный портфель).\n",
    "\n",
    "2) Остальные инвесторы укладываются в некий средний профиль, возможно они более консервативны и предпочитают вложения в более стабильные и надежные активы. (Консервативный портфель).\n",
    "\n",
    "3) В мае 2023 года произошло некое событие (отсуствие истории наблюдений, рыночная стабильность или низкая волатильность, неактивность или консервативные стратегии инвестирования)."
   ]
  }
 ],
 "metadata": {
  "kernelspec": {
   "display_name": "Python 3 (ipykernel)",
   "language": "python",
   "name": "python3"
  },
  "language_info": {
   "codemirror_mode": {
    "name": "ipython",
    "version": 3
   },
   "file_extension": ".py",
   "mimetype": "text/x-python",
   "name": "python",
   "nbconvert_exporter": "python",
   "pygments_lexer": "ipython3",
   "version": "3.9.13"
  },
  "toc": {
   "base_numbering": 1,
   "nav_menu": {},
   "number_sections": true,
   "sideBar": true,
   "skip_h1_title": true,
   "title_cell": "Table of Contents",
   "title_sidebar": "Contents",
   "toc_cell": true,
   "toc_position": {},
   "toc_section_display": true,
   "toc_window_display": true
  }
 },
 "nbformat": 4,
 "nbformat_minor": 5
}
