{
 "cells": [
  {
   "cell_type": "markdown",
   "id": "f6c9608b",
   "metadata": {
    "toc": true
   },
   "source": [
    "<h1>Оглавление<span class=\"tocSkip\"></span></h1>\n",
    "<div class=\"toc\"><ul class=\"toc-item\"><li><span><a href=\"#Описание-задания.\" data-toc-modified-id=\"Описание-задания.-1\"><span class=\"toc-item-num\">1&nbsp;&nbsp;</span>Описание задания.</a></span></li><li><span><a href=\"#Предобработка-данных.\" data-toc-modified-id=\"Предобработка-данных.-2\"><span class=\"toc-item-num\">2&nbsp;&nbsp;</span>Предобработка данных.</a></span><ul class=\"toc-item\"><li><span><a href=\"#Результат-предобработки-данных.\" data-toc-modified-id=\"Результат-предобработки-данных.-2.1\"><span class=\"toc-item-num\">2.1&nbsp;&nbsp;</span>Результат предобработки данных.</a></span></li></ul></li><li><span><a href=\"#Исследовательский-анализ-данных.\" data-toc-modified-id=\"Исследовательский-анализ-данных.-3\"><span class=\"toc-item-num\">3&nbsp;&nbsp;</span>Исследовательский анализ данных.</a></span></li><li><span><a href=\"#Общие-выводы-по-датасету.\" data-toc-modified-id=\"Общие-выводы-по-датасету.-4\"><span class=\"toc-item-num\">4&nbsp;&nbsp;</span>Общие выводы по датасету.</a></span></li></ul></div>"
   ]
  },
  {
   "cell_type": "markdown",
   "id": "01f492d5",
   "metadata": {},
   "source": [
    "## Описание задания."
   ]
  },
  {
   "cell_type": "markdown",
   "id": "a88fb738",
   "metadata": {},
   "source": [
    "Перед вами датасет. \n",
    "\n",
    "•\tuser_id идентификатор пользователя  \n",
    "•\tdata_from дата начала действия подписки  \n",
    "•\tdata_to дата конца действия подписки  \n",
    "•\tdata_created дата создания  \n",
    "•\trevenue - доход  \n",
    "•\tcurrency- валюта  \n",
    "•\tcommission- комиссия  \n",
    "\n",
    "Необходимо провести анализ сета и вытянуть из данных максимальное кол-во информации:\n",
    "1)\tПосчитать средние показатели. (какие вы считаете значимыми)  \n",
    "2)\tОпределить разные группы пользователей по доходу.  \n",
    "3)\tОпределить тип подписки по продолжительности.  \n",
    "4)\tСделать предположение почему есть нулевая стоимость.  \n",
    "5)\tВыявить сезонность данных.  \n",
    "6)\tСоставить распределенную выручку по дням потребления с учетом курса валют.  "
   ]
  },
  {
   "cell_type": "markdown",
   "id": "f9408d6e",
   "metadata": {},
   "source": [
    "## Предобработка данных."
   ]
  },
  {
   "cell_type": "markdown",
   "id": "a13b8ee9",
   "metadata": {},
   "source": [
    "Импортируем основные библиотеки для начала работы."
   ]
  },
  {
   "cell_type": "code",
   "execution_count": 1,
   "id": "090854c6",
   "metadata": {},
   "outputs": [],
   "source": [
    "import pandas as pd\n",
    "import numpy as np\n",
    "from datetime import datetime, timedelta\n",
    "from matplotlib import pyplot as plt\n",
    "import seaborn as sns\n",
    "import matplotlib.pyplot as plt\n",
    "import dask.dataframe as dd"
   ]
  },
  {
   "cell_type": "markdown",
   "id": "245c11ba",
   "metadata": {},
   "source": [
    "Запишем датасет в переменную data. Прочитаем csv файл, воспользуемся разделителем `sep`."
   ]
  },
  {
   "cell_type": "code",
   "execution_count": 2,
   "id": "e9ef311e",
   "metadata": {},
   "outputs": [],
   "source": [
    "data = pd.read_csv('C:/Users/truel/datasets/test_base.csv', sep='|')"
   ]
  },
  {
   "cell_type": "markdown",
   "id": "d1cc05a1",
   "metadata": {},
   "source": [
    "Отобразим основную информацию о датафрейме с помощью метода `info()`."
   ]
  },
  {
   "cell_type": "code",
   "execution_count": 3,
   "id": "ea04de24",
   "metadata": {},
   "outputs": [
    {
     "name": "stdout",
     "output_type": "stream",
     "text": [
      "<class 'pandas.core.frame.DataFrame'>\n",
      "RangeIndex: 1010487 entries, 0 to 1010486\n",
      "Data columns (total 7 columns):\n",
      " #   Column        Non-Null Count    Dtype  \n",
      "---  ------        --------------    -----  \n",
      " 0   user_id       1010487 non-null  int64  \n",
      " 1   data_from     1010487 non-null  object \n",
      " 2   data_to       1010487 non-null  object \n",
      " 3   data_created  1010487 non-null  object \n",
      " 4   money         439795 non-null   float64\n",
      " 5   currency      1010487 non-null  object \n",
      " 6   commission    304114 non-null   float64\n",
      "dtypes: float64(2), int64(1), object(4)\n",
      "memory usage: 54.0+ MB\n"
     ]
    }
   ],
   "source": [
    "data.info()"
   ]
  },
  {
   "cell_type": "markdown",
   "id": "38083ea3",
   "metadata": {},
   "source": [
    "Столбцы **data_from, data_to, data_created** содержат данные о дате создания профиля, начале и окончании действия подписки. Приведем данные столбцы в формат datetime."
   ]
  },
  {
   "cell_type": "code",
   "execution_count": 4,
   "id": "bf570cb0",
   "metadata": {},
   "outputs": [],
   "source": [
    "data['data_from'] = pd.to_datetime(data['data_from'])\n",
    "data['data_to'] = pd.to_datetime(data['data_to'])\n",
    "data['data_created'] = pd.to_datetime(data['data_created'], format=\"%Y.%m.%d %H:%M:%S\")"
   ]
  },
  {
   "cell_type": "code",
   "execution_count": 5,
   "id": "6da503c1",
   "metadata": {},
   "outputs": [
    {
     "name": "stdout",
     "output_type": "stream",
     "text": [
      "<class 'pandas.core.frame.DataFrame'>\n",
      "RangeIndex: 1010487 entries, 0 to 1010486\n",
      "Data columns (total 7 columns):\n",
      " #   Column        Non-Null Count    Dtype         \n",
      "---  ------        --------------    -----         \n",
      " 0   user_id       1010487 non-null  int64         \n",
      " 1   data_from     1010487 non-null  datetime64[ns]\n",
      " 2   data_to       1010487 non-null  datetime64[ns]\n",
      " 3   data_created  1010487 non-null  datetime64[ns]\n",
      " 4   money         439795 non-null   float64       \n",
      " 5   currency      1010487 non-null  object        \n",
      " 6   commission    304114 non-null   float64       \n",
      "dtypes: datetime64[ns](3), float64(2), int64(1), object(1)\n",
      "memory usage: 54.0+ MB\n"
     ]
    }
   ],
   "source": [
    "data.info()"
   ]
  },
  {
   "cell_type": "markdown",
   "id": "a5275490",
   "metadata": {},
   "source": [
    "Выведем первые пять строк датасета используя метод `head()`."
   ]
  },
  {
   "cell_type": "code",
   "execution_count": 6,
   "id": "3589f60a",
   "metadata": {},
   "outputs": [
    {
     "data": {
      "text/html": [
       "<div>\n",
       "<style scoped>\n",
       "    .dataframe tbody tr th:only-of-type {\n",
       "        vertical-align: middle;\n",
       "    }\n",
       "\n",
       "    .dataframe tbody tr th {\n",
       "        vertical-align: top;\n",
       "    }\n",
       "\n",
       "    .dataframe thead th {\n",
       "        text-align: right;\n",
       "    }\n",
       "</style>\n",
       "<table border=\"1\" class=\"dataframe\">\n",
       "  <thead>\n",
       "    <tr style=\"text-align: right;\">\n",
       "      <th></th>\n",
       "      <th>user_id</th>\n",
       "      <th>data_from</th>\n",
       "      <th>data_to</th>\n",
       "      <th>data_created</th>\n",
       "      <th>money</th>\n",
       "      <th>currency</th>\n",
       "      <th>commission</th>\n",
       "    </tr>\n",
       "  </thead>\n",
       "  <tbody>\n",
       "    <tr>\n",
       "      <th>0</th>\n",
       "      <td>4512520820</td>\n",
       "      <td>2011-03-20</td>\n",
       "      <td>2011-03-20</td>\n",
       "      <td>2011-03-20 08:09:52.577</td>\n",
       "      <td>48.76641</td>\n",
       "      <td>$</td>\n",
       "      <td>NaN</td>\n",
       "    </tr>\n",
       "    <tr>\n",
       "      <th>1</th>\n",
       "      <td>45480</td>\n",
       "      <td>2011-03-20</td>\n",
       "      <td>2011-03-21</td>\n",
       "      <td>2011-03-20 08:18:50.563</td>\n",
       "      <td>14777.70000</td>\n",
       "      <td>$</td>\n",
       "      <td>NaN</td>\n",
       "    </tr>\n",
       "    <tr>\n",
       "      <th>2</th>\n",
       "      <td>454414960</td>\n",
       "      <td>2011-03-20</td>\n",
       "      <td>2011-03-21</td>\n",
       "      <td>2011-03-20 09:25:52.900</td>\n",
       "      <td>152.21031</td>\n",
       "      <td>$</td>\n",
       "      <td>NaN</td>\n",
       "    </tr>\n",
       "    <tr>\n",
       "      <th>3</th>\n",
       "      <td>4512192950</td>\n",
       "      <td>2011-03-20</td>\n",
       "      <td>2011-03-21</td>\n",
       "      <td>2011-03-20 09:45:27.467</td>\n",
       "      <td>152.21031</td>\n",
       "      <td>$</td>\n",
       "      <td>NaN</td>\n",
       "    </tr>\n",
       "    <tr>\n",
       "      <th>4</th>\n",
       "      <td>4512747120</td>\n",
       "      <td>2011-03-20</td>\n",
       "      <td>2011-03-21</td>\n",
       "      <td>2011-03-20 09:47:39.687</td>\n",
       "      <td>152.21031</td>\n",
       "      <td>$</td>\n",
       "      <td>NaN</td>\n",
       "    </tr>\n",
       "  </tbody>\n",
       "</table>\n",
       "</div>"
      ],
      "text/plain": [
       "      user_id  data_from    data_to            data_created        money  \\\n",
       "0  4512520820 2011-03-20 2011-03-20 2011-03-20 08:09:52.577     48.76641   \n",
       "1       45480 2011-03-20 2011-03-21 2011-03-20 08:18:50.563  14777.70000   \n",
       "2   454414960 2011-03-20 2011-03-21 2011-03-20 09:25:52.900    152.21031   \n",
       "3  4512192950 2011-03-20 2011-03-21 2011-03-20 09:45:27.467    152.21031   \n",
       "4  4512747120 2011-03-20 2011-03-21 2011-03-20 09:47:39.687    152.21031   \n",
       "\n",
       "  currency  commission  \n",
       "0        $         NaN  \n",
       "1        $         NaN  \n",
       "2        $         NaN  \n",
       "3        $         NaN  \n",
       "4        $         NaN  "
      ]
     },
     "execution_count": 6,
     "metadata": {},
     "output_type": "execute_result"
    }
   ],
   "source": [
    "data.head()"
   ]
  },
  {
   "cell_type": "markdown",
   "id": "321a0fc9",
   "metadata": {},
   "source": [
    "С названиями столбцов все в порядке. Нижний и \"python\" регистры соблюдены.  \n",
    "Отобразим количество пропущенных значений для каждого столбца. Воспользуемся методом `isna().sum()`"
   ]
  },
  {
   "cell_type": "code",
   "execution_count": 7,
   "id": "e354a73c",
   "metadata": {},
   "outputs": [
    {
     "data": {
      "text/plain": [
       "user_id              0\n",
       "data_from            0\n",
       "data_to              0\n",
       "data_created         0\n",
       "money           570692\n",
       "currency             0\n",
       "commission      706373\n",
       "dtype: int64"
      ]
     },
     "execution_count": 7,
     "metadata": {},
     "output_type": "execute_result"
    }
   ],
   "source": [
    "data.isna().sum()"
   ]
  },
  {
   "cell_type": "code",
   "execution_count": 8,
   "id": "fab43d5a",
   "metadata": {},
   "outputs": [
    {
     "data": {
      "text/plain": [
       "570692"
      ]
     },
     "metadata": {},
     "output_type": "display_data"
    },
    {
     "data": {
      "text/plain": [
       "706373"
      ]
     },
     "metadata": {},
     "output_type": "display_data"
    }
   ],
   "source": [
    "display(data['money'].isna().sum())\n",
    "display(data['commission'].isna().sum())"
   ]
  },
  {
   "cell_type": "markdown",
   "id": "131234e3",
   "metadata": {},
   "source": [
    "В столбцах **money** и **commission** присутствует большое количество пропущенных значений. Заполнять пропуски медианным либо средним значениями в данном случае не стоит, так как это может привести к искажению результатов исследования."
   ]
  },
  {
   "cell_type": "markdown",
   "id": "b4d2884c",
   "metadata": {},
   "source": [
    "Воспользуемся методом `duplicated().sum()` и проверим присутствуют ли в датасете строки дубликаты."
   ]
  },
  {
   "cell_type": "code",
   "execution_count": 9,
   "id": "c1d1c814",
   "metadata": {},
   "outputs": [
    {
     "data": {
      "text/plain": [
       "174"
      ]
     },
     "execution_count": 9,
     "metadata": {},
     "output_type": "execute_result"
    }
   ],
   "source": [
    "data.duplicated().sum()"
   ]
  },
  {
   "cell_type": "markdown",
   "id": "1c31515e",
   "metadata": {},
   "source": [
    "В датасете присутствуют 174 дублированные строки. Воспользуемся методом `drop_duplicates()` и удалим их."
   ]
  },
  {
   "cell_type": "code",
   "execution_count": 10,
   "id": "4c5ca113",
   "metadata": {},
   "outputs": [],
   "source": [
    "data = data.drop_duplicates()"
   ]
  },
  {
   "cell_type": "markdown",
   "id": "4cbbf39d",
   "metadata": {},
   "source": [
    "### Результат предобработки данных."
   ]
  },
  {
   "cell_type": "markdown",
   "id": "6c0334ad",
   "metadata": {},
   "source": [
    "В процессе предобработки датасета выявлены пропуски в столбцах **money** и **commission**. Принято решение не заполнять пропуски, чтобы не исказить результаты исследования.           \n",
    "Столбцы **data_from, data_to, data_created** приведены к формату datetime.  \n",
    "Обнаружены 174 строки дубликата. Данные строки были удалены.   "
   ]
  },
  {
   "cell_type": "markdown",
   "id": "aa969a2d",
   "metadata": {},
   "source": [
    "## Исследовательский анализ данных."
   ]
  },
  {
   "cell_type": "markdown",
   "id": "20580205",
   "metadata": {},
   "source": [
    "Отобразим первые пять строк датасета и посмотрим гистограммы для каждого столбца."
   ]
  },
  {
   "cell_type": "code",
   "execution_count": 11,
   "id": "b7d313e8",
   "metadata": {},
   "outputs": [
    {
     "data": {
      "text/html": [
       "<div>\n",
       "<style scoped>\n",
       "    .dataframe tbody tr th:only-of-type {\n",
       "        vertical-align: middle;\n",
       "    }\n",
       "\n",
       "    .dataframe tbody tr th {\n",
       "        vertical-align: top;\n",
       "    }\n",
       "\n",
       "    .dataframe thead th {\n",
       "        text-align: right;\n",
       "    }\n",
       "</style>\n",
       "<table border=\"1\" class=\"dataframe\">\n",
       "  <thead>\n",
       "    <tr style=\"text-align: right;\">\n",
       "      <th></th>\n",
       "      <th>user_id</th>\n",
       "      <th>data_from</th>\n",
       "      <th>data_to</th>\n",
       "      <th>data_created</th>\n",
       "      <th>money</th>\n",
       "      <th>currency</th>\n",
       "      <th>commission</th>\n",
       "    </tr>\n",
       "  </thead>\n",
       "  <tbody>\n",
       "    <tr>\n",
       "      <th>0</th>\n",
       "      <td>4512520820</td>\n",
       "      <td>2011-03-20</td>\n",
       "      <td>2011-03-20</td>\n",
       "      <td>2011-03-20 08:09:52.577</td>\n",
       "      <td>48.76641</td>\n",
       "      <td>$</td>\n",
       "      <td>NaN</td>\n",
       "    </tr>\n",
       "    <tr>\n",
       "      <th>1</th>\n",
       "      <td>45480</td>\n",
       "      <td>2011-03-20</td>\n",
       "      <td>2011-03-21</td>\n",
       "      <td>2011-03-20 08:18:50.563</td>\n",
       "      <td>14777.70000</td>\n",
       "      <td>$</td>\n",
       "      <td>NaN</td>\n",
       "    </tr>\n",
       "    <tr>\n",
       "      <th>2</th>\n",
       "      <td>454414960</td>\n",
       "      <td>2011-03-20</td>\n",
       "      <td>2011-03-21</td>\n",
       "      <td>2011-03-20 09:25:52.900</td>\n",
       "      <td>152.21031</td>\n",
       "      <td>$</td>\n",
       "      <td>NaN</td>\n",
       "    </tr>\n",
       "    <tr>\n",
       "      <th>3</th>\n",
       "      <td>4512192950</td>\n",
       "      <td>2011-03-20</td>\n",
       "      <td>2011-03-21</td>\n",
       "      <td>2011-03-20 09:45:27.467</td>\n",
       "      <td>152.21031</td>\n",
       "      <td>$</td>\n",
       "      <td>NaN</td>\n",
       "    </tr>\n",
       "    <tr>\n",
       "      <th>4</th>\n",
       "      <td>4512747120</td>\n",
       "      <td>2011-03-20</td>\n",
       "      <td>2011-03-21</td>\n",
       "      <td>2011-03-20 09:47:39.687</td>\n",
       "      <td>152.21031</td>\n",
       "      <td>$</td>\n",
       "      <td>NaN</td>\n",
       "    </tr>\n",
       "  </tbody>\n",
       "</table>\n",
       "</div>"
      ],
      "text/plain": [
       "      user_id  data_from    data_to            data_created        money  \\\n",
       "0  4512520820 2011-03-20 2011-03-20 2011-03-20 08:09:52.577     48.76641   \n",
       "1       45480 2011-03-20 2011-03-21 2011-03-20 08:18:50.563  14777.70000   \n",
       "2   454414960 2011-03-20 2011-03-21 2011-03-20 09:25:52.900    152.21031   \n",
       "3  4512192950 2011-03-20 2011-03-21 2011-03-20 09:45:27.467    152.21031   \n",
       "4  4512747120 2011-03-20 2011-03-21 2011-03-20 09:47:39.687    152.21031   \n",
       "\n",
       "  currency  commission  \n",
       "0        $         NaN  \n",
       "1        $         NaN  \n",
       "2        $         NaN  \n",
       "3        $         NaN  \n",
       "4        $         NaN  "
      ]
     },
     "execution_count": 11,
     "metadata": {},
     "output_type": "execute_result"
    }
   ],
   "source": [
    "data.head()"
   ]
  },
  {
   "cell_type": "code",
   "execution_count": 12,
   "id": "35ffab2c",
   "metadata": {},
   "outputs": [
    {
     "data": {
      "image/png": "[encoded data removed]",
      "text/plain": [
       "<Figure size 1500x2000 with 6 Axes>"
      ]
     },
     "metadata": {},
     "output_type": "display_data"
    }
   ],
   "source": [
    "data.hist(figsize=(15, 20));"
   ]
  },
  {
   "cell_type": "markdown",
   "id": "e31f7517",
   "metadata": {},
   "source": [
    "Используем метод `describe` для столбца **data_from** и изучим его особенности."
   ]
  },
  {
   "cell_type": "code",
   "execution_count": 13,
   "id": "6ccb45fd",
   "metadata": {},
   "outputs": [
    {
     "data": {
      "text/html": [
       "<div>\n",
       "<style scoped>\n",
       "    .dataframe tbody tr th:only-of-type {\n",
       "        vertical-align: middle;\n",
       "    }\n",
       "\n",
       "    .dataframe tbody tr th {\n",
       "        vertical-align: top;\n",
       "    }\n",
       "\n",
       "    .dataframe thead th {\n",
       "        text-align: right;\n",
       "    }\n",
       "</style>\n",
       "<table border=\"1\" class=\"dataframe\">\n",
       "  <thead>\n",
       "    <tr style=\"text-align: right;\">\n",
       "      <th></th>\n",
       "      <th>data_from</th>\n",
       "    </tr>\n",
       "  </thead>\n",
       "  <tbody>\n",
       "    <tr>\n",
       "      <th>count</th>\n",
       "      <td>1010313</td>\n",
       "    </tr>\n",
       "    <tr>\n",
       "      <th>mean</th>\n",
       "      <td>2015-01-09 18:03:48.867687936</td>\n",
       "    </tr>\n",
       "    <tr>\n",
       "      <th>min</th>\n",
       "      <td>2011-03-20 00:00:00</td>\n",
       "    </tr>\n",
       "    <tr>\n",
       "      <th>25%</th>\n",
       "      <td>2014-07-04 00:00:00</td>\n",
       "    </tr>\n",
       "    <tr>\n",
       "      <th>50%</th>\n",
       "      <td>2015-02-22 00:00:00</td>\n",
       "    </tr>\n",
       "    <tr>\n",
       "      <th>75%</th>\n",
       "      <td>2015-10-29 00:00:00</td>\n",
       "    </tr>\n",
       "    <tr>\n",
       "      <th>max</th>\n",
       "      <td>2016-12-02 00:00:00</td>\n",
       "    </tr>\n",
       "  </tbody>\n",
       "</table>\n",
       "</div>"
      ],
      "text/plain": [
       "                           data_from\n",
       "count                        1010313\n",
       "mean   2015-01-09 18:03:48.867687936\n",
       "min              2011-03-20 00:00:00\n",
       "25%              2014-07-04 00:00:00\n",
       "50%              2015-02-22 00:00:00\n",
       "75%              2015-10-29 00:00:00\n",
       "max              2016-12-02 00:00:00"
      ]
     },
     "execution_count": 13,
     "metadata": {},
     "output_type": "execute_result"
    }
   ],
   "source": [
    "data[['data_from']].describe(datetime_is_numeric=True)"
   ]
  },
  {
   "cell_type": "markdown",
   "id": "8076a5ea",
   "metadata": {},
   "source": [
    "Самая раняя дата активации подписки - 2011-03-20. Самая поздняя - 2016-12-02. Среднее значение - 2015-01-09. "
   ]
  },
  {
   "cell_type": "markdown",
   "id": "a7455d0a",
   "metadata": {},
   "source": [
    "Визуализируем данные и построим гистограмму для столбца **data_from**."
   ]
  },
  {
   "cell_type": "code",
   "execution_count": 14,
   "id": "21c2db94",
   "metadata": {},
   "outputs": [
    {
     "data": {
      "image/png": "[encoded data removed]",
      "text/plain": [
       "<Figure size 600x600 with 1 Axes>"
      ]
     },
     "metadata": {},
     "output_type": "display_data"
    }
   ],
   "source": [
    "data['data_from'].hist(figsize=(6, 6));"
   ]
  },
  {
   "cell_type": "markdown",
   "id": "be83bb4d",
   "metadata": {},
   "source": [
    "На гистограмме наблюдаем следующие особенности: резкий рост покупки подписки начался с 2014 года. в 2015 году наблюдается снижение и далее к концу 2015 года рост возобновляется. Вероятно начиная с 2014 года проводились маркетинговые мероприятия направленные на стимуляцию пользователей к приобретению платной подписки. Также на данном графике наблюдаем тренд сезонности. Приток подписок и пользователей наблюдается во второй половине каждого года. "
   ]
  },
  {
   "cell_type": "markdown",
   "id": "278c5ea5",
   "metadata": {},
   "source": [
    "Воспользуемся аналогичными инструментами для столбца **data_to**."
   ]
  },
  {
   "cell_type": "code",
   "execution_count": 15,
   "id": "e87583d4",
   "metadata": {},
   "outputs": [
    {
     "data": {
      "text/html": [
       "<div>\n",
       "<style scoped>\n",
       "    .dataframe tbody tr th:only-of-type {\n",
       "        vertical-align: middle;\n",
       "    }\n",
       "\n",
       "    .dataframe tbody tr th {\n",
       "        vertical-align: top;\n",
       "    }\n",
       "\n",
       "    .dataframe thead th {\n",
       "        text-align: right;\n",
       "    }\n",
       "</style>\n",
       "<table border=\"1\" class=\"dataframe\">\n",
       "  <thead>\n",
       "    <tr style=\"text-align: right;\">\n",
       "      <th></th>\n",
       "      <th>data_to</th>\n",
       "    </tr>\n",
       "  </thead>\n",
       "  <tbody>\n",
       "    <tr>\n",
       "      <th>count</th>\n",
       "      <td>1010313</td>\n",
       "    </tr>\n",
       "    <tr>\n",
       "      <th>mean</th>\n",
       "      <td>2015-03-24 01:57:52.428445184</td>\n",
       "    </tr>\n",
       "    <tr>\n",
       "      <th>min</th>\n",
       "      <td>2011-03-20 00:00:00</td>\n",
       "    </tr>\n",
       "    <tr>\n",
       "      <th>25%</th>\n",
       "      <td>2014-11-30 00:00:00</td>\n",
       "    </tr>\n",
       "    <tr>\n",
       "      <th>50%</th>\n",
       "      <td>2015-04-15 00:00:00</td>\n",
       "    </tr>\n",
       "    <tr>\n",
       "      <th>75%</th>\n",
       "      <td>2015-11-18 00:00:00</td>\n",
       "    </tr>\n",
       "    <tr>\n",
       "      <th>max</th>\n",
       "      <td>2020-12-10 00:00:00</td>\n",
       "    </tr>\n",
       "  </tbody>\n",
       "</table>\n",
       "</div>"
      ],
      "text/plain": [
       "                             data_to\n",
       "count                        1010313\n",
       "mean   2015-03-24 01:57:52.428445184\n",
       "min              2011-03-20 00:00:00\n",
       "25%              2014-11-30 00:00:00\n",
       "50%              2015-04-15 00:00:00\n",
       "75%              2015-11-18 00:00:00\n",
       "max              2020-12-10 00:00:00"
      ]
     },
     "execution_count": 15,
     "metadata": {},
     "output_type": "execute_result"
    }
   ],
   "source": [
    "data[['data_to']].describe(datetime_is_numeric=True)"
   ]
  },
  {
   "cell_type": "markdown",
   "id": "fd06f60f",
   "metadata": {},
   "source": [
    "В столбце **data_to** указана дата окончания подписки.  \n",
    "2011-03-20 - самая раняя дата окончания подписки. 2020-12-10 - самая поздняя дата. 2015-03-24 - среднее значение. "
   ]
  },
  {
   "cell_type": "markdown",
   "id": "b9694b1a",
   "metadata": {},
   "source": [
    "Далее построим гистограмму для столбца **data_to**."
   ]
  },
  {
   "cell_type": "code",
   "execution_count": 16,
   "id": "c2c9b2e5",
   "metadata": {},
   "outputs": [
    {
     "data": {
      "image/png": "[encoded data removed]",
      "text/plain": [
       "<Figure size 700x700 with 1 Axes>"
      ]
     },
     "metadata": {},
     "output_type": "display_data"
    }
   ],
   "source": [
    "data['data_to'].hist(figsize=(7, 7));"
   ]
  },
  {
   "cell_type": "markdown",
   "id": "9bea3ee7",
   "metadata": {},
   "source": [
    "На гистограмме видно, что у большинства пользователей подписка закончилась в период с 2015 по 2016 год. Что соответствует активному периоду покупок подписки (на основе предыдущей гистограммы)."
   ]
  },
  {
   "cell_type": "markdown",
   "id": "a58e2b08",
   "metadata": {},
   "source": [
    "Используем метод `describe` для столбца **data_created** и изучим его особенности."
   ]
  },
  {
   "cell_type": "code",
   "execution_count": 17,
   "id": "a081b933",
   "metadata": {},
   "outputs": [
    {
     "data": {
      "text/html": [
       "<div>\n",
       "<style scoped>\n",
       "    .dataframe tbody tr th:only-of-type {\n",
       "        vertical-align: middle;\n",
       "    }\n",
       "\n",
       "    .dataframe tbody tr th {\n",
       "        vertical-align: top;\n",
       "    }\n",
       "\n",
       "    .dataframe thead th {\n",
       "        text-align: right;\n",
       "    }\n",
       "</style>\n",
       "<table border=\"1\" class=\"dataframe\">\n",
       "  <thead>\n",
       "    <tr style=\"text-align: right;\">\n",
       "      <th></th>\n",
       "      <th>data_created</th>\n",
       "    </tr>\n",
       "  </thead>\n",
       "  <tbody>\n",
       "    <tr>\n",
       "      <th>count</th>\n",
       "      <td>1010313</td>\n",
       "    </tr>\n",
       "    <tr>\n",
       "      <th>mean</th>\n",
       "      <td>2015-01-10 06:18:34.516452352</td>\n",
       "    </tr>\n",
       "    <tr>\n",
       "      <th>min</th>\n",
       "      <td>2011-03-20 08:09:52.577000</td>\n",
       "    </tr>\n",
       "    <tr>\n",
       "      <th>25%</th>\n",
       "      <td>2014-07-04 06:51:47.296999936</td>\n",
       "    </tr>\n",
       "    <tr>\n",
       "      <th>50%</th>\n",
       "      <td>2015-02-22 16:48:50.543000064</td>\n",
       "    </tr>\n",
       "    <tr>\n",
       "      <th>75%</th>\n",
       "      <td>2015-10-29 10:37:49.830000128</td>\n",
       "    </tr>\n",
       "    <tr>\n",
       "      <th>max</th>\n",
       "      <td>2015-12-31 23:01:51.280000</td>\n",
       "    </tr>\n",
       "  </tbody>\n",
       "</table>\n",
       "</div>"
      ],
      "text/plain": [
       "                        data_created\n",
       "count                        1010313\n",
       "mean   2015-01-10 06:18:34.516452352\n",
       "min       2011-03-20 08:09:52.577000\n",
       "25%    2014-07-04 06:51:47.296999936\n",
       "50%    2015-02-22 16:48:50.543000064\n",
       "75%    2015-10-29 10:37:49.830000128\n",
       "max       2015-12-31 23:01:51.280000"
      ]
     },
     "execution_count": 17,
     "metadata": {},
     "output_type": "execute_result"
    }
   ],
   "source": [
    "data[['data_created']].describe(datetime_is_numeric=True)"
   ]
  },
  {
   "cell_type": "markdown",
   "id": "db57827a",
   "metadata": {},
   "source": [
    "Самая раняя дата создания профиля - 2011-03-20. Самая поздняя - 2015-12-31. Среднее значение - 2015-01-10. В данном датасете представлены данные за практически полный 5 летний период с марта 2011 года по декабрь 2015. "
   ]
  },
  {
   "cell_type": "markdown",
   "id": "5018e973",
   "metadata": {},
   "source": [
    "Визуализируем данные и построим гистограмму для столбца **data_created**."
   ]
  },
  {
   "cell_type": "code",
   "execution_count": 18,
   "id": "6d8e2d56",
   "metadata": {},
   "outputs": [
    {
     "data": {
      "image/png": "[encoded data removed]",
      "text/plain": [
       "<Figure size 700x700 with 1 Axes>"
      ]
     },
     "metadata": {},
     "output_type": "display_data"
    }
   ],
   "source": [
    "data['data_created'].hist(figsize=(7, 7));"
   ]
  },
  {
   "cell_type": "markdown",
   "id": "ccafaafc",
   "metadata": {},
   "source": [
    "На гистограмме видно, что резкий приток пользователей произошел в период с 2015 по 2016 год.   \n",
    "Вероятно в данный временной интервал была проведена маркетинговая компания направленная на привлечение пользователей."
   ]
  },
  {
   "cell_type": "markdown",
   "id": "a5f63f93",
   "metadata": {},
   "source": [
    "Создадим функцию categorize_earn, с помощью которой присвоим ранг каждому пользователю:  \n",
    "\n",
    "Ранг Е - для пользователей с нулевой стоимостью  \n",
    "\n",
    "Ранг D - для пользователей заплативших от 1 до 100$  \n",
    "\n",
    "Ранг С - для пользователей заплативших от 101 до 1000$ \n",
    "\n",
    "Ранг B - для пользователей заплативших от 1001 до 10000$\n",
    "\n",
    "Ранг А - для пользователей заплативших от 10001 $"
   ]
  },
  {
   "cell_type": "code",
   "execution_count": 19,
   "id": "a4f76cae",
   "metadata": {},
   "outputs": [],
   "source": [
    "def categorize_earn(money):\n",
    "    try:\n",
    "        \n",
    "        if money == 0:\n",
    "            return 'E'\n",
    "        elif 1 <= money <= 100:\n",
    "            return 'D'\n",
    "        elif  101 <= money <= 1000:\n",
    "            return 'C'\n",
    "        elif 1001 <= money <= 10000:\n",
    "            return 'B'\n",
    "        elif money >= 10001:\n",
    "            return 'A'\n",
    "    except:\n",
    "        pass"
   ]
  },
  {
   "cell_type": "markdown",
   "id": "3ad94626",
   "metadata": {},
   "source": [
    "Добавим в датасет столбце total_income_category - результат работы написаной функции."
   ]
  },
  {
   "cell_type": "code",
   "execution_count": 20,
   "id": "2d522057",
   "metadata": {},
   "outputs": [],
   "source": [
    "data['total_income_category'] = data['money'].apply(categorize_earn)"
   ]
  },
  {
   "cell_type": "markdown",
   "id": "58f5f1df",
   "metadata": {},
   "source": [
    "Посчитаем количество пользователей в зависимости от категории в которую они попали. "
   ]
  },
  {
   "cell_type": "code",
   "execution_count": 21,
   "id": "59c14bd1",
   "metadata": {},
   "outputs": [
    {
     "data": {
      "text/plain": [
       "total_income_category\n",
       "A    188197\n",
       "B      6844\n",
       "C        66\n",
       "D        12\n",
       "E    244559\n",
       "Name: user_id, dtype: int64"
      ]
     },
     "execution_count": 21,
     "metadata": {},
     "output_type": "execute_result"
    }
   ],
   "source": [
    "data.groupby('total_income_category')['user_id'].count()"
   ]
  },
  {
   "cell_type": "markdown",
   "id": "9abd332c",
   "metadata": {},
   "source": [
    "Самая многочисленная категория Е - 244 559 пользователей. Вероятно это пользователи, которые не покупали подписку. \n",
    "\n",
    "Категория А - 188 197 пользователей. Потратили более 10001 $ на подписку. \n",
    "\n",
    "Категория B - 6844 пользователей. Потратили от 1001 до 10001 $.   \n",
    "\n",
    "Категория С - 66 пользователей. Потратили от 101 до 1000 $.\n",
    "\n",
    "Категория D - 12 пользователей. Потратили от 1 до 100 $. "
   ]
  },
  {
   "cell_type": "markdown",
   "id": "f60e35e7",
   "metadata": {},
   "source": [
    "Визуалиризуем полученные данные с помощью столбчатой диаграммы."
   ]
  },
  {
   "cell_type": "code",
   "execution_count": 22,
   "id": "d926ca4c",
   "metadata": {
    "scrolled": false
   },
   "outputs": [
    {
     "data": {
      "image/png": "[encoded data removed]",
      "text/plain": [
       "<Figure size 1300x800 with 1 Axes>"
      ]
     },
     "metadata": {},
     "output_type": "display_data"
    }
   ],
   "source": [
    "plt.figure(figsize = (13,8))\n",
    "ax = sns.barplot(x=data['total_income_category'],y=data['user_id'])\n",
    "ax.set_xticklabels(ax.get_xticklabels(),rotation = 0);"
   ]
  },
  {
   "cell_type": "markdown",
   "id": "3bca8d2a",
   "metadata": {},
   "source": [
    "Далее необходимо определить сколько дней пользователь использовал подписку. Для этого создадим новый столбец **date_subscribe** результатом будет разность между столбцом **data_to** и **data_from**."
   ]
  },
  {
   "cell_type": "code",
   "execution_count": 23,
   "id": "c7f177cf",
   "metadata": {},
   "outputs": [],
   "source": [
    "data['date_subscribe'] = data['data_to'] - data['data_from']"
   ]
  },
  {
   "cell_type": "code",
   "execution_count": 24,
   "id": "e210685c",
   "metadata": {},
   "outputs": [
    {
     "name": "stdout",
     "output_type": "stream",
     "text": [
      "<class 'pandas.core.frame.DataFrame'>\n",
      "Int64Index: 1010313 entries, 0 to 1010486\n",
      "Data columns (total 9 columns):\n",
      " #   Column                 Non-Null Count    Dtype          \n",
      "---  ------                 --------------    -----          \n",
      " 0   user_id                1010313 non-null  int64          \n",
      " 1   data_from              1010313 non-null  datetime64[ns] \n",
      " 2   data_to                1010313 non-null  datetime64[ns] \n",
      " 3   data_created           1010313 non-null  datetime64[ns] \n",
      " 4   money                  439678 non-null   float64        \n",
      " 5   currency               1010313 non-null  object         \n",
      " 6   commission             303997 non-null   float64        \n",
      " 7   total_income_category  439678 non-null   object         \n",
      " 8   date_subscribe         1010313 non-null  timedelta64[ns]\n",
      "dtypes: datetime64[ns](3), float64(2), int64(1), object(2), timedelta64[ns](1)\n",
      "memory usage: 77.1+ MB\n"
     ]
    }
   ],
   "source": [
    "data.info()"
   ]
  },
  {
   "cell_type": "code",
   "execution_count": 25,
   "id": "1cf3a638",
   "metadata": {},
   "outputs": [
    {
     "data": {
      "text/html": [
       "<div>\n",
       "<style scoped>\n",
       "    .dataframe tbody tr th:only-of-type {\n",
       "        vertical-align: middle;\n",
       "    }\n",
       "\n",
       "    .dataframe tbody tr th {\n",
       "        vertical-align: top;\n",
       "    }\n",
       "\n",
       "    .dataframe thead th {\n",
       "        text-align: right;\n",
       "    }\n",
       "</style>\n",
       "<table border=\"1\" class=\"dataframe\">\n",
       "  <thead>\n",
       "    <tr style=\"text-align: right;\">\n",
       "      <th></th>\n",
       "      <th>user_id</th>\n",
       "      <th>data_from</th>\n",
       "      <th>data_to</th>\n",
       "      <th>data_created</th>\n",
       "      <th>money</th>\n",
       "      <th>currency</th>\n",
       "      <th>commission</th>\n",
       "      <th>total_income_category</th>\n",
       "      <th>date_subscribe</th>\n",
       "    </tr>\n",
       "  </thead>\n",
       "  <tbody>\n",
       "    <tr>\n",
       "      <th>0</th>\n",
       "      <td>4512520820</td>\n",
       "      <td>2011-03-20</td>\n",
       "      <td>2011-03-20</td>\n",
       "      <td>2011-03-20 08:09:52.577</td>\n",
       "      <td>48.76641</td>\n",
       "      <td>$</td>\n",
       "      <td>NaN</td>\n",
       "      <td>D</td>\n",
       "      <td>0 days</td>\n",
       "    </tr>\n",
       "    <tr>\n",
       "      <th>1</th>\n",
       "      <td>45480</td>\n",
       "      <td>2011-03-20</td>\n",
       "      <td>2011-03-21</td>\n",
       "      <td>2011-03-20 08:18:50.563</td>\n",
       "      <td>14777.70000</td>\n",
       "      <td>$</td>\n",
       "      <td>NaN</td>\n",
       "      <td>A</td>\n",
       "      <td>1 days</td>\n",
       "    </tr>\n",
       "    <tr>\n",
       "      <th>2</th>\n",
       "      <td>454414960</td>\n",
       "      <td>2011-03-20</td>\n",
       "      <td>2011-03-21</td>\n",
       "      <td>2011-03-20 09:25:52.900</td>\n",
       "      <td>152.21031</td>\n",
       "      <td>$</td>\n",
       "      <td>NaN</td>\n",
       "      <td>C</td>\n",
       "      <td>1 days</td>\n",
       "    </tr>\n",
       "    <tr>\n",
       "      <th>3</th>\n",
       "      <td>4512192950</td>\n",
       "      <td>2011-03-20</td>\n",
       "      <td>2011-03-21</td>\n",
       "      <td>2011-03-20 09:45:27.467</td>\n",
       "      <td>152.21031</td>\n",
       "      <td>$</td>\n",
       "      <td>NaN</td>\n",
       "      <td>C</td>\n",
       "      <td>1 days</td>\n",
       "    </tr>\n",
       "    <tr>\n",
       "      <th>4</th>\n",
       "      <td>4512747120</td>\n",
       "      <td>2011-03-20</td>\n",
       "      <td>2011-03-21</td>\n",
       "      <td>2011-03-20 09:47:39.687</td>\n",
       "      <td>152.21031</td>\n",
       "      <td>$</td>\n",
       "      <td>NaN</td>\n",
       "      <td>C</td>\n",
       "      <td>1 days</td>\n",
       "    </tr>\n",
       "  </tbody>\n",
       "</table>\n",
       "</div>"
      ],
      "text/plain": [
       "      user_id  data_from    data_to            data_created        money  \\\n",
       "0  4512520820 2011-03-20 2011-03-20 2011-03-20 08:09:52.577     48.76641   \n",
       "1       45480 2011-03-20 2011-03-21 2011-03-20 08:18:50.563  14777.70000   \n",
       "2   454414960 2011-03-20 2011-03-21 2011-03-20 09:25:52.900    152.21031   \n",
       "3  4512192950 2011-03-20 2011-03-21 2011-03-20 09:45:27.467    152.21031   \n",
       "4  4512747120 2011-03-20 2011-03-21 2011-03-20 09:47:39.687    152.21031   \n",
       "\n",
       "  currency  commission total_income_category date_subscribe  \n",
       "0        $         NaN                     D         0 days  \n",
       "1        $         NaN                     A         1 days  \n",
       "2        $         NaN                     C         1 days  \n",
       "3        $         NaN                     C         1 days  \n",
       "4        $         NaN                     C         1 days  "
      ]
     },
     "execution_count": 25,
     "metadata": {},
     "output_type": "execute_result"
    }
   ],
   "source": [
    "data.head()"
   ]
  },
  {
   "cell_type": "code",
   "execution_count": 26,
   "id": "5ae5befc",
   "metadata": {},
   "outputs": [
    {
     "data": {
      "text/plain": [
       "count                        1010313\n",
       "mean      73 days 07:54:03.560757902\n",
       "std      116 days 23:46:49.962618484\n",
       "min               -48 days +00:00:00\n",
       "25%                 22 days 00:00:00\n",
       "50%                 30 days 00:00:00\n",
       "75%                 32 days 00:00:00\n",
       "max               2224 days 00:00:00\n",
       "Name: date_subscribe, dtype: object"
      ]
     },
     "execution_count": 26,
     "metadata": {},
     "output_type": "execute_result"
    }
   ],
   "source": [
    "data['date_subscribe'].describe()"
   ]
  },
  {
   "cell_type": "markdown",
   "id": "c4464f79",
   "metadata": {},
   "source": [
    "С помощью метода describe() наблюдаем аномалию минимальное значение дней подписки  -48. Воспользуемся функцией abs() для избавления от отрицательных значений. "
   ]
  },
  {
   "cell_type": "code",
   "execution_count": 27,
   "id": "18ff7cb4",
   "metadata": {},
   "outputs": [],
   "source": [
    "data['date_subscribe'] = data['date_subscribe'].abs()"
   ]
  },
  {
   "cell_type": "code",
   "execution_count": 28,
   "id": "d26bcc70",
   "metadata": {},
   "outputs": [
    {
     "data": {
      "text/plain": [
       "count                        1010313\n",
       "mean      73 days 07:54:12.454635345\n",
       "std      116 days 23:46:44.387975362\n",
       "min                  0 days 00:00:00\n",
       "25%                 22 days 00:00:00\n",
       "50%                 30 days 00:00:00\n",
       "75%                 32 days 00:00:00\n",
       "max               2224 days 00:00:00\n",
       "Name: date_subscribe, dtype: object"
      ]
     },
     "execution_count": 28,
     "metadata": {},
     "output_type": "execute_result"
    }
   ],
   "source": [
    "data['date_subscribe'].describe()"
   ]
  },
  {
   "cell_type": "markdown",
   "id": "2eae61ba",
   "metadata": {},
   "source": [
    "Минимальное время подписки - 0 дней. Максимальное - 2224 дня. Среднее значение - 73 дня. "
   ]
  },
  {
   "cell_type": "markdown",
   "id": "164a373f",
   "metadata": {},
   "source": [
    "Изучим столбец **commission**."
   ]
  },
  {
   "cell_type": "code",
   "execution_count": 29,
   "id": "25df1ae9",
   "metadata": {},
   "outputs": [
    {
     "data": {
      "text/plain": [
       "count    303997.000000\n",
       "mean        282.974868\n",
       "std         841.879580\n",
       "min           0.000000\n",
       "25%           0.000000\n",
       "50%           0.000000\n",
       "75%           0.000000\n",
       "max       70000.000000\n",
       "Name: commission, dtype: float64"
      ]
     },
     "execution_count": 29,
     "metadata": {},
     "output_type": "execute_result"
    }
   ],
   "source": [
    "data['commission'].describe()"
   ]
  },
  {
   "cell_type": "markdown",
   "id": "7c9e1024",
   "metadata": {},
   "source": [
    "Минимальное значение комиссии - 0. Максимальное - 70 000. Среднее значение составляет - 282,97. "
   ]
  },
  {
   "cell_type": "markdown",
   "id": "8424bc9c",
   "metadata": {},
   "source": [
    "Рассчитаем среднее значение для столбца **money**. Опредилим сколько в среднем приносит пользователь с оплаты подписки."
   ]
  },
  {
   "cell_type": "code",
   "execution_count": 30,
   "id": "6e031f79",
   "metadata": {},
   "outputs": [
    {
     "data": {
      "text/plain": [
       "22213.473686144072"
      ]
     },
     "execution_count": 30,
     "metadata": {},
     "output_type": "execute_result"
    }
   ],
   "source": [
    "data['money'].mean()"
   ]
  },
  {
   "cell_type": "markdown",
   "id": "2ac2aa5f",
   "metadata": {},
   "source": [
    "Среднее значение составляет - 22 198,21. "
   ]
  },
  {
   "cell_type": "markdown",
   "id": "512f5f48",
   "metadata": {},
   "source": [
    "Извлечем данные о днях недели, месяцах и годах из столбца **data_created** для определения тренда регистрации пользователей."
   ]
  },
  {
   "cell_type": "code",
   "execution_count": 34,
   "id": "720e281c",
   "metadata": {},
   "outputs": [],
   "source": [
    "data['weekday'] = data['data_created'].dt.weekday\n",
    "data['month'] = data['data_created'].dt.month\n",
    "data['year'] = data['data_created'].dt.year"
   ]
  },
  {
   "cell_type": "markdown",
   "id": "134a4e37",
   "metadata": {},
   "source": [
    "Построим гистограмму для нового столбца **weekday**. "
   ]
  },
  {
   "cell_type": "code",
   "execution_count": 37,
   "id": "1b58f5a4",
   "metadata": {},
   "outputs": [
    {
     "data": {
      "image/png": "[encoded data removed]",
      "text/plain": [
       "<Figure size 700x700 with 1 Axes>"
      ]
     },
     "metadata": {},
     "output_type": "display_data"
    }
   ],
   "source": [
    "data['weekday'].hist(figsize=(7, 7));"
   ]
  },
  {
   "cell_type": "markdown",
   "id": "444992ae",
   "metadata": {},
   "source": [
    "Большинство регистраций приходится на вторник, среду, понедельник и четверг. Меньше всего регистраций в пятницу и воскресенье. "
   ]
  },
  {
   "cell_type": "markdown",
   "id": "43e3b9cf",
   "metadata": {},
   "source": [
    "Построим аналогичную гистограмму для столбца **month**."
   ]
  },
  {
   "cell_type": "code",
   "execution_count": 44,
   "id": "7a0658e5",
   "metadata": {},
   "outputs": [
    {
     "data": {
      "image/png": "[encoded data removed]",
      "text/plain": [
       "<Figure size 700x700 with 1 Axes>"
      ]
     },
     "metadata": {},
     "output_type": "display_data"
    }
   ],
   "source": [
    "data['month'].hist(figsize=(7, 7));"
   ]
  },
  {
   "cell_type": "markdown",
   "id": "50ef8ed9",
   "metadata": {},
   "source": [
    "Большинство регистраций зафиксировано в ноябре, а наименьшее в сентябре. "
   ]
  },
  {
   "cell_type": "markdown",
   "id": "8ec2307f",
   "metadata": {},
   "source": [
    "Отобразим гистограмму для столбца **year**."
   ]
  },
  {
   "cell_type": "code",
   "execution_count": 45,
   "id": "c767339b",
   "metadata": {},
   "outputs": [
    {
     "data": {
      "image/png": "[encoded data removed]",
      "text/plain": [
       "<Figure size 700x700 with 1 Axes>"
      ]
     },
     "metadata": {},
     "output_type": "display_data"
    }
   ],
   "source": [
    "data['year'].hist(figsize=(7, 7));"
   ]
  },
  {
   "cell_type": "markdown",
   "id": "0c613759",
   "metadata": {},
   "source": [
    "Основное количество регистраций произошло в период с 2014 по 2015 год. "
   ]
  },
  {
   "cell_type": "markdown",
   "id": "7ea04118",
   "metadata": {},
   "source": [
    "## Общие выводы по датасету."
   ]
  },
  {
   "cell_type": "markdown",
   "id": "252108fd",
   "metadata": {},
   "source": [
    "В результате исследования датасета были выявлены следующие особенности данных:\n",
    "\n",
    "1) В датасете представлены профили пользователей созданные в период с марта 2011 года по декабрь 2015.\n",
    "\n",
    "2) Средний доход от подписки составляет 22 198,21.\n",
    "\n",
    "3) Среднее значение комиссии составляет 282,97.\n",
    "\n",
    "4) Резкий приток пользователей произошел в период с 2015 по 2016 год. Вероятно в данный временной интервал была проведена маркетинговая компания направленная на привлечение пользователей. Чаще всего пользователи регистрировались в ноябре, с понедельника по четверг, а меньше всего в пятницу и воскресенье. \n",
    "\n",
    "5) Были выделены различные категории пользователей в зависимости от потраченных денег на оплату подписки.    \n",
    "Самая многочисленная категория - Е (244 559 пользователей) люди, которые не покупали подписку.   \n",
    "На втором месте категория А (188 197 пользователей) Потратили более 10001 на оплату подписки.\n",
    "\n",
    "6) Среднее время на которое пользователи оформляют подписку составляет - 73 дня. "
   ]
  }
 ],
 "metadata": {
  "kernelspec": {
   "display_name": "Python 3 (ipykernel)",
   "language": "python",
   "name": "python3"
  },
  "language_info": {
   "codemirror_mode": {
    "name": "ipython",
    "version": 3
   },
   "file_extension": ".py",
   "mimetype": "text/x-python",
   "name": "python",
   "nbconvert_exporter": "python",
   "pygments_lexer": "ipython3",
   "version": "3.9.13"
  },
  "toc": {
   "base_numbering": 1,
   "nav_menu": {},
   "number_sections": true,
   "sideBar": true,
   "skip_h1_title": true,
   "title_cell": "Оглавление",
   "title_sidebar": "Contents",
   "toc_cell": true,
   "toc_position": {
    "height": "calc(100% - 180px)",
    "left": "10px",
    "top": "150px",
    "width": "303.837px"
   },
   "toc_section_display": true,
   "toc_window_display": true
  }
 },
 "nbformat": 4,
 "nbformat_minor": 5
}
