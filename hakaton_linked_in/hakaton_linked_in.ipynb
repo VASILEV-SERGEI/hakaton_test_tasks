{
 "cells": [
  {
   "cell_type": "markdown",
   "id": "76a8c44a",
   "metadata": {
    "toc": true
   },
   "source": [
    "<h1>Table of Contents<span class=\"tocSkip\"></span></h1>\n",
    "<div class=\"toc\"><ul class=\"toc-item\"><li><span><a href=\"#Описание-задания.\" data-toc-modified-id=\"Описание-задания.-1\"><span class=\"toc-item-num\">1&nbsp;&nbsp;</span>Описание задания.</a></span></li><li><span><a href=\"#Описание-данных.\" data-toc-modified-id=\"Описание-данных.-2\"><span class=\"toc-item-num\">2&nbsp;&nbsp;</span>Описание данных.</a></span></li><li><span><a href=\"#Предобработка-данных.\" data-toc-modified-id=\"Предобработка-данных.-3\"><span class=\"toc-item-num\">3&nbsp;&nbsp;</span>Предобработка данных.</a></span><ul class=\"toc-item\"><li><span><a href=\"#Проверка-на-пропуски\" data-toc-modified-id=\"Проверка-на-пропуски-3.1\"><span class=\"toc-item-num\">3.1&nbsp;&nbsp;</span>Проверка на пропуски</a></span></li><li><span><a href=\"#Проверка-на-аномалии-и-изучение-особенностей-в-датасете\" data-toc-modified-id=\"Проверка-на-аномалии-и-изучение-особенностей-в-датасете-3.2\"><span class=\"toc-item-num\">3.2&nbsp;&nbsp;</span>Проверка на аномалии и изучение особенностей в датасете</a></span></li><li><span><a href=\"#Проверка-на-дубликаты\" data-toc-modified-id=\"Проверка-на-дубликаты-3.3\"><span class=\"toc-item-num\">3.3&nbsp;&nbsp;</span>Проверка на дубликаты</a></span></li><li><span><a href=\"#Фильтрация-датасета\" data-toc-modified-id=\"Фильтрация-датасета-3.4\"><span class=\"toc-item-num\">3.4&nbsp;&nbsp;</span>Фильтрация датасета</a></span></li><li><span><a href=\"#Проверка-процента-потерянных-данных\" data-toc-modified-id=\"Проверка-процента-потерянных-данных-3.5\"><span class=\"toc-item-num\">3.5&nbsp;&nbsp;</span>Проверка процента потерянных данных</a></span></li><li><span><a href=\"#Изучение-перечня-скиллов\" data-toc-modified-id=\"Изучение-перечня-скиллов-3.6\"><span class=\"toc-item-num\">3.6&nbsp;&nbsp;</span>Изучение перечня скиллов</a></span></li><li><span><a href=\"#Изучение-формата-работы\" data-toc-modified-id=\"Изучение-формата-работы-3.7\"><span class=\"toc-item-num\">3.7&nbsp;&nbsp;</span>Изучение формата работы</a></span></li><li><span><a href=\"#Формирование-датасета-для-выгрузки\" data-toc-modified-id=\"Формирование-датасета-для-выгрузки-3.8\"><span class=\"toc-item-num\">3.8&nbsp;&nbsp;</span>Формирование датасета для выгрузки</a></span></li></ul></li><li><span><a href=\"#Выводы-по-предобработке-данных\" data-toc-modified-id=\"Выводы-по-предобработке-данных-4\"><span class=\"toc-item-num\">4&nbsp;&nbsp;</span>Выводы по предобработке данных</a></span></li><li><span><a href=\"#Дашборд-TableaU\" data-toc-modified-id=\"Дашборд-TableaU-5\"><span class=\"toc-item-num\">5&nbsp;&nbsp;</span>Дашборд TableaU</a></span></li></ul></div>"
   ]
  },
  {
   "cell_type": "markdown",
   "id": "a6cd589d",
   "metadata": {},
   "source": [
    "# Hakaton Linked In"
   ]
  },
  {
   "cell_type": "markdown",
   "id": "0ecab3ce",
   "metadata": {},
   "source": [
    "## Описание задания."
   ]
  },
  {
   "cell_type": "markdown",
   "id": "6772bb04",
   "metadata": {},
   "source": [
    "LinkedIn рестарт  \n",
    "Проект: Анализ вакансии для аналитиков данных  \n",
    "Цель: Визуализировать информацию о рынке вакансий для аналитиков в Европе  \n",
    "\n",
    "Подготовка данных ( 2 вариант)  \n",
    "Необходимо выполнить предобработку данных и подготовить датасет для работы с помощью BI инструментов.  \n",
    "Определить требуемые хард скилы и тип занятости (online, hybride, on-site) для каждой вакансии."
   ]
  },
  {
   "cell_type": "markdown",
   "id": "da76b079",
   "metadata": {},
   "source": [
    "## Описание данных."
   ]
  },
  {
   "cell_type": "markdown",
   "id": "54da4632",
   "metadata": {},
   "source": [
    "Датасет содержит выгрузку с платформы Linked In содержащую информацию по различным вакансиям связанным с IT сектором."
   ]
  },
  {
   "cell_type": "markdown",
   "id": "0115ce19",
   "metadata": {},
   "source": [
    "## Предобработка данных."
   ]
  },
  {
   "cell_type": "markdown",
   "id": "66c5b468",
   "metadata": {},
   "source": [
    "Загрузим основные библиотеки для работы с данными."
   ]
  },
  {
   "cell_type": "code",
   "execution_count": 1,
   "id": "f72b149e",
   "metadata": {},
   "outputs": [],
   "source": [
    "import pandas as pd\n",
    "import pprint as pp\n",
    "from functools import reduce\n",
    "import matplotlib.pyplot as plt\n",
    "import plotly.express as px\n",
    "from plotly import graph_objects as go\n",
    "import seaborn as sns\n",
    "import warnings\n",
    "warnings.filterwarnings(\"ignore\")"
   ]
  },
  {
   "cell_type": "code",
   "execution_count": 2,
   "id": "7db89f3b",
   "metadata": {},
   "outputs": [],
   "source": [
    "pd.set_option('display.max_columns', None) \n",
    "pd.set_option('display.max_rows', None)"
   ]
  },
  {
   "cell_type": "markdown",
   "id": "5a54c706",
   "metadata": {},
   "source": [
    "Создадим переменную с датасетом."
   ]
  },
  {
   "cell_type": "code",
   "execution_count": 3,
   "id": "7003e0ab",
   "metadata": {},
   "outputs": [],
   "source": [
    "dataset = pd.read_csv('C:/Users/truel/datasets/linkedin_ ver_2.0.csv', index_col=0)"
   ]
  },
  {
   "cell_type": "markdown",
   "id": "da713197",
   "metadata": {},
   "source": [
    "Теперь посмотрим на датасет и проведем необходимую предобработку данных."
   ]
  },
  {
   "cell_type": "code",
   "execution_count": 4,
   "id": "e64cdab4",
   "metadata": {},
   "outputs": [
    {
     "name": "stdout",
     "output_type": "stream",
     "text": [
      "<class 'pandas.core.frame.DataFrame'>\n",
      "Index: 998 entries, Data Analyst to Analista de datos BI\n",
      "Data columns (total 9 columns):\n",
      " #   Column           Non-Null Count  Dtype  \n",
      "---  ------           --------------  -----  \n",
      " 0   location         998 non-null    object \n",
      " 1   country          998 non-null    object \n",
      " 2   employment_type  998 non-null    object \n",
      " 3   company_name     996 non-null    object \n",
      " 4   employee_qty     998 non-null    object \n",
      " 5   company_field    998 non-null    object \n",
      " 6   skills           998 non-null    object \n",
      " 7   job_description  998 non-null    object \n",
      " 8   applicants       838 non-null    float64\n",
      "dtypes: float64(1), object(8)\n",
      "memory usage: 78.0+ KB\n"
     ]
    }
   ],
   "source": [
    "dataset.info()"
   ]
  },
  {
   "cell_type": "markdown",
   "id": "de31e067",
   "metadata": {},
   "source": [
    "Практически во всех столбцах тип данных - object."
   ]
  },
  {
   "cell_type": "code",
   "execution_count": 5,
   "id": "bbb02509",
   "metadata": {},
   "outputs": [
    {
     "data": {
      "text/html": [
       "<div>\n",
       "<style scoped>\n",
       "    .dataframe tbody tr th:only-of-type {\n",
       "        vertical-align: middle;\n",
       "    }\n",
       "\n",
       "    .dataframe tbody tr th {\n",
       "        vertical-align: top;\n",
       "    }\n",
       "\n",
       "    .dataframe thead th {\n",
       "        text-align: right;\n",
       "    }\n",
       "</style>\n",
       "<table border=\"1\" class=\"dataframe\">\n",
       "  <thead>\n",
       "    <tr style=\"text-align: right;\">\n",
       "      <th></th>\n",
       "      <th>location</th>\n",
       "      <th>country</th>\n",
       "      <th>employment_type</th>\n",
       "      <th>company_name</th>\n",
       "      <th>employee_qty</th>\n",
       "      <th>company_field</th>\n",
       "      <th>skills</th>\n",
       "      <th>job_description</th>\n",
       "      <th>applicants</th>\n",
       "    </tr>\n",
       "    <tr>\n",
       "      <th>title</th>\n",
       "      <th></th>\n",
       "      <th></th>\n",
       "      <th></th>\n",
       "      <th></th>\n",
       "      <th></th>\n",
       "      <th></th>\n",
       "      <th></th>\n",
       "      <th></th>\n",
       "      <th></th>\n",
       "    </tr>\n",
       "  </thead>\n",
       "  <tbody>\n",
       "    <tr>\n",
       "      <th>Data Analyst</th>\n",
       "      <td>Basel</td>\n",
       "      <td>Switzerland</td>\n",
       "      <td>On-site</td>\n",
       "      <td>PharmiWeb.Jobs: Global Life Science Jobs</td>\n",
       "      <td>11-50 employees</td>\n",
       "      <td>Staffing and Recruiting</td>\n",
       "      <td>None</td>\n",
       "      <td>What You Will Achi...</td>\n",
       "      <td>47.0</td>\n",
       "    </tr>\n",
       "    <tr>\n",
       "      <th>Data Analyst - Logistics</th>\n",
       "      <td>Coventry</td>\n",
       "      <td>United Kingdom</td>\n",
       "      <td>On-site</td>\n",
       "      <td>Resolute Recruitment</td>\n",
       "      <td>not specified</td>\n",
       "      <td>not specified</td>\n",
       "      <td>None</td>\n",
       "      <td></td>\n",
       "      <td>NaN</td>\n",
       "    </tr>\n",
       "    <tr>\n",
       "      <th>Data Analyst - Logistics</th>\n",
       "      <td>Coventry</td>\n",
       "      <td>United Kingdom</td>\n",
       "      <td>On-site</td>\n",
       "      <td>Resolute Recruitment</td>\n",
       "      <td>not specified</td>\n",
       "      <td>not specified</td>\n",
       "      <td>None</td>\n",
       "      <td>Data Analyst - Lo...</td>\n",
       "      <td>NaN</td>\n",
       "    </tr>\n",
       "    <tr>\n",
       "      <th>Data Analyst (Space &amp; Planning)</th>\n",
       "      <td>South Molton</td>\n",
       "      <td>United Kingdom</td>\n",
       "      <td>On-site</td>\n",
       "      <td>Mole Valley Farmers</td>\n",
       "      <td>not specified</td>\n",
       "      <td>not specified</td>\n",
       "      <td>None</td>\n",
       "      <td>Salary:     To b...</td>\n",
       "      <td>NaN</td>\n",
       "    </tr>\n",
       "    <tr>\n",
       "      <th>Data Analyst</th>\n",
       "      <td>Lugano</td>\n",
       "      <td>Switzerland</td>\n",
       "      <td>On-site</td>\n",
       "      <td>FORFIRM</td>\n",
       "      <td>not specified</td>\n",
       "      <td>not specified</td>\n",
       "      <td>None</td>\n",
       "      <td>FORFIRM     is p...</td>\n",
       "      <td>NaN</td>\n",
       "    </tr>\n",
       "  </tbody>\n",
       "</table>\n",
       "</div>"
      ],
      "text/plain": [
       "                                     location          country  \\\n",
       "title                                                            \n",
       "Data Analyst                            Basel      Switzerland   \n",
       "Data Analyst - Logistics             Coventry   United Kingdom   \n",
       "Data Analyst - Logistics             Coventry   United Kingdom   \n",
       "Data Analyst (Space & Planning)  South Molton   United Kingdom   \n",
       "Data Analyst                           Lugano      Switzerland   \n",
       "\n",
       "                                employment_type  \\\n",
       "title                                             \n",
       "Data Analyst                            On-site   \n",
       "Data Analyst - Logistics                On-site   \n",
       "Data Analyst - Logistics                On-site   \n",
       "Data Analyst (Space & Planning)         On-site   \n",
       "Data Analyst                            On-site   \n",
       "\n",
       "                                                             company_name  \\\n",
       "title                                                                       \n",
       "Data Analyst                     PharmiWeb.Jobs: Global Life Science Jobs   \n",
       "Data Analyst - Logistics                             Resolute Recruitment   \n",
       "Data Analyst - Logistics                             Resolute Recruitment   \n",
       "Data Analyst (Space & Planning)                       Mole Valley Farmers   \n",
       "Data Analyst                                                      FORFIRM   \n",
       "\n",
       "                                    employee_qty            company_field  \\\n",
       "title                                                                       \n",
       "Data Analyst                     11-50 employees  Staffing and Recruiting   \n",
       "Data Analyst - Logistics           not specified            not specified   \n",
       "Data Analyst - Logistics           not specified            not specified   \n",
       "Data Analyst (Space & Planning)    not specified            not specified   \n",
       "Data Analyst                       not specified            not specified   \n",
       "\n",
       "                                skills  \\\n",
       "title                                    \n",
       "Data Analyst                      None   \n",
       "Data Analyst - Logistics          None   \n",
       "Data Analyst - Logistics          None   \n",
       "Data Analyst (Space & Planning)   None   \n",
       "Data Analyst                      None   \n",
       "\n",
       "                                                                   job_description  \\\n",
       "title                                                                                \n",
       "Data Analyst                                                 What You Will Achi...   \n",
       "Data Analyst - Logistics                                                             \n",
       "Data Analyst - Logistics                                      Data Analyst - Lo...   \n",
       "Data Analyst (Space & Planning)                                Salary:     To b...   \n",
       "Data Analyst                                                   FORFIRM     is p...   \n",
       "\n",
       "                                 applicants  \n",
       "title                                        \n",
       "Data Analyst                           47.0  \n",
       "Data Analyst - Logistics                NaN  \n",
       "Data Analyst - Logistics                NaN  \n",
       "Data Analyst (Space & Planning)         NaN  \n",
       "Data Analyst                            NaN  "
      ]
     },
     "execution_count": 5,
     "metadata": {},
     "output_type": "execute_result"
    }
   ],
   "source": [
    "dataset.head()"
   ]
  },
  {
   "cell_type": "markdown",
   "id": "a8f11dc6",
   "metadata": {},
   "source": [
    "### Проверка на пропуски"
   ]
  },
  {
   "cell_type": "markdown",
   "id": "3f101282",
   "metadata": {},
   "source": [
    "Проверим датасет на пропуски с помощью метода isna().sum()"
   ]
  },
  {
   "cell_type": "code",
   "execution_count": 6,
   "id": "1fa75993",
   "metadata": {},
   "outputs": [
    {
     "data": {
      "text/plain": [
       "location             0\n",
       "country              0\n",
       "employment_type      0\n",
       "company_name         2\n",
       "employee_qty         0\n",
       "company_field        0\n",
       "skills               0\n",
       "job_description      0\n",
       "applicants         160\n",
       "dtype: int64"
      ]
     },
     "execution_count": 6,
     "metadata": {},
     "output_type": "execute_result"
    }
   ],
   "source": [
    "dataset.isna().sum()"
   ]
  },
  {
   "cell_type": "markdown",
   "id": "41851240",
   "metadata": {},
   "source": [
    "Наибольшее количество пропусков присутствует в столбце applicants(заявители на вакансии). Вероятно данные пропуски можно объяснить тем что отбор по вакансии еще не завершен и количество заявителей не подсчитано. Также пропуски присутствуют в столбце company_name. Эти пропуски не критичны, поэтому можно не заполнять их."
   ]
  },
  {
   "cell_type": "markdown",
   "id": "d2f14609",
   "metadata": {},
   "source": [
    "### Проверка на аномалии и изучение особенностей в датасете"
   ]
  },
  {
   "cell_type": "markdown",
   "id": "4d7aaa73",
   "metadata": {},
   "source": [
    "Воспользуемся методом describe и поищем интересные особенности и аномалии в данных."
   ]
  },
  {
   "cell_type": "code",
   "execution_count": 7,
   "id": "93d4b549",
   "metadata": {},
   "outputs": [
    {
     "data": {
      "text/plain": [
       "count       998\n",
       "unique      428\n",
       "top       Milan\n",
       "freq         40\n",
       "Name: location, dtype: object"
      ]
     },
     "execution_count": 7,
     "metadata": {},
     "output_type": "execute_result"
    }
   ],
   "source": [
    "dataset['location'].describe()"
   ]
  },
  {
   "cell_type": "markdown",
   "id": "0506814e",
   "metadata": {},
   "source": [
    "Из 998 представленных вакансий - 428 уникальных локаций. Самая популярная локация - Милан."
   ]
  },
  {
   "cell_type": "code",
   "execution_count": 8,
   "id": "68a9b933",
   "metadata": {},
   "outputs": [
    {
     "data": {
      "text/plain": [
       "count        998\n",
       "unique        72\n",
       "top        Italy\n",
       "freq         148\n",
       "Name: country, dtype: object"
      ]
     },
     "execution_count": 8,
     "metadata": {},
     "output_type": "execute_result"
    }
   ],
   "source": [
    "dataset['country'].describe()"
   ]
  },
  {
   "cell_type": "markdown",
   "id": "40a29f26",
   "metadata": {},
   "source": [
    "В столбце country - 998 уникальных значения. Самая часто упоминаемая страна - Италия."
   ]
  },
  {
   "cell_type": "markdown",
   "id": "0f9ce303",
   "metadata": {},
   "source": [
    "Воспользуемся методом value_counts и посмотрим на уникальные значения в столбце country."
   ]
  },
  {
   "cell_type": "code",
   "execution_count": 9,
   "id": "a1b9db5d",
   "metadata": {},
   "outputs": [
    {
     "data": {
      "text/plain": [
       " Italy                                         148\n",
       " Germany                                       142\n",
       " France                                        114\n",
       " United Kingdom                                 89\n",
       " Netherlands                                    65\n",
       " Spain                                          54\n",
       " Poland                                         43\n",
       " Belgium                                        40\n",
       " Czechia                                        25\n",
       " Sweden                                         22\n",
       "Rotterdam and The Hague                         21\n",
       " Portugal                                       21\n",
       " Luxembourg                                     14\n",
       " Greece                                         14\n",
       " Ireland                                        14\n",
       "Germany                                         13\n",
       "Poland                                          12\n",
       " Hungary                                        11\n",
       " Bulgaria                                       10\n",
       " Austria                                         9\n",
       " Romania                                         7\n",
       " Latvia                                          5\n",
       "Greater Milan Metropolitan Area                  5\n",
       "Italy                                            5\n",
       " Malta                                           5\n",
       " Slovakia                                        4\n",
       " Denmark                                         4\n",
       " Switzerland                                     4\n",
       "Spain                                            4\n",
       "Brussels Metropolitan Area                       4\n",
       " Lithuania                                       4\n",
       "Greater Paris Metropolitan Region                4\n",
       "Bulgaria                                         4\n",
       " Croatia                                         3\n",
       "Portugal                                         3\n",
       " Finland                                         3\n",
       " Norway                                          3\n",
       " Estonia                                         2\n",
       "Greater Barcelona Metropolitan Area              2\n",
       "Berlin Metropolitan Area                         2\n",
       "Lisbon Metropolitan Area                         2\n",
       "Greater Munich Metropolitan Area                 2\n",
       "Greater Palma de Mallorca Metropolitan Area      2\n",
       "Amsterdam Area                                   2\n",
       "Ireland                                          2\n",
       "Warsaw Metropolitan Area                         2\n",
       "Wroclaw Metropolitan Area                        2\n",
       "Athens Metropolitan Area                         2\n",
       "Finland                                          1\n",
       "Greater Dijon Area                               1\n",
       "Greater Oslo Region                              1\n",
       "Romania                                          1\n",
       "Netherlands                                      1\n",
       "Eindhoven Area                                   1\n",
       "Krakow Metropolitan Area                         1\n",
       "Greater Madrid Metropolitan Area                 1\n",
       "Lithuania                                        1\n",
       "Greater Verona Metropolitan Area                 1\n",
       "Greater Banska Bystrica Area                     1\n",
       "Stuttgart Region                                 1\n",
       "Greater Lyon Area                                1\n",
       " Monaco                                          1\n",
       "Greater Pau Area                                 1\n",
       "Denmark                                          1\n",
       "Prague Metropolitan Area                         1\n",
       "Greater Nuremberg Metropolitan Area              1\n",
       "Greater Munster Area                             1\n",
       "Cologne Bonn Region                              1\n",
       "Iasi Metropolitan Area                           1\n",
       "Hungary                                          1\n",
       "France                                           1\n",
       "Copenhagen Metropolitan Area                     1\n",
       "Name: country, dtype: int64"
      ]
     },
     "execution_count": 9,
     "metadata": {},
     "output_type": "execute_result"
    }
   ],
   "source": [
    "dataset['country'].value_counts()"
   ]
  },
  {
   "cell_type": "markdown",
   "id": "505a3a8d",
   "metadata": {},
   "source": [
    "Помимо названия стран в столбце присутствуют значения - названия географических локаций. Необходимо вручную заменить значения для дальнейшего удобства работы. Воспользуемся методом replace."
   ]
  },
  {
   "cell_type": "code",
   "execution_count": 10,
   "id": "09321109",
   "metadata": {},
   "outputs": [],
   "source": [
    "d = {'Brussels Metropolitan Area':'Belgium',\n",
    "'Greater Paris Metropolitan Region':'France',\n",
    "'Wroclaw Metropolitan Area':'Poland',\n",
    "'Iasi Metropolitan Area':'Romania',\n",
    "'Cologne Bonn Region':'Germany',\n",
    "'Greater Munster Area':'Ierland',\n",
    "'Greater Banska Bystrica Area':'Slovakia',\n",
    "'Greater Nuremberg Metropolitan Area':'Germany',\n",
    "'Berlin Metropolitan Area':'Germany',\n",
    "'Greater Barcelona Metropolitan Area':'Spain',\n",
    "'Rotterdam and The Hague':'Netherlands',\n",
    "'Prague Metropolitan Area':'Czechia',\n",
    "'Greater Pau Area':'France',\n",
    "'Lisbon Metropolitan Area':'Portugal',\n",
    "'Athens Metropolitan Area':'Greece',\n",
    "'Stuttgart Region':'Germany',\n",
    "'Greater Milan Metropolitan Area':'Italy',\n",
    "'Amsterdam Area':'Netherlands',\n",
    "'Eindhoven Area':'Netherlands',\n",
    "'Krakow Metropolitan Area':'Poland',\n",
    "'Greater Munich Metropolitan Area':'Germany',\n",
    "'Greater Palma de Mallorca Metropolitan Area':'Spain',\n",
    "'Warsaw Metropolitan Area':'Poland',\n",
    "'Greater Verona Metropolitan Area':'Italy',\n",
    "'Greater Madrid Metropolitan Area':'Spain',\n",
    "'Greater Oslo Region':'Norway',\n",
    "'Greater Dijon Area':'France',\n",
    "'Greater Lyon Area':'France',\n",
    "'Copenhagen Metropolitan Area':'Denmark'}\n",
    "\n",
    "\n",
    "dataset['country'] = dataset['country'].replace(d)\n"
   ]
  },
  {
   "cell_type": "code",
   "execution_count": 11,
   "id": "20d89e80",
   "metadata": {},
   "outputs": [
    {
     "data": {
      "text/plain": [
       " Italy             148\n",
       " Germany           142\n",
       " France            114\n",
       " United Kingdom     89\n",
       " Netherlands        65\n",
       " Spain              54\n",
       " Poland             43\n",
       " Belgium            40\n",
       " Czechia            25\n",
       "Netherlands         25\n",
       " Sweden             22\n",
       " Portugal           21\n",
       "Germany             20\n",
       "Poland              17\n",
       " Ireland            14\n",
       " Greece             14\n",
       " Luxembourg         14\n",
       "Italy               11\n",
       " Hungary            11\n",
       " Bulgaria           10\n",
       " Austria             9\n",
       "Spain                9\n",
       "France               8\n",
       " Romania             7\n",
       "Portugal             5\n",
       " Latvia              5\n",
       " Malta               5\n",
       " Denmark             4\n",
       " Slovakia            4\n",
       " Switzerland         4\n",
       "Belgium              4\n",
       " Lithuania           4\n",
       "Bulgaria             4\n",
       " Norway              3\n",
       " Finland             3\n",
       " Croatia             3\n",
       "Romania              2\n",
       "Ireland              2\n",
       "Greece               2\n",
       "Denmark              2\n",
       " Estonia             2\n",
       "Ierland              1\n",
       " Monaco              1\n",
       "Czechia              1\n",
       "Hungary              1\n",
       "Finland              1\n",
       "Norway               1\n",
       "Slovakia             1\n",
       "Lithuania            1\n",
       "Name: country, dtype: int64"
      ]
     },
     "execution_count": 11,
     "metadata": {},
     "output_type": "execute_result"
    }
   ],
   "source": [
    "dataset['country'].value_counts()"
   ]
  },
  {
   "cell_type": "markdown",
   "id": "7c44e7c4",
   "metadata": {},
   "source": [
    "Обрежем пробелы с помощью метода str.strip()"
   ]
  },
  {
   "cell_type": "code",
   "execution_count": 12,
   "id": "534e67dd",
   "metadata": {},
   "outputs": [],
   "source": [
    "dataset['country'] = dataset['country'].str.strip()"
   ]
  },
  {
   "cell_type": "code",
   "execution_count": 13,
   "id": "103c8a1d",
   "metadata": {},
   "outputs": [
    {
     "data": {
      "text/plain": [
       "Germany           162\n",
       "Italy             159\n",
       "France            122\n",
       "Netherlands        90\n",
       "United Kingdom     89\n",
       "Spain              63\n",
       "Poland             60\n",
       "Belgium            44\n",
       "Portugal           26\n",
       "Czechia            26\n",
       "Sweden             22\n",
       "Ireland            16\n",
       "Greece             16\n",
       "Bulgaria           14\n",
       "Luxembourg         14\n",
       "Hungary            12\n",
       "Austria             9\n",
       "Romania             9\n",
       "Denmark             6\n",
       "Lithuania           5\n",
       "Latvia              5\n",
       "Malta               5\n",
       "Slovakia            5\n",
       "Norway              4\n",
       "Finland             4\n",
       "Switzerland         4\n",
       "Croatia             3\n",
       "Estonia             2\n",
       "Ierland             1\n",
       "Monaco              1\n",
       "Name: country, dtype: int64"
      ]
     },
     "execution_count": 13,
     "metadata": {},
     "output_type": "execute_result"
    }
   ],
   "source": [
    "dataset['country'].value_counts()"
   ]
  },
  {
   "cell_type": "code",
   "execution_count": 14,
   "id": "1a3b5be9",
   "metadata": {},
   "outputs": [
    {
     "data": {
      "text/plain": [
       "count        998\n",
       "unique         4\n",
       "top       Hybrid\n",
       "freq         486\n",
       "Name: employment_type, dtype: object"
      ]
     },
     "execution_count": 14,
     "metadata": {},
     "output_type": "execute_result"
    }
   ],
   "source": [
    "dataset['employment_type'].describe()"
   ]
  },
  {
   "cell_type": "markdown",
   "id": "4454c778",
   "metadata": {},
   "source": [
    "В столбце employment_type описан режим работы для вакансии. Самый популярный формат работы - гибридный."
   ]
  },
  {
   "cell_type": "code",
   "execution_count": 15,
   "id": "fe86ab96",
   "metadata": {},
   "outputs": [
    {
     "data": {
      "text/plain": [
       "array(['On-site', 'Hybrid', 'not specified', 'Remote'], dtype=object)"
      ]
     },
     "execution_count": 15,
     "metadata": {},
     "output_type": "execute_result"
    }
   ],
   "source": [
    "dataset['employment_type'].unique()"
   ]
  },
  {
   "cell_type": "markdown",
   "id": "d3540429",
   "metadata": {},
   "source": [
    "On-site - офисный формат работы.  \n",
    "Hybrid - гибридный формат работы.  \n",
    "not specified - формат работы не указан.  \n",
    "Remote - удаленный формат работы.  "
   ]
  },
  {
   "cell_type": "code",
   "execution_count": 16,
   "id": "eddf0e13",
   "metadata": {},
   "outputs": [
    {
     "data": {
      "text/plain": [
       "count           996\n",
       "unique          669\n",
       "top       CPM Italy\n",
       "freq             45\n",
       "Name: company_name, dtype: object"
      ]
     },
     "execution_count": 16,
     "metadata": {},
     "output_type": "execute_result"
    }
   ],
   "source": [
    "dataset['company_name'].describe()"
   ]
  },
  {
   "cell_type": "markdown",
   "id": "ed1447d3",
   "metadata": {},
   "source": [
    "В датасете представлены 996 компаний из них уникальных 669. Самая часто упоминаемая компания - CPM Italy. В среднем у каждой компании 45 вакансий."
   ]
  },
  {
   "cell_type": "code",
   "execution_count": 17,
   "id": "e61945ca",
   "metadata": {},
   "outputs": [
    {
     "data": {
      "text/plain": [
       "count                   998\n",
       "unique                   19\n",
       "top       10,001+ employees\n",
       "freq                    273\n",
       "Name: employee_qty, dtype: object"
      ]
     },
     "execution_count": 17,
     "metadata": {},
     "output_type": "execute_result"
    }
   ],
   "source": [
    "dataset['employee_qty'].describe()"
   ]
  },
  {
   "cell_type": "markdown",
   "id": "facd668b",
   "metadata": {},
   "source": [
    "В столбце employee_qty указано количество сотрудников в компании. Всего представлено 19 уникальных значений. Самое популярное свыше 10000 сотрудников."
   ]
  },
  {
   "cell_type": "code",
   "execution_count": 18,
   "id": "d358f9f6",
   "metadata": {},
   "outputs": [
    {
     "data": {
      "text/plain": [
       "count                               998\n",
       "unique                              122\n",
       "top       IT Services and IT Consulting\n",
       "freq                                153\n",
       "Name: company_field, dtype: object"
      ]
     },
     "execution_count": 18,
     "metadata": {},
     "output_type": "execute_result"
    }
   ],
   "source": [
    "dataset['company_field'].describe()"
   ]
  },
  {
   "cell_type": "markdown",
   "id": "d493dacd",
   "metadata": {},
   "source": [
    "company_field - сфера деятельности компании. Всего 122 уникальных значения. Самое популярное - IT Services and IT Consulting. "
   ]
  },
  {
   "cell_type": "code",
   "execution_count": 19,
   "id": "28e715a7",
   "metadata": {},
   "outputs": [
    {
     "data": {
      "text/plain": [
       "count      998\n",
       "unique     617\n",
       "top       None\n",
       "freq       128\n",
       "Name: skills, dtype: object"
      ]
     },
     "execution_count": 19,
     "metadata": {},
     "output_type": "execute_result"
    }
   ],
   "source": [
    "dataset['skills'].describe()"
   ]
  },
  {
   "cell_type": "markdown",
   "id": "9c99309f",
   "metadata": {},
   "source": [
    "Столбец skills содержит описание необходимых навыков для вакансии. Всего 617 уникальных значений, самое популярное значение не определено - none."
   ]
  },
  {
   "cell_type": "code",
   "execution_count": 20,
   "id": "3e26c31a",
   "metadata": {},
   "outputs": [
    {
     "data": {
      "text/plain": [
       "count                                                   998\n",
       "unique                                                  812\n",
       "top                                          This job is...\n",
       "freq                                                     27\n",
       "Name: job_description, dtype: object"
      ]
     },
     "execution_count": 20,
     "metadata": {},
     "output_type": "execute_result"
    }
   ],
   "source": [
    "dataset['job_description'].describe()"
   ]
  },
  {
   "cell_type": "markdown",
   "id": "81b6fb38",
   "metadata": {},
   "source": [
    "Столбец job_description содержит описание вакансии, всего 812 уникальных значений. "
   ]
  },
  {
   "cell_type": "code",
   "execution_count": 21,
   "id": "9132d7b9",
   "metadata": {},
   "outputs": [
    {
     "data": {
      "text/plain": [
       "count    838.000000\n",
       "mean      58.052506\n",
       "std       47.534251\n",
       "min        1.000000\n",
       "25%       22.000000\n",
       "50%       45.000000\n",
       "75%       86.000000\n",
       "max      199.000000\n",
       "Name: applicants, dtype: float64"
      ]
     },
     "execution_count": 21,
     "metadata": {},
     "output_type": "execute_result"
    }
   ],
   "source": [
    "dataset['applicants'].describe()"
   ]
  },
  {
   "cell_type": "markdown",
   "id": "14bbff9c",
   "metadata": {},
   "source": [
    "В столбце applicants содержится количество заявителей на вакансию. Среднее значение 58 человек на 1 позицию. "
   ]
  },
  {
   "cell_type": "markdown",
   "id": "a2af28cb",
   "metadata": {},
   "source": [
    "Проверим список уникальных профессий в вакансиях с помощью метода unique(). Так как название вакансии прописано в индексе то необходимо прописать это в команде."
   ]
  },
  {
   "cell_type": "code",
   "execution_count": 22,
   "id": "759ddcdb",
   "metadata": {},
   "outputs": [
    {
     "data": {
      "text/plain": [
       "Index(['Data Analyst', 'Data Analyst - Logistics',\n",
       "       'Data Analyst (Space & Planning)', 'Data Analyst - Hybrid Working',\n",
       "       'Commercial Data Analyst', 'Asset Data Analyst',\n",
       "       'Data Analyst - Hybrid', 'Data Analyst (FT)', 'Data Analyst H/F',\n",
       "       'Data Analyst II',\n",
       "       ...\n",
       "       'Marketing Analyst (m/w/d)', 'Data Analyst Job In Overseas',\n",
       "       'CRO /Digital analyst', 'Customer Support Analyst', 'Marketing Analyst',\n",
       "       'Emerton Data: Data Scientist & Strategy Consultant',\n",
       "       'Ingeniero de datos Power BI + Azure Datafactory',\n",
       "       'Business-Analyst:in', 'Junior Software Developer',\n",
       "       'Analista de datos BI'],\n",
       "      dtype='object', name='title', length=560)"
      ]
     },
     "execution_count": 22,
     "metadata": {},
     "output_type": "execute_result"
    }
   ],
   "source": [
    "dataset.index.unique()"
   ]
  },
  {
   "cell_type": "markdown",
   "id": "a6d967ff",
   "metadata": {},
   "source": [
    "Всего выявлено 560 уникальных названий вакансий."
   ]
  },
  {
   "cell_type": "markdown",
   "id": "3199372c",
   "metadata": {},
   "source": [
    "### Проверка на дубликаты"
   ]
  },
  {
   "cell_type": "markdown",
   "id": "c8693556",
   "metadata": {},
   "source": [
    "Выполним проверку на дубликаты с помощью метода duplicated().sum()"
   ]
  },
  {
   "cell_type": "code",
   "execution_count": 23,
   "id": "3a70560f",
   "metadata": {},
   "outputs": [
    {
     "data": {
      "text/plain": [
       "112"
      ]
     },
     "execution_count": 23,
     "metadata": {},
     "output_type": "execute_result"
    }
   ],
   "source": [
    "dataset.duplicated().sum()"
   ]
  },
  {
   "cell_type": "markdown",
   "id": "a77ed3f5",
   "metadata": {},
   "source": [
    "В датасете содержится 112 дубликатов. Необходимо удалить дубликаты с помощью метода drop_duplicates().reset_index(drop=False). В значение drop указываем False,для того чтобы перезаписать значения индекса в отдельных столбец title."
   ]
  },
  {
   "cell_type": "code",
   "execution_count": 24,
   "id": "0898ece8",
   "metadata": {},
   "outputs": [],
   "source": [
    "dataset = dataset.drop_duplicates().reset_index(drop=False)"
   ]
  },
  {
   "cell_type": "markdown",
   "id": "04487123",
   "metadata": {},
   "source": [
    "### Фильтрация датасета"
   ]
  },
  {
   "cell_type": "markdown",
   "id": "d2518521",
   "metadata": {},
   "source": [
    "В соответствии с ТЗ нам необходимо оставить только вакансии в которых содержатся следующие наименования - Data Analyst|Data Scientist. Напишем функцию, которая отфильтрует датасет и оставить только необходимые нам вакансии."
   ]
  },
  {
   "cell_type": "code",
   "execution_count": 25,
   "id": "baff496e",
   "metadata": {},
   "outputs": [],
   "source": [
    "def filter_jobs_by_title(dataset):\n",
    "    filtered_dataset = dataset[dataset['title'].str.contains('Data Analyst|Data Scientist')]\n",
    "\n",
    "    return filtered_dataset\n",
    "\n",
    "filtered_dataset = filter_jobs_by_title(dataset)"
   ]
  },
  {
   "cell_type": "code",
   "execution_count": 26,
   "id": "9e17612e",
   "metadata": {},
   "outputs": [
    {
     "name": "stdout",
     "output_type": "stream",
     "text": [
      "<class 'pandas.core.frame.DataFrame'>\n",
      "Int64Index: 426 entries, 0 to 882\n",
      "Data columns (total 10 columns):\n",
      " #   Column           Non-Null Count  Dtype  \n",
      "---  ------           --------------  -----  \n",
      " 0   title            426 non-null    object \n",
      " 1   location         426 non-null    object \n",
      " 2   country          426 non-null    object \n",
      " 3   employment_type  426 non-null    object \n",
      " 4   company_name     425 non-null    object \n",
      " 5   employee_qty     426 non-null    object \n",
      " 6   company_field    426 non-null    object \n",
      " 7   skills           426 non-null    object \n",
      " 8   job_description  426 non-null    object \n",
      " 9   applicants       319 non-null    float64\n",
      "dtypes: float64(1), object(9)\n",
      "memory usage: 36.6+ KB\n"
     ]
    }
   ],
   "source": [
    "filtered_dataset.info()"
   ]
  },
  {
   "cell_type": "markdown",
   "id": "2472e904",
   "metadata": {},
   "source": [
    "### Проверка процента потерянных данных"
   ]
  },
  {
   "cell_type": "markdown",
   "id": "9d9fc1be",
   "metadata": {},
   "source": [
    "Проверим какой процент данных был потерян в результате фильтрации. "
   ]
  },
  {
   "cell_type": "code",
   "execution_count": 27,
   "id": "38f65f50",
   "metadata": {},
   "outputs": [
    {
     "data": {
      "text/plain": [
       "0.48081264108352145"
      ]
     },
     "execution_count": 27,
     "metadata": {},
     "output_type": "execute_result"
    }
   ],
   "source": [
    "filtered_dataset.shape[0] / dataset.shape[0]"
   ]
  },
  {
   "cell_type": "markdown",
   "id": "fa9c8f66",
   "metadata": {},
   "source": [
    "Потери данных составили 52%. В рамках ТЗ - это допустимый показатель и свидетельствует о том, что в датасете содержалось достаточно много вакансий не связанных с анализом данных (разработка, менеджмент и прочее)."
   ]
  },
  {
   "cell_type": "code",
   "execution_count": 28,
   "id": "b92d446e",
   "metadata": {},
   "outputs": [
    {
     "data": {
      "text/html": [
       "<div>\n",
       "<style scoped>\n",
       "    .dataframe tbody tr th:only-of-type {\n",
       "        vertical-align: middle;\n",
       "    }\n",
       "\n",
       "    .dataframe tbody tr th {\n",
       "        vertical-align: top;\n",
       "    }\n",
       "\n",
       "    .dataframe thead th {\n",
       "        text-align: right;\n",
       "    }\n",
       "</style>\n",
       "<table border=\"1\" class=\"dataframe\">\n",
       "  <thead>\n",
       "    <tr style=\"text-align: right;\">\n",
       "      <th></th>\n",
       "      <th>title</th>\n",
       "      <th>location</th>\n",
       "      <th>country</th>\n",
       "      <th>employment_type</th>\n",
       "      <th>company_name</th>\n",
       "      <th>employee_qty</th>\n",
       "      <th>company_field</th>\n",
       "      <th>skills</th>\n",
       "      <th>job_description</th>\n",
       "      <th>applicants</th>\n",
       "    </tr>\n",
       "  </thead>\n",
       "  <tbody>\n",
       "    <tr>\n",
       "      <th>0</th>\n",
       "      <td>Data Analyst</td>\n",
       "      <td>Basel</td>\n",
       "      <td>Switzerland</td>\n",
       "      <td>On-site</td>\n",
       "      <td>PharmiWeb.Jobs: Global Life Science Jobs</td>\n",
       "      <td>11-50 employees</td>\n",
       "      <td>Staffing and Recruiting</td>\n",
       "      <td>None</td>\n",
       "      <td>What You Will Achi...</td>\n",
       "      <td>47.0</td>\n",
       "    </tr>\n",
       "    <tr>\n",
       "      <th>1</th>\n",
       "      <td>Data Analyst - Logistics</td>\n",
       "      <td>Coventry</td>\n",
       "      <td>United Kingdom</td>\n",
       "      <td>On-site</td>\n",
       "      <td>Resolute Recruitment</td>\n",
       "      <td>not specified</td>\n",
       "      <td>not specified</td>\n",
       "      <td>None</td>\n",
       "      <td></td>\n",
       "      <td>NaN</td>\n",
       "    </tr>\n",
       "    <tr>\n",
       "      <th>2</th>\n",
       "      <td>Data Analyst - Logistics</td>\n",
       "      <td>Coventry</td>\n",
       "      <td>United Kingdom</td>\n",
       "      <td>On-site</td>\n",
       "      <td>Resolute Recruitment</td>\n",
       "      <td>not specified</td>\n",
       "      <td>not specified</td>\n",
       "      <td>None</td>\n",
       "      <td>Data Analyst - Lo...</td>\n",
       "      <td>NaN</td>\n",
       "    </tr>\n",
       "    <tr>\n",
       "      <th>3</th>\n",
       "      <td>Data Analyst (Space &amp; Planning)</td>\n",
       "      <td>South Molton</td>\n",
       "      <td>United Kingdom</td>\n",
       "      <td>On-site</td>\n",
       "      <td>Mole Valley Farmers</td>\n",
       "      <td>not specified</td>\n",
       "      <td>not specified</td>\n",
       "      <td>None</td>\n",
       "      <td>Salary:     To b...</td>\n",
       "      <td>NaN</td>\n",
       "    </tr>\n",
       "    <tr>\n",
       "      <th>4</th>\n",
       "      <td>Data Analyst</td>\n",
       "      <td>Lugano</td>\n",
       "      <td>Switzerland</td>\n",
       "      <td>On-site</td>\n",
       "      <td>FORFIRM</td>\n",
       "      <td>not specified</td>\n",
       "      <td>not specified</td>\n",
       "      <td>None</td>\n",
       "      <td>FORFIRM     is p...</td>\n",
       "      <td>NaN</td>\n",
       "    </tr>\n",
       "  </tbody>\n",
       "</table>\n",
       "</div>"
      ],
      "text/plain": [
       "                             title      location         country  \\\n",
       "0                     Data Analyst         Basel     Switzerland   \n",
       "1         Data Analyst - Logistics      Coventry  United Kingdom   \n",
       "2         Data Analyst - Logistics      Coventry  United Kingdom   \n",
       "3  Data Analyst (Space & Planning)  South Molton  United Kingdom   \n",
       "4                     Data Analyst        Lugano     Switzerland   \n",
       "\n",
       "  employment_type                              company_name     employee_qty  \\\n",
       "0         On-site  PharmiWeb.Jobs: Global Life Science Jobs  11-50 employees   \n",
       "1         On-site                      Resolute Recruitment    not specified   \n",
       "2         On-site                      Resolute Recruitment    not specified   \n",
       "3         On-site                       Mole Valley Farmers    not specified   \n",
       "4         On-site                                   FORFIRM    not specified   \n",
       "\n",
       "             company_field skills  \\\n",
       "0  Staffing and Recruiting   None   \n",
       "1            not specified   None   \n",
       "2            not specified   None   \n",
       "3            not specified   None   \n",
       "4            not specified   None   \n",
       "\n",
       "                                     job_description  applicants  \n",
       "0                              What You Will Achi...        47.0  \n",
       "1                                                            NaN  \n",
       "2                               Data Analyst - Lo...         NaN  \n",
       "3                                Salary:     To b...         NaN  \n",
       "4                                FORFIRM     is p...         NaN  "
      ]
     },
     "execution_count": 28,
     "metadata": {},
     "output_type": "execute_result"
    }
   ],
   "source": [
    "filtered_dataset.head()"
   ]
  },
  {
   "cell_type": "markdown",
   "id": "fb76fa9e",
   "metadata": {},
   "source": [
    "### Изучение перечня скиллов"
   ]
  },
  {
   "cell_type": "markdown",
   "id": "3e51b4fd",
   "metadata": {},
   "source": [
    "Посмотрим на перечень скиллов в описании к каждой вакансии, для этого воспользуемся методом unique()"
   ]
  },
  {
   "cell_type": "code",
   "execution_count": 29,
   "id": "507aa9ca",
   "metadata": {
    "scrolled": true
   },
   "outputs": [
    {
     "data": {
      "text/plain": [
       "array(['None',\n",
       "       '<span class=\"visually-hidden\"><!-- -->Skills: Анализ данных, Визуализация данных, +8 more<!-- --></span>',\n",
       "       '<span class=\"visually-hidden\"><!-- -->Skills: Панель управления, Анализ данных, +8 more<!-- --></span>',\n",
       "       '<span class=\"visually-hidden\"><!-- -->Skills: Data Analytics, Компьютерная наука, +8 more<!-- --></span>',\n",
       "       '<span class=\"visually-hidden\"><!-- -->Skills: SSRS, Услуги анализа, +8 more<!-- --></span>',\n",
       "       '<span class=\"visually-hidden\"><!-- -->Skills: Анализ данных, Аналитические навыки, +8 more<!-- --></span>',\n",
       "       '<span class=\"visually-hidden\"><!-- -->Skills: Статистическое моделирование, Моделирование данных, +8 more<!-- --></span>',\n",
       "       '<span class=\"visually-hidden\"><!-- -->Skills: Python, SQL, +8 more<!-- --></span>',\n",
       "       '<span class=\"visually-hidden\"><!-- -->Skills: Визуализация данных, Tableau, +8 more<!-- --></span>',\n",
       "       '<span class=\"visually-hidden\"><!-- -->Skills: Google Analytics, Анализ данных, +8 more<!-- --></span>',\n",
       "       '<span class=\"visually-hidden\"><!-- -->Skills: Google Data Studio, Looker (Software), +6 more<!-- --></span>',\n",
       "       '<span class=\"visually-hidden\"><!-- -->Skills: Business Analysis, Microsoft Excel, +8 more<!-- --></span>',\n",
       "       '<span class=\"visually-hidden\"><!-- -->Skills: Tableau, Немецкий язык, +8 more<!-- --></span>',\n",
       "       '<span class=\"visually-hidden\"><!-- -->Skills: Анализ данных, Английский язык, +8 more<!-- --></span>',\n",
       "       '<span class=\"visually-hidden\"><!-- -->Skills: Ad Hoc Analysis, Анализ данных, +8 more<!-- --></span>',\n",
       "       '<span class=\"visually-hidden\"><!-- -->Skills: Английский язык, Анализ данных, +8 more<!-- --></span>',\n",
       "       '<span class=\"visually-hidden\"><!-- -->Skills: Python, Управление проектами, +8 more<!-- --></span>',\n",
       "       '<span class=\"visually-hidden\"><!-- -->Skills: Data Analytics, Visualization, +8 more<!-- --></span>',\n",
       "       '<span class=\"visually-hidden\"><!-- -->Skills: Английский язык, Французский язык, +8 more<!-- --></span>',\n",
       "       '<span class=\"visually-hidden\"><!-- -->Skills: Python, Scala, +8 more<!-- --></span>',\n",
       "       '<span class=\"visually-hidden\"><!-- -->Skills: Экономика, Математика, +7 more<!-- --></span>',\n",
       "       '<span class=\"visually-hidden\"><!-- -->Skills: Английский язык, Microsoft Excel, +8 more<!-- --></span>',\n",
       "       '<span class=\"visually-hidden\"><!-- -->Skills: Аналитические навыки, SQL, +8 more<!-- --></span>',\n",
       "       '<span class=\"visually-hidden\"><!-- -->Skills: Межличностное общение, Коммуникабельность, +8 more<!-- --></span>',\n",
       "       '<span class=\"visually-hidden\"><!-- -->Skills: Операционная деятельность, Data Feeds, +1 more<!-- --></span>',\n",
       "       '<span class=\"visually-hidden\"><!-- -->Skills: Digital Technology, Аналитические навыки, +8 more<!-- --></span>',\n",
       "       '<span class=\"visually-hidden\"><!-- -->Skills: Решение задач, Коммуникабельность, +8 more<!-- --></span>',\n",
       "       '<span class=\"visually-hidden\"><!-- -->Skills: Модели данных, Рассмотрение заявок, +8 more<!-- --></span>',\n",
       "       '<span class=\"visually-hidden\"><!-- -->Skills: Визуализация данных, Data Analytics, +8 more<!-- --></span>',\n",
       "       '<span class=\"visually-hidden\"><!-- -->Skills: SQL, Python, +7 more<!-- --></span>',\n",
       "       '<span class=\"visually-hidden\"><!-- -->Skills: Статистика, Python, +8 more<!-- --></span>',\n",
       "       '<span class=\"visually-hidden\"><!-- -->Skills: SQL, Коммуникация, +8 more<!-- --></span>',\n",
       "       '<span class=\"visually-hidden\"><!-- -->Skills: Межличностное общение, High Level Of Accuracy, +8 more<!-- --></span>',\n",
       "       '<span class=\"visually-hidden\"><!-- -->Skills: Python, SQL, +5 more<!-- --></span>',\n",
       "       '<span class=\"visually-hidden\"><!-- -->Skills: NumPy, Наука о данных, +8 more<!-- --></span>',\n",
       "       '<span class=\"visually-hidden\"><!-- -->Skills: Компьютерная наука, Проектирование пользовательского интерфейса (UED), +8 more<!-- --></span>',\n",
       "       '<span class=\"visually-hidden\"><!-- -->Skills: Data Analytics, Аналитика, +8 more<!-- --></span>',\n",
       "       '<span class=\"visually-hidden\"><!-- -->Skills: Data Analytics, Веб-технологии, +8 more<!-- --></span>',\n",
       "       '<span class=\"visually-hidden\"><!-- -->Skills: Google Analytics, JavaScript, +3 more<!-- --></span>',\n",
       "       '<span class=\"visually-hidden\"><!-- -->Skills: Аналитические навыки, Python, +8 more<!-- --></span>',\n",
       "       '<span class=\"visually-hidden\"><!-- -->Skills: Microsoft Power BI, Анализ данных, +2 more<!-- --></span>',\n",
       "       '<span class=\"visually-hidden\"><!-- -->Skills: Аналитические навыки, Ключевые показатели деятельности, +8 more<!-- --></span>',\n",
       "       '<span class=\"visually-hidden\"><!-- -->Skills: Основные показатели, Scala, +8 more<!-- --></span>',\n",
       "       '<span class=\"visually-hidden\"><!-- -->Skills: Microsoft Power BI, Microsoft Excel, +8 more<!-- --></span>',\n",
       "       '<span class=\"visually-hidden\"><!-- -->Skills: Межличностное общение, Коммуникация, +7 more<!-- --></span>',\n",
       "       '<span class=\"visually-hidden\"><!-- -->Skills: VBA, Data Governance, +8 more<!-- --></span>',\n",
       "       '<span class=\"visually-hidden\"><!-- -->Skills: Data Analytics, Наука о данных, +8 more<!-- --></span>',\n",
       "       '<span class=\"visually-hidden\"><!-- -->Skills: Payroll Administration, Управление проектами, +8 more<!-- --></span>',\n",
       "       '<span class=\"visually-hidden\"><!-- -->Skills: Python, Bash, +8 more<!-- --></span>',\n",
       "       '<span class=\"visually-hidden\"><!-- -->Skills: Microsoft Excel, Microsoft Power BI, +6 more<!-- --></span>',\n",
       "       '<span class=\"visually-hidden\"><!-- -->Skills: SQL, Java, +8 more<!-- --></span>',\n",
       "       '<span class=\"visually-hidden\"><!-- -->Skills: Enterprise Service Bus (ESB) Architecture, ETL, +8 more<!-- --></span>',\n",
       "       '<span class=\"visually-hidden\"><!-- -->Skills: Data Analytics, Statutory Accounting Principles (SAP), +8 more<!-- --></span>',\n",
       "       '<span class=\"visually-hidden\"><!-- -->Skills: Недвижимость, Управление операциями, +5 more<!-- --></span>',\n",
       "       '<span class=\"visually-hidden\"><!-- -->Skills: Управление проектами, Организаторские навыки, +8 more<!-- --></span>',\n",
       "       '<span class=\"visually-hidden\"><!-- -->Skills: Metrics Definition, Data Analytics, +8 more<!-- --></span>',\n",
       "       '<span class=\"visually-hidden\"><!-- -->Skills: Data Analytics, Коммуникация, +8 more<!-- --></span>',\n",
       "       '<span class=\"visually-hidden\"><!-- -->Skills: Спецификация требований, A/B тестирование, +8 more<!-- --></span>',\n",
       "       '<span class=\"visually-hidden\"><!-- -->Skills: Microsoft Power BI, Qlik Sense, +8 more<!-- --></span>',\n",
       "       '<span class=\"visually-hidden\"><!-- -->Skills: Анализ данных, SQL, +8 more<!-- --></span>',\n",
       "       '<span class=\"visually-hidden\"><!-- -->Skills: Python, Аналитические навыки, +8 more<!-- --></span>',\n",
       "       '<span class=\"visually-hidden\"><!-- -->Skills: Облачные вычисления, Google Cloud Platform (GCP), +7 more<!-- --></span>',\n",
       "       '<span class=\"visually-hidden\"><!-- -->Skills: Решение задач, Стратегия ведения бизнеса, +8 more<!-- --></span>',\n",
       "       '<span class=\"visually-hidden\"><!-- -->Skills: Microsoft Power BI, Microsoft Power Query, +2 more<!-- --></span>',\n",
       "       '<span class=\"visually-hidden\"><!-- -->Skills: Microsoft Power BI, Аналитические навыки, +8 more<!-- --></span>',\n",
       "       '<span class=\"visually-hidden\"><!-- -->Skills: Математика, Microsoft Power BI, +8 more<!-- --></span>',\n",
       "       '<span class=\"visually-hidden\"><!-- -->Skills: Английский язык, Анализ данных, +7 more<!-- --></span>',\n",
       "       '<span class=\"visually-hidden\"><!-- -->Skills: Бизнес-объекты, Визуализация данных, +8 more<!-- --></span>',\n",
       "       '<span class=\"visually-hidden\"><!-- -->Skills: Python, ITIL, +8 more<!-- --></span>',\n",
       "       '<span class=\"visually-hidden\"><!-- -->Skills: Аналитические навыки, Interpreting Data, +4 more<!-- --></span>',\n",
       "       '<span class=\"visually-hidden\"><!-- -->Skills: Наука о данных, RapidMiner, +8 more<!-- --></span>',\n",
       "       '<span class=\"visually-hidden\"><!-- -->Skills: VBA, Качество данных, +8 more<!-- --></span>',\n",
       "       '<span class=\"visually-hidden\"><!-- -->Skills: SQL, Принятие решений, +5 more<!-- --></span>',\n",
       "       '<span class=\"visually-hidden\"><!-- -->Skills: Сбор данных, Базы данных, +8 more<!-- --></span>',\n",
       "       '<span class=\"visually-hidden\"><!-- -->Skills: DAX, Alteryx, +8 more<!-- --></span>',\n",
       "       '<span class=\"visually-hidden\"><!-- -->Skills: Oracle Data Integrator (ODI), Языки программирования, +8 more<!-- --></span>',\n",
       "       '<span class=\"visually-hidden\"><!-- -->Skills: Ключевые показатели деятельности, Data Analytics, +8 more<!-- --></span>',\n",
       "       '<span class=\"visually-hidden\"><!-- -->Skills: Data Analytics, Статистика по компании, +8 more<!-- --></span>',\n",
       "       '<span class=\"visually-hidden\"><!-- -->Skills: SQL, MySQL, +4 more<!-- --></span>',\n",
       "       '<span class=\"visually-hidden\"><!-- -->Skills: Английский язык, Аналитические навыки, +7 more<!-- --></span>',\n",
       "       '<span class=\"visually-hidden\"><!-- -->Skills: Управление проектами, Google Analytics, +8 more<!-- --></span>',\n",
       "       '<span class=\"visually-hidden\"><!-- -->Skills: Анализ данных, Математика, +8 more<!-- --></span>',\n",
       "       '<span class=\"visually-hidden\"><!-- -->Skills: Google Analytics, SQL, +8 more<!-- --></span>',\n",
       "       '<span class=\"visually-hidden\"><!-- -->Skills: Английский язык, Microsoft Power BI, +8 more<!-- --></span>',\n",
       "       '<span class=\"visually-hidden\"><!-- -->Skills: Управление вознаграждением работников, Наборы данных, +1 more<!-- --></span>',\n",
       "       '<span class=\"visually-hidden\"><!-- -->Skills: Визуализация данных, Google Data Studio, +8 more<!-- --></span>',\n",
       "       '<span class=\"visually-hidden\"><!-- -->Skills: Google BigQuery, Snowflake, +8 more<!-- --></span>',\n",
       "       '<span class=\"visually-hidden\"><!-- -->Skills: VBA, Commerce, +8 more<!-- --></span>',\n",
       "       '<span class=\"visually-hidden\"><!-- -->Skills: Аналитические навыки, Панель управления, +7 more<!-- --></span>',\n",
       "       '<span class=\"visually-hidden\"><!-- -->Skills: Английский язык, Коммуникация, +8 more<!-- --></span>',\n",
       "       '<span class=\"visually-hidden\"><!-- -->Skills: VBA, Attention to Detail, +8 more<!-- --></span>',\n",
       "       '<span class=\"visually-hidden\"><!-- -->Skills: Java, Google Analytics, +8 more<!-- --></span>',\n",
       "       '<span class=\"visually-hidden\"><!-- -->Skills: SSIS, SQL, +8 more<!-- --></span>',\n",
       "       '<span class=\"visually-hidden\"><!-- -->Skills: Анализ данных, Data-driven Decision Making, +8 more<!-- --></span>',\n",
       "       '<span class=\"visually-hidden\"><!-- -->Skills: Целевая цена, Презентации, +8 more<!-- --></span>',\n",
       "       '<span class=\"visually-hidden\"><!-- -->Skills: Экологическая сбалансированность, Международная логистика, +8 more<!-- --></span>',\n",
       "       '<span class=\"visually-hidden\"><!-- -->Skills: Microsoft Office, Microsoft Excel, +8 more<!-- --></span>',\n",
       "       '<span class=\"visually-hidden\"><!-- -->Skills: Основные данные, План счетов, +8 more<!-- --></span>',\n",
       "       '<span class=\"visually-hidden\"><!-- -->Skills: Data Analytics, Анализ данных, +8 more<!-- --></span>',\n",
       "       '<span class=\"visually-hidden\"><!-- -->Skills: Google BigQuery, Презентации, +8 more<!-- --></span>',\n",
       "       '<span class=\"visually-hidden\"><!-- -->Skills: Бизнес-требования, Snowflake, +8 more<!-- --></span>',\n",
       "       '<span class=\"visually-hidden\"><!-- -->Skills: SQL, Аналитические навыки, +8 more<!-- --></span>',\n",
       "       '<span class=\"visually-hidden\"><!-- -->Skills: Английский язык, Python, +8 more<!-- --></span>',\n",
       "       '<span class=\"visually-hidden\"><!-- -->Skills: Качество данных, Витрины данных, +8 more<!-- --></span>',\n",
       "       '<span class=\"visually-hidden\"><!-- -->Skills: SQL, JavaScript, +8 more<!-- --></span>',\n",
       "       '<span class=\"visually-hidden\"><!-- -->Skills: Английский язык, Microsoft Excel, +7 more<!-- --></span>',\n",
       "       '<span class=\"visually-hidden\"><!-- -->Skills: Business Case Preparation, Панель управления, +8 more<!-- --></span>',\n",
       "       '<span class=\"visually-hidden\"><!-- -->Skills: SQL, Python, +8 more<!-- --></span>',\n",
       "       '<span class=\"visually-hidden\"><!-- -->Skills: Английский язык, Компьютерная наука, +7 more<!-- --></span>',\n",
       "       '<span class=\"visually-hidden\"><!-- -->Skills: Английский язык, SQL, +2 more<!-- --></span>',\n",
       "       '<span class=\"visually-hidden\"><!-- -->Skills: Управление проектами, Аналитические навыки, +8 more<!-- --></span>',\n",
       "       '<span class=\"visually-hidden\"><!-- -->Skills: Соглашения об уровне услуг, Панель управления, +8 more<!-- --></span>',\n",
       "       '<span class=\"visually-hidden\"><!-- -->Skills: Панель управления, Коммуникация, +8 more<!-- --></span>',\n",
       "       '<span class=\"visually-hidden\"><!-- -->Skills: Критическое мышление, Панель управления, +8 more<!-- --></span>',\n",
       "       '<span class=\"visually-hidden\"><!-- -->Skills: Анализ данных, Аналитические навыки, +5 more<!-- --></span>',\n",
       "       '<span class=\"visually-hidden\"><!-- -->Skills: New Product Rollout, Обмен электронными данными, +8 more<!-- --></span>',\n",
       "       '<span class=\"visually-hidden\"><!-- -->Skills: Amazon Elastic MapReduce (EMR), Amazon Kinesis, +8 more<!-- --></span>',\n",
       "       '<span class=\"visually-hidden\"><!-- -->Skills: Microsoft Power BI, Английский язык, +6 more<!-- --></span>',\n",
       "       '<span class=\"visually-hidden\"><!-- -->Skills: Математика, Agile Software Development, +8 more<!-- --></span>',\n",
       "       '<span class=\"visually-hidden\"><!-- -->Skills: Английский язык, PowerPoint, +8 more<!-- --></span>',\n",
       "       '<span class=\"visually-hidden\"><!-- -->Skills: VBA, Application Services, +8 more<!-- --></span>',\n",
       "       '<span class=\"visually-hidden\"><!-- -->Skills: VBA, ETL, +8 more<!-- --></span>',\n",
       "       '<span class=\"visually-hidden\"><!-- -->Skills: Анализ данных, Google Analytics, +8 more<!-- --></span>',\n",
       "       '<span class=\"visually-hidden\"><!-- -->Skills: Аналитические навыки, Cross-team Collaboration, +8 more<!-- --></span>',\n",
       "       '<span class=\"visually-hidden\"><!-- -->Skills: High Level Of Accuracy, Статистика, +8 more<!-- --></span>',\n",
       "       '<span class=\"visually-hidden\"><!-- -->Skills: Социальные навыки, Visualization, +8 more<!-- --></span>',\n",
       "       '<span class=\"visually-hidden\"><!-- -->Skills: Большие массивы данных, Анализ данных, +8 more<!-- --></span>',\n",
       "       '<span class=\"visually-hidden\"><!-- -->Skills: SAS, Python, +8 more<!-- --></span>',\n",
       "       '<span class=\"visually-hidden\"><!-- -->Skills: Управление данными, Моделирование данных, +8 more<!-- --></span>',\n",
       "       '<span class=\"visually-hidden\"><!-- -->Skills: Анализ данных, Microsoft Office, +8 more<!-- --></span>',\n",
       "       '<span class=\"visually-hidden\"><!-- -->Skills: Истории пользователей, Базы данных, +8 more<!-- --></span>',\n",
       "       '<span class=\"visually-hidden\"><!-- -->Skills: Отчетность, Презентации, +5 more<!-- --></span>',\n",
       "       '<span class=\"visually-hidden\"><!-- -->Skills: SQL, Анализ данных, +8 more<!-- --></span>',\n",
       "       '<span class=\"visually-hidden\"><!-- -->Skills: Документация, Ключевые показатели деятельности, +8 more<!-- --></span>',\n",
       "       '<span class=\"visually-hidden\"><!-- -->Skills: Наука о данных, Data Analytics, +8 more<!-- --></span>',\n",
       "       '<span class=\"visually-hidden\"><!-- -->Skills: Ключевые показатели деятельности, Google Sheets, +8 more<!-- --></span>',\n",
       "       '<span class=\"visually-hidden\"><!-- -->Skills: Query Languages, Основные показатели, +8 more<!-- --></span>',\n",
       "       '<span class=\"visually-hidden\"><!-- -->Skills: SAS, Tableau, +8 more<!-- --></span>',\n",
       "       '<span class=\"visually-hidden\"><!-- -->Skills: Сводные таблицы, GMP (надлежащая производственная практика), +8 more<!-- --></span>',\n",
       "       '<span class=\"visually-hidden\"><!-- -->Skills: Data Manipulation, Прогнозное моделирование, +8 more<!-- --></span>',\n",
       "       '<span class=\"visually-hidden\"><!-- -->Skills: Панель управления, SQL, +8 more<!-- --></span>',\n",
       "       '<span class=\"visually-hidden\"><!-- -->Skills: Немецкий язык, Аналитические навыки, +8 more<!-- --></span>',\n",
       "       '<span class=\"visually-hidden\"><!-- -->Skills: Data Analytics, Визуализация данных, +8 more<!-- --></span>',\n",
       "       '<span class=\"visually-hidden\"><!-- -->Skills: Data Governance, Qlik Sense, +8 more<!-- --></span>',\n",
       "       '<span class=\"visually-hidden\"><!-- -->Skills: Data Analytics, Yellowfin BI, +8 more<!-- --></span>',\n",
       "       '<span class=\"visually-hidden\"><!-- -->Skills: Коммуникация, Транспортировка по трубопроводу, +8 more<!-- --></span>',\n",
       "       '<span class=\"visually-hidden\"><!-- -->Skills: A/B тестирование, Инвестиционно-банковская деятельность, +8 more<!-- --></span>',\n",
       "       '<span class=\"visually-hidden\"><!-- -->Skills: Английский язык, Социальные медиа, +8 more<!-- --></span>',\n",
       "       '<span class=\"visually-hidden\"><!-- -->Skills: SPSS, VBA, +8 more<!-- --></span>',\n",
       "       '<span class=\"visually-hidden\"><!-- -->Skills: Cultural Affairs, Контроль качества, +7 more<!-- --></span>',\n",
       "       '<span class=\"visually-hidden\"><!-- -->Skills: Английский язык, Аналитические навыки, +8 more<!-- --></span>',\n",
       "       '<span class=\"visually-hidden\"><!-- -->Skills: Немецкий язык, Командная работа, +8 more<!-- --></span>',\n",
       "       '<span class=\"visually-hidden\"><!-- -->Skills: Data-driven Decision Making, Модели данных, +8 more<!-- --></span>',\n",
       "       '<span class=\"visually-hidden\"><!-- -->Skills: Algorithm Development, Matlab, +8 more<!-- --></span>',\n",
       "       '<span class=\"visually-hidden\"><!-- -->Skills: Анализ данных, Qlik Sense, +8 more<!-- --></span>',\n",
       "       '<span class=\"visually-hidden\"><!-- -->Skills: Управление данными, Data Analytics, +8 more<!-- --></span>',\n",
       "       '<span class=\"visually-hidden\"><!-- -->Skills: Cluster Analysis, Attribution, +8 more<!-- --></span>',\n",
       "       '<span class=\"visually-hidden\"><!-- -->Skills: Data Analytics, Решение задач, +4 more<!-- --></span>',\n",
       "       '<span class=\"visually-hidden\"><!-- -->Skills: Решение задач, Data Analytics, +7 more<!-- --></span>',\n",
       "       '<span class=\"visually-hidden\"><!-- -->Skills: Профилактическое техническое обслуживание, Анализ данных, +8 more<!-- --></span>',\n",
       "       '<span class=\"visually-hidden\"><!-- -->Skills: Data Analytics, Аналитические навыки, +7 more<!-- --></span>',\n",
       "       '<span class=\"visually-hidden\"><!-- -->Skills: Scala, Data Engineering, +8 more<!-- --></span>',\n",
       "       '<span class=\"visually-hidden\"><!-- -->Skills: Основные показатели, Математика, +8 more<!-- --></span>',\n",
       "       '<span class=\"visually-hidden\"><!-- -->Skills: Технологическая подготовка производства, Планирование потребности в материалах, +8 more<!-- --></span>',\n",
       "       '<span class=\"visually-hidden\"><!-- -->Skills: Решение задач, Database Queries, +8 more<!-- --></span>',\n",
       "       '<span class=\"visually-hidden\"><!-- -->Skills: Python, Компьютерная наука, +8 more<!-- --></span>',\n",
       "       '<span class=\"visually-hidden\"><!-- -->Skills: Статистическое моделирование, Python, +8 more<!-- --></span>',\n",
       "       '<span class=\"visually-hidden\"><!-- -->Skills: Наука о данных, Управление объемом работ, +8 more<!-- --></span>',\n",
       "       '<span class=\"visually-hidden\"><!-- -->Skills: Предоставление данных, Качество данных, +8 more<!-- --></span>',\n",
       "       '<span class=\"visually-hidden\"><!-- -->Skills: Python, Проектирование баз данных, +8 more<!-- --></span>',\n",
       "       '<span class=\"visually-hidden\"><!-- -->Skills: Английский язык, Feature Extraction, +8 more<!-- --></span>',\n",
       "       '<span class=\"visually-hidden\"><!-- -->Skills: Python, Английский язык, +7 more<!-- --></span>',\n",
       "       '<span class=\"visually-hidden\"><!-- -->Skills: Oral Communication, Бизнес-аналитика, +8 more<!-- --></span>',\n",
       "       '<span class=\"visually-hidden\"><!-- -->Skills: Анализ данных, HTML, +8 more<!-- --></span>',\n",
       "       '<span class=\"visually-hidden\"><!-- -->Skills: Web Concepts, Коммуникация, +8 more<!-- --></span>',\n",
       "       '<span class=\"visually-hidden\"><!-- -->Skills: Наука о данных, Pandas (Software), +8 more<!-- --></span>',\n",
       "       '<span class=\"visually-hidden\"><!-- -->Skills: SharePoint, PowerPoint, +8 more<!-- --></span>',\n",
       "       '<span class=\"visually-hidden\"><!-- -->Skills: Microsoft Excel, PowerPoint, +8 more<!-- --></span>',\n",
       "       '<span class=\"visually-hidden\"><!-- -->Skills: Анализ данных, Аналитика, +8 more<!-- --></span>',\n",
       "       '<span class=\"visually-hidden\"><!-- -->Skills: Matlab, Python, +8 more<!-- --></span>',\n",
       "       '<span class=\"visually-hidden\"><!-- -->Skills: Анализ данных, Python, +8 more<!-- --></span>',\n",
       "       '<span class=\"visually-hidden\"><!-- -->Skills: Scala, SQL, +8 more<!-- --></span>',\n",
       "       '<span class=\"visually-hidden\"><!-- -->Skills: Анализ данных, Python, +6 more<!-- --></span>',\n",
       "       '<span class=\"visually-hidden\"><!-- -->Skills: Визуализация данных, Наука о данных, +8 more<!-- --></span>',\n",
       "       '<span class=\"visually-hidden\"><!-- -->Skills: Моделирование данных, Решение задач, +8 more<!-- --></span>',\n",
       "       '<span class=\"visually-hidden\"><!-- -->Skills: Наука о данных, Математика, +6 more<!-- --></span>',\n",
       "       '<span class=\"visually-hidden\"><!-- -->Skills: Python, Английский язык, +8 more<!-- --></span>',\n",
       "       '<span class=\"visually-hidden\"><!-- -->Skills: PostgreSQL, Анализ данных, +8 more<!-- --></span>',\n",
       "       '<span class=\"visually-hidden\"><!-- -->Skills: Моделирование данных, Visualization, +8 more<!-- --></span>',\n",
       "       '<span class=\"visually-hidden\"><!-- -->Skills: Визуализация данных, SPSS, +8 more<!-- --></span>',\n",
       "       '<span class=\"visually-hidden\"><!-- -->Skills: Python, Kubernetes, +8 more<!-- --></span>',\n",
       "       '<span class=\"visually-hidden\"><!-- -->Skills: Наука о данных, Learning, +8 more<!-- --></span>',\n",
       "       '<span class=\"visually-hidden\"><!-- -->Skills: Requirements Engineering, Industrial Internet of Things (IIoT), +8 more<!-- --></span>',\n",
       "       '<span class=\"visually-hidden\"><!-- -->Skills: Английский язык, Цифровой маркетинг, +6 more<!-- --></span>',\n",
       "       '<span class=\"visually-hidden\"><!-- -->Skills: Business Analysis, Бизнес-требования, +8 more<!-- --></span>',\n",
       "       '<span class=\"visually-hidden\"><!-- -->Skills: Анализ данных, Data Analytics, +2 more<!-- --></span>',\n",
       "       '<span class=\"visually-hidden\"><!-- -->Skills: SQL, C++, +6 more<!-- --></span>',\n",
       "       '<span class=\"visually-hidden\"><!-- -->Skills: Коммуникация, Data Analytics, +8 more<!-- --></span>',\n",
       "       '<span class=\"visually-hidden\"><!-- -->Skills: Наука о данных, Google BigQuery, +8 more<!-- --></span>',\n",
       "       '<span class=\"visually-hidden\"><!-- -->Skills: Решение проблем, Коммуникация, +8 more<!-- --></span>',\n",
       "       '<span class=\"visually-hidden\"><!-- -->Skills: Attention to Detail, Решение задач, +8 more<!-- --></span>',\n",
       "       '<span class=\"visually-hidden\"><!-- -->Skills: Анализ данных, Data Analytics, +5 more<!-- --></span>',\n",
       "       '<span class=\"visually-hidden\"><!-- -->Skills: Наука о данных, Наборы данных, +8 more<!-- --></span>',\n",
       "       '<span class=\"visually-hidden\"><!-- -->Skills: Коммуникация, Решение задач, +6 more<!-- --></span>',\n",
       "       '<span class=\"visually-hidden\"><!-- -->Skills: Математика, Коммуникация, +8 more<!-- --></span>',\n",
       "       '<span class=\"visually-hidden\"><!-- -->Skills: Компьютерная наука, Наука о данных, +8 more<!-- --></span>',\n",
       "       '<span class=\"visually-hidden\"><!-- -->Skills: Модели данных, Панель управления, +8 more<!-- --></span>',\n",
       "       '<span class=\"visually-hidden\"><!-- -->Skills: Визуализация данных, Visualization, +8 more<!-- --></span>',\n",
       "       '<span class=\"visually-hidden\"><!-- -->Skills: Панель управления, Salesforce.com, +8 more<!-- --></span>',\n",
       "       '<span class=\"visually-hidden\"><!-- -->Skills: Amazon QuickSight, Data Analytics, +8 more<!-- --></span>',\n",
       "       '<span class=\"visually-hidden\"><!-- -->Skills: Основные показатели, Статистика по компании, +8 more<!-- --></span>',\n",
       "       '<span class=\"visually-hidden\"><!-- -->Skills: Панель управления, Данные о клиентах, +8 more<!-- --></span>',\n",
       "       '<span class=\"visually-hidden\"><!-- -->Skills: Розничная торговля через Интернет, Python, +8 more<!-- --></span>',\n",
       "       '<span class=\"visually-hidden\"><!-- -->Skills: Анализ данных, Компьютерная наука, +8 more<!-- --></span>',\n",
       "       '<span class=\"visually-hidden\"><!-- -->Skills: Google Cloud Platform (GCP), Аналитические навыки, +3 more<!-- --></span>',\n",
       "       '<span class=\"visually-hidden\"><!-- -->Skills: A/B тестирование, Data Analytics, +8 more<!-- --></span>',\n",
       "       '<span class=\"visually-hidden\"><!-- -->Skills: Наука о данных, Компьютерная наука, +8 more<!-- --></span>',\n",
       "       '<span class=\"visually-hidden\"><!-- -->Skills: Python, Машинное обучение, +3 more<!-- --></span>',\n",
       "       '<span class=\"visually-hidden\"><!-- -->Skills: Английский язык, Интернет-исследование, +5 more<!-- --></span>',\n",
       "       '<span class=\"visually-hidden\"><!-- -->Skills: Microsoft Power Query, Esprit, +8 more<!-- --></span>',\n",
       "       '<span class=\"visually-hidden\"><!-- -->Skills: Урегулирование споров, Решение задач, +8 more<!-- --></span>',\n",
       "       '<span class=\"visually-hidden\"><!-- -->Skills: Статистическое моделирование, Анализ данных, +8 more<!-- --></span>',\n",
       "       '<span class=\"visually-hidden\"><!-- -->Skills: Data Analytics, Бизнес-объекты, +8 more<!-- --></span>',\n",
       "       '<span class=\"visually-hidden\"><!-- -->Skills: Английский язык, Решение задач, +8 more<!-- --></span>',\n",
       "       '<span class=\"visually-hidden\"><!-- -->Skills: Наука о данных, Анализ данных, +8 more<!-- --></span>',\n",
       "       '<span class=\"visually-hidden\"><!-- -->Skills: Alteryx, MOE, +8 more<!-- --></span>',\n",
       "       '<span class=\"visually-hidden\"><!-- -->Skills: Data Analytics, Искусственный интеллект<!-- --></span>',\n",
       "       '<span class=\"visually-hidden\"><!-- -->Skills: Наука о данных, Hypothesis Testing, +8 more<!-- --></span>',\n",
       "       '<span class=\"visually-hidden\"><!-- -->Skills: Data Engineering, Data Analytics, +8 more<!-- --></span>',\n",
       "       '<span class=\"visually-hidden\"><!-- -->Skills: Управление логистикой, Recovery Plans, +8 more<!-- --></span>',\n",
       "       '<span class=\"visually-hidden\"><!-- -->Skills: Machine Learning Algorithms, Deep Learning, +8 more<!-- --></span>',\n",
       "       '<span class=\"visually-hidden\"><!-- -->Skills: Обработка естественного языка, Наука о данных, +8 more<!-- --></span>',\n",
       "       '<span class=\"visually-hidden\"><!-- -->Skills: Apache Spark Streaming, Apache Kafka, +8 more<!-- --></span>',\n",
       "       '<span class=\"visually-hidden\"><!-- -->Skills: Наука о данных, R, +8 more<!-- --></span>',\n",
       "       '<span class=\"visually-hidden\"><!-- -->Skills: Наука о данных, Обработка естественного языка, +8 more<!-- --></span>',\n",
       "       '<span class=\"visually-hidden\"><!-- -->Skills: Управление данными, Наука о данных, +8 more<!-- --></span>',\n",
       "       '<span class=\"visually-hidden\"><!-- -->Skills: Python, Решение задач, +8 more<!-- --></span>'],\n",
       "      dtype=object)"
      ]
     },
     "execution_count": 29,
     "metadata": {},
     "output_type": "execute_result"
    }
   ],
   "source": [
    "filtered_dataset['skills'].unique()"
   ]
  },
  {
   "cell_type": "markdown",
   "id": "53fac8c1",
   "metadata": {},
   "source": [
    "Как видно из перечня скиллов, требования к вакансиям достаточно обоснованы. Часто встречается популярный для аналитиков стек: python, SQL, различные BI инструменты, а также более абстрактные требования: наука о данных, решение задач, математика и прочее."
   ]
  },
  {
   "cell_type": "markdown",
   "id": "a664fe6d",
   "metadata": {},
   "source": [
    "В соответствии с ТЗ необходимо извлечь два основных скилла для вакансий. Воспользуемся методом str.split для разделения текстового массива и создадим столбец hs_1 в который запишем первый скилл из массива."
   ]
  },
  {
   "cell_type": "code",
   "execution_count": 30,
   "id": "dbd39d2b",
   "metadata": {},
   "outputs": [],
   "source": [
    "filtered_dataset['hs_1'] = filtered_dataset['skills'].str.split(\":\").str[1]"
   ]
  },
  {
   "cell_type": "code",
   "execution_count": 31,
   "id": "7210d107",
   "metadata": {
    "scrolled": true
   },
   "outputs": [
    {
     "data": {
      "text/plain": [
       " Аналитические навыки, Ключевые показатели деятельности, +8 more<!-- --></span>                            27\n",
       " Data Analytics, Визуализация данных, +8 more<!-- --></span>                                               21\n",
       " Английский язык, Социальные медиа, +8 more<!-- --></span>                                                 14\n",
       " Визуализация данных, Data Analytics, +8 more<!-- --></span>                                                7\n",
       " Основные показатели, Математика, +8 more<!-- --></span>                                                    5\n",
       " Основные показатели, Scala, +8 more<!-- --></span>                                                         5\n",
       " Статистическое моделирование, Моделирование данных, +8 more<!-- --></span>                                 4\n",
       " Python, Аналитические навыки, +8 more<!-- --></span>                                                       4\n",
       " Анализ данных, Визуализация данных, +8 more<!-- --></span>                                                 3\n",
       " Моделирование данных, Visualization, +8 more<!-- --></span>                                                3\n",
       " Анализ данных, Data Analytics, +2 more<!-- --></span>                                                      2\n",
       " Анализ данных, SQL, +8 more<!-- --></span>                                                                 2\n",
       " Профилактическое техническое обслуживание, Анализ данных, +8 more<!-- --></span>                           2\n",
       " A/B тестирование, Инвестиционно-банковская деятельность, +8 more<!-- --></span>                            2\n",
       " Наука о данных, RapidMiner, +8 more<!-- --></span>                                                         2\n",
       " Визуализация данных, Visualization, +8 more<!-- --></span>                                                 2\n",
       " Аналитические навыки, Python, +8 more<!-- --></span>                                                       2\n",
       " Algorithm Development, Matlab, +8 more<!-- --></span>                                                      2\n",
       " Data Analytics, Аналитика, +8 more<!-- --></span>                                                          2\n",
       " Scala, SQL, +8 more<!-- --></span>                                                                         2\n",
       " Business Case Preparation, Панель управления, +8 more<!-- --></span>                                       2\n",
       " Наука о данных, Компьютерная наука, +8 more<!-- --></span>                                                 2\n",
       " Анализ данных, Python, +8 more<!-- --></span>                                                              2\n",
       " Управление данными, Data Analytics, +8 more<!-- --></span>                                                 2\n",
       " Microsoft Excel, PowerPoint, +8 more<!-- --></span>                                                        2\n",
       " Python, SQL, +8 more<!-- --></span>                                                                        2\n",
       " Наука о данных, Data Analytics, +8 more<!-- --></span>                                                     2\n",
       " Data Analytics, Yellowfin BI, +8 more<!-- --></span>                                                       2\n",
       " Анализ данных, Аналитические навыки, +8 more<!-- --></span>                                                2\n",
       " Панель управления, Анализ данных, +8 more<!-- --></span>                                                   2\n",
       " Python, Scala, +8 more<!-- --></span>                                                                      2\n",
       " Английский язык, Французский язык, +8 more<!-- --></span>                                                  2\n",
       " Ad Hoc Analysis, Анализ данных, +8 more<!-- --></span>                                                     2\n",
       " Python, Проектирование баз данных, +8 more<!-- --></span>                                                  1\n",
       " Python, Компьютерная наука, +8 more<!-- --></span>                                                         1\n",
       " Статистическое моделирование, Python, +8 more<!-- --></span>                                               1\n",
       " Наука о данных, Управление объемом работ, +8 more<!-- --></span>                                           1\n",
       " Предоставление данных, Качество данных, +8 more<!-- --></span>                                             1\n",
       " SQL, Анализ данных, +8 more<!-- --></span>                                                                 1\n",
       " Отчетность, Презентации, +5 more<!-- --></span>                                                            1\n",
       " Коммуникация, Транспортировка по трубопроводу, +8 more<!-- --></span>                                      1\n",
       " Английский язык, Feature Extraction, +8 more<!-- --></span>                                                1\n",
       " Решение задач, Database Queries, +8 more<!-- --></span>                                                    1\n",
       " Python, Английский язык, +7 more<!-- --></span>                                                            1\n",
       " Oral Communication, Бизнес-аналитика, +8 more<!-- --></span>                                               1\n",
       " Анализ данных, HTML, +8 more<!-- --></span>                                                                1\n",
       " Web Concepts, Коммуникация, +8 more<!-- --></span>                                                         1\n",
       " Наука о данных, Pandas (Software), +8 more<!-- --></span>                                                  1\n",
       " SharePoint, PowerPoint, +8 more<!-- --></span>                                                             1\n",
       " Истории пользователей, Базы данных, +8 more<!-- --></span>                                                 1\n",
       " Анализ данных, Microsoft Office, +8 more<!-- --></span>                                                    1\n",
       " Документация, Ключевые показатели деятельности, +8 more<!-- --></span>                                     1\n",
       " Scala, Data Engineering, +8 more<!-- --></span>                                                            1\n",
       " Технологическая подготовка производства, Планирование потребности в материалах, +8 more<!-- --></span>     1\n",
       " Data Analytics, Аналитические навыки, +7 more<!-- --></span>                                               1\n",
       " Data Governance, Qlik Sense, +8 more<!-- --></span>                                                        1\n",
       " Немецкий язык, Аналитические навыки, +8 more<!-- --></span>                                                1\n",
       " Панель управления, SQL, +8 more<!-- --></span>                                                             1\n",
       " Data Manipulation, Прогнозное моделирование, +8 more<!-- --></span>                                        1\n",
       " SPSS, VBA, +8 more<!-- --></span>                                                                          1\n",
       " Cultural Affairs, Контроль качества, +7 more<!-- --></span>                                                1\n",
       " Английский язык, Аналитические навыки, +8 more<!-- --></span>                                              1\n",
       " Немецкий язык, Командная работа, +8 more<!-- --></span>                                                    1\n",
       " Анализ данных, Аналитика, +8 more<!-- --></span>                                                           1\n",
       " Сводные таблицы, GMP (надлежащая производственная практика), +8 more<!-- --></span>                        1\n",
       " SAS, Tableau, +8 more<!-- --></span>                                                                       1\n",
       " Query Languages, Основные показатели, +8 more<!-- --></span>                                               1\n",
       " Анализ данных, Qlik Sense, +8 more<!-- --></span>                                                          1\n",
       " Ключевые показатели деятельности, Google Sheets, +8 more<!-- --></span>                                    1\n",
       " Cluster Analysis, Attribution, +8 more<!-- --></span>                                                      1\n",
       " Data Analytics, Решение задач, +4 more<!-- --></span>                                                      1\n",
       " Решение задач, Data Analytics, +7 more<!-- --></span>                                                      1\n",
       " Data-driven Decision Making, Модели данных, +8 more<!-- --></span>                                         1\n",
       " PostgreSQL, Анализ данных, +8 more<!-- --></span>                                                          1\n",
       " Matlab, Python, +8 more<!-- --></span>                                                                     1\n",
       " Анализ данных, Python, +6 more<!-- --></span>                                                              1\n",
       " Розничная торговля через Интернет, Python, +8 more<!-- --></span>                                          1\n",
       " Анализ данных, Компьютерная наука, +8 more<!-- --></span>                                                  1\n",
       " Google Cloud Platform (GCP), Аналитические навыки, +3 more<!-- --></span>                                  1\n",
       " A/B тестирование, Data Analytics, +8 more<!-- --></span>                                                   1\n",
       " Python, Машинное обучение, +3 more<!-- --></span>                                                          1\n",
       " Английский язык, Интернет-исследование, +5 more<!-- --></span>                                             1\n",
       " Microsoft Power Query, Esprit, +8 more<!-- --></span>                                                      1\n",
       " Урегулирование споров, Решение задач, +8 more<!-- --></span>                                               1\n",
       " Статистическое моделирование, Анализ данных, +8 more<!-- --></span>                                        1\n",
       " Data Analytics, Бизнес-объекты, +8 more<!-- --></span>                                                     1\n",
       " Английский язык, Решение задач, +8 more<!-- --></span>                                                     1\n",
       " Наука о данных, Анализ данных, +8 more<!-- --></span>                                                      1\n",
       " Alteryx, MOE, +8 more<!-- --></span>                                                                       1\n",
       " Data Analytics, Искусственный интеллект<!-- --></span>                                                     1\n",
       " Наука о данных, Hypothesis Testing, +8 more<!-- --></span>                                                 1\n",
       " Data Engineering, Data Analytics, +8 more<!-- --></span>                                                   1\n",
       " Управление логистикой, Recovery Plans, +8 more<!-- --></span>                                              1\n",
       " Machine Learning Algorithms, Deep Learning, +8 more<!-- --></span>                                         1\n",
       " Обработка естественного языка, Наука о данных, +8 more<!-- --></span>                                      1\n",
       " Apache Spark Streaming, Apache Kafka, +8 more<!-- --></span>                                               1\n",
       " Наука о данных, R, +8 more<!-- --></span>                                                                  1\n",
       " Наука о данных, Обработка естественного языка, +8 more<!-- --></span>                                      1\n",
       " Управление данными, Наука о данных, +8 more<!-- --></span>                                                 1\n",
       " Панель управления, Данные о клиентах, +8 more<!-- --></span>                                               1\n",
       " Основные показатели, Статистика по компании, +8 more<!-- --></span>                                        1\n",
       " Amazon QuickSight, Data Analytics, +8 more<!-- --></span>                                                  1\n",
       " Business Analysis, Бизнес-требования, +8 more<!-- --></span>                                               1\n",
       " Визуализация данных, Наука о данных, +8 more<!-- --></span>                                                1\n",
       " Моделирование данных, Решение задач, +8 more<!-- --></span>                                                1\n",
       " Наука о данных, Математика, +6 more<!-- --></span>                                                         1\n",
       " Python, Английский язык, +8 more<!-- --></span>                                                            1\n",
       " SAS, Python, +8 more<!-- --></span>                                                                        1\n",
       " Визуализация данных, SPSS, +8 more<!-- --></span>                                                          1\n",
       " Python, Kubernetes, +8 more<!-- --></span>                                                                 1\n",
       " Наука о данных, Learning, +8 more<!-- --></span>                                                           1\n",
       " Requirements Engineering, Industrial Internet of Things (IIoT), +8 more<!-- --></span>                     1\n",
       " Английский язык, Цифровой маркетинг, +6 more<!-- --></span>                                                1\n",
       " SQL, C++, +6 more<!-- --></span>                                                                           1\n",
       " Панель управления, Salesforce.com, +8 more<!-- --></span>                                                  1\n",
       " Коммуникация, Data Analytics, +8 more<!-- --></span>                                                       1\n",
       " Наука о данных, Google BigQuery, +8 more<!-- --></span>                                                    1\n",
       " Решение проблем, Коммуникация, +8 more<!-- --></span>                                                      1\n",
       " Attention to Detail, Решение задач, +8 more<!-- --></span>                                                 1\n",
       " Анализ данных, Data Analytics, +5 more<!-- --></span>                                                      1\n",
       " Наука о данных, Наборы данных, +8 more<!-- --></span>                                                      1\n",
       " Коммуникация, Решение задач, +6 more<!-- --></span>                                                        1\n",
       " Математика, Коммуникация, +8 more<!-- --></span>                                                           1\n",
       " Компьютерная наука, Наука о данных, +8 more<!-- --></span>                                                 1\n",
       " Модели данных, Панель управления, +8 more<!-- --></span>                                                   1\n",
       " Управление данными, Моделирование данных, +8 more<!-- --></span>                                           1\n",
       " Английский язык, PowerPoint, +8 more<!-- --></span>                                                        1\n",
       " Большие массивы данных, Анализ данных, +8 more<!-- --></span>                                              1\n",
       " Data Analytics, Statutory Accounting Principles (SAP), +8 more<!-- --></span>                              1\n",
       " Google Analytics, JavaScript, +3 more<!-- --></span>                                                       1\n",
       " Microsoft Power BI, Анализ данных, +2 more<!-- --></span>                                                  1\n",
       " Microsoft Power BI, Microsoft Excel, +8 more<!-- --></span>                                                1\n",
       " Межличностное общение, Коммуникация, +7 more<!-- --></span>                                                1\n",
       " VBA, Data Governance, +8 more<!-- --></span>                                                               1\n",
       " Data Analytics, Наука о данных, +8 more<!-- --></span>                                                     1\n",
       " Payroll Administration, Управление проектами, +8 more<!-- --></span>                                       1\n",
       " Python, Bash, +8 more<!-- --></span>                                                                       1\n",
       " Microsoft Excel, Microsoft Power BI, +6 more<!-- --></span>                                                1\n",
       " SQL, Java, +8 more<!-- --></span>                                                                          1\n",
       " Enterprise Service Bus (ESB) Architecture, ETL, +8 more<!-- --></span>                                     1\n",
       " Недвижимость, Управление операциями, +5 more<!-- --></span>                                                1\n",
       " Python, ITIL, +8 more<!-- --></span>                                                                       1\n",
       " Управление проектами, Организаторские навыки, +8 more<!-- --></span>                                       1\n",
       " Metrics Definition, Data Analytics, +8 more<!-- --></span>                                                 1\n",
       " Data Analytics, Коммуникация, +8 more<!-- --></span>                                                       1\n",
       " Спецификация требований, A/B тестирование, +8 more<!-- --></span>                                          1\n",
       " Microsoft Power BI, Qlik Sense, +8 more<!-- --></span>                                                     1\n",
       " Облачные вычисления, Google Cloud Platform (GCP), +7 more<!-- --></span>                                   1\n",
       " Решение задач, Стратегия ведения бизнеса, +8 more<!-- --></span>                                           1\n",
       " Microsoft Power BI, Microsoft Power Query, +2 more<!-- --></span>                                          1\n",
       " Microsoft Power BI, Аналитические навыки, +8 more<!-- --></span>                                           1\n",
       " Математика, Microsoft Power BI, +8 more<!-- --></span>                                                     1\n",
       " Английский язык, Анализ данных, +7 more<!-- --></span>                                                     1\n",
       " Data Analytics, Веб-технологии, +8 more<!-- --></span>                                                     1\n",
       " Компьютерная наука, Проектирование пользовательского интерфейса (UED), +8 more<!-- --></span>              1\n",
       " NumPy, Наука о данных, +8 more<!-- --></span>                                                              1\n",
       " Python, SQL, +5 more<!-- --></span>                                                                        1\n",
       " Data Analytics, Компьютерная наука, +8 more<!-- --></span>                                                 1\n",
       " SSRS, Услуги анализа, +8 more<!-- --></span>                                                               1\n",
       " Визуализация данных, Tableau, +8 more<!-- --></span>                                                       1\n",
       " Google Analytics, Анализ данных, +8 more<!-- --></span>                                                    1\n",
       " Google Data Studio, Looker (Software), +6 more<!-- --></span>                                              1\n",
       " Business Analysis, Microsoft Excel, +8 more<!-- --></span>                                                 1\n",
       " Tableau, Немецкий язык, +8 more<!-- --></span>                                                             1\n",
       " Анализ данных, Английский язык, +8 more<!-- --></span>                                                     1\n",
       " Английский язык, Анализ данных, +8 more<!-- --></span>                                                     1\n",
       " Python, Управление проектами, +8 more<!-- --></span>                                                       1\n",
       " Data Analytics, Visualization, +8 more<!-- --></span>                                                      1\n",
       " Экономика, Математика, +7 more<!-- --></span>                                                              1\n",
       " Английский язык, Microsoft Excel, +8 more<!-- --></span>                                                   1\n",
       " Аналитические навыки, SQL, +8 more<!-- --></span>                                                          1\n",
       " Межличностное общение, Коммуникабельность, +8 more<!-- --></span>                                          1\n",
       " Операционная деятельность, Data Feeds, +1 more<!-- --></span>                                              1\n",
       " Digital Technology, Аналитические навыки, +8 more<!-- --></span>                                           1\n",
       " Решение задач, Коммуникабельность, +8 more<!-- --></span>                                                  1\n",
       " Модели данных, Рассмотрение заявок, +8 more<!-- --></span>                                                 1\n",
       " SQL, Python, +7 more<!-- --></span>                                                                        1\n",
       " Статистика, Python, +8 more<!-- --></span>                                                                 1\n",
       " SQL, Коммуникация, +8 more<!-- --></span>                                                                  1\n",
       " Межличностное общение, High Level Of Accuracy, +8 more<!-- --></span>                                      1\n",
       " Бизнес-объекты, Визуализация данных, +8 more<!-- --></span>                                                1\n",
       " Аналитические навыки, Interpreting Data, +4 more<!-- --></span>                                            1\n",
       " Социальные навыки, Visualization, +8 more<!-- --></span>                                                   1\n",
       " Соглашения об уровне услуг, Панель управления, +8 more<!-- --></span>                                      1\n",
       " Google BigQuery, Презентации, +8 more<!-- --></span>                                                       1\n",
       " Бизнес-требования, Snowflake, +8 more<!-- --></span>                                                       1\n",
       " SQL, Аналитические навыки, +8 more<!-- --></span>                                                          1\n",
       " Английский язык, Python, +8 more<!-- --></span>                                                            1\n",
       " Качество данных, Витрины данных, +8 more<!-- --></span>                                                    1\n",
       " SQL, JavaScript, +8 more<!-- --></span>                                                                    1\n",
       " Английский язык, Microsoft Excel, +7 more<!-- --></span>                                                   1\n",
       " SQL, Python, +8 more<!-- --></span>                                                                        1\n",
       " Английский язык, Компьютерная наука, +7 more<!-- --></span>                                                1\n",
       " Английский язык, SQL, +2 more<!-- --></span>                                                               1\n",
       " Управление проектами, Аналитические навыки, +8 more<!-- --></span>                                         1\n",
       " Панель управления, Коммуникация, +8 more<!-- --></span>                                                    1\n",
       " VBA, Качество данных, +8 more<!-- --></span>                                                               1\n",
       " Критическое мышление, Панель управления, +8 more<!-- --></span>                                            1\n",
       " Анализ данных, Аналитические навыки, +5 more<!-- --></span>                                                1\n",
       " New Product Rollout, Обмен электронными данными, +8 more<!-- --></span>                                    1\n",
       " Amazon Elastic MapReduce (EMR), Amazon Kinesis, +8 more<!-- --></span>                                     1\n",
       " Microsoft Power BI, Английский язык, +6 more<!-- --></span>                                                1\n",
       " Математика, Agile Software Development, +8 more<!-- --></span>                                             1\n",
       " VBA, Application Services, +8 more<!-- --></span>                                                          1\n",
       " VBA, ETL, +8 more<!-- --></span>                                                                           1\n",
       " Анализ данных, Google Analytics, +8 more<!-- --></span>                                                    1\n",
       " Аналитические навыки, Cross-team Collaboration, +8 more<!-- --></span>                                     1\n",
       " High Level Of Accuracy, Статистика, +8 more<!-- --></span>                                                 1\n",
       " Data Analytics, Анализ данных, +8 more<!-- --></span>                                                      1\n",
       " Основные данные, План счетов, +8 more<!-- --></span>                                                       1\n",
       " Microsoft Office, Microsoft Excel, +8 more<!-- --></span>                                                  1\n",
       " Экологическая сбалансированность, Международная логистика, +8 more<!-- --></span>                          1\n",
       " SQL, Принятие решений, +5 more<!-- --></span>                                                              1\n",
       " Сбор данных, Базы данных, +8 more<!-- --></span>                                                           1\n",
       " DAX, Alteryx, +8 more<!-- --></span>                                                                       1\n",
       " Oracle Data Integrator (ODI), Языки программирования, +8 more<!-- --></span>                               1\n",
       " Ключевые показатели деятельности, Data Analytics, +8 more<!-- --></span>                                   1\n",
       " Data Analytics, Статистика по компании, +8 more<!-- --></span>                                             1\n",
       " SQL, MySQL, +4 more<!-- --></span>                                                                         1\n",
       " Английский язык, Аналитические навыки, +7 more<!-- --></span>                                              1\n",
       " Управление проектами, Google Analytics, +8 more<!-- --></span>                                             1\n",
       " Анализ данных, Математика, +8 more<!-- --></span>                                                          1\n",
       " Google Analytics, SQL, +8 more<!-- --></span>                                                              1\n",
       " Английский язык, Microsoft Power BI, +8 more<!-- --></span>                                                1\n",
       " Управление вознаграждением работников, Наборы данных, +1 more<!-- --></span>                               1\n",
       " Визуализация данных, Google Data Studio, +8 more<!-- --></span>                                            1\n",
       " Google BigQuery, Snowflake, +8 more<!-- --></span>                                                         1\n",
       " VBA, Commerce, +8 more<!-- --></span>                                                                      1\n",
       " Аналитические навыки, Панель управления, +7 more<!-- --></span>                                            1\n",
       " Английский язык, Коммуникация, +8 more<!-- --></span>                                                      1\n",
       " VBA, Attention to Detail, +8 more<!-- --></span>                                                           1\n",
       " Java, Google Analytics, +8 more<!-- --></span>                                                             1\n",
       " SSIS, SQL, +8 more<!-- --></span>                                                                          1\n",
       " Анализ данных, Data-driven Decision Making, +8 more<!-- --></span>                                         1\n",
       " Целевая цена, Презентации, +8 more<!-- --></span>                                                          1\n",
       " Python, Решение задач, +8 more<!-- --></span>                                                              1\n",
       "Name: hs_1, dtype: int64"
      ]
     },
     "execution_count": 31,
     "metadata": {},
     "output_type": "execute_result"
    }
   ],
   "source": [
    "filtered_dataset['hs_1'].value_counts()"
   ]
  },
  {
   "cell_type": "markdown",
   "id": "0ad9577f",
   "metadata": {},
   "source": [
    "Как видно из полученных значений данные были спарсены с сайта linked in - поэтому подгружены значения из ячейки div (язык разметки страниц html). Воспользуемся методом split и еще раз разделим массив на несколько частей."
   ]
  },
  {
   "cell_type": "code",
   "execution_count": 32,
   "id": "80564767",
   "metadata": {},
   "outputs": [],
   "source": [
    "filtered_dataset['hs_top_1'] = filtered_dataset['hs_1'].str.split(\",\").str[0]"
   ]
  },
  {
   "cell_type": "code",
   "execution_count": 33,
   "id": "a13b016e",
   "metadata": {},
   "outputs": [
    {
     "data": {
      "text/html": [
       "<div>\n",
       "<style scoped>\n",
       "    .dataframe tbody tr th:only-of-type {\n",
       "        vertical-align: middle;\n",
       "    }\n",
       "\n",
       "    .dataframe tbody tr th {\n",
       "        vertical-align: top;\n",
       "    }\n",
       "\n",
       "    .dataframe thead th {\n",
       "        text-align: right;\n",
       "    }\n",
       "</style>\n",
       "<table border=\"1\" class=\"dataframe\">\n",
       "  <thead>\n",
       "    <tr style=\"text-align: right;\">\n",
       "      <th></th>\n",
       "      <th>title</th>\n",
       "      <th>location</th>\n",
       "      <th>country</th>\n",
       "      <th>employment_type</th>\n",
       "      <th>company_name</th>\n",
       "      <th>employee_qty</th>\n",
       "      <th>company_field</th>\n",
       "      <th>skills</th>\n",
       "      <th>job_description</th>\n",
       "      <th>applicants</th>\n",
       "      <th>hs_1</th>\n",
       "      <th>hs_top_1</th>\n",
       "    </tr>\n",
       "  </thead>\n",
       "  <tbody>\n",
       "    <tr>\n",
       "      <th>0</th>\n",
       "      <td>Data Analyst</td>\n",
       "      <td>Basel</td>\n",
       "      <td>Switzerland</td>\n",
       "      <td>On-site</td>\n",
       "      <td>PharmiWeb.Jobs: Global Life Science Jobs</td>\n",
       "      <td>11-50 employees</td>\n",
       "      <td>Staffing and Recruiting</td>\n",
       "      <td>None</td>\n",
       "      <td>What You Will Achi...</td>\n",
       "      <td>47.0</td>\n",
       "      <td>NaN</td>\n",
       "      <td>NaN</td>\n",
       "    </tr>\n",
       "    <tr>\n",
       "      <th>1</th>\n",
       "      <td>Data Analyst - Logistics</td>\n",
       "      <td>Coventry</td>\n",
       "      <td>United Kingdom</td>\n",
       "      <td>On-site</td>\n",
       "      <td>Resolute Recruitment</td>\n",
       "      <td>not specified</td>\n",
       "      <td>not specified</td>\n",
       "      <td>None</td>\n",
       "      <td></td>\n",
       "      <td>NaN</td>\n",
       "      <td>NaN</td>\n",
       "      <td>NaN</td>\n",
       "    </tr>\n",
       "    <tr>\n",
       "      <th>2</th>\n",
       "      <td>Data Analyst - Logistics</td>\n",
       "      <td>Coventry</td>\n",
       "      <td>United Kingdom</td>\n",
       "      <td>On-site</td>\n",
       "      <td>Resolute Recruitment</td>\n",
       "      <td>not specified</td>\n",
       "      <td>not specified</td>\n",
       "      <td>None</td>\n",
       "      <td>Data Analyst - Lo...</td>\n",
       "      <td>NaN</td>\n",
       "      <td>NaN</td>\n",
       "      <td>NaN</td>\n",
       "    </tr>\n",
       "    <tr>\n",
       "      <th>3</th>\n",
       "      <td>Data Analyst (Space &amp; Planning)</td>\n",
       "      <td>South Molton</td>\n",
       "      <td>United Kingdom</td>\n",
       "      <td>On-site</td>\n",
       "      <td>Mole Valley Farmers</td>\n",
       "      <td>not specified</td>\n",
       "      <td>not specified</td>\n",
       "      <td>None</td>\n",
       "      <td>Salary:     To b...</td>\n",
       "      <td>NaN</td>\n",
       "      <td>NaN</td>\n",
       "      <td>NaN</td>\n",
       "    </tr>\n",
       "    <tr>\n",
       "      <th>4</th>\n",
       "      <td>Data Analyst</td>\n",
       "      <td>Lugano</td>\n",
       "      <td>Switzerland</td>\n",
       "      <td>On-site</td>\n",
       "      <td>FORFIRM</td>\n",
       "      <td>not specified</td>\n",
       "      <td>not specified</td>\n",
       "      <td>None</td>\n",
       "      <td>FORFIRM     is p...</td>\n",
       "      <td>NaN</td>\n",
       "      <td>NaN</td>\n",
       "      <td>NaN</td>\n",
       "    </tr>\n",
       "  </tbody>\n",
       "</table>\n",
       "</div>"
      ],
      "text/plain": [
       "                             title      location         country  \\\n",
       "0                     Data Analyst         Basel     Switzerland   \n",
       "1         Data Analyst - Logistics      Coventry  United Kingdom   \n",
       "2         Data Analyst - Logistics      Coventry  United Kingdom   \n",
       "3  Data Analyst (Space & Planning)  South Molton  United Kingdom   \n",
       "4                     Data Analyst        Lugano     Switzerland   \n",
       "\n",
       "  employment_type                              company_name     employee_qty  \\\n",
       "0         On-site  PharmiWeb.Jobs: Global Life Science Jobs  11-50 employees   \n",
       "1         On-site                      Resolute Recruitment    not specified   \n",
       "2         On-site                      Resolute Recruitment    not specified   \n",
       "3         On-site                       Mole Valley Farmers    not specified   \n",
       "4         On-site                                   FORFIRM    not specified   \n",
       "\n",
       "             company_field skills  \\\n",
       "0  Staffing and Recruiting   None   \n",
       "1            not specified   None   \n",
       "2            not specified   None   \n",
       "3            not specified   None   \n",
       "4            not specified   None   \n",
       "\n",
       "                                     job_description  applicants hs_1 hs_top_1  \n",
       "0                              What You Will Achi...        47.0  NaN      NaN  \n",
       "1                                                            NaN  NaN      NaN  \n",
       "2                               Data Analyst - Lo...         NaN  NaN      NaN  \n",
       "3                                Salary:     To b...         NaN  NaN      NaN  \n",
       "4                                FORFIRM     is p...         NaN  NaN      NaN  "
      ]
     },
     "execution_count": 33,
     "metadata": {},
     "output_type": "execute_result"
    }
   ],
   "source": [
    "filtered_dataset.head()"
   ]
  },
  {
   "cell_type": "code",
   "execution_count": 34,
   "id": "b473d26e",
   "metadata": {},
   "outputs": [
    {
     "data": {
      "text/plain": [
       " Data Analytics                               37\n",
       " Аналитические навыки                         33\n",
       " Английский язык                              32\n",
       " Анализ данных                                23\n",
       " Python                                       19\n",
       " Наука о данных                               16\n",
       " Визуализация данных                          13\n",
       " Основные показатели                          11\n",
       " SQL                                          10\n",
       " Панель управления                             6\n",
       " Статистическое моделирование                  6\n",
       " VBA                                           6\n",
       " Microsoft Power BI                            6\n",
       " Моделирование данных                          4\n",
       " Управление данными                            4\n",
       " Решение задач                                 4\n",
       " Коммуникация                                  3\n",
       " Управление проектами                          3\n",
       " Microsoft Excel                               3\n",
       " Scala                                         3\n",
       " Математика                                    3\n",
       " A/B тестирование                              3\n",
       " Google Analytics                              3\n",
       " Межличностное общение                         3\n",
       " Ad Hoc Analysis                               2\n",
       " Компьютерная наука                            2\n",
       " Ключевые показатели деятельности              2\n",
       " Профилактическое техническое обслуживание     2\n",
       " Business Analysis                             2\n",
       " SAS                                           2\n",
       " Algorithm Development                         2\n",
       " Google BigQuery                               2\n",
       " Business Case Preparation                     2\n",
       " Немецкий язык                                 2\n",
       " Модели данных                                 2\n",
       " Data-driven Decision Making                   1\n",
       " Data Manipulation                             1\n",
       " Cultural Affairs                              1\n",
       " SPSS                                          1\n",
       " Cluster Analysis                              1\n",
       " Data Governance                               1\n",
       " Сводные таблицы                               1\n",
       " Технологическая подготовка производства       1\n",
       " Предоставление данных                         1\n",
       " Решение проблем                               1\n",
       " Oral Communication                            1\n",
       " Google Cloud Platform (GCP)                   1\n",
       " Обработка естественного языка                 1\n",
       " Machine Learning Algorithms                   1\n",
       " Управление логистикой                         1\n",
       " Data Engineering                              1\n",
       " Alteryx                                       1\n",
       " Урегулирование споров                         1\n",
       " Microsoft Power Query                         1\n",
       " Розничная торговля через Интернет             1\n",
       " Web Concepts                                  1\n",
       " Amazon QuickSight                             1\n",
       " Attention to Detail                           1\n",
       " Документация                                  1\n",
       " Requirements Engineering                      1\n",
       " PostgreSQL                                    1\n",
       " Matlab                                        1\n",
       " SharePoint                                    1\n",
       " Query Languages                               1\n",
       " Бизнес-требования                             1\n",
       " Отчетность                                    1\n",
       " Истории пользователей                         1\n",
       " Бизнес-объекты                                1\n",
       " Облачные вычисления                           1\n",
       " Спецификация требований                       1\n",
       " Metrics Definition                            1\n",
       " Недвижимость                                  1\n",
       " Enterprise Service Bus (ESB) Architecture     1\n",
       " Payroll Administration                        1\n",
       " NumPy                                         1\n",
       " Статистика                                    1\n",
       " Digital Technology                            1\n",
       " Операционная деятельность                     1\n",
       " Экономика                                     1\n",
       " Tableau                                       1\n",
       " Google Data Studio                            1\n",
       " SSRS                                          1\n",
       " Сбор данных                                   1\n",
       " DAX                                           1\n",
       " Oracle Data Integrator (ODI)                  1\n",
       " Соглашения об уровне услуг                    1\n",
       " Большие массивы данных                        1\n",
       " Социальные навыки                             1\n",
       " High Level Of Accuracy                        1\n",
       " Amazon Elastic MapReduce (EMR)                1\n",
       " New Product Rollout                           1\n",
       " Критическое мышление                          1\n",
       " Качество данных                               1\n",
       " Управление вознаграждением работников         1\n",
       " Основные данные                               1\n",
       " Microsoft Office                              1\n",
       " Экологическая сбалансированность              1\n",
       " Целевая цена                                  1\n",
       " SSIS                                          1\n",
       " Java                                          1\n",
       " Apache Spark Streaming                        1\n",
       "Name: hs_top_1, dtype: int64"
      ]
     },
     "execution_count": 34,
     "metadata": {},
     "output_type": "execute_result"
    }
   ],
   "source": [
    "filtered_dataset['hs_top_1'].value_counts()"
   ]
  },
  {
   "cell_type": "markdown",
   "id": "a8745adc",
   "metadata": {},
   "source": [
    "Первый столбец с хард скиллами успешно сформирован."
   ]
  },
  {
   "cell_type": "code",
   "execution_count": 35,
   "id": "8597a9a6",
   "metadata": {},
   "outputs": [],
   "source": [
    "filtered_dataset['hs_top_2'] = filtered_dataset['hs_1'].str.split(\",\").str[1]"
   ]
  },
  {
   "cell_type": "code",
   "execution_count": 36,
   "id": "e208a6b4",
   "metadata": {},
   "outputs": [
    {
     "data": {
      "text/plain": [
       " Ключевые показатели деятельности                     28\n",
       " Визуализация данных                                  25\n",
       " Data Analytics                                       21\n",
       " Аналитические навыки                                 16\n",
       " Анализ данных                                        16\n",
       " Социальные медиа                                     14\n",
       " Python                                               13\n",
       " SQL                                                  12\n",
       " Коммуникация                                          8\n",
       " Математика                                            8\n",
       " Решение задач                                         7\n",
       " Visualization                                         7\n",
       " Scala                                                 7\n",
       " Компьютерная наука                                    6\n",
       " Панель управления                                     6\n",
       " Наука о данных                                        6\n",
       " Моделирование данных                                  5\n",
       " Microsoft Excel                                       5\n",
       " PowerPoint                                            4\n",
       " Английский язык                                       4\n",
       " Microsoft Power BI                                    3\n",
       " Презентации                                           3\n",
       " Google Analytics                                      3\n",
       " Qlik Sense                                            3\n",
       " Аналитика                                             3\n",
       " Yellowfin BI                                          2\n",
       " Французский язык                                      2\n",
       " Инвестиционно-банковская деятельность                 2\n",
       " Наборы данных                                         2\n",
       " Базы данных                                           2\n",
       " Качество данных                                       2\n",
       " RapidMiner                                            2\n",
       " Snowflake                                             2\n",
       " Tableau                                               2\n",
       " Управление проектами                                  2\n",
       " Статистика по компании                                2\n",
       " ETL                                                   2\n",
       " Коммуникабельность                                    2\n",
       " JavaScript                                            2\n",
       " Matlab                                                2\n",
       " Database Queries                                      1\n",
       " Планирование потребности в материалах                 1\n",
       " Бизнес-аналитика                                      1\n",
       " Управление объемом работ                              1\n",
       " VBA                                                   1\n",
       " Data Engineering                                      1\n",
       " Проектирование баз данных                             1\n",
       " Контроль качества                                     1\n",
       " Attribution                                           1\n",
       " Feature Extraction                                    1\n",
       " Командная работа                                      1\n",
       " Модели данных                                         1\n",
       " C++                                                   1\n",
       " HTML                                                  1\n",
       " Интернет-исследование                                 1\n",
       " R                                                     1\n",
       " Apache Kafka                                          1\n",
       " Deep Learning                                         1\n",
       " Recovery Plans                                        1\n",
       " Hypothesis Testing                                    1\n",
       " Искусственный интеллект<!-- --></span>                1\n",
       " MOE                                                   1\n",
       " Бизнес-объекты                                        1\n",
       " Esprit                                                1\n",
       " Машинное обучение                                     1\n",
       " Pandas (Software)                                     1\n",
       " Данные о клиентах                                     1\n",
       " Salesforce.com                                        1\n",
       " Google BigQuery                                       1\n",
       " Бизнес-требования                                     1\n",
       " Цифровой маркетинг                                    1\n",
       " Industrial Internet of Things (IIoT)                  1\n",
       " Learning                                              1\n",
       " Kubernetes                                            1\n",
       " SPSS                                                  1\n",
       " Транспортировка по трубопроводу                       1\n",
       " Attention to Detail                                   1\n",
       " Прогнозное моделирование                              1\n",
       " Bash                                                  1\n",
       " Microsoft Power Query                                 1\n",
       " Стратегия ведения бизнеса                             1\n",
       " Google Cloud Platform (GCP)                           1\n",
       " A/B тестирование                                      1\n",
       " Организаторские навыки                                1\n",
       " Управление операциями                                 1\n",
       " Statutory Accounting Principles (SAP)                 1\n",
       " Java                                                  1\n",
       " Data Governance                                       1\n",
       " GMP (надлежащая производственная практика)            1\n",
       " Веб-технологии                                        1\n",
       " Проектирование пользовательского интерфейса (UED)     1\n",
       " High Level Of Accuracy                                1\n",
       " Рассмотрение заявок                                   1\n",
       " Data Feeds                                            1\n",
       " Немецкий язык                                         1\n",
       " Looker (Software)                                     1\n",
       " Услуги анализа                                        1\n",
       " ITIL                                                  1\n",
       " Interpreting Data                                     1\n",
       " Принятие решений                                      1\n",
       " Alteryx                                               1\n",
       " Основные показатели                                   1\n",
       " Google Sheets                                         1\n",
       " Microsoft Office                                      1\n",
       " Статистика                                            1\n",
       " Cross-team Collaboration                              1\n",
       " Application Services                                  1\n",
       " Agile Software Development                            1\n",
       " Amazon Kinesis                                        1\n",
       " Обмен электронными данными                            1\n",
       " Витрины данных                                        1\n",
       " План счетов                                           1\n",
       " Международная логистика                               1\n",
       " Data-driven Decision Making                           1\n",
       " Commerce                                              1\n",
       " Google Data Studio                                    1\n",
       " MySQL                                                 1\n",
       " Языки программирования                                1\n",
       " Обработка естественного языка                         1\n",
       "Name: hs_top_2, dtype: int64"
      ]
     },
     "execution_count": 36,
     "metadata": {},
     "output_type": "execute_result"
    }
   ],
   "source": [
    "filtered_dataset['hs_top_2'].value_counts()"
   ]
  },
  {
   "cell_type": "markdown",
   "id": "85976538",
   "metadata": {},
   "source": [
    "Второй столбец с хард скиллами успешно сформирован."
   ]
  },
  {
   "cell_type": "markdown",
   "id": "e9594445",
   "metadata": {},
   "source": [
    "Теперь удалим столбец hs_1 из которого получали данные по хард скиллам с помощью метода drop."
   ]
  },
  {
   "cell_type": "code",
   "execution_count": 37,
   "id": "ddb94bb5",
   "metadata": {},
   "outputs": [],
   "source": [
    "filtered_dataset.drop('hs_1', axis=1, inplace=True)"
   ]
  },
  {
   "cell_type": "code",
   "execution_count": 38,
   "id": "eb11662f",
   "metadata": {},
   "outputs": [
    {
     "data": {
      "text/html": [
       "<div>\n",
       "<style scoped>\n",
       "    .dataframe tbody tr th:only-of-type {\n",
       "        vertical-align: middle;\n",
       "    }\n",
       "\n",
       "    .dataframe tbody tr th {\n",
       "        vertical-align: top;\n",
       "    }\n",
       "\n",
       "    .dataframe thead th {\n",
       "        text-align: right;\n",
       "    }\n",
       "</style>\n",
       "<table border=\"1\" class=\"dataframe\">\n",
       "  <thead>\n",
       "    <tr style=\"text-align: right;\">\n",
       "      <th></th>\n",
       "      <th>title</th>\n",
       "      <th>location</th>\n",
       "      <th>country</th>\n",
       "      <th>employment_type</th>\n",
       "      <th>company_name</th>\n",
       "      <th>employee_qty</th>\n",
       "      <th>company_field</th>\n",
       "      <th>skills</th>\n",
       "      <th>job_description</th>\n",
       "      <th>applicants</th>\n",
       "      <th>hs_top_1</th>\n",
       "      <th>hs_top_2</th>\n",
       "    </tr>\n",
       "  </thead>\n",
       "  <tbody>\n",
       "    <tr>\n",
       "      <th>0</th>\n",
       "      <td>Data Analyst</td>\n",
       "      <td>Basel</td>\n",
       "      <td>Switzerland</td>\n",
       "      <td>On-site</td>\n",
       "      <td>PharmiWeb.Jobs: Global Life Science Jobs</td>\n",
       "      <td>11-50 employees</td>\n",
       "      <td>Staffing and Recruiting</td>\n",
       "      <td>None</td>\n",
       "      <td>What You Will Achi...</td>\n",
       "      <td>47.0</td>\n",
       "      <td>NaN</td>\n",
       "      <td>NaN</td>\n",
       "    </tr>\n",
       "    <tr>\n",
       "      <th>1</th>\n",
       "      <td>Data Analyst - Logistics</td>\n",
       "      <td>Coventry</td>\n",
       "      <td>United Kingdom</td>\n",
       "      <td>On-site</td>\n",
       "      <td>Resolute Recruitment</td>\n",
       "      <td>not specified</td>\n",
       "      <td>not specified</td>\n",
       "      <td>None</td>\n",
       "      <td></td>\n",
       "      <td>NaN</td>\n",
       "      <td>NaN</td>\n",
       "      <td>NaN</td>\n",
       "    </tr>\n",
       "    <tr>\n",
       "      <th>2</th>\n",
       "      <td>Data Analyst - Logistics</td>\n",
       "      <td>Coventry</td>\n",
       "      <td>United Kingdom</td>\n",
       "      <td>On-site</td>\n",
       "      <td>Resolute Recruitment</td>\n",
       "      <td>not specified</td>\n",
       "      <td>not specified</td>\n",
       "      <td>None</td>\n",
       "      <td>Data Analyst - Lo...</td>\n",
       "      <td>NaN</td>\n",
       "      <td>NaN</td>\n",
       "      <td>NaN</td>\n",
       "    </tr>\n",
       "    <tr>\n",
       "      <th>3</th>\n",
       "      <td>Data Analyst (Space &amp; Planning)</td>\n",
       "      <td>South Molton</td>\n",
       "      <td>United Kingdom</td>\n",
       "      <td>On-site</td>\n",
       "      <td>Mole Valley Farmers</td>\n",
       "      <td>not specified</td>\n",
       "      <td>not specified</td>\n",
       "      <td>None</td>\n",
       "      <td>Salary:     To b...</td>\n",
       "      <td>NaN</td>\n",
       "      <td>NaN</td>\n",
       "      <td>NaN</td>\n",
       "    </tr>\n",
       "    <tr>\n",
       "      <th>4</th>\n",
       "      <td>Data Analyst</td>\n",
       "      <td>Lugano</td>\n",
       "      <td>Switzerland</td>\n",
       "      <td>On-site</td>\n",
       "      <td>FORFIRM</td>\n",
       "      <td>not specified</td>\n",
       "      <td>not specified</td>\n",
       "      <td>None</td>\n",
       "      <td>FORFIRM     is p...</td>\n",
       "      <td>NaN</td>\n",
       "      <td>NaN</td>\n",
       "      <td>NaN</td>\n",
       "    </tr>\n",
       "  </tbody>\n",
       "</table>\n",
       "</div>"
      ],
      "text/plain": [
       "                             title      location         country  \\\n",
       "0                     Data Analyst         Basel     Switzerland   \n",
       "1         Data Analyst - Logistics      Coventry  United Kingdom   \n",
       "2         Data Analyst - Logistics      Coventry  United Kingdom   \n",
       "3  Data Analyst (Space & Planning)  South Molton  United Kingdom   \n",
       "4                     Data Analyst        Lugano     Switzerland   \n",
       "\n",
       "  employment_type                              company_name     employee_qty  \\\n",
       "0         On-site  PharmiWeb.Jobs: Global Life Science Jobs  11-50 employees   \n",
       "1         On-site                      Resolute Recruitment    not specified   \n",
       "2         On-site                      Resolute Recruitment    not specified   \n",
       "3         On-site                       Mole Valley Farmers    not specified   \n",
       "4         On-site                                   FORFIRM    not specified   \n",
       "\n",
       "             company_field skills  \\\n",
       "0  Staffing and Recruiting   None   \n",
       "1            not specified   None   \n",
       "2            not specified   None   \n",
       "3            not specified   None   \n",
       "4            not specified   None   \n",
       "\n",
       "                                     job_description  applicants hs_top_1  \\\n",
       "0                              What You Will Achi...        47.0      NaN   \n",
       "1                                                            NaN      NaN   \n",
       "2                               Data Analyst - Lo...         NaN      NaN   \n",
       "3                                Salary:     To b...         NaN      NaN   \n",
       "4                                FORFIRM     is p...         NaN      NaN   \n",
       "\n",
       "  hs_top_2  \n",
       "0      NaN  \n",
       "1      NaN  \n",
       "2      NaN  \n",
       "3      NaN  \n",
       "4      NaN  "
      ]
     },
     "execution_count": 38,
     "metadata": {},
     "output_type": "execute_result"
    }
   ],
   "source": [
    "filtered_dataset.head()"
   ]
  },
  {
   "cell_type": "markdown",
   "id": "89039623",
   "metadata": {},
   "source": [
    "Задача по выделению хард скиллов была успешно выполнена."
   ]
  },
  {
   "cell_type": "markdown",
   "id": "399a3458",
   "metadata": {},
   "source": [
    "### Изучение формата работы"
   ]
  },
  {
   "cell_type": "markdown",
   "id": "8e8941ab",
   "metadata": {},
   "source": [
    "Теперь посмотрим какое количество различных форматов работы присутствует в датасете. Воспользуемся методом value_counts()"
   ]
  },
  {
   "cell_type": "code",
   "execution_count": 39,
   "id": "a4522167",
   "metadata": {},
   "outputs": [
    {
     "data": {
      "text/plain": [
       "Hybrid           198\n",
       "On-site          143\n",
       "Remote            47\n",
       "not specified     38\n",
       "Name: employment_type, dtype: int64"
      ]
     },
     "execution_count": 39,
     "metadata": {},
     "output_type": "execute_result"
    }
   ],
   "source": [
    "filtered_dataset['employment_type'].value_counts()"
   ]
  },
  {
   "cell_type": "markdown",
   "id": "259ee924",
   "metadata": {},
   "source": [
    "Самый популярный тип - гибрид (198 вакансий);  \n",
    "Офис - 143 вакансии;  \n",
    "Удаленная работа - 47 вакансий;  \n",
    "Не указано - 38 вакансий  "
   ]
  },
  {
   "cell_type": "markdown",
   "id": "37e4c6aa",
   "metadata": {},
   "source": [
    "### Формирование датасета для выгрузки"
   ]
  },
  {
   "cell_type": "markdown",
   "id": "0c466de0",
   "metadata": {},
   "source": [
    "Выгрузим обработанный датасет в формат csv для дальнейшей работы с помощью BI инструментов."
   ]
  },
  {
   "cell_type": "code",
   "execution_count": 40,
   "id": "669cd420",
   "metadata": {},
   "outputs": [],
   "source": [
    "filtered_dataset.to_csv('filtered_dataset.csv', index=False)"
   ]
  },
  {
   "cell_type": "markdown",
   "id": "578ce574",
   "metadata": {},
   "source": [
    "## Выводы по предобработке данных"
   ]
  },
  {
   "cell_type": "markdown",
   "id": "f1710f28",
   "metadata": {},
   "source": [
    "**В результате преодобработки были проведены следующие действия:**  \n",
    "1) Выполнена проверка на пропуски;  \n",
    "2) Выполнена проверка на дубликаты, строки содержашие явные дубликаты были удалены;  \n",
    "3) Датасет был отфильтрован таким образом, чтобы остались только вакансии Data Analyst и Data Scientist;  \n",
    "4) Изучены основные особенности представленных данных;  \n",
    "5) Изучен процент потерь данных после предобработки;  \n",
    "6) Сформирован датасет для дальнейшей работы в BI инструментах.  "
   ]
  },
  {
   "cell_type": "markdown",
   "id": "9fe5dc58",
   "metadata": {},
   "source": [
    "## Дашборд TableaU"
   ]
  },
  {
   "cell_type": "markdown",
   "id": "aef80f6d",
   "metadata": {},
   "source": [
    "Готовый дашборд доступен по ссылке: [Нажми для перехода](https://public.tableau.com/app/profile/sergei.v8049/viz/linked_in_vacancies_dashboard_ver_2_0/Dashboard1?publish=yes)"
   ]
  }
 ],
 "metadata": {
  "kernelspec": {
   "display_name": "Python 3 (ipykernel)",
   "language": "python",
   "name": "python3"
  },
  "language_info": {
   "codemirror_mode": {
    "name": "ipython",
    "version": 3
   },
   "file_extension": ".py",
   "mimetype": "text/x-python",
   "name": "python",
   "nbconvert_exporter": "python",
   "pygments_lexer": "ipython3",
   "version": "3.9.13"
  },
  "toc": {
   "base_numbering": 1,
   "nav_menu": {},
   "number_sections": true,
   "sideBar": true,
   "skip_h1_title": true,
   "title_cell": "Table of Contents",
   "title_sidebar": "Contents",
   "toc_cell": true,
   "toc_position": {},
   "toc_section_display": true,
   "toc_window_display": true
  }
 },
 "nbformat": 4,
 "nbformat_minor": 5
}
