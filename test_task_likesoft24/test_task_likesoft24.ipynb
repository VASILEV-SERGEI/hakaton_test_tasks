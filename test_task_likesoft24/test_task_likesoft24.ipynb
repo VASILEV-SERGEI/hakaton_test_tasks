{
 "cells": [
  {
   "cell_type": "markdown",
   "id": "040fbbc6",
   "metadata": {
    "toc": true
   },
   "source": [
    "<h1>Оглавление<span class=\"tocSkip\"></span></h1>\n",
    "<div class=\"toc\"><ul class=\"toc-item\"><li><span><a href=\"#Техническое-задание\" data-toc-modified-id=\"Техническое-задание-1\"><span class=\"toc-item-num\">1&nbsp;&nbsp;</span>Техническое задание</a></span></li><li><span><a href=\"#Генерация-данных\" data-toc-modified-id=\"Генерация-данных-2\"><span class=\"toc-item-num\">2&nbsp;&nbsp;</span>Генерация данных</a></span><ul class=\"toc-item\"><li><span><a href=\"#Задание-1\" data-toc-modified-id=\"Задание-1-2.1\"><span class=\"toc-item-num\">2.1&nbsp;&nbsp;</span>Задание 1</a></span></li><li><span><a href=\"#Задание-2\" data-toc-modified-id=\"Задание-2-2.2\"><span class=\"toc-item-num\">2.2&nbsp;&nbsp;</span>Задание 2</a></span></li></ul></li><li><span><a href=\"#Ссылка-на-дашборды-(TableaU)\" data-toc-modified-id=\"Ссылка-на-дашборды-(TableaU)-3\"><span class=\"toc-item-num\">3&nbsp;&nbsp;</span>Ссылка на дашборды (TableaU)</a></span></li></ul></div>"
   ]
  },
  {
   "cell_type": "markdown",
   "id": "cff26f5c",
   "metadata": {},
   "source": [
    "## Техническое задание"
   ]
  },
  {
   "cell_type": "markdown",
   "id": "e32b09a7",
   "metadata": {},
   "source": [
    "**1. На тестовом портале по смарт-процессам построить отчет для отдела\n",
    "логистики.**\n",
    "\n",
    "Поля для отчета:\n",
    "- дата создания\n",
    "- дата отправки\n",
    "- стоимость логистики\n",
    "- какой службой отправили\n",
    "\n",
    "Отчет:\n",
    "Выбор варианта отображения за Вами.\n",
    "Нужно наглядно отобразить количество отправок на дату и какой\n",
    "службой отправлено."
   ]
  },
  {
   "cell_type": "markdown",
   "id": "e44da28b",
   "metadata": {},
   "source": [
    "**2. На тестовом портале по сделкам построить отчет для бухгалтерии.**\n",
    "\n",
    "Поля для отчета:\n",
    "- дата оплаты\n",
    "- тип оплаты\n",
    "- сумма сделки\n",
    "- дата создания\n",
    "- дата завершения\n",
    "- ответственный\n",
    "\n",
    "Отчет1:\n",
    "Выбор варианта отображения за Вами.\n",
    "Показать сколько зашло средств на дату оплату: дата оплаты и сумма\n",
    "сделки.\n",
    "\n",
    "Отчет2:\n",
    "Выбор варианта отображения за Вами.\n",
    "Показать сколько ответственный принес прибыли дату."
   ]
  },
  {
   "cell_type": "markdown",
   "id": "986f3038",
   "metadata": {},
   "source": [
    "## Генерация данных"
   ]
  },
  {
   "cell_type": "markdown",
   "id": "deb28702",
   "metadata": {},
   "source": [
    "### Задание 1"
   ]
  },
  {
   "cell_type": "markdown",
   "id": "ac9bb7bd",
   "metadata": {},
   "source": [
    "Для выполнения данного задания необходимо сгенерировать данные на основе, которых будет построен дашборд. Воспользуемся высокоуровневым языком программирования Python."
   ]
  },
  {
   "cell_type": "markdown",
   "id": "3d59affa",
   "metadata": {},
   "source": [
    "Нам потребуется несколько библиотек: csv, random, datetime и timedelta. "
   ]
  },
  {
   "cell_type": "markdown",
   "id": "269c6f8e",
   "metadata": {},
   "source": [
    "Загружаем библиотеки."
   ]
  },
  {
   "cell_type": "code",
   "execution_count": 1,
   "id": "62926c0d",
   "metadata": {},
   "outputs": [],
   "source": [
    "import csv\n",
    "import random\n",
    "import pandas as pd\n",
    "from datetime import datetime, timedelta"
   ]
  },
  {
   "cell_type": "markdown",
   "id": "cbe560a1",
   "metadata": {},
   "source": [
    "Для генерации данных необходимо задать границы нашего датасета и указать примерные характеристики.\n",
    "\n",
    "Пусть в датасете будет 100 строк и 4 столбца:\n",
    "\n",
    "- дата создания (с 01.01.2023 по 31.12.2023)\n",
    "- дата отправки (с 01.01.2023 по 31.12.2023)\n",
    "- стоимость логистики (от 50 руб до 100 000 руб)\n",
    "- какой службой отправили (CDEK, DHL, Boxberry, Почта России, UPS)"
   ]
  },
  {
   "cell_type": "markdown",
   "id": "dab44beb",
   "metadata": {},
   "source": [
    "Напишем функцию, которая будет рандомно генерировать дату создания заказа и дату отправки в рамках заданного диапазона."
   ]
  },
  {
   "cell_type": "code",
   "execution_count": 2,
   "id": "3c9daeb4",
   "metadata": {},
   "outputs": [],
   "source": [
    "def generate_random_date(start_date, end_date):\n",
    "    time_delta = end_date - start_date\n",
    "    random_days = random.randint(0, time_delta.days)\n",
    "    return start_date + timedelta(days=random_days)"
   ]
  },
  {
   "cell_type": "markdown",
   "id": "2540dd4c",
   "metadata": {},
   "source": [
    "Теперь необходимо написать функцию, которая будет генерировать случайным образом стоимость логистики в заданном диапазоне: от 50 до 100 000 руб."
   ]
  },
  {
   "cell_type": "code",
   "execution_count": 3,
   "id": "97f7a6d4",
   "metadata": {},
   "outputs": [],
   "source": [
    "def generate_random_cost():\n",
    "    return round(random.uniform(50, 100000))"
   ]
  },
  {
   "cell_type": "markdown",
   "id": "2437b23e",
   "metadata": {},
   "source": [
    "Далее напишем функцию, которая будет случайным образом выбирать курьерскую службу из списка."
   ]
  },
  {
   "cell_type": "code",
   "execution_count": 4,
   "id": "eb215067",
   "metadata": {},
   "outputs": [],
   "source": [
    "def generate_random_courier():\n",
    "    couriers = [\"CDEK\", \"DHL\", \"Boxberry\", \"Почта России\", \"UPS\"]\n",
    "    return random.choice(couriers)"
   ]
  },
  {
   "cell_type": "markdown",
   "id": "ace3e817",
   "metadata": {},
   "source": [
    "Основные функции есть, осталось собрать функцию, которая будет генерировать датасет из случайных данных."
   ]
  },
  {
   "cell_type": "code",
   "execution_count": 5,
   "id": "94721dfc",
   "metadata": {},
   "outputs": [],
   "source": [
    "def generate_dataset(num_rows):\n",
    "    start_date = datetime(2023, 1, 1)\n",
    "    end_date = datetime(2023, 12, 31)\n",
    "\n",
    "    dataset = []\n",
    "    \n",
    "    for _ in range(num_rows):\n",
    "        creation_date = generate_random_date(start_date, end_date)\n",
    "        dispatch_date = generate_random_date(creation_date, end_date)\n",
    "        logistics_cost = generate_random_cost()\n",
    "        courier = generate_random_courier()\n",
    "\n",
    "        row = [creation_date.strftime(\"%Y-%m-%d\"), dispatch_date.strftime(\"%Y-%m-%d\"), logistics_cost, courier]\n",
    "        dataset.append(row)\n",
    "\n",
    "    return dataset"
   ]
  },
  {
   "cell_type": "markdown",
   "id": "7f0d82f2",
   "metadata": {},
   "source": [
    "Напишем функцию, которая будет сохранять сгенерированный датасет в файл формата csv."
   ]
  },
  {
   "cell_type": "code",
   "execution_count": 6,
   "id": "e374230a",
   "metadata": {},
   "outputs": [],
   "source": [
    "def save_to_csv(dataset, file_name):\n",
    "    with open(file_name, 'w', newline='', encoding='utf-8') as csvfile:\n",
    "        csv_writer = csv.writer(csvfile)\n",
    "        csv_writer.writerow([\"Creation Date\", \"Dispatch Date\", \"Logistics Cost\", \"Courier\"])\n",
    "\n",
    "        for row in dataset:\n",
    "            csv_writer.writerow(row)"
   ]
  },
  {
   "cell_type": "markdown",
   "id": "f6a598a8",
   "metadata": {},
   "source": [
    "Задаем ограничение размером в 100 строк."
   ]
  },
  {
   "cell_type": "code",
   "execution_count": 7,
   "id": "cdbf07a5",
   "metadata": {},
   "outputs": [],
   "source": [
    "if __name__ == \"__main__\":\n",
    "    num_rows = 100"
   ]
  },
  {
   "cell_type": "markdown",
   "id": "ded0b3d4",
   "metadata": {},
   "source": [
    "Генерируем датасет и сохраняем в CSV файл."
   ]
  },
  {
   "cell_type": "code",
   "execution_count": 8,
   "id": "ce055355",
   "metadata": {},
   "outputs": [],
   "source": [
    "dataset = generate_dataset(num_rows)\n",
    "\n",
    "save_to_csv(dataset, \"logistics_dataset.csv\")"
   ]
  },
  {
   "cell_type": "markdown",
   "id": "08d17fc6",
   "metadata": {},
   "source": [
    "Откроем датасет и отобразим первые 5 строк ,а также воспользуемся командой info() и убедимся что все сгенерировано корректно."
   ]
  },
  {
   "cell_type": "code",
   "execution_count": 9,
   "id": "15e8f649",
   "metadata": {},
   "outputs": [],
   "source": [
    "df = pd.read_csv('C:/Users/truel/pet_projects/logistics_dataset.csv')"
   ]
  },
  {
   "cell_type": "code",
   "execution_count": 10,
   "id": "d0c11f97",
   "metadata": {},
   "outputs": [
    {
     "data": {
      "text/html": [
       "<div>\n",
       "<style scoped>\n",
       "    .dataframe tbody tr th:only-of-type {\n",
       "        vertical-align: middle;\n",
       "    }\n",
       "\n",
       "    .dataframe tbody tr th {\n",
       "        vertical-align: top;\n",
       "    }\n",
       "\n",
       "    .dataframe thead th {\n",
       "        text-align: right;\n",
       "    }\n",
       "</style>\n",
       "<table border=\"1\" class=\"dataframe\">\n",
       "  <thead>\n",
       "    <tr style=\"text-align: right;\">\n",
       "      <th></th>\n",
       "      <th>Creation Date</th>\n",
       "      <th>Dispatch Date</th>\n",
       "      <th>Logistics Cost</th>\n",
       "      <th>Courier</th>\n",
       "    </tr>\n",
       "  </thead>\n",
       "  <tbody>\n",
       "    <tr>\n",
       "      <th>0</th>\n",
       "      <td>2023-04-23</td>\n",
       "      <td>2023-06-05</td>\n",
       "      <td>50639</td>\n",
       "      <td>Почта России</td>\n",
       "    </tr>\n",
       "    <tr>\n",
       "      <th>1</th>\n",
       "      <td>2023-05-19</td>\n",
       "      <td>2023-11-02</td>\n",
       "      <td>90012</td>\n",
       "      <td>Boxberry</td>\n",
       "    </tr>\n",
       "    <tr>\n",
       "      <th>2</th>\n",
       "      <td>2023-11-12</td>\n",
       "      <td>2023-12-01</td>\n",
       "      <td>26426</td>\n",
       "      <td>Boxberry</td>\n",
       "    </tr>\n",
       "    <tr>\n",
       "      <th>3</th>\n",
       "      <td>2023-08-19</td>\n",
       "      <td>2023-12-11</td>\n",
       "      <td>37932</td>\n",
       "      <td>Boxberry</td>\n",
       "    </tr>\n",
       "    <tr>\n",
       "      <th>4</th>\n",
       "      <td>2023-08-28</td>\n",
       "      <td>2023-10-17</td>\n",
       "      <td>80128</td>\n",
       "      <td>DHL</td>\n",
       "    </tr>\n",
       "  </tbody>\n",
       "</table>\n",
       "</div>"
      ],
      "text/plain": [
       "  Creation Date Dispatch Date  Logistics Cost       Courier\n",
       "0    2023-04-23    2023-06-05           50639  Почта России\n",
       "1    2023-05-19    2023-11-02           90012      Boxberry\n",
       "2    2023-11-12    2023-12-01           26426      Boxberry\n",
       "3    2023-08-19    2023-12-11           37932      Boxberry\n",
       "4    2023-08-28    2023-10-17           80128           DHL"
      ]
     },
     "execution_count": 10,
     "metadata": {},
     "output_type": "execute_result"
    }
   ],
   "source": [
    "df.head()"
   ]
  },
  {
   "cell_type": "code",
   "execution_count": 11,
   "id": "f0041e79",
   "metadata": {},
   "outputs": [
    {
     "name": "stdout",
     "output_type": "stream",
     "text": [
      "<class 'pandas.core.frame.DataFrame'>\n",
      "RangeIndex: 100 entries, 0 to 99\n",
      "Data columns (total 4 columns):\n",
      " #   Column          Non-Null Count  Dtype \n",
      "---  ------          --------------  ----- \n",
      " 0   Creation Date   100 non-null    object\n",
      " 1   Dispatch Date   100 non-null    object\n",
      " 2   Logistics Cost  100 non-null    int64 \n",
      " 3   Courier         100 non-null    object\n",
      "dtypes: int64(1), object(3)\n",
      "memory usage: 3.2+ KB\n"
     ]
    }
   ],
   "source": [
    "df.info()"
   ]
  },
  {
   "cell_type": "markdown",
   "id": "df63631d",
   "metadata": {},
   "source": [
    "Итого у нас получился датасет с 4 столбцами и 100 строками. Данные успешно сгенерированы и их можно использовать для построения дашборда."
   ]
  },
  {
   "cell_type": "markdown",
   "id": "74790317",
   "metadata": {},
   "source": [
    "### Задание 2"
   ]
  },
  {
   "cell_type": "markdown",
   "id": "59acba51",
   "metadata": {},
   "source": [
    "Подобным образом сгенерируем данные для второго задания."
   ]
  },
  {
   "cell_type": "markdown",
   "id": "73cca744",
   "metadata": {},
   "source": [
    "У нас будет 5 столбцов:\n",
    "    \n",
    "- тип оплаты\n",
    "- сумма сделки\n",
    "- дата создания\n",
    "- дата завершения\n",
    "- ответственный\n",
    "\n",
    "Размер датасета также ограничим в 100 строк."
   ]
  },
  {
   "cell_type": "markdown",
   "id": "654aef8c",
   "metadata": {},
   "source": [
    "Не будем подробно останавливаться на комментариях, так как все функции аналогичны предыдущему коду."
   ]
  },
  {
   "cell_type": "code",
   "execution_count": 12,
   "id": "d2bfbb3f",
   "metadata": {},
   "outputs": [],
   "source": [
    "def generate_random_date(start_date, end_date):\n",
    "    time_delta = end_date - start_date\n",
    "    random_days = random.randint(0, time_delta.days)\n",
    "    return start_date + timedelta(days=random_days)"
   ]
  },
  {
   "cell_type": "code",
   "execution_count": 13,
   "id": "5dda9268",
   "metadata": {},
   "outputs": [],
   "source": [
    "def generate_random_amount():\n",
    "    return round(random.uniform(100, 500000))"
   ]
  },
  {
   "cell_type": "code",
   "execution_count": 14,
   "id": "84a70433",
   "metadata": {},
   "outputs": [],
   "source": [
    "def generate_random_payment_type():\n",
    "    payment_types = [\"наличный\", \"безналичный\"]\n",
    "    return random.choice(payment_types)"
   ]
  },
  {
   "cell_type": "code",
   "execution_count": 15,
   "id": "6c15937c",
   "metadata": {},
   "outputs": [],
   "source": [
    "def generate_random_responsible():\n",
    "    responsibles = [\"Локайчук Д.А.\", \"Иванов И.И.\", \"Афанасьева Е.Б.\", \"Карасева З.П.\", \"Королёв С.П.\"]\n",
    "    return random.choice(responsibles)"
   ]
  },
  {
   "cell_type": "code",
   "execution_count": 17,
   "id": "4ccfa1d9",
   "metadata": {},
   "outputs": [],
   "source": [
    "def generate_dataset(num_rows):\n",
    "    start_date = datetime(2023, 1, 1)\n",
    "    end_date = datetime(2023, 12, 31)\n",
    "\n",
    "    dataset = []\n",
    "\n",
    "    for _ in range(num_rows):\n",
    "        creation_date = generate_random_date(start_date, end_date)\n",
    "        completion_date = generate_random_date(creation_date, end_date)\n",
    "        payment_type = generate_random_payment_type()\n",
    "        transaction_amount = generate_random_amount()\n",
    "        responsible = generate_random_responsible()\n",
    "\n",
    "        row = [payment_type, transaction_amount, creation_date.strftime(\"%Y-%m-%d\"), completion_date.strftime(\"%Y-%m-%d\"), responsible]\n",
    "        dataset.append(row)\n",
    "\n",
    "    return dataset"
   ]
  },
  {
   "cell_type": "code",
   "execution_count": 18,
   "id": "0d0d4306",
   "metadata": {},
   "outputs": [],
   "source": [
    "def save_to_csv(dataset, file_name):\n",
    "    with open(file_name, 'w', newline='', encoding='utf-8') as csvfile:\n",
    "        csv_writer = csv.writer(csvfile)\n",
    "        csv_writer.writerow([\"Payment Type\", \"Transaction Amount\", \"Creation Date\", \"Completion Date\", \"Responsible\"])\n",
    "\n",
    "        for row in dataset:\n",
    "            csv_writer.writerow(row)"
   ]
  },
  {
   "cell_type": "code",
   "execution_count": 19,
   "id": "4188b67a",
   "metadata": {},
   "outputs": [],
   "source": [
    "if __name__ == \"__main__\":\n",
    "    num_rows = 100\n",
    "    dataset = generate_dataset(num_rows)\n",
    "    save_to_csv(dataset, \"transaction_dataset.csv\")"
   ]
  },
  {
   "cell_type": "code",
   "execution_count": 20,
   "id": "3af57104",
   "metadata": {},
   "outputs": [],
   "source": [
    "df_2 = pd.read_csv('C:/Users/truel/pet_projects/transaction_dataset.csv')"
   ]
  },
  {
   "cell_type": "code",
   "execution_count": 21,
   "id": "8dec4223",
   "metadata": {},
   "outputs": [
    {
     "data": {
      "text/html": [
       "<div>\n",
       "<style scoped>\n",
       "    .dataframe tbody tr th:only-of-type {\n",
       "        vertical-align: middle;\n",
       "    }\n",
       "\n",
       "    .dataframe tbody tr th {\n",
       "        vertical-align: top;\n",
       "    }\n",
       "\n",
       "    .dataframe thead th {\n",
       "        text-align: right;\n",
       "    }\n",
       "</style>\n",
       "<table border=\"1\" class=\"dataframe\">\n",
       "  <thead>\n",
       "    <tr style=\"text-align: right;\">\n",
       "      <th></th>\n",
       "      <th>Payment Type</th>\n",
       "      <th>Transaction Amount</th>\n",
       "      <th>Creation Date</th>\n",
       "      <th>Completion Date</th>\n",
       "      <th>Responsible</th>\n",
       "    </tr>\n",
       "  </thead>\n",
       "  <tbody>\n",
       "    <tr>\n",
       "      <th>0</th>\n",
       "      <td>безналичный</td>\n",
       "      <td>439213</td>\n",
       "      <td>2023-08-27</td>\n",
       "      <td>2023-12-24</td>\n",
       "      <td>Локайчук Д.А.</td>\n",
       "    </tr>\n",
       "    <tr>\n",
       "      <th>1</th>\n",
       "      <td>наличный</td>\n",
       "      <td>146543</td>\n",
       "      <td>2023-10-06</td>\n",
       "      <td>2023-10-17</td>\n",
       "      <td>Локайчук Д.А.</td>\n",
       "    </tr>\n",
       "    <tr>\n",
       "      <th>2</th>\n",
       "      <td>безналичный</td>\n",
       "      <td>343327</td>\n",
       "      <td>2023-07-02</td>\n",
       "      <td>2023-07-13</td>\n",
       "      <td>Локайчук Д.А.</td>\n",
       "    </tr>\n",
       "    <tr>\n",
       "      <th>3</th>\n",
       "      <td>безналичный</td>\n",
       "      <td>377327</td>\n",
       "      <td>2023-08-01</td>\n",
       "      <td>2023-10-01</td>\n",
       "      <td>Карасева З.П.</td>\n",
       "    </tr>\n",
       "    <tr>\n",
       "      <th>4</th>\n",
       "      <td>безналичный</td>\n",
       "      <td>235035</td>\n",
       "      <td>2023-02-17</td>\n",
       "      <td>2023-07-13</td>\n",
       "      <td>Локайчук Д.А.</td>\n",
       "    </tr>\n",
       "  </tbody>\n",
       "</table>\n",
       "</div>"
      ],
      "text/plain": [
       "  Payment Type  Transaction Amount Creation Date Completion Date  \\\n",
       "0  безналичный              439213    2023-08-27      2023-12-24   \n",
       "1     наличный              146543    2023-10-06      2023-10-17   \n",
       "2  безналичный              343327    2023-07-02      2023-07-13   \n",
       "3  безналичный              377327    2023-08-01      2023-10-01   \n",
       "4  безналичный              235035    2023-02-17      2023-07-13   \n",
       "\n",
       "     Responsible  \n",
       "0  Локайчук Д.А.  \n",
       "1  Локайчук Д.А.  \n",
       "2  Локайчук Д.А.  \n",
       "3  Карасева З.П.  \n",
       "4  Локайчук Д.А.  "
      ]
     },
     "execution_count": 21,
     "metadata": {},
     "output_type": "execute_result"
    }
   ],
   "source": [
    "df_2.head()"
   ]
  },
  {
   "cell_type": "code",
   "execution_count": 22,
   "id": "46b4e7d2",
   "metadata": {
    "scrolled": true
   },
   "outputs": [
    {
     "name": "stdout",
     "output_type": "stream",
     "text": [
      "<class 'pandas.core.frame.DataFrame'>\n",
      "RangeIndex: 100 entries, 0 to 99\n",
      "Data columns (total 5 columns):\n",
      " #   Column              Non-Null Count  Dtype \n",
      "---  ------              --------------  ----- \n",
      " 0   Payment Type        100 non-null    object\n",
      " 1   Transaction Amount  100 non-null    int64 \n",
      " 2   Creation Date       100 non-null    object\n",
      " 3   Completion Date     100 non-null    object\n",
      " 4   Responsible         100 non-null    object\n",
      "dtypes: int64(1), object(4)\n",
      "memory usage: 4.0+ KB\n"
     ]
    }
   ],
   "source": [
    "df_2.info()"
   ]
  },
  {
   "cell_type": "markdown",
   "id": "4d5709e8",
   "metadata": {},
   "source": [
    "Все данные успешно сгенерированы. Можно использовать датасеты для построения дашбордов."
   ]
  },
  {
   "cell_type": "markdown",
   "id": "845ce36b",
   "metadata": {},
   "source": [
    "## Ссылка на дашборды (TableaU)"
   ]
  },
  {
   "cell_type": "markdown",
   "id": "c02318a7",
   "metadata": {},
   "source": [
    "1) Дашборд - отчёт для отдела логистики: [Нажми для перехода](https://public.tableau.com/app/profile/sergei.v8049/viz/test_task_likesoft24_dash_1/Dashboard1)"
   ]
  },
  {
   "cell_type": "markdown",
   "id": "45025c5f",
   "metadata": {},
   "source": [
    "2) Дашборд - отчёт для отдела бухгалтерии: [Нажми для перехода](https://public.tableau.com/app/profile/sergei.v8049/viz/test_task_likesoft24_dash_2/Dashboard2)"
   ]
  },
  {
   "cell_type": "markdown",
   "id": "f28df6a7",
   "metadata": {},
   "source": [
    "3) Дашборд - отчёт для отдела бухгалтерии №2: [Нажми для перехода](https://public.tableau.com/app/profile/sergei.v8049/viz/test_task_likesoft24_dash_3/Dashboard3)"
   ]
  }
 ],
 "metadata": {
  "kernelspec": {
   "display_name": "Python 3 (ipykernel)",
   "language": "python",
   "name": "python3"
  },
  "language_info": {
   "codemirror_mode": {
    "name": "ipython",
    "version": 3
   },
   "file_extension": ".py",
   "mimetype": "text/x-python",
   "name": "python",
   "nbconvert_exporter": "python",
   "pygments_lexer": "ipython3",
   "version": "3.9.13"
  },
  "toc": {
   "base_numbering": 1,
   "nav_menu": {},
   "number_sections": true,
   "sideBar": true,
   "skip_h1_title": true,
   "title_cell": "Оглавление",
   "title_sidebar": "Contents",
   "toc_cell": true,
   "toc_position": {
    "height": "calc(100% - 180px)",
    "left": "10px",
    "top": "150px",
    "width": "307.2px"
   },
   "toc_section_display": true,
   "toc_window_display": true
  }
 },
 "nbformat": 4,
 "nbformat_minor": 5
}
