{
 "cells": [
  {
   "cell_type": "markdown",
   "id": "879e1f20",
   "metadata": {
    "toc": true
   },
   "source": [
    "<h1>Table of Contents<span class=\"tocSkip\"></span></h1>\n",
    "<div class=\"toc\"><ul class=\"toc-item\"><li><span><a href=\"#Technical-task\" data-toc-modified-id=\"Technical-task-1\"><span class=\"toc-item-num\">1&nbsp;&nbsp;</span>Technical task</a></span><ul class=\"toc-item\"><li><span><a href=\"#Task-№1\" data-toc-modified-id=\"Task-№1-1.1\"><span class=\"toc-item-num\">1.1&nbsp;&nbsp;</span>Task №1</a></span></li><li><span><a href=\"#Task-№2\" data-toc-modified-id=\"Task-№2-1.2\"><span class=\"toc-item-num\">1.2&nbsp;&nbsp;</span>Task №2</a></span></li></ul></li><li><span><a href=\"#Problem-solution\" data-toc-modified-id=\"Problem-solution-2\"><span class=\"toc-item-num\">2&nbsp;&nbsp;</span>Problem solution</a></span><ul class=\"toc-item\"><li><span><a href=\"#Task-№1\" data-toc-modified-id=\"Task-№1-2.1\"><span class=\"toc-item-num\">2.1&nbsp;&nbsp;</span>Task №1</a></span></li><li><span><a href=\"#Task-№2\" data-toc-modified-id=\"Task-№2-2.2\"><span class=\"toc-item-num\">2.2&nbsp;&nbsp;</span>Task №2</a></span></li></ul></li><li><span><a href=\"#Data-description\" data-toc-modified-id=\"Data-description-3\"><span class=\"toc-item-num\">3&nbsp;&nbsp;</span>Data description</a></span></li><li><span><a href=\"#Data-preprocessing\" data-toc-modified-id=\"Data-preprocessing-4\"><span class=\"toc-item-num\">4&nbsp;&nbsp;</span>Data preprocessing</a></span><ul class=\"toc-item\"><li><span><a href=\"#Сhecking-for-omissions\" data-toc-modified-id=\"Сhecking-for-omissions-4.1\"><span class=\"toc-item-num\">4.1&nbsp;&nbsp;</span>Сhecking for omissions</a></span></li><li><span><a href=\"#Check-for-duplicates\" data-toc-modified-id=\"Check-for-duplicates-4.2\"><span class=\"toc-item-num\">4.2&nbsp;&nbsp;</span>Check for duplicates</a></span></li><li><span><a href=\"#Finding-implicit-duplicates-and-anomalies\" data-toc-modified-id=\"Finding-implicit-duplicates-and-anomalies-4.3\"><span class=\"toc-item-num\">4.3&nbsp;&nbsp;</span>Finding implicit duplicates and anomalies</a></span></li></ul></li><li><span><a href=\"#Conclusions-on-data-preprocessing\" data-toc-modified-id=\"Conclusions-on-data-preprocessing-5\"><span class=\"toc-item-num\">5&nbsp;&nbsp;</span>Conclusions on data preprocessing</a></span></li><li><span><a href=\"#Exploratory-data-analysis\" data-toc-modified-id=\"Exploratory-data-analysis-6\"><span class=\"toc-item-num\">6&nbsp;&nbsp;</span>Exploratory data analysis</a></span><ul class=\"toc-item\"><li><span><a href=\"#Finding-connections\" data-toc-modified-id=\"Finding-connections-6.1\"><span class=\"toc-item-num\">6.1&nbsp;&nbsp;</span>Finding connections</a></span><ul class=\"toc-item\"><li><span><a href=\"#Other\" data-toc-modified-id=\"Other-6.1.1\"><span class=\"toc-item-num\">6.1.1&nbsp;&nbsp;</span>Other</a></span></li><li><span><a href=\"#Subscribers\" data-toc-modified-id=\"Subscribers-6.1.2\"><span class=\"toc-item-num\">6.1.2&nbsp;&nbsp;</span>Subscribers</a></span></li><li><span><a href=\"#Job-title\" data-toc-modified-id=\"Job-title-6.1.3\"><span class=\"toc-item-num\">6.1.3&nbsp;&nbsp;</span>Job title</a></span></li><li><span><a href=\"#School-degree\" data-toc-modified-id=\"School-degree-6.1.4\"><span class=\"toc-item-num\">6.1.4&nbsp;&nbsp;</span>School degree</a></span></li></ul></li></ul></li><li><span><a href=\"#Conclusion-from-data-research\" data-toc-modified-id=\"Conclusion-from-data-research-7\"><span class=\"toc-item-num\">7&nbsp;&nbsp;</span>Conclusion from data research</a></span></li><li><span><a href=\"#General-conclusion-on-the-project\" data-toc-modified-id=\"General-conclusion-on-the-project-8\"><span class=\"toc-item-num\">8&nbsp;&nbsp;</span>General conclusion on the project</a></span></li></ul></div>"
   ]
  },
  {
   "cell_type": "markdown",
   "id": "610d716f",
   "metadata": {},
   "source": [
    "## Technical task"
   ]
  },
  {
   "cell_type": "markdown",
   "id": "10a8462f",
   "metadata": {},
   "source": [
    "### Task №1"
   ]
  },
  {
   "cell_type": "markdown",
   "id": "81c1bf48",
   "metadata": {},
   "source": [
    "We extracted data from GCP. The dataset contains 4 million rows, but we were only able to extract them in small portions, about 40,000 rows in CSV format. In total, we ended up with 110 files. The files are named as follows:  \n",
    "\n",
    "data_000000000001.csv  \n",
    "data_000000000002.csv  \n",
    "…..  \n",
    "data_000000000010.csv    \n",
    "data_000000000011.csv  \n",
    "……  \n",
    "data_000000000100.csv  \n",
    "data_000000000101.csv  \n",
    "….  \n",
    "data_000000000110.csv   \n",
    "\n",
    "Please suggest a method for uploading all these 110 files using Jupyter Notebook (or another) and merging them into a single dataset for further processing.  "
   ]
  },
  {
   "cell_type": "markdown",
   "id": "149dc8a2",
   "metadata": {},
   "source": [
    "### Task №2"
   ]
  },
  {
   "cell_type": "markdown",
   "id": "6c7896c1",
   "metadata": {},
   "source": [
    "You can find the file in this folder, which contains Linkedin profile scrapes of individuals that were part of an outreach effort. The goal is to get people to purchase a ticket to an event and ultimately join the organization as a member.  Since the same method of profile scraping will be used in the future to identify the best leads, it's important that patterns that exist in the content of the profiles be identified.\n",
    "\n",
    "The column 'Result' has one of six outcomes for each person:\n",
    "\n",
    "- Purchased membership: The ideal outcome, bought an event ticket and a membership  \n",
    "- Purchased event: A positive outcome but not ideal  \n",
    "- Approved: They were approved to come to an event but did not purchase\n",
    "- Sent personal f/u: Conversation was started but ended\n",
    "- Out of sequence: Conversation was started but ended\n",
    "- 2021 Member: Someone who was a previous member of the organization\n",
    "\n",
    "In order to better focus outreach efforts in the future, we need to determine which characteristics show a higher probability of purchasing a membership and/or purchasing an event ticket.\n",
    "\n",
    "Please provide an analysis that identifies what traits, characteristics, patterns, etc. can be used to indicate a higher probability of a positive/ideal outcome and please describe your methodology."
   ]
  },
  {
   "cell_type": "markdown",
   "id": "1baa5636",
   "metadata": {},
   "source": [
    "## Problem solution"
   ]
  },
  {
   "cell_type": "markdown",
   "id": "1ab654dc",
   "metadata": {},
   "source": [
    "### Task №1"
   ]
  },
  {
   "cell_type": "markdown",
   "id": "c8abd02d",
   "metadata": {},
   "source": [
    "To solve this problem we need two libraries pandas and os."
   ]
  },
  {
   "cell_type": "code",
   "execution_count": 1,
   "id": "a0a44127",
   "metadata": {},
   "outputs": [],
   "source": [
    "# Importing pandas and os libraries\n",
    "# import pandas as pd\n",
    "# import os\n",
    "\n",
    "# We assign a variable into which we write the path to the folder with the CSV files that need to be combined\n",
    "# new_folder = 'way_to_files'\n",
    "\n",
    "# Create a list to store downloaded data from files\n",
    "# dfs = []\n",
    "\n",
    "# We write a loop that goes through all the files in the new_folder folder and if the file name has csv permission, then it is read and added to the list of dfs files\n",
    "# for filename in os.listdir(new_folder):\n",
    "    # if filename.endswith('.csv'):\n",
    "        # filepath = os.path.join(new_folder, filename)\n",
    "        # df = pd.read_csv(filepath)\n",
    "        # dfs.append(df)\n",
    "\n",
    "# We combine the data from the list into one dataframe using the pd.concat method, specify the parameter ignore_index=True,\n",
    "# Thus, we create a new sequence of indexes rather than saving the old one for each dataset\n",
    "# merged_data = pd.concat(dfs, ignore_index=True)\n",
    "\n",
    "# To check the correct display of data, we can display the first five lines using the head() method\n",
    "# print(merged_data.head())\n",
    "\n",
    "# Save the combined data set into a dataset in csv format\n",
    "# merged_data.to_csv('way_to_folder_with_concat_data.csv', index=False)"
   ]
  },
  {
   "cell_type": "markdown",
   "id": "a234992e",
   "metadata": {},
   "source": [
    "### Task №2"
   ]
  },
  {
   "cell_type": "markdown",
   "id": "94abce17",
   "metadata": {},
   "source": [
    "You can find the file in this folder, which contains Linkedin profile scrapes of individuals that were part of an outreach effort. The goal is to get people to purchase a ticket to an event and ultimately join the organization as a member.  Since the same method of profile scraping will be used in the future to identify the best leads, it's important that patterns that exist in the content of the profiles be identified.\n",
    "\n",
    "The column 'Result' has one of six outcomes for each person:\n",
    "\n",
    "- Purchased membership: The ideal outcome, bought an event ticket and a membership  \n",
    "- Purchased event: A positive outcome but not ideal  \n",
    "- Approved: They were approved to come to an event but did not purchase\n",
    "- Sent personal f/u: Conversation was started but ended\n",
    "- Out of sequence: Conversation was started but ended\n",
    "- 2021 Member: Someone who was a previous member of the organization\n",
    "\n",
    "In order to better focus outreach efforts in the future, we need to determine which characteristics show a higher probability of purchasing a membership and/or purchasing an event ticket.\n",
    "\n",
    "Please provide an analysis that identifies what traits, characteristics, patterns, etc. can be used to indicate a higher probability of a positive/ideal outcome and please describe your methodology."
   ]
  },
  {
   "cell_type": "markdown",
   "id": "a670656e",
   "metadata": {},
   "source": [
    "## Data description"
   ]
  },
  {
   "cell_type": "markdown",
   "id": "0570dd94",
   "metadata": {},
   "source": [
    "We have at our disposal a dataset in which the data was obtained through parsing, so the data is not pure and we will take this fact into account when describing the data."
   ]
  },
  {
   "cell_type": "markdown",
   "id": "c4a2f133",
   "metadata": {},
   "source": [
    "A detailed description of the data is not provided in the Technical task. Therefore, we will not describe each of the 73 columns. We will indicate only the main ones."
   ]
  },
  {
   "cell_type": "markdown",
   "id": "d0662432",
   "metadata": {},
   "source": [
    "- linkedinProfile - link to the participant’s profile\n",
    "- Result - result\n",
    "- Other - other information\n",
    "- email - mail address\n",
    "- description - profile description, probably the information that the participant indicates personally at the bottom of the profile header\n",
    "- headline - a title, a line in which the participant succinctly describes his profession and type of activity\n",
    "- location - location, country and city of residence\n",
    "- firstName - name\n",
    "- lastName - last name\n",
    "- fullName - full name\n",
    "- subscribers - number of subscribers\n",
    "- userId - user ID"
   ]
  },
  {
   "cell_type": "markdown",
   "id": "8261c602",
   "metadata": {},
   "source": [
    "## Data preprocessing"
   ]
  },
  {
   "cell_type": "markdown",
   "id": "6d6fd969",
   "metadata": {},
   "source": [
    "We import the main libraries for working with data."
   ]
  },
  {
   "cell_type": "code",
   "execution_count": 2,
   "id": "b55c41ea",
   "metadata": {},
   "outputs": [],
   "source": [
    "import pandas as pd\n",
    "import os\n",
    "import re\n",
    "import pprint as pp\n",
    "import pyarrow.parquet as pq\n",
    "from functools import reduce\n",
    "import matplotlib.pyplot as plt\n",
    "import plotly.express as px\n",
    "from plotly import graph_objects as go\n",
    "import seaborn as sns\n",
    "import warnings"
   ]
  },
  {
   "cell_type": "code",
   "execution_count": 3,
   "id": "66a7056b",
   "metadata": {},
   "outputs": [],
   "source": [
    "pd.set_option('display.max_columns', None)\n",
    "# pd.set_option('display.max_colwidth', None)\n",
    "# pd.set_option('display.max_rows', None)"
   ]
  },
  {
   "cell_type": "markdown",
   "id": "a18c9b43",
   "metadata": {},
   "source": [
    "Our dataset is in xlsx format, so we use the pd.read_excel method to read the data."
   ]
  },
  {
   "cell_type": "code",
   "execution_count": 4,
   "id": "7c02770f",
   "metadata": {},
   "outputs": [],
   "source": [
    "dataset = pd.read_excel('C:/Users/truel/datasets/Linkedin Accounts That Purchased Memberships.xlsx')"
   ]
  },
  {
   "cell_type": "markdown",
   "id": "b667c974",
   "metadata": {},
   "source": [
    "Now let's look at the dataset and carry out the necessary data preprocessing."
   ]
  },
  {
   "cell_type": "code",
   "execution_count": 5,
   "id": "4951d5cb",
   "metadata": {},
   "outputs": [
    {
     "name": "stdout",
     "output_type": "stream",
     "text": [
      "<class 'pandas.core.frame.DataFrame'>\n",
      "RangeIndex: 348 entries, 0 to 347\n",
      "Data columns (total 74 columns):\n",
      " #   Column                        Non-Null Count  Dtype         \n",
      "---  ------                        --------------  -----         \n",
      " 0   linkedinProfile               348 non-null    object        \n",
      " 1   Result                        348 non-null    object        \n",
      " 2   Other                         191 non-null    object        \n",
      " 3   email                         216 non-null    object        \n",
      " 4   description                   278 non-null    object        \n",
      " 5   headline                      348 non-null    object        \n",
      " 6   location                      348 non-null    object        \n",
      " 7   firstName                     348 non-null    object        \n",
      " 8   lastName                      348 non-null    object        \n",
      " 9   fullName                      348 non-null    object        \n",
      " 10  subscribers                   347 non-null    float64       \n",
      " 11  userId                        289 non-null    float64       \n",
      " 12  mutualConnectionsText         4 non-null      object        \n",
      " 13  mailFromDropcontact           154 non-null    object        \n",
      " 14  company                       346 non-null    object        \n",
      " 15  companyUrl                    263 non-null    object        \n",
      " 16  jobTitle                      347 non-null    object        \n",
      " 17  jobDescription                169 non-null    object        \n",
      " 18  jobLocation                   215 non-null    object        \n",
      " 19  jobDateRange                  342 non-null    object        \n",
      " 20  company2                      335 non-null    object        \n",
      " 21  companyUrl2                   236 non-null    object        \n",
      " 22  jobTitle2                     335 non-null    object        \n",
      " 23  jobDescription2               183 non-null    object        \n",
      " 24  jobDateRange2                 332 non-null    object        \n",
      " 25  school                        328 non-null    object        \n",
      " 26  schoolUrl                     275 non-null    object        \n",
      " 27  schoolDegree                  267 non-null    object        \n",
      " 28  schoolDegreeSpec              227 non-null    object        \n",
      " 29  schoolDateRange               287 non-null    object        \n",
      " 30  school2                       208 non-null    object        \n",
      " 31  schoolUrl2                    164 non-null    object        \n",
      " 32  schoolDegree2                 156 non-null    object        \n",
      " 33  schoolDegreeSpec2             143 non-null    object        \n",
      " 34  schoolDateRange2              177 non-null    object        \n",
      " 35  qualificationFromDropContact  154 non-null    object        \n",
      " 36  civilityFromDropContact       277 non-null    object        \n",
      " 37  phoneNumberFromDropContact    104 non-null    object        \n",
      " 38  websiteFromDropContact        323 non-null    object        \n",
      " 39  twitter                       142 non-null    object        \n",
      " 40  website                       205 non-null    object        \n",
      " 41  companyWebsite                247 non-null    object        \n",
      " 42  allSkills                     330 non-null    object        \n",
      " 43  skill1                        330 non-null    object        \n",
      " 44  endorsement1                  329 non-null    object        \n",
      " 45  skill2                        330 non-null    object        \n",
      " 46  endorsement2                  329 non-null    object        \n",
      " 47  skill3                        330 non-null    object        \n",
      " 48  endorsement3                  329 non-null    object        \n",
      " 49  skill4                        330 non-null    object        \n",
      " 50  endorsement4                  329 non-null    object        \n",
      " 51  skill5                        329 non-null    object        \n",
      " 52  endorsement5                  329 non-null    object        \n",
      " 53  skill6                        326 non-null    object        \n",
      " 54  endorsement6                  326 non-null    object        \n",
      " 55  baseUrl                       348 non-null    object        \n",
      " 56  profileId                     348 non-null    object        \n",
      " 57  timestamp                     348 non-null    object        \n",
      " 58  jobLocation2                  246 non-null    object        \n",
      " 59  connectionsCount              50 non-null     float64       \n",
      " 60  mail                          3 non-null      object        \n",
      " 61  birthday                      95 non-null     datetime64[ns]\n",
      " 62  schoolDescription2            44 non-null     object        \n",
      " 63  naf5CodeFromDropContact       16 non-null     object        \n",
      " 64  naf5DesFromDropContact        14 non-null     object        \n",
      " 65  sirenFromDropContact          16 non-null     float64       \n",
      " 66  siretFromDropContact          16 non-null     float64       \n",
      " 67  siretAddressFromDropContact   15 non-null     object        \n",
      " 68  siretZipFromDropContact       15 non-null     float64       \n",
      " 69  vatFromDropContact            16 non-null     object        \n",
      " 70  schoolDescription             64 non-null     object        \n",
      " 71  nbEmployeesFromDropContact    12 non-null     object        \n",
      " 72  Unnamed: 72                   0 non-null      float64       \n",
      " 73  Unnamed: 73                   62 non-null     object        \n",
      "dtypes: datetime64[ns](1), float64(7), object(66)\n",
      "memory usage: 201.3+ KB\n"
     ]
    }
   ],
   "source": [
    "dataset.info()"
   ]
  },
  {
   "cell_type": "markdown",
   "id": "6a01adf1",
   "metadata": {},
   "source": [
    "The data type mainly used in the dataset is object. The total number of rows is 348. The number of columns is 73."
   ]
  },
  {
   "cell_type": "code",
   "execution_count": 6,
   "id": "6c1a1984",
   "metadata": {
    "scrolled": true
   },
   "outputs": [
    {
     "data": {
      "text/html": [
       "<div>\n",
       "<style scoped>\n",
       "    .dataframe tbody tr th:only-of-type {\n",
       "        vertical-align: middle;\n",
       "    }\n",
       "\n",
       "    .dataframe tbody tr th {\n",
       "        vertical-align: top;\n",
       "    }\n",
       "\n",
       "    .dataframe thead th {\n",
       "        text-align: right;\n",
       "    }\n",
       "</style>\n",
       "<table border=\"1\" class=\"dataframe\">\n",
       "  <thead>\n",
       "    <tr style=\"text-align: right;\">\n",
       "      <th></th>\n",
       "      <th>linkedinProfile</th>\n",
       "      <th>Result</th>\n",
       "      <th>Other</th>\n",
       "      <th>email</th>\n",
       "      <th>description</th>\n",
       "      <th>headline</th>\n",
       "      <th>location</th>\n",
       "      <th>firstName</th>\n",
       "      <th>lastName</th>\n",
       "      <th>fullName</th>\n",
       "      <th>subscribers</th>\n",
       "      <th>userId</th>\n",
       "      <th>mutualConnectionsText</th>\n",
       "      <th>mailFromDropcontact</th>\n",
       "      <th>company</th>\n",
       "      <th>companyUrl</th>\n",
       "      <th>jobTitle</th>\n",
       "      <th>jobDescription</th>\n",
       "      <th>jobLocation</th>\n",
       "      <th>jobDateRange</th>\n",
       "      <th>company2</th>\n",
       "      <th>companyUrl2</th>\n",
       "      <th>jobTitle2</th>\n",
       "      <th>jobDescription2</th>\n",
       "      <th>jobDateRange2</th>\n",
       "      <th>school</th>\n",
       "      <th>schoolUrl</th>\n",
       "      <th>schoolDegree</th>\n",
       "      <th>schoolDegreeSpec</th>\n",
       "      <th>schoolDateRange</th>\n",
       "      <th>school2</th>\n",
       "      <th>schoolUrl2</th>\n",
       "      <th>schoolDegree2</th>\n",
       "      <th>schoolDegreeSpec2</th>\n",
       "      <th>schoolDateRange2</th>\n",
       "      <th>qualificationFromDropContact</th>\n",
       "      <th>civilityFromDropContact</th>\n",
       "      <th>phoneNumberFromDropContact</th>\n",
       "      <th>websiteFromDropContact</th>\n",
       "      <th>twitter</th>\n",
       "      <th>website</th>\n",
       "      <th>companyWebsite</th>\n",
       "      <th>allSkills</th>\n",
       "      <th>skill1</th>\n",
       "      <th>endorsement1</th>\n",
       "      <th>skill2</th>\n",
       "      <th>endorsement2</th>\n",
       "      <th>skill3</th>\n",
       "      <th>endorsement3</th>\n",
       "      <th>skill4</th>\n",
       "      <th>endorsement4</th>\n",
       "      <th>skill5</th>\n",
       "      <th>endorsement5</th>\n",
       "      <th>skill6</th>\n",
       "      <th>endorsement6</th>\n",
       "      <th>baseUrl</th>\n",
       "      <th>profileId</th>\n",
       "      <th>timestamp</th>\n",
       "      <th>jobLocation2</th>\n",
       "      <th>connectionsCount</th>\n",
       "      <th>mail</th>\n",
       "      <th>birthday</th>\n",
       "      <th>schoolDescription2</th>\n",
       "      <th>naf5CodeFromDropContact</th>\n",
       "      <th>naf5DesFromDropContact</th>\n",
       "      <th>sirenFromDropContact</th>\n",
       "      <th>siretFromDropContact</th>\n",
       "      <th>siretAddressFromDropContact</th>\n",
       "      <th>siretZipFromDropContact</th>\n",
       "      <th>vatFromDropContact</th>\n",
       "      <th>schoolDescription</th>\n",
       "      <th>nbEmployeesFromDropContact</th>\n",
       "      <th>Unnamed: 72</th>\n",
       "      <th>Unnamed: 73</th>\n",
       "    </tr>\n",
       "  </thead>\n",
       "  <tbody>\n",
       "    <tr>\n",
       "      <th>0</th>\n",
       "      <td>https://www.linkedin.com/in/mark-kohoot-96a08b1</td>\n",
       "      <td>5. Purchased Membership</td>\n",
       "      <td>Hunter</td>\n",
       "      <td>mk@aeroscena.com</td>\n",
       "      <td>Mark founded Aeroscena in 2010 with the missio...</td>\n",
       "      <td>Bio-pharmaceutical / functional fragrance</td>\n",
       "      <td>Cleveland, Ohio, United States</td>\n",
       "      <td>Mark</td>\n",
       "      <td>Kohoot</td>\n",
       "      <td>Mark Kohoot</td>\n",
       "      <td>1704.0</td>\n",
       "      <td>3172258.0</td>\n",
       "      <td>1 mutual connection: Eric Sullivan</td>\n",
       "      <td>mk@aeroscena.com</td>\n",
       "      <td>Aeroscena</td>\n",
       "      <td>https://www.linkedin.com/company/aeroscena/</td>\n",
       "      <td>CEO</td>\n",
       "      <td>Aeroscena develops and markets fragrances from...</td>\n",
       "      <td>Cleveland/Akron, Ohio Area</td>\n",
       "      <td>Sep 2010 â€“ Present</td>\n",
       "      <td>Cleveland Clinic Wellness Institute</td>\n",
       "      <td>https://www.linkedin.com/company/cleveland-cli...</td>\n",
       "      <td>Advisor to the Chairman</td>\n",
       "      <td>Supporting the Chairman of the Wellness Instit...</td>\n",
       "      <td>2009 â€“ 2010</td>\n",
       "      <td>Audencia Nantes Ecole de Management</td>\n",
       "      <td>https://www.linkedin.com/school/19998/?legacyS...</td>\n",
       "      <td>master</td>\n",
       "      <td>marketing</td>\n",
       "      <td>1984 â€“ 1985</td>\n",
       "      <td>The Ohio State University</td>\n",
       "      <td>https://www.linkedin.com/school/19133/?legacyS...</td>\n",
       "      <td>BSBA</td>\n",
       "      <td>International Business</td>\n",
       "      <td>1979 â€“ 1983</td>\n",
       "      <td>nominative@pro</td>\n",
       "      <td>Mr</td>\n",
       "      <td>+1 800-671-1890</td>\n",
       "      <td>www.aeroscena.com</td>\n",
       "      <td>ShopAscents</td>\n",
       "      <td>stumbleupon.com/content/1LSMVB</td>\n",
       "      <td>https://aeroscena.com</td>\n",
       "      <td>Strategic Planning, Leadership, Marketing Stra...</td>\n",
       "      <td>Strategic Planning</td>\n",
       "      <td>31</td>\n",
       "      <td>Leadership</td>\n",
       "      <td>26</td>\n",
       "      <td>Marketing Strategy</td>\n",
       "      <td>24</td>\n",
       "      <td>Strategy</td>\n",
       "      <td>21</td>\n",
       "      <td>New Business Development</td>\n",
       "      <td>18</td>\n",
       "      <td>Business Strategy</td>\n",
       "      <td>15</td>\n",
       "      <td>https://www.linkedin.com/in/mark-kohoot-96a08b1</td>\n",
       "      <td>mark-kohoot-96a08b1</td>\n",
       "      <td>2022-01-03T20:00:58.586Z</td>\n",
       "      <td>NaN</td>\n",
       "      <td>NaN</td>\n",
       "      <td>NaN</td>\n",
       "      <td>NaT</td>\n",
       "      <td>NaN</td>\n",
       "      <td>NaN</td>\n",
       "      <td>NaN</td>\n",
       "      <td>NaN</td>\n",
       "      <td>NaN</td>\n",
       "      <td>NaN</td>\n",
       "      <td>NaN</td>\n",
       "      <td>NaN</td>\n",
       "      <td>NaN</td>\n",
       "      <td>NaN</td>\n",
       "      <td>NaN</td>\n",
       "      <td>NaN</td>\n",
       "    </tr>\n",
       "    <tr>\n",
       "      <th>1</th>\n",
       "      <td>https://www.linkedin.com/in/jonbowerman</td>\n",
       "      <td>5. Purchased Membership</td>\n",
       "      <td>Hunter</td>\n",
       "      <td>jon@kidsdraw.org</td>\n",
       "      <td>A creative problem solver who can rapidly desi...</td>\n",
       "      <td>Co Founder and CTO - Product Development and M...</td>\n",
       "      <td>Farmington, Michigan, United States</td>\n",
       "      <td>Jon</td>\n",
       "      <td>Bowerman</td>\n",
       "      <td>Jon Bowerman</td>\n",
       "      <td>1745.0</td>\n",
       "      <td>14910006.0</td>\n",
       "      <td>1 mutual connection: Eric Sullivan</td>\n",
       "      <td>jon@kidsdraw.org</td>\n",
       "      <td>Kids Draw Bob</td>\n",
       "      <td>https://www.linkedin.com/company/kidsdrawbob/</td>\n",
       "      <td>President and Illustrator</td>\n",
       "      <td>The energy in a room of children who've found ...</td>\n",
       "      <td>Bloomfield Hills, MI</td>\n",
       "      <td>Jul 2019 â€“ Present</td>\n",
       "      <td>High Level Marketing, LLC</td>\n",
       "      <td>https://www.linkedin.com/company/high-level-ma...</td>\n",
       "      <td>Co Founder and CTO - VP of Product Development</td>\n",
       "      <td>As one of the fastest growing online marketing...</td>\n",
       "      <td>Nov 2009 â€“ Present</td>\n",
       "      <td>University of Michigan</td>\n",
       "      <td>https://www.linkedin.com/school/18633/?legacyS...</td>\n",
       "      <td>Bachelor of Science (B.S.)</td>\n",
       "      <td>Architecture</td>\n",
       "      <td>1999 â€“ 2004</td>\n",
       "      <td>Walled Lake Central High School</td>\n",
       "      <td>https://www.linkedin.com/school/3204390/?legac...</td>\n",
       "      <td>High School Diploma</td>\n",
       "      <td>NaN</td>\n",
       "      <td>1995 â€“ 1999</td>\n",
       "      <td>nominative@pro</td>\n",
       "      <td>Mr</td>\n",
       "      <td>NaN</td>\n",
       "      <td>www.kidsdraw.org</td>\n",
       "      <td>NaN</td>\n",
       "      <td>NaN</td>\n",
       "      <td>http://www.kidsdraw.org/donate</td>\n",
       "      <td>Web Design, Marketing, Business Strategy, SEO,...</td>\n",
       "      <td>Web Design</td>\n",
       "      <td>99</td>\n",
       "      <td>Marketing</td>\n",
       "      <td>66</td>\n",
       "      <td>Business Strategy</td>\n",
       "      <td>11</td>\n",
       "      <td>SEO</td>\n",
       "      <td>47</td>\n",
       "      <td>Web Development</td>\n",
       "      <td>40</td>\n",
       "      <td>Online Marketing</td>\n",
       "      <td>32</td>\n",
       "      <td>https://www.linkedin.com/in/jonbowerman</td>\n",
       "      <td>jonbowerman</td>\n",
       "      <td>2022-01-03T20:01:43.218Z</td>\n",
       "      <td>West Bloomfield, MI</td>\n",
       "      <td>NaN</td>\n",
       "      <td>NaN</td>\n",
       "      <td>NaT</td>\n",
       "      <td>NaN</td>\n",
       "      <td>NaN</td>\n",
       "      <td>NaN</td>\n",
       "      <td>NaN</td>\n",
       "      <td>NaN</td>\n",
       "      <td>NaN</td>\n",
       "      <td>NaN</td>\n",
       "      <td>NaN</td>\n",
       "      <td>NaN</td>\n",
       "      <td>NaN</td>\n",
       "      <td>NaN</td>\n",
       "      <td>NaN</td>\n",
       "    </tr>\n",
       "    <tr>\n",
       "      <th>2</th>\n",
       "      <td>https://www.linkedin.com/in/parkeralynch</td>\n",
       "      <td>5. Purchased Membership</td>\n",
       "      <td>Hunter</td>\n",
       "      <td>Parker@HedgeHogHealth.com</td>\n",
       "      <td>NaN</td>\n",
       "      <td>CEO at HedgeHog Health | 2020-2021 Global Educ...</td>\n",
       "      <td>Royal Oak, Michigan, United States</td>\n",
       "      <td>Parker</td>\n",
       "      <td>Lynch</td>\n",
       "      <td>Parker Lynch</td>\n",
       "      <td>2549.0</td>\n",
       "      <td>22364061.0</td>\n",
       "      <td>NaN</td>\n",
       "      <td>parker@hedgehoghealth.com</td>\n",
       "      <td>HedgeHog Health</td>\n",
       "      <td>https://www.linkedin.com/company/hedgehoghealth/</td>\n",
       "      <td>Chief Executive Officer</td>\n",
       "      <td>Revolutionizing education technology and welln...</td>\n",
       "      <td>NaN</td>\n",
       "      <td>Nov 2019 â€“ Present</td>\n",
       "      <td>Born and Raised Detroit Foundation</td>\n",
       "      <td>https://www.linkedin.com/company/born-and-rais...</td>\n",
       "      <td>Executive Director</td>\n",
       "      <td>â€¢Organize events in cities from coast to coa...</td>\n",
       "      <td>Jan 2016 â€“ Present</td>\n",
       "      <td>New York University</td>\n",
       "      <td>https://www.linkedin.com/school/18993/?legacyS...</td>\n",
       "      <td>Dual MA</td>\n",
       "      <td>Childhood Education, Special Education</td>\n",
       "      <td>2011 â€“ 2013</td>\n",
       "      <td>Indiana University Bloomington</td>\n",
       "      <td>https://www.linkedin.com/school/18342/?legacyS...</td>\n",
       "      <td>Bachelor's degree</td>\n",
       "      <td>English Language and Literature, General</td>\n",
       "      <td>2002 â€“ 2006</td>\n",
       "      <td>nominative@pro</td>\n",
       "      <td>Mr</td>\n",
       "      <td>+248 6 577 050</td>\n",
       "      <td>www.hedgehoghealth.com</td>\n",
       "      <td>NaN</td>\n",
       "      <td>bornandraiseddetroit.org/</td>\n",
       "      <td>http://www.hedgehoghealth.com</td>\n",
       "      <td>Editing, Blogging, Social Media, Event Plannin...</td>\n",
       "      <td>Editing</td>\n",
       "      <td>39</td>\n",
       "      <td>Blogging</td>\n",
       "      <td>31</td>\n",
       "      <td>Social Media</td>\n",
       "      <td>25</td>\n",
       "      <td>Event Planning</td>\n",
       "      <td>14</td>\n",
       "      <td>SEO</td>\n",
       "      <td>11</td>\n",
       "      <td>Curriculum Development</td>\n",
       "      <td>8</td>\n",
       "      <td>https://www.linkedin.com/in/parkeralynch</td>\n",
       "      <td>parkeralynch</td>\n",
       "      <td>2022-01-03T20:02:59.669Z</td>\n",
       "      <td>Greater Detroit Area</td>\n",
       "      <td>500.0</td>\n",
       "      <td>Parker@HedgeHogHealth.com</td>\n",
       "      <td>2023-05-15</td>\n",
       "      <td>NaN</td>\n",
       "      <td>NaN</td>\n",
       "      <td>NaN</td>\n",
       "      <td>NaN</td>\n",
       "      <td>NaN</td>\n",
       "      <td>NaN</td>\n",
       "      <td>NaN</td>\n",
       "      <td>NaN</td>\n",
       "      <td>NaN</td>\n",
       "      <td>NaN</td>\n",
       "      <td>NaN</td>\n",
       "      <td>NaN</td>\n",
       "    </tr>\n",
       "    <tr>\n",
       "      <th>3</th>\n",
       "      <td>https://www.linkedin.com/in/shacharschiff</td>\n",
       "      <td>5. Purchased Membership</td>\n",
       "      <td>Hunter</td>\n",
       "      <td>shachar@badtesting.com</td>\n",
       "      <td>I'm the founder and principal consultant at Ba...</td>\n",
       "      <td>I believe that high-quality, powerful software...</td>\n",
       "      <td>Dallas-Fort Worth Metroplex</td>\n",
       "      <td>Shachar</td>\n",
       "      <td>Schiff</td>\n",
       "      <td>Shachar Schiff</td>\n",
       "      <td>1696.0</td>\n",
       "      <td>35484653.0</td>\n",
       "      <td>2 mutual connections: Andrew Storz and Eric Su...</td>\n",
       "      <td>shachar@badtesting.com</td>\n",
       "      <td>BadTestingÂ® â€” Better Software. On Time.</td>\n",
       "      <td>https://www.linkedin.com/company/badtesting/</td>\n",
       "      <td>Founder and Principal</td>\n",
       "      <td>At BadTesting, we exist because of a simple be...</td>\n",
       "      <td>Austin, Texas, United States</td>\n",
       "      <td>Mar 2012 â€“ Present</td>\n",
       "      <td>The Webby Awards</td>\n",
       "      <td>https://www.linkedin.com/company/the-webby-awa...</td>\n",
       "      <td>Associate Judge</td>\n",
       "      <td>The Webby Awards is the leading international ...</td>\n",
       "      <td>Feb 2015 â€“ Present</td>\n",
       "      <td>DeVry University</td>\n",
       "      <td>https://www.linkedin.com/school/21203/?legacyS...</td>\n",
       "      <td>Bachelor of Science - BS</td>\n",
       "      <td>Electrical and Electronics Engineering</td>\n",
       "      <td>1997 â€“ 2000</td>\n",
       "      <td>NaN</td>\n",
       "      <td>NaN</td>\n",
       "      <td>NaN</td>\n",
       "      <td>NaN</td>\n",
       "      <td>NaN</td>\n",
       "      <td>nominative@pro</td>\n",
       "      <td>Mr</td>\n",
       "      <td>+33 7 50 34 96 76</td>\n",
       "      <td>www.badtesting.com</td>\n",
       "      <td>NaN</td>\n",
       "      <td>badtesting.com</td>\n",
       "      <td>http://www.badtesting.com</td>\n",
       "      <td>Software Quality Assurance, Quality Assurance,...</td>\n",
       "      <td>Software Quality Assurance</td>\n",
       "      <td>71</td>\n",
       "      <td>Quality Assurance</td>\n",
       "      <td>69</td>\n",
       "      <td>Testing</td>\n",
       "      <td>66</td>\n",
       "      <td>System Testing</td>\n",
       "      <td>44</td>\n",
       "      <td>Usability Testing</td>\n",
       "      <td>42</td>\n",
       "      <td>Start-ups</td>\n",
       "      <td>35</td>\n",
       "      <td>https://www.linkedin.com/in/shacharschiff</td>\n",
       "      <td>shacharschiff</td>\n",
       "      <td>2022-01-03T20:03:52.557Z</td>\n",
       "      <td>NaN</td>\n",
       "      <td>NaN</td>\n",
       "      <td>NaN</td>\n",
       "      <td>NaT</td>\n",
       "      <td>NaN</td>\n",
       "      <td>NaN</td>\n",
       "      <td>NaN</td>\n",
       "      <td>NaN</td>\n",
       "      <td>NaN</td>\n",
       "      <td>NaN</td>\n",
       "      <td>NaN</td>\n",
       "      <td>NaN</td>\n",
       "      <td>NaN</td>\n",
       "      <td>NaN</td>\n",
       "      <td>NaN</td>\n",
       "      <td>NaN</td>\n",
       "    </tr>\n",
       "    <tr>\n",
       "      <th>4</th>\n",
       "      <td>https://www.linkedin.com/in/gary-lacourt-811b1874</td>\n",
       "      <td>4.Purchased Event</td>\n",
       "      <td>Hunter</td>\n",
       "      <td>gary.lacourt@forevercompanies.com</td>\n",
       "      <td>Serial entrepreneur and business founder. Main...</td>\n",
       "      <td>Founder and CEO, Forever Companies</td>\n",
       "      <td>Milwaukee, Wisconsin, United States</td>\n",
       "      <td>Gary</td>\n",
       "      <td>LaCourt</td>\n",
       "      <td>Gary LaCourt</td>\n",
       "      <td>710.0</td>\n",
       "      <td>265539469.0</td>\n",
       "      <td>NaN</td>\n",
       "      <td>gary.lacourt@forevercompanies.com</td>\n",
       "      <td>Forever Companies</td>\n",
       "      <td>https://www.linkedin.com/company/forever-compa...</td>\n",
       "      <td>Founder &amp; CEO</td>\n",
       "      <td>Founder and CEO of Forever Companies</td>\n",
       "      <td>Greater Milwaukee Area</td>\n",
       "      <td>Aug 2004 â€“ Present</td>\n",
       "      <td>Milwaukee Business Journal Leadership Trust</td>\n",
       "      <td>https://www.linkedin.com/company/milwaukee-bus...</td>\n",
       "      <td>Charter Member</td>\n",
       "      <td>NaN</td>\n",
       "      <td>Jun 2019 â€“ Present</td>\n",
       "      <td>Northwestern University</td>\n",
       "      <td>https://www.linkedin.com/school/18290/?legacyS...</td>\n",
       "      <td>NaN</td>\n",
       "      <td>NaN</td>\n",
       "      <td>NaN</td>\n",
       "      <td>University of Wisconsin-Milwaukee</td>\n",
       "      <td>https://www.linkedin.com/school/19691/?legacyS...</td>\n",
       "      <td>NaN</td>\n",
       "      <td>NaN</td>\n",
       "      <td>NaN</td>\n",
       "      <td>nominative@pro</td>\n",
       "      <td>Mr</td>\n",
       "      <td>+1 800-509-4990</td>\n",
       "      <td>www.forevercompanies.com</td>\n",
       "      <td>NaN</td>\n",
       "      <td>forevercompanies.com/</td>\n",
       "      <td>http://forevercompanies.com</td>\n",
       "      <td>Marketing Strategy, Jewelry Design, E-commerce...</td>\n",
       "      <td>Marketing Strategy</td>\n",
       "      <td>20</td>\n",
       "      <td>Jewelry Design</td>\n",
       "      <td>18</td>\n",
       "      <td>E-commerce</td>\n",
       "      <td>17</td>\n",
       "      <td>Online Advertising</td>\n",
       "      <td>15</td>\n",
       "      <td>Entrepreneurship</td>\n",
       "      <td>13</td>\n",
       "      <td>Sales</td>\n",
       "      <td>10</td>\n",
       "      <td>https://www.linkedin.com/in/gary-lacourt-811b1874</td>\n",
       "      <td>gary-lacourt-811b1874</td>\n",
       "      <td>2022-01-03T20:04:29.760Z</td>\n",
       "      <td>NaN</td>\n",
       "      <td>NaN</td>\n",
       "      <td>NaN</td>\n",
       "      <td>NaT</td>\n",
       "      <td>NaN</td>\n",
       "      <td>NaN</td>\n",
       "      <td>NaN</td>\n",
       "      <td>NaN</td>\n",
       "      <td>NaN</td>\n",
       "      <td>NaN</td>\n",
       "      <td>NaN</td>\n",
       "      <td>NaN</td>\n",
       "      <td>NaN</td>\n",
       "      <td>NaN</td>\n",
       "      <td>NaN</td>\n",
       "      <td>NaN</td>\n",
       "    </tr>\n",
       "  </tbody>\n",
       "</table>\n",
       "</div>"
      ],
      "text/plain": [
       "                                     linkedinProfile                   Result  \\\n",
       "0    https://www.linkedin.com/in/mark-kohoot-96a08b1  5. Purchased Membership   \n",
       "1            https://www.linkedin.com/in/jonbowerman  5. Purchased Membership   \n",
       "2           https://www.linkedin.com/in/parkeralynch  5. Purchased Membership   \n",
       "3          https://www.linkedin.com/in/shacharschiff  5. Purchased Membership   \n",
       "4  https://www.linkedin.com/in/gary-lacourt-811b1874        4.Purchased Event   \n",
       "\n",
       "    Other                              email  \\\n",
       "0  Hunter                   mk@aeroscena.com   \n",
       "1  Hunter                   jon@kidsdraw.org   \n",
       "2  Hunter          Parker@HedgeHogHealth.com   \n",
       "3  Hunter             shachar@badtesting.com   \n",
       "4  Hunter  gary.lacourt@forevercompanies.com   \n",
       "\n",
       "                                         description  \\\n",
       "0  Mark founded Aeroscena in 2010 with the missio...   \n",
       "1  A creative problem solver who can rapidly desi...   \n",
       "2                                                NaN   \n",
       "3  I'm the founder and principal consultant at Ba...   \n",
       "4  Serial entrepreneur and business founder. Main...   \n",
       "\n",
       "                                            headline  \\\n",
       "0          Bio-pharmaceutical / functional fragrance   \n",
       "1  Co Founder and CTO - Product Development and M...   \n",
       "2  CEO at HedgeHog Health | 2020-2021 Global Educ...   \n",
       "3  I believe that high-quality, powerful software...   \n",
       "4                 Founder and CEO, Forever Companies   \n",
       "\n",
       "                              location firstName  lastName        fullName  \\\n",
       "0       Cleveland, Ohio, United States      Mark    Kohoot     Mark Kohoot   \n",
       "1  Farmington, Michigan, United States       Jon  Bowerman    Jon Bowerman   \n",
       "2   Royal Oak, Michigan, United States    Parker     Lynch    Parker Lynch   \n",
       "3          Dallas-Fort Worth Metroplex   Shachar    Schiff  Shachar Schiff   \n",
       "4  Milwaukee, Wisconsin, United States      Gary   LaCourt    Gary LaCourt   \n",
       "\n",
       "   subscribers       userId  \\\n",
       "0       1704.0    3172258.0   \n",
       "1       1745.0   14910006.0   \n",
       "2       2549.0   22364061.0   \n",
       "3       1696.0   35484653.0   \n",
       "4        710.0  265539469.0   \n",
       "\n",
       "                               mutualConnectionsText  \\\n",
       "0                 1 mutual connection: Eric Sullivan   \n",
       "1                 1 mutual connection: Eric Sullivan   \n",
       "2                                                NaN   \n",
       "3  2 mutual connections: Andrew Storz and Eric Su...   \n",
       "4                                                NaN   \n",
       "\n",
       "                 mailFromDropcontact  \\\n",
       "0                   mk@aeroscena.com   \n",
       "1                   jon@kidsdraw.org   \n",
       "2          parker@hedgehoghealth.com   \n",
       "3             shachar@badtesting.com   \n",
       "4  gary.lacourt@forevercompanies.com   \n",
       "\n",
       "                                      company  \\\n",
       "0                                   Aeroscena   \n",
       "1                               Kids Draw Bob   \n",
       "2                             HedgeHog Health   \n",
       "3  BadTestingÂ® â€” Better Software. On Time.   \n",
       "4                           Forever Companies   \n",
       "\n",
       "                                          companyUrl  \\\n",
       "0        https://www.linkedin.com/company/aeroscena/   \n",
       "1      https://www.linkedin.com/company/kidsdrawbob/   \n",
       "2   https://www.linkedin.com/company/hedgehoghealth/   \n",
       "3       https://www.linkedin.com/company/badtesting/   \n",
       "4  https://www.linkedin.com/company/forever-compa...   \n",
       "\n",
       "                    jobTitle  \\\n",
       "0                        CEO   \n",
       "1  President and Illustrator   \n",
       "2    Chief Executive Officer   \n",
       "3      Founder and Principal   \n",
       "4              Founder & CEO   \n",
       "\n",
       "                                      jobDescription  \\\n",
       "0  Aeroscena develops and markets fragrances from...   \n",
       "1  The energy in a room of children who've found ...   \n",
       "2  Revolutionizing education technology and welln...   \n",
       "3  At BadTesting, we exist because of a simple be...   \n",
       "4               Founder and CEO of Forever Companies   \n",
       "\n",
       "                    jobLocation          jobDateRange  \\\n",
       "0    Cleveland/Akron, Ohio Area  Sep 2010 â€“ Present   \n",
       "1          Bloomfield Hills, MI  Jul 2019 â€“ Present   \n",
       "2                           NaN  Nov 2019 â€“ Present   \n",
       "3  Austin, Texas, United States  Mar 2012 â€“ Present   \n",
       "4        Greater Milwaukee Area  Aug 2004 â€“ Present   \n",
       "\n",
       "                                      company2  \\\n",
       "0          Cleveland Clinic Wellness Institute   \n",
       "1                    High Level Marketing, LLC   \n",
       "2           Born and Raised Detroit Foundation   \n",
       "3                             The Webby Awards   \n",
       "4  Milwaukee Business Journal Leadership Trust   \n",
       "\n",
       "                                         companyUrl2  \\\n",
       "0  https://www.linkedin.com/company/cleveland-cli...   \n",
       "1  https://www.linkedin.com/company/high-level-ma...   \n",
       "2  https://www.linkedin.com/company/born-and-rais...   \n",
       "3  https://www.linkedin.com/company/the-webby-awa...   \n",
       "4  https://www.linkedin.com/company/milwaukee-bus...   \n",
       "\n",
       "                                        jobTitle2  \\\n",
       "0                         Advisor to the Chairman   \n",
       "1  Co Founder and CTO - VP of Product Development   \n",
       "2                              Executive Director   \n",
       "3                                 Associate Judge   \n",
       "4                                  Charter Member   \n",
       "\n",
       "                                     jobDescription2         jobDateRange2  \\\n",
       "0  Supporting the Chairman of the Wellness Instit...         2009 â€“ 2010   \n",
       "1  As one of the fastest growing online marketing...  Nov 2009 â€“ Present   \n",
       "2  â€¢Organize events in cities from coast to coa...  Jan 2016 â€“ Present   \n",
       "3  The Webby Awards is the leading international ...  Feb 2015 â€“ Present   \n",
       "4                                                NaN  Jun 2019 â€“ Present   \n",
       "\n",
       "                                school  \\\n",
       "0  Audencia Nantes Ecole de Management   \n",
       "1               University of Michigan   \n",
       "2                  New York University   \n",
       "3                     DeVry University   \n",
       "4              Northwestern University   \n",
       "\n",
       "                                           schoolUrl  \\\n",
       "0  https://www.linkedin.com/school/19998/?legacyS...   \n",
       "1  https://www.linkedin.com/school/18633/?legacyS...   \n",
       "2  https://www.linkedin.com/school/18993/?legacyS...   \n",
       "3  https://www.linkedin.com/school/21203/?legacyS...   \n",
       "4  https://www.linkedin.com/school/18290/?legacyS...   \n",
       "\n",
       "                 schoolDegree                        schoolDegreeSpec  \\\n",
       "0                      master                               marketing   \n",
       "1  Bachelor of Science (B.S.)                            Architecture   \n",
       "2                     Dual MA  Childhood Education, Special Education   \n",
       "3    Bachelor of Science - BS  Electrical and Electronics Engineering   \n",
       "4                         NaN                                     NaN   \n",
       "\n",
       "  schoolDateRange                            school2  \\\n",
       "0   1984 â€“ 1985          The Ohio State University   \n",
       "1   1999 â€“ 2004    Walled Lake Central High School   \n",
       "2   2011 â€“ 2013     Indiana University Bloomington   \n",
       "3   1997 â€“ 2000                                NaN   \n",
       "4             NaN  University of Wisconsin-Milwaukee   \n",
       "\n",
       "                                          schoolUrl2        schoolDegree2  \\\n",
       "0  https://www.linkedin.com/school/19133/?legacyS...                 BSBA   \n",
       "1  https://www.linkedin.com/school/3204390/?legac...  High School Diploma   \n",
       "2  https://www.linkedin.com/school/18342/?legacyS...    Bachelor's degree   \n",
       "3                                                NaN                  NaN   \n",
       "4  https://www.linkedin.com/school/19691/?legacyS...                  NaN   \n",
       "\n",
       "                          schoolDegreeSpec2 schoolDateRange2  \\\n",
       "0                    International Business    1979 â€“ 1983   \n",
       "1                                       NaN    1995 â€“ 1999   \n",
       "2  English Language and Literature, General    2002 â€“ 2006   \n",
       "3                                       NaN              NaN   \n",
       "4                                       NaN              NaN   \n",
       "\n",
       "  qualificationFromDropContact civilityFromDropContact  \\\n",
       "0               nominative@pro                      Mr   \n",
       "1               nominative@pro                      Mr   \n",
       "2               nominative@pro                      Mr   \n",
       "3               nominative@pro                      Mr   \n",
       "4               nominative@pro                      Mr   \n",
       "\n",
       "  phoneNumberFromDropContact    websiteFromDropContact      twitter  \\\n",
       "0            +1 800-671-1890         www.aeroscena.com  ShopAscents   \n",
       "1                        NaN          www.kidsdraw.org          NaN   \n",
       "2             +248 6 577 050    www.hedgehoghealth.com          NaN   \n",
       "3          +33 7 50 34 96 76        www.badtesting.com          NaN   \n",
       "4            +1 800-509-4990  www.forevercompanies.com          NaN   \n",
       "\n",
       "                          website                  companyWebsite  \\\n",
       "0  stumbleupon.com/content/1LSMVB           https://aeroscena.com   \n",
       "1                             NaN  http://www.kidsdraw.org/donate   \n",
       "2       bornandraiseddetroit.org/   http://www.hedgehoghealth.com   \n",
       "3                  badtesting.com       http://www.badtesting.com   \n",
       "4           forevercompanies.com/     http://forevercompanies.com   \n",
       "\n",
       "                                           allSkills  \\\n",
       "0  Strategic Planning, Leadership, Marketing Stra...   \n",
       "1  Web Design, Marketing, Business Strategy, SEO,...   \n",
       "2  Editing, Blogging, Social Media, Event Plannin...   \n",
       "3  Software Quality Assurance, Quality Assurance,...   \n",
       "4  Marketing Strategy, Jewelry Design, E-commerce...   \n",
       "\n",
       "                       skill1 endorsement1             skill2 endorsement2  \\\n",
       "0          Strategic Planning           31         Leadership           26   \n",
       "1                  Web Design           99          Marketing           66   \n",
       "2                     Editing           39           Blogging           31   \n",
       "3  Software Quality Assurance           71  Quality Assurance           69   \n",
       "4          Marketing Strategy           20     Jewelry Design           18   \n",
       "\n",
       "               skill3 endorsement3              skill4 endorsement4  \\\n",
       "0  Marketing Strategy           24            Strategy           21   \n",
       "1   Business Strategy           11                 SEO           47   \n",
       "2        Social Media           25      Event Planning           14   \n",
       "3             Testing           66      System Testing           44   \n",
       "4          E-commerce           17  Online Advertising           15   \n",
       "\n",
       "                     skill5 endorsement5                  skill6 endorsement6  \\\n",
       "0  New Business Development           18       Business Strategy           15   \n",
       "1           Web Development           40        Online Marketing           32   \n",
       "2                       SEO           11  Curriculum Development            8   \n",
       "3         Usability Testing           42               Start-ups           35   \n",
       "4          Entrepreneurship           13                   Sales           10   \n",
       "\n",
       "                                             baseUrl              profileId  \\\n",
       "0    https://www.linkedin.com/in/mark-kohoot-96a08b1    mark-kohoot-96a08b1   \n",
       "1            https://www.linkedin.com/in/jonbowerman            jonbowerman   \n",
       "2           https://www.linkedin.com/in/parkeralynch           parkeralynch   \n",
       "3          https://www.linkedin.com/in/shacharschiff          shacharschiff   \n",
       "4  https://www.linkedin.com/in/gary-lacourt-811b1874  gary-lacourt-811b1874   \n",
       "\n",
       "                  timestamp          jobLocation2  connectionsCount  \\\n",
       "0  2022-01-03T20:00:58.586Z                   NaN               NaN   \n",
       "1  2022-01-03T20:01:43.218Z   West Bloomfield, MI               NaN   \n",
       "2  2022-01-03T20:02:59.669Z  Greater Detroit Area             500.0   \n",
       "3  2022-01-03T20:03:52.557Z                   NaN               NaN   \n",
       "4  2022-01-03T20:04:29.760Z                   NaN               NaN   \n",
       "\n",
       "                        mail   birthday schoolDescription2  \\\n",
       "0                        NaN        NaT                NaN   \n",
       "1                        NaN        NaT                NaN   \n",
       "2  Parker@HedgeHogHealth.com 2023-05-15                NaN   \n",
       "3                        NaN        NaT                NaN   \n",
       "4                        NaN        NaT                NaN   \n",
       "\n",
       "  naf5CodeFromDropContact naf5DesFromDropContact  sirenFromDropContact  \\\n",
       "0                     NaN                    NaN                   NaN   \n",
       "1                     NaN                    NaN                   NaN   \n",
       "2                     NaN                    NaN                   NaN   \n",
       "3                     NaN                    NaN                   NaN   \n",
       "4                     NaN                    NaN                   NaN   \n",
       "\n",
       "   siretFromDropContact siretAddressFromDropContact  siretZipFromDropContact  \\\n",
       "0                   NaN                         NaN                      NaN   \n",
       "1                   NaN                         NaN                      NaN   \n",
       "2                   NaN                         NaN                      NaN   \n",
       "3                   NaN                         NaN                      NaN   \n",
       "4                   NaN                         NaN                      NaN   \n",
       "\n",
       "  vatFromDropContact schoolDescription nbEmployeesFromDropContact  \\\n",
       "0                NaN               NaN                        NaN   \n",
       "1                NaN               NaN                        NaN   \n",
       "2                NaN               NaN                        NaN   \n",
       "3                NaN               NaN                        NaN   \n",
       "4                NaN               NaN                        NaN   \n",
       "\n",
       "   Unnamed: 72 Unnamed: 73  \n",
       "0          NaN         NaN  \n",
       "1          NaN         NaN  \n",
       "2          NaN         NaN  \n",
       "3          NaN         NaN  \n",
       "4          NaN         NaN  "
      ]
     },
     "execution_count": 6,
     "metadata": {},
     "output_type": "execute_result"
    }
   ],
   "source": [
    "dataset.head()"
   ]
  },
  {
   "cell_type": "markdown",
   "id": "32ca7de3",
   "metadata": {},
   "source": [
    "### Сhecking for omissions"
   ]
  },
  {
   "cell_type": "markdown",
   "id": "87a17f1e",
   "metadata": {},
   "source": [
    "Check the dataset for gaps using the isna().sum() method"
   ]
  },
  {
   "cell_type": "code",
   "execution_count": 7,
   "id": "91942259",
   "metadata": {},
   "outputs": [
    {
     "data": {
      "text/plain": [
       "linkedinProfile                 0\n",
       "Result                          0\n",
       "Other                         157\n",
       "email                         132\n",
       "description                    70\n",
       "                             ... \n",
       "vatFromDropContact            332\n",
       "schoolDescription             284\n",
       "nbEmployeesFromDropContact    336\n",
       "Unnamed: 72                   348\n",
       "Unnamed: 73                   286\n",
       "Length: 74, dtype: int64"
      ]
     },
     "execution_count": 7,
     "metadata": {},
     "output_type": "execute_result"
    }
   ],
   "source": [
    "dataset.isna().sum()"
   ]
  },
  {
   "cell_type": "markdown",
   "id": "235fdf9b",
   "metadata": {},
   "source": [
    "The data contains columns with a large number of gaps. Removing rows with missing values is not a good idea as this may affect the results of the study. In order to bring the data into a clean and easy-to-work form, we will use a different approach."
   ]
  },
  {
   "cell_type": "markdown",
   "id": "ca07fbd7",
   "metadata": {},
   "source": [
    "It would be logical to remove columns with a large number of gaps and leave the rows unchanged. Let's remove columns where there are more than half of missing values (>= 175)."
   ]
  },
  {
   "cell_type": "code",
   "execution_count": 8,
   "id": "0f8d40db",
   "metadata": {},
   "outputs": [
    {
     "name": "stdout",
     "output_type": "stream",
     "text": [
      "<class 'pandas.core.frame.DataFrame'>\n",
      "RangeIndex: 348 entries, 0 to 347\n",
      "Data columns (total 50 columns):\n",
      " #   Column                   Non-Null Count  Dtype  \n",
      "---  ------                   --------------  -----  \n",
      " 0   linkedinProfile          348 non-null    object \n",
      " 1   Result                   348 non-null    object \n",
      " 2   Other                    191 non-null    object \n",
      " 3   email                    216 non-null    object \n",
      " 4   description              278 non-null    object \n",
      " 5   headline                 348 non-null    object \n",
      " 6   location                 348 non-null    object \n",
      " 7   firstName                348 non-null    object \n",
      " 8   lastName                 348 non-null    object \n",
      " 9   fullName                 348 non-null    object \n",
      " 10  subscribers              347 non-null    float64\n",
      " 11  userId                   289 non-null    float64\n",
      " 12  company                  346 non-null    object \n",
      " 13  companyUrl               263 non-null    object \n",
      " 14  jobTitle                 347 non-null    object \n",
      " 15  jobLocation              215 non-null    object \n",
      " 16  jobDateRange             342 non-null    object \n",
      " 17  company2                 335 non-null    object \n",
      " 18  companyUrl2              236 non-null    object \n",
      " 19  jobTitle2                335 non-null    object \n",
      " 20  jobDescription2          183 non-null    object \n",
      " 21  jobDateRange2            332 non-null    object \n",
      " 22  school                   328 non-null    object \n",
      " 23  schoolUrl                275 non-null    object \n",
      " 24  schoolDegree             267 non-null    object \n",
      " 25  schoolDegreeSpec         227 non-null    object \n",
      " 26  schoolDateRange          287 non-null    object \n",
      " 27  school2                  208 non-null    object \n",
      " 28  schoolDateRange2         177 non-null    object \n",
      " 29  civilityFromDropContact  277 non-null    object \n",
      " 30  websiteFromDropContact   323 non-null    object \n",
      " 31  website                  205 non-null    object \n",
      " 32  companyWebsite           247 non-null    object \n",
      " 33  allSkills                330 non-null    object \n",
      " 34  skill1                   330 non-null    object \n",
      " 35  endorsement1             329 non-null    object \n",
      " 36  skill2                   330 non-null    object \n",
      " 37  endorsement2             329 non-null    object \n",
      " 38  skill3                   330 non-null    object \n",
      " 39  endorsement3             329 non-null    object \n",
      " 40  skill4                   330 non-null    object \n",
      " 41  endorsement4             329 non-null    object \n",
      " 42  skill5                   329 non-null    object \n",
      " 43  endorsement5             329 non-null    object \n",
      " 44  skill6                   326 non-null    object \n",
      " 45  endorsement6             326 non-null    object \n",
      " 46  baseUrl                  348 non-null    object \n",
      " 47  profileId                348 non-null    object \n",
      " 48  timestamp                348 non-null    object \n",
      " 49  jobLocation2             246 non-null    object \n",
      "dtypes: float64(2), object(48)\n",
      "memory usage: 136.1+ KB\n"
     ]
    }
   ],
   "source": [
    "threshold = 175\n",
    "\n",
    "for column in dataset.columns:\n",
    "    if dataset[column].isna().sum() >= threshold:\n",
    "        dataset.drop(column, axis=1, inplace=True)\n",
    "\n",
    "dataset.info()"
   ]
  },
  {
   "cell_type": "markdown",
   "id": "b746b4a6",
   "metadata": {},
   "source": [
    "The number of columns has been reduced by a third. We can leave the remaining omissions as they are; this will not affect the results of the study."
   ]
  },
  {
   "cell_type": "markdown",
   "id": "f6ae9e3b",
   "metadata": {},
   "source": [
    "### Check for duplicates"
   ]
  },
  {
   "cell_type": "markdown",
   "id": "6a5b6bc0",
   "metadata": {},
   "source": [
    "Let's check the dataset for obvious duplicates using the duplicated().sum() method"
   ]
  },
  {
   "cell_type": "code",
   "execution_count": 9,
   "id": "ead4e7cd",
   "metadata": {},
   "outputs": [
    {
     "data": {
      "text/plain": [
       "0"
      ]
     },
     "execution_count": 9,
     "metadata": {},
     "output_type": "execute_result"
    }
   ],
   "source": [
    "dataset.duplicated().sum()"
   ]
  },
  {
   "cell_type": "markdown",
   "id": "9b688d86",
   "metadata": {},
   "source": [
    "No obvious duplicates were found in the dataset."
   ]
  },
  {
   "cell_type": "markdown",
   "id": "31f8cd90",
   "metadata": {},
   "source": [
    "### Finding implicit duplicates and anomalies"
   ]
  },
  {
   "cell_type": "markdown",
   "id": "abbd21db",
   "metadata": {},
   "source": [
    "Let's analyze the main columns for implicit duplicates, as well as various anomalies."
   ]
  },
  {
   "cell_type": "code",
   "execution_count": 10,
   "id": "27f43097",
   "metadata": {
    "scrolled": true
   },
   "outputs": [
    {
     "data": {
      "text/plain": [
       "https://www.linkedin.com/in/bill-cochrane-7495667          2\n",
       "https://www.linkedin.com/in/sniktasam                      2\n",
       "https://www.linkedin.com/in/tomfilippini/                  1\n",
       "https://www.linkedin.com/in/tombreeze/                     1\n",
       "https://www.linkedin.com/in/toddtzeng/                     1\n",
       "                                                          ..\n",
       "https://www.linkedin.com/in/jeff-koeze-43a24b3             1\n",
       "https://www.linkedin.com/in/kenneth-a-ross-iii-9324a1a0    1\n",
       "https://www.linkedin.com/in/johnbinkowski                  1\n",
       "https://www.linkedin.com/in/thomas-thayer-6858a816         1\n",
       "https://www.linkedin.com/in/matthew-d-lando-72a0bbb/       1\n",
       "Name: linkedinProfile, Length: 346, dtype: int64"
      ]
     },
     "execution_count": 10,
     "metadata": {},
     "output_type": "execute_result"
    }
   ],
   "source": [
    "dataset['linkedinProfile'].value_counts()"
   ]
  },
  {
   "cell_type": "markdown",
   "id": "101534a5",
   "metadata": {},
   "source": [
    "Everything is ok here. The column contains a unique link to your LinkedIn profile."
   ]
  },
  {
   "cell_type": "code",
   "execution_count": 11,
   "id": "229bef2e",
   "metadata": {},
   "outputs": [
    {
     "data": {
      "text/plain": [
       "2021 Member                157\n",
       "2. Sent Personal f/u       127\n",
       "3. Approved                 28\n",
       "Out of Sequence             26\n",
       "4.Purchased Event            6\n",
       "5. Purchased Membership      4\n",
       "Name: Result, dtype: int64"
      ]
     },
     "execution_count": 11,
     "metadata": {},
     "output_type": "execute_result"
    }
   ],
   "source": [
    "dataset['Result'].value_counts()"
   ]
  },
  {
   "cell_type": "markdown",
   "id": "d8bd38eb",
   "metadata": {},
   "source": [
    "After parsing, scraps of numbers remained. Let's remove everything unnecessary."
   ]
  },
  {
   "cell_type": "code",
   "execution_count": 12,
   "id": "8b435d71",
   "metadata": {},
   "outputs": [
    {
     "name": "stdout",
     "output_type": "stream",
     "text": [
      "Member                  157\n",
      "Sent Personal f/u       127\n",
      "Approved                 28\n",
      "Out of Sequence          26\n",
      "Purchased Event           6\n",
      "Purchased Membership      4\n",
      "Name: Result, dtype: int64\n"
     ]
    }
   ],
   "source": [
    "replace_dict = {\n",
    "    '2021 Member': 'Member',\n",
    "    '2. Sent Personal f/u': 'Sent Personal f/u',\n",
    "    '3. Approved': 'Approved',\n",
    "    '4.Purchased Event': 'Purchased Event',\n",
    "    '5. Purchased Membership': 'Purchased Membership'\n",
    "}\n",
    "\n",
    "dataset['Result'] = dataset['Result'].replace(replace_dict)\n",
    "\n",
    "print(dataset['Result'].value_counts())"
   ]
  },
  {
   "cell_type": "code",
   "execution_count": 13,
   "id": "d1689d49",
   "metadata": {},
   "outputs": [
    {
     "data": {
      "text/plain": [
       "Hunter     142\n",
       "Hollis      45\n",
       "Lovitch      3\n",
       "Janis        1\n",
       "Name: Other, dtype: int64"
      ]
     },
     "execution_count": 13,
     "metadata": {},
     "output_type": "execute_result"
    }
   ],
   "source": [
    "dataset['Other'].value_counts()"
   ]
  },
  {
   "cell_type": "markdown",
   "id": "4ff17118",
   "metadata": {},
   "source": [
    "There are no problems found in this column."
   ]
  },
  {
   "cell_type": "code",
   "execution_count": 14,
   "id": "3297caca",
   "metadata": {},
   "outputs": [
    {
     "data": {
      "text/plain": [
       "sam@buildfoothold.com                 2\n",
       "mike@rainmaker.agency                 1\n",
       "steven@flowresearchcollective.com     1\n",
       "sven.platte@digistore24.com           1\n",
       "tpower@wealthsource.com               1\n",
       "                                     ..\n",
       "ianbarrie@brandingloudandclear.com    1\n",
       "landerson@joyundiluted.com            1\n",
       "thansen@thagency.com                  1\n",
       "zach@8figureagency.co                 1\n",
       "margaret.conger@biocidin.com          1\n",
       "Name: email, Length: 215, dtype: int64"
      ]
     },
     "execution_count": 14,
     "metadata": {},
     "output_type": "execute_result"
    }
   ],
   "source": [
    "dataset['email'].value_counts()"
   ]
  },
  {
   "cell_type": "markdown",
   "id": "bb339109",
   "metadata": {},
   "source": [
    "This column contains unique user email addresses. Only one duplicate was found - sam@buildfoothold.com, found twice in the dataset. Probably some user has two profiles on LinkedIn where this mailbox is indicated."
   ]
  },
  {
   "cell_type": "code",
   "execution_count": 15,
   "id": "a9eb9882",
   "metadata": {},
   "outputs": [
    {
     "data": {
      "text/plain": [
       "Co-Founder at Foothold                                                                                                  2\n",
       "President at Nalu Board Co.                                                                                             2\n",
       "Entrepreneur                                                                                                            2\n",
       "Co-founder, Leaner For Life â€¢ Bella Notte & Co.                                                                       1\n",
       "Founder of Luxury Travel & Aviation Companies - Exclusive Resorts, StraightLine, FlightLink | Instrument Rated Pilot    1\n",
       "                                                                                                                       ..\n",
       "Food Marketing | E-Commerce | Food Manufacturing | Investor                                                             1\n",
       "Founder and Managing Partner at Moja Marketplace                                                                        1\n",
       "Founder at GIN PROS.                                                                                                    1\n",
       "On-Stream Leak Sealing Group Admin at Linkedin                                                                          1\n",
       "Founder and CEO at Gulf Shore Logistics                                                                                 1\n",
       "Name: headline, Length: 345, dtype: int64"
      ]
     },
     "execution_count": 15,
     "metadata": {},
     "output_type": "execute_result"
    }
   ],
   "source": [
    "dataset['headline'].value_counts()"
   ]
  },
  {
   "cell_type": "markdown",
   "id": "f37f9833",
   "metadata": {},
   "source": [
    "In the headline column, members of the LinkedIn social network usually indicate their main occupation - company founder, manager, specialist, etc."
   ]
  },
  {
   "cell_type": "code",
   "execution_count": 16,
   "id": "90063956",
   "metadata": {},
   "outputs": [
    {
     "data": {
      "text/plain": [
       "Austin, Texas, United States              14\n",
       "Madison, Wisconsin, United States         12\n",
       "Denver, Colorado, United States           10\n",
       "United States                             10\n",
       "Dallas-Fort Worth Metroplex                6\n",
       "                                          ..\n",
       "Kohler, Wisconsin, United States           1\n",
       "Brooklyn, Michigan, United States          1\n",
       "Benton Harbor, Michigan, United States     1\n",
       "Patriot, Ohio, United States               1\n",
       "Delray Beach, Florida, United States       1\n",
       "Name: location, Length: 205, dtype: int64"
      ]
     },
     "execution_count": 16,
     "metadata": {},
     "output_type": "execute_result"
    }
   ],
   "source": [
    "dataset['location'].value_counts()"
   ]
  },
  {
   "cell_type": "markdown",
   "id": "46712e80",
   "metadata": {},
   "source": [
    "In the location column, the user usually indicates his location. As you can see, the majority of users in the current dataset are from the USA and Canada."
   ]
  },
  {
   "cell_type": "code",
   "execution_count": 17,
   "id": "705eb7b3",
   "metadata": {},
   "outputs": [
    {
     "data": {
      "text/plain": [
       "229.0     3\n",
       "487.0     2\n",
       "1322.0    2\n",
       "1476.0    2\n",
       "1910.0    2\n",
       "         ..\n",
       "535.0     1\n",
       "150.0     1\n",
       "1095.0    1\n",
       "1034.0    1\n",
       "3099.0    1\n",
       "Name: subscribers, Length: 338, dtype: int64"
      ]
     },
     "execution_count": 17,
     "metadata": {},
     "output_type": "execute_result"
    }
   ],
   "source": [
    "dataset['subscribers'].value_counts()"
   ]
  },
  {
   "cell_type": "markdown",
   "id": "130a69ee",
   "metadata": {},
   "source": [
    "To work with numeric values, it is better to use the describe() method."
   ]
  },
  {
   "cell_type": "code",
   "execution_count": 18,
   "id": "a4a00fdf",
   "metadata": {},
   "outputs": [
    {
     "data": {
      "text/plain": [
       "count      347.000000\n",
       "mean      2621.417867\n",
       "std       4094.423593\n",
       "min          0.000000\n",
       "25%        650.500000\n",
       "50%       1307.000000\n",
       "75%       2571.000000\n",
       "max      32970.000000\n",
       "Name: subscribers, dtype: float64"
      ]
     },
     "execution_count": 18,
     "metadata": {},
     "output_type": "execute_result"
    }
   ],
   "source": [
    "dataset['subscribers'].describe()"
   ]
  },
  {
   "cell_type": "markdown",
   "id": "3adebc9d",
   "metadata": {},
   "source": [
    "The total number of rows is 347. The average number of subscribers a user has is 2621. The standard deviation is 4094 and indicates a large spread in the data. There is nothing unusual about this, because different users have different numbers of subscribers.\n",
    "\n",
    "Minimum value - 0 subscribers\n",
    "Maximum value - 32,970 subscribers"
   ]
  },
  {
   "cell_type": "code",
   "execution_count": 19,
   "id": "572842e7",
   "metadata": {},
   "outputs": [
    {
     "data": {
      "image/png": "[encoded data removed]",
      "text/plain": [
       "<Figure size 600x1000 with 1 Axes>"
      ]
     },
     "metadata": {},
     "output_type": "display_data"
    }
   ],
   "source": [
    "sns.set(style=\"whitegrid\")\n",
    "\n",
    "plt.figure(figsize=(6, 10))\n",
    "sns.boxplot(y=dataset['subscribers'])\n",
    "\n",
    "plt.title('Boxplot for the column \"subscribers\"', fontsize=16)\n",
    "\n",
    "plt.show()"
   ]
  },
  {
   "cell_type": "markdown",
   "id": "917b0253",
   "metadata": {},
   "source": [
    "On the graph we see a small percentage of outliers. We will remove users who have more than 10,000 subscribers."
   ]
  },
  {
   "cell_type": "code",
   "execution_count": 20,
   "id": "6fe46422",
   "metadata": {},
   "outputs": [
    {
     "name": "stdout",
     "output_type": "stream",
     "text": [
      "Number of rows after deletion: 328\n"
     ]
    },
    {
     "data": {
      "image/png": "[encoded data removed]",
      "text/plain": [
       "<Figure size 600x1000 with 1 Axes>"
      ]
     },
     "metadata": {},
     "output_type": "display_data"
    }
   ],
   "source": [
    "threshold_subs = 10000\n",
    "\n",
    "dataset = dataset[dataset['subscribers'] <= threshold_subs]\n",
    "\n",
    "print(f\"Number of rows after deletion: {len(dataset)}\")\n",
    "\n",
    "plt.figure(figsize=(6, 10))\n",
    "sns.boxplot(y=dataset['subscribers'])\n",
    "plt.title('Boxplot for data after removing outliers', fontsize=16)\n",
    "plt.show()"
   ]
  },
  {
   "cell_type": "markdown",
   "id": "307300bf",
   "metadata": {},
   "source": [
    "Check the data in the jobTitle column for implicit duplicates and anomalies."
   ]
  },
  {
   "cell_type": "code",
   "execution_count": 21,
   "id": "e1e47d19",
   "metadata": {},
   "outputs": [
    {
     "data": {
      "text/plain": [
       "Founder                                     37\n",
       "Co-Founder                                  19\n",
       "CEO                                         16\n",
       "Founder and CEO                             13\n",
       "Founder & CEO                               12\n",
       "                                            ..\n",
       "Publisher                                    1\n",
       "Senior Unity Engineer                        1\n",
       "On-Stream Leak Sealing Group Admin           1\n",
       "Realtor                                      1\n",
       "Clinical Consultant & Account Specialist     1\n",
       "Name: jobTitle, Length: 194, dtype: int64"
      ]
     },
     "execution_count": 21,
     "metadata": {},
     "output_type": "execute_result"
    }
   ],
   "source": [
    "dataset['jobTitle'].value_counts()"
   ]
  },
  {
   "cell_type": "markdown",
   "id": "de0fcdd1",
   "metadata": {},
   "source": [
    "There are a large number of implicit duplicates in the column. We will use the replace method to replace equivalent values and bring the data to a common form."
   ]
  },
  {
   "cell_type": "code",
   "execution_count": 22,
   "id": "a51a8153",
   "metadata": {},
   "outputs": [
    {
     "name": "stdout",
     "output_type": "stream",
     "text": [
      "Founder                                     54\n",
      "CEO & Founder                               45\n",
      "Co-Founder                                  32\n",
      "CEO                                         28\n",
      "Co-Founder & CEO                            24\n",
      "                                            ..\n",
      "Associate Product Manager                    1\n",
      "Fractional Strategy + Operations             1\n",
      "2d/3d Motion Designer & Animator             1\n",
      "Agency Development Leader                    1\n",
      "Clinical Consultant & Account Specialist     1\n",
      "Name: jobTitle, Length: 117, dtype: int64\n"
     ]
    }
   ],
   "source": [
    "dataset['jobTitle'] = dataset['jobTitle'].replace({\n",
    "    'Founder & CEO': 'CEO & Founder',\n",
    "    'Founder and CEO': 'CEO & Founder',\n",
    "    'CEO & Founder': 'CEO & Founder',\n",
    "    'CEO & Co-Founder': 'Co-Founder & CEO',\n",
    "    'Founder/CEO': 'CEO & Founder',\n",
    "    'Chief Executive Officer': 'CEO',\n",
    "    'Co-Founder and CEO': 'Co-Founder & CEO',\n",
    "    'CEO and Co-Founder': 'Co-Founder & CEO',\n",
    "    'Founder and CEO, Master Coach': 'CEO & Founder',\n",
    "    'Founder and Chief Executive Officer': 'CEO & Founder',\n",
    "    'CEO, Founder, Speaker and Author': 'CEO & Founder',\n",
    "    'President & CEO, Chair': 'President',\n",
    "    'Founder, CEO': 'CEO & Founder',\n",
    "    'Owner': 'Business Owner',\n",
    "    'Founder and Principal': 'Founder',\n",
    "    'President and Co-Founder': 'Co-Founder & CEO',\n",
    "    'CEO/Co-Founder': 'Co-Founder & CEO',\n",
    "    'Co-FounderDrinkLMNT': 'Co-Founder',\n",
    "    'Author, Trainer, Coach': 'Author',\n",
    "    'Co-founder Nectar Sunglasses': 'Co-Founder',\n",
    "    'Managing Partner and CEO': 'CEO',\n",
    "    'Founder & CEO | Franchisor | Restaurant Franchise Developer | Marketing Specialist | DIY': 'CEO & Founder',\n",
    "    'Founder/CEO, Bare honey': 'CEO & Founder',\n",
    "    'Founder & Brand Developer': 'Founder',\n",
    "    'Co-Founder / Director of Marketing': 'Co-Founder',\n",
    "    'Managing Partner - Corporate, Securities & Tax': 'Partner',\n",
    "    'Founding Partner': 'Co-Founder',\n",
    "    'Founder & Lead Guide': 'Founder',\n",
    "    'Principal/Founder': 'Founder',\n",
    "    'CEO/ Co-Founder': 'Co-Founder & CEO',\n",
    "    'Chief Executive Officer, Founder': 'CEO & Founder',\n",
    "    'Founder & Rainmaker': 'Founder',\n",
    "    'Owner/Founder/President': 'Founder',\n",
    "    'President and Founder': 'Founder',\n",
    "    'Partner, Co-Founder': 'Co-Founder',\n",
    "    'Founder & CTO': 'Founder',\n",
    "    'Founder & President': 'Founder',\n",
    "    'Founder | President': 'Founder',\n",
    "    'Partner + Accelerator Director': 'Partner',\n",
    "    'Founder, Creative Director': 'Founder',\n",
    "    'FOUNDER & O.M': 'Founder',\n",
    "    'Owner/Manager': 'Business Owner',\n",
    "    'President & Chief Operating Officer': 'President & CEO',\n",
    "    'Co-Founder / Strategic Partnerships': 'Co-Founder',\n",
    "    'Chief Operating Officer & Chief Human Performance Officer': 'COO',\n",
    "    'Founder, CEO, and Partner': 'CEO & Founder',\n",
    "    'CEO and Founder': 'CEO & Founder',\n",
    "    'CEO Seattle Commissary Kitchen': 'CEO',\n",
    "    'President & CEO': 'President',\n",
    "    'Co-Owner & CEO': 'Co-Founder & CEO',\n",
    "    'CEO/Vice President': 'CEO',\n",
    "    'Founder - CEO': 'CEO & Founder',\n",
    "    'Owner & Conversion Copywriter': 'Business Owner',\n",
    "    'Co-Founder / COO': 'Co-Founder',\n",
    "    'Co-Owner': 'Partner',\n",
    "    'Co-founder / CEO': 'Co-Founder & CEO',\n",
    "    'Lead Visionary and Founder': 'Founder',\n",
    "    'Founder, Executive Creative Director': 'Founder',\n",
    "    'Co-Founder & Chief Innovation Officer': 'Co-Founder & CEO',\n",
    "    'Founder and Managing Partner': 'Founder',\n",
    "    'Founder, CEO, LinkedIn Influencer Trainer,  and Lead Generation Expert Business coach': 'CEO & Founder',\n",
    "    'Owner/Trainer': 'Business Owner',\n",
    "    'CEO and President': 'CEO',\n",
    "    'Cofounder & CTO': 'Co-Founder & CEO',\n",
    "    'Chief Instigator / Co-Founder': 'Co-Founder',\n",
    "    'Co-Founder & CTO': 'Co-Founder',\n",
    "    'CEO / Co-Founder of Hello Beverages': 'Co-Founder & CEO',\n",
    "    'FOUNDER': 'Founder',\n",
    "    'Founder & President | Call Center Outsourcing  and BPO Expert & Consultant': 'Founder',\n",
    "    'Founder, CEO - Senior Marketing Strategist': 'CEO & Founder',\n",
    "    'Founder & Creative Director': 'CEO & Founder',\n",
    "    'Founder and Creative Director': 'CEO & Founder',\n",
    "    'Co-Founder and Medical Advisor for Aluvis International': 'Co-Founder',\n",
    "    'CSO and Co-founder': 'Co-Founder',\n",
    "    'Chief Operating Officer/Co-Founder': 'Co-Founder & CEO',\n",
    "    'Co-founder, Vice President of Business Development': 'Co-Founder',\n",
    "    'Co-Founder/Visonary': 'Co-Founder',\n",
    "    'COO/GM | Vice President of Engineering': 'COO',\n",
    "    'Co Founder and CEO - The Barre Code': 'Co-Founder & CEO',\n",
    "    'Founder, Final Draft': 'Founder',\n",
    "    'CEO & Co-founder': 'Co-Founder & CEO',\n",
    "    'Chief Operating Officer': 'CEO'\n",
    "})\n",
    "\n",
    "print(dataset['jobTitle'].value_counts())"
   ]
  },
  {
   "cell_type": "markdown",
   "id": "c6f825c3",
   "metadata": {},
   "source": [
    "Let's handle implicit duplicates in the schoolDegree column."
   ]
  },
  {
   "cell_type": "code",
   "execution_count": 23,
   "id": "18354ff4",
   "metadata": {
    "scrolled": true
   },
   "outputs": [
    {
     "data": {
      "text/plain": [
       "Bachelor's degree             10\n",
       "Bachelor of Science            9\n",
       "BA                             9\n",
       "BS                             8\n",
       "MBA                            8\n",
       "                              ..\n",
       "Master of Arts                 1\n",
       "BS Advertising                 1\n",
       "JD                             1\n",
       "Bachelor of Science (BSc)      1\n",
       "Certified IFM Health Coach     1\n",
       "Name: schoolDegree, Length: 168, dtype: int64"
      ]
     },
     "execution_count": 23,
     "metadata": {},
     "output_type": "execute_result"
    }
   ],
   "source": [
    "dataset['schoolDegree'].value_counts()"
   ]
  },
  {
   "cell_type": "code",
   "execution_count": 24,
   "id": "220603a7",
   "metadata": {},
   "outputs": [
    {
     "name": "stdout",
     "output_type": "stream",
     "text": [
      "Bachelor of Science - BS                   53\n",
      "Bachelor of Arts - BA                      27\n",
      "Bachelor's degree                          21\n",
      "Master of Business Administration - MBA    20\n",
      "Master's Degree                             8\n",
      "                                           ..\n",
      "Associates Degree                           1\n",
      "Bachelor of Fine Arts - BFA)                1\n",
      "Associate of Arts and Sciences (AAS)        1\n",
      "Clinical Herbalist Certification            1\n",
      "Certified IFM Health Coach                  1\n",
      "Name: schoolDegree, Length: 82, dtype: int64\n"
     ]
    }
   ],
   "source": [
    "dataset['schoolDegree'] = dataset['schoolDegree'].replace({\n",
    "    'BA': 'Bachelor of Arts - BA',\n",
    "    'BS': 'Bachelor of Science - BS',\n",
    "    'Bachelor of Science': 'Bachelor of Science - BS',\n",
    "    'MBA': 'Master of Business Administration - MBA',\n",
    "    'B.S.': 'Bachelor of Science - BS',\n",
    "    'Bachelorâ€™s Degree': \"Bachelor's degree\",\n",
    "    'Bachelor of Arts (B.A.)': 'Bachelor of Arts - BA',\n",
    "    'Bachelor of Science (B.S.)': 'Bachelor of Science - BS',\n",
    "    'Bachelor of Science (BS)': 'Bachelor of Science - BS',\n",
    "    'BS Business': 'Bachelor of Science - BS',\n",
    "    'Master of Business Administration (MBA)': 'Master of Business Administration - MBA',\n",
    "    'Bachelor of Arts': 'Bachelor of Arts - BA',\n",
    "    'B.A.': 'Bachelor of Arts - BA',\n",
    "    'BS, Finance': 'Bachelor of Science - BS',\n",
    "    'Master of Business Administration (M.B.A.)': 'Master of Business Administration - MBA',\n",
    "    'PhD': 'Doctor of Philosophy - PhD',\n",
    "    'Bachelors of Science': 'Bachelor of Science - BS',\n",
    "    'Doctor of Law (J.D.)': 'Doctor of Law - JD',\n",
    "    'Doctor of Law (J.D.), litigation': 'Doctor of Law - JD',\n",
    "    'BS, Applied Economics & Management': 'Bachelor of Science - BS',\n",
    "    'BS, Civil Engineering - Structures': 'Bachelor of Science - BS',\n",
    "    'Bachelor of Arts, Psychology': 'Bachelor of Arts - BA',\n",
    "    'Bachelor of Science, Marketing': 'Bachelor of Science - BS',\n",
    "    'B.S., Information Systems, Business Administration (Minor)': 'Bachelor of Science - BS',\n",
    "    'BA, Communications & Mass Media': 'Bachelor of Arts - BA',\n",
    "    'Bachelor of Science - BS, Youth Ministry with focus in Pastoral Ministries & Counseling': 'Bachelor of Science - BS',\n",
    "    'B.S': 'Bachelor of Science - BS',\n",
    "    'MBA, General Management': 'Master of Business Administration - MBA',\n",
    "    'BS biochemistry': 'Bachelor of Science - BS',\n",
    "    'Bachelor of Science, Finance': 'Bachelor of Science - BS',\n",
    "    'B.S., Business Administration': 'Bachelor of Science - BS',\n",
    "    'BS, Accounting - IT': 'Bachelor of Science - BS',\n",
    "    \"Bachelor's degree, Finance, General\": \"Bachelor's degree\",\n",
    "    'BA, Economics': 'Bachelor of Arts - BA',\n",
    "    'B.A': 'Bachelor of Arts - BA',\n",
    "    'J.D.': 'Doctor of Law - JD',\n",
    "    'Juris Doctor': 'Doctor of Law - JD',\n",
    "    'Doctor of Psychology': 'Doctor of Philosophy - PhD',\n",
    "    'Bachelorâ€™s Degree, Communications, Entrepreneurship': \"Bachelor's degree\",\n",
    "    \"Bachelor's degree, Economics and Chinese\": \"Bachelor's degree\",\n",
    "    \"Bachelor's degree, conflict analysis\": \"Bachelor's degree\",\n",
    "    'Bachelor of Arts, Business': 'Bachelor of Arts - BA',\n",
    "    'BA, European Studies': 'Bachelor of Arts - BA',\n",
    "    'Ph.D.': 'Doctor of Philosophy - PhD',\n",
    "    'Master of Business Administration (MBA) with distinction': 'Master of Business Administration - MBA',\n",
    "    'Doctor of Philosophy (PhD)': 'Doctor of Philosophy - PhD',\n",
    "    'Doctor of Philosophy (Ph.D.)': 'Doctor of Philosophy - PhD',\n",
    "    'Bachelor of Arts (BA)': 'Bachelor of Arts - BA',\n",
    "    'Master of Science (M.Sc.), Marketing/Marketing Management, General': 'Master of Science - MS',\n",
    "    'MS': 'Master of Science - MS',\n",
    "    'Master, Information System': \"Master's Degree\",\n",
    "    'Master of Science (MSc), Physics': 'Master of Science - MS',\n",
    "    'Bachelor of Science, Business Management': 'Bachelor of Science - BS',\n",
    "    'Bachelors': \"Bachelor's degree\",\n",
    "    'master': \"Master's Degree\",\n",
    "    'Bachelor of Science in Business Administration (B.S.B.A.)': 'Bachelor of Science - BS',\n",
    "    'Masters': \"Master's Degree\",\n",
    "    \"Master's degree in\": \"Master's Degree\",\n",
    "    'M.S. Environmental Science': 'Master of Science - MS',\n",
    "    'Master of Science (In Progress)': 'Master of Science - MS',\n",
    "    'Masterâ€™s Degree': \"Master's Degree\",\n",
    "    'bachelor degree': \"Bachelor's degree\",\n",
    "    \"Master's degree\": \"Master's Degree\",\n",
    "    'Bachelors of Arts Degree': \"Bachelor's degree\",\n",
    "    'Bachelor of Fine Arts (B.F.A.)': 'Bachelor of Fine Arts - BFA)',\n",
    "    'B.F.A. in Graphic Design with a Minor in Advertising and Public Relations': 'Bachelor of Fine Arts - BFA',\n",
    "    'BFA': 'Bachelor of Fine Arts - BFA',\n",
    "    'Bachelor of Science with Distinction': 'Bachelor of Science - BS',\n",
    "    'bfa, Illustration': 'Bachelor of Fine Arts - BFA',\n",
    "    'MSc, Information Technology': 'Master of Science - MS',\n",
    "    'Fellowship in Gastroenterology and Hepatology': 'Fellowship',\n",
    "    \"Master's of Arts\": \"Master's of Arts - MA\",\n",
    "    'MA': \"Master's of Arts - MA\",\n",
    "    'BS Business Admin': 'Bachelor of Science - BS',\n",
    "    'Associates': 'Associate of Arts - AA',\n",
    "    'Associates, Art, Illustration, Graphic Design': 'Associate of Arts - AA',\n",
    "    'AA, Language, speech, writing': 'Associate of Arts - AA',\n",
    "    'Associates of Art': 'Associate of Arts - AA',\n",
    "    'Bachelor of Applied Science (B.A.Sc.)': 'Bachelor of Applied Science - BASc',\n",
    "    'B.Sc., Computer Science, Information Science': 'Bachelor of Applied Science - BASc',\n",
    "    'BSc, MSc, Psychology': 'Bachelor of Applied Science - BASc',\n",
    "    'Bachelor of Fine Arts - BFA)': 'Bachelor of Fine Arts - BFA',\n",
    "    'BSc': 'Bachelor of Applied Science - BASc',\n",
    "    'B.Sc.': 'Bachelor of Applied Science - BASc',\n",
    "    'M.A': \"Master's of Arts - MA\",\n",
    "    'Master of Fine Arts (M.F.A.)': \"Master's of Arts - MA\",\n",
    "    'Bachelor of Fine Art': 'Bachelor of Fine Arts - BFA',\n",
    "    'Master of Arts': \"Master's of Arts - MA\",\n",
    "    'JD': 'Doctor of Law - JD',\n",
    "    'Bachelor of Science (BSc)': 'Bachelor of Science - BS',\n",
    "    'Master of Arts - MA': \"Master's of Arts - MA\",\n",
    "    'MFA': 'Master of Fine Arts - MFA',\n",
    "    'Master of Fine Arts (MFA)': 'Master of Fine Arts - MFA'\n",
    "    \n",
    "})\n",
    "print(dataset['schoolDegree'].value_counts())"
   ]
  },
  {
   "cell_type": "markdown",
   "id": "c8db59f0",
   "metadata": {},
   "source": [
    "The dataset has been cleared of implicit duplicates."
   ]
  },
  {
   "cell_type": "markdown",
   "id": "5ba452d9",
   "metadata": {},
   "source": [
    "## Conclusions on data preprocessing"
   ]
  },
  {
   "cell_type": "markdown",
   "id": "9daa5b1c",
   "metadata": {},
   "source": [
    "**As a result of pre-processing, the following actions were carried out:**\n",
    "\n",
    "- A check for missing values was performed, columns in which the number of missing values exceeded 50% were removed;\n",
    "- A check for duplicates was performed, no obvious duplicates were found;\n",
    "- Cleared outliers in the subscribers column;\n",
    "- Checked for implicit duplicates in various columns, cleared duplicates in the jobTitle column."
   ]
  },
  {
   "cell_type": "markdown",
   "id": "bd8ac701",
   "metadata": {},
   "source": [
    "## Exploratory data analysis"
   ]
  },
  {
   "cell_type": "markdown",
   "id": "caa11626",
   "metadata": {},
   "source": [
    "First, let's look at the distribution of data in the result column; to do this, let's build a bar chart."
   ]
  },
  {
   "cell_type": "code",
   "execution_count": 25,
   "id": "84546c1a",
   "metadata": {
    "scrolled": false
   },
   "outputs": [
    {
     "data": {
      "image/png": "[encoded data removed]",
      "text/plain": [
       "<Figure size 800x600 with 1 Axes>"
      ]
     },
     "metadata": {},
     "output_type": "display_data"
    }
   ],
   "source": [
    "plt.figure(figsize=(8, 6))\n",
    "sns.countplot(x='Result', data=dataset, order=dataset['Result'].value_counts().index)\n",
    "plt.title('Distribution of values in the \"Result\" column')\n",
    "plt.xlabel('Result')\n",
    "plt.ylabel('Number of participants')\n",
    "plt.xticks(rotation=45) \n",
    "plt.show()"
   ]
  },
  {
   "cell_type": "markdown",
   "id": "60be9598",
   "metadata": {},
   "source": [
    "The largest number of users (about 160) are those who were participants in 2021.  \n",
    "In second place (about 130) are those who were sent a personal offer to purchase a membership, but no further action was taken.  \n",
    "The ideal event is purchased membership with the fewest users."
   ]
  },
  {
   "cell_type": "markdown",
   "id": "2e50da80",
   "metadata": {},
   "source": [
    "### Finding connections"
   ]
  },
  {
   "cell_type": "markdown",
   "id": "1a05a47b",
   "metadata": {},
   "source": [
    "Let's look for a correlation that affects a user's purchase of a membership and an event ticket."
   ]
  },
  {
   "cell_type": "markdown",
   "id": "bad025d9",
   "metadata": {},
   "source": [
    "#### Other"
   ]
  },
  {
   "cell_type": "markdown",
   "id": "510240c9",
   "metadata": {},
   "source": [
    "Let's start with the mysterious 'other' column. Let's build a bar chart."
   ]
  },
  {
   "cell_type": "code",
   "execution_count": 26,
   "id": "68bf4920",
   "metadata": {},
   "outputs": [
    {
     "data": {
      "image/png": "[encoded data removed]",
      "text/plain": [
       "<Figure size 1400x800 with 1 Axes>"
      ]
     },
     "metadata": {},
     "output_type": "display_data"
    }
   ],
   "source": [
    "selected_columns_other = ['Result', 'Other']\n",
    "\n",
    "subset_df = dataset[selected_columns_other]\n",
    "\n",
    "plt.figure(figsize=(14, 8))\n",
    "sns.countplot(x='Other', hue='Result', data=subset_df, palette='deep')\n",
    "plt.title('Impact of Other on Result')\n",
    "plt.xlabel('Other')\n",
    "plt.ylabel('Number of users')\n",
    "plt.xticks(rotation=45, ha='right')  \n",
    "plt.legend(title='Result')\n",
    "plt.show()"
   ]
  },
  {
   "cell_type": "markdown",
   "id": "f39c1f5b",
   "metadata": {},
   "source": [
    "Perhaps this column contains information about managers who were responsible for finding potential clients to whom they could sell tickets to the event and membership in the organization. It is not possible to determine any correlation from the graph because the data distribution is not uniform."
   ]
  },
  {
   "cell_type": "markdown",
   "id": "228c4731",
   "metadata": {},
   "source": [
    "#### Subscribers"
   ]
  },
  {
   "cell_type": "markdown",
   "id": "de1de015",
   "metadata": {},
   "source": [
    "Now let’s check whether the number of subscribers somehow affects the metric we are interested in."
   ]
  },
  {
   "cell_type": "code",
   "execution_count": 27,
   "id": "493418f6",
   "metadata": {},
   "outputs": [
    {
     "data": {
      "image/png": "[encoded data removed]",
      "text/plain": [
       "<Figure size 1200x800 with 1 Axes>"
      ]
     },
     "metadata": {},
     "output_type": "display_data"
    }
   ],
   "source": [
    "plt.figure(figsize=(12, 8))\n",
    "sns.scatterplot(x='subscribers', y='Result', data=dataset, alpha=0.5)\n",
    "\n",
    "plt.title('Relationship between subscribers and Result')\n",
    "plt.xlabel('Subscribers')\n",
    "plt.ylabel('Result')\n",
    "\n",
    "plt.show()"
   ]
  },
  {
   "cell_type": "markdown",
   "id": "1a6ca405",
   "metadata": {},
   "source": [
    "As you can see in the graph, the number of subscribers does not have a significant impact on key metrics. The vast majority of users have up to 2000 subscribers."
   ]
  },
  {
   "cell_type": "markdown",
   "id": "df29dff5",
   "metadata": {},
   "source": [
    "#### Job title"
   ]
  },
  {
   "cell_type": "markdown",
   "id": "e8210eb7",
   "metadata": {},
   "source": [
    "Now let's see how the data from the jobTitle column affects the metrics. It is necessary to combine unique professions, the number of which is equal to 1, into a separate category, let's call it other."
   ]
  },
  {
   "cell_type": "code",
   "execution_count": 28,
   "id": "d750695c",
   "metadata": {},
   "outputs": [
    {
     "name": "stdout",
     "output_type": "stream",
     "text": [
      "Founder                                     54\n",
      "CEO & Founder                               45\n",
      "Co-Founder                                  32\n",
      "CEO                                         28\n",
      "Co-Founder & CEO                            24\n",
      "                                            ..\n",
      "Associate Product Manager                    1\n",
      "Fractional Strategy + Operations             1\n",
      "2d/3d Motion Designer & Animator             1\n",
      "Agency Development Leader                    1\n",
      "Clinical Consultant & Account Specialist     1\n",
      "Name: jobTitle, Length: 117, dtype: int64\n"
     ]
    }
   ],
   "source": [
    "threshold_job_title = 1\n",
    "\n",
    "other_jobs = dataset['jobTitle'].value_counts()[dataset['jobTitle'].value_counts() == threshold].index\n",
    "\n",
    "dataset['jobTitle'] = dataset['jobTitle'].apply(lambda x: 'other' if x in other_jobs else x)\n",
    "print(dataset['jobTitle'].value_counts())"
   ]
  },
  {
   "cell_type": "code",
   "execution_count": 29,
   "id": "e3c7fc85",
   "metadata": {},
   "outputs": [
    {
     "data": {
      "image/png": "[encoded data removed]",
      "text/plain": [
       "<Figure size 1400x800 with 1 Axes>"
      ]
     },
     "metadata": {},
     "output_type": "display_data"
    }
   ],
   "source": [
    "selected_columns = ['Result', 'jobTitle']\n",
    "\n",
    "subset_df = dataset[selected_columns]\n",
    "\n",
    "top_job_titles = dataset['jobTitle'].value_counts().head(5).index\n",
    "\n",
    "subset_df = subset_df[subset_df['jobTitle'].isin(top_job_titles)]\n",
    "\n",
    "plt.figure(figsize=(14, 8))\n",
    "sns.countplot(x='jobTitle', hue='Result', data=subset_df, palette='deep')\n",
    "plt.title('Impact of jobTitle on Result (Top 10 professions)')\n",
    "plt.xlabel('jobTitle')\n",
    "plt.ylabel('number of users')\n",
    "plt.xticks(rotation=45, ha='right')  \n",
    "plt.legend(title='Result')\n",
    "plt.show()\n"
   ]
  },
  {
   "cell_type": "markdown",
   "id": "47c31bb0",
   "metadata": {},
   "source": [
    "**We can observe a number of interesting points on the graph:**\n",
    "\n",
    "1) Purchased membership - most often achieved by the CEO, this position implies a high level of managerial work and interaction between people, as well as skills in various areas of business. These are the people who are interested in purchasing tickets and membership in the organization.  \n",
    "\n",
    "2) In the other category, there is a large percentage of those who were already members of the organization in 2021, therefore such people can be converted into purchased membership by conducting a marketing campaign. The percentage out of sequence is also high. Therefore, you need to work with objections and improve your performance. \n",
    "\n",
    "3) A similar story with the other groups, it is interesting that in the CEO & Founder category, the number of those who were members of the organization is more than Sent personal f/u. The conversion rate in this group will be quite high."
   ]
  },
  {
   "cell_type": "markdown",
   "id": "0502f5f9",
   "metadata": {},
   "source": [
    "#### School degree"
   ]
  },
  {
   "cell_type": "markdown",
   "id": "9806b344",
   "metadata": {},
   "source": [
    "Let's see how the level of education affects the metric in the Result column."
   ]
  },
  {
   "cell_type": "code",
   "execution_count": 30,
   "id": "df7c44da",
   "metadata": {},
   "outputs": [
    {
     "data": {
      "text/plain": [
       "Bachelor of Science - BS                   53\n",
       "Bachelor of Arts - BA                      27\n",
       "Bachelor's degree                          21\n",
       "Master of Business Administration - MBA    20\n",
       "Master's Degree                             8\n",
       "                                           ..\n",
       "Associates Degree                           1\n",
       "Bachelor of Fine Arts - BFA)                1\n",
       "Associate of Arts and Sciences (AAS)        1\n",
       "Clinical Herbalist Certification            1\n",
       "Certified IFM Health Coach                  1\n",
       "Name: schoolDegree, Length: 82, dtype: int64"
      ]
     },
     "execution_count": 30,
     "metadata": {},
     "output_type": "execute_result"
    }
   ],
   "source": [
    "dataset['schoolDegree'].value_counts()"
   ]
  },
  {
   "cell_type": "markdown",
   "id": "c3a6ea36",
   "metadata": {},
   "source": [
    "Now let's see how the data from the schoolDegree column affects the metrics. Let's create a category other for educational levels that do not fall into the main categories."
   ]
  },
  {
   "cell_type": "code",
   "execution_count": 31,
   "id": "d7b662e5",
   "metadata": {},
   "outputs": [
    {
     "name": "stdout",
     "output_type": "stream",
     "text": [
      "Other                                           64\n",
      "Bachelor of Science - BS                        53\n",
      "Bachelor of Arts - BA                           27\n",
      "Bachelor's degree                               21\n",
      "Master of Business Administration - MBA         20\n",
      "Master's Degree                                  8\n",
      "Doctor of Law - JD                               8\n",
      "Master of Science - MS                           8\n",
      "Doctor of Philosophy - PhD                       8\n",
      "Bachelor of Applied Science - BASc               7\n",
      "Master's of Arts - MA                            6\n",
      "Associate of Arts - AA                           5\n",
      "Bachelor of Fine Arts - BFA                      4\n",
      "Bachelor of Business Administration (B.B.A.)     2\n",
      "Master of Fine Arts - MFA                        2\n",
      "Bachelor of Engineering - BE                     2\n",
      "Master of Architecture (M.Arch.)                 2\n",
      "Fellowship                                       2\n",
      "English                                          2\n",
      "Name: schoolDegree, dtype: int64\n"
     ]
    }
   ],
   "source": [
    "threshold_school_degree = 1\n",
    "\n",
    "other_school_degrees = dataset['schoolDegree'].value_counts()[dataset['schoolDegree'].value_counts() == threshold_school_degree].index\n",
    "\n",
    "dataset['schoolDegree'] = dataset['schoolDegree'].apply(lambda x: 'Other' if x in other_school_degrees else x)\n",
    "print(dataset['schoolDegree'].value_counts())"
   ]
  },
  {
   "cell_type": "code",
   "execution_count": 32,
   "id": "bf44aa94",
   "metadata": {},
   "outputs": [
    {
     "data": {
      "image/png": "[encoded data removed]",
      "text/plain": [
       "<Figure size 1400x800 with 1 Axes>"
      ]
     },
     "metadata": {},
     "output_type": "display_data"
    }
   ],
   "source": [
    "selected_columns = ['Result', 'schoolDegree']\n",
    "\n",
    "subset_df = dataset[selected_columns]\n",
    "\n",
    "top_10_degrees = subset_df['schoolDegree'].value_counts().nlargest(10).index\n",
    "\n",
    "subset_df_top_10 = subset_df[subset_df['schoolDegree'].isin(top_10_degrees)]\n",
    "\n",
    "plt.figure(figsize=(14, 8))\n",
    "sns.countplot(x='schoolDegree', hue='Result', data=subset_df_top_10, palette='deep')\n",
    "plt.title('The influence of education on Result')\n",
    "plt.xlabel('Education')\n",
    "plt.ylabel('Number of users')\n",
    "plt.xticks(rotation=45, ha='right')  \n",
    "plt.legend(title='Result')\n",
    "plt.show()"
   ]
  },
  {
   "cell_type": "markdown",
   "id": "ec115c36",
   "metadata": {},
   "source": [
    "As can be seen in the graph, regardless of the level of education of users, those who were already members of the club in 2021 are in first place. The greatest potential is for users with an education level of - Other, as well as Bachelor of Science - BS. There are quite a lot of such users relative to the total number, and most of them have already been sent invitations."
   ]
  },
  {
   "cell_type": "markdown",
   "id": "a0483327",
   "metadata": {},
   "source": [
    "## Conclusion from data research"
   ]
  },
  {
   "cell_type": "markdown",
   "id": "b8f834c4",
   "metadata": {},
   "source": [
    "**As a result of the data research, the following conclusions were made:**\n",
    "\n",
    "- The number of subscribers does not have a significant impact on the purchase of a ticket or membership. The distribution is uniform, the average number of subscribers for users is 2621, there are also minor anomalies in the form of outliers (the maximum number of subscribers is 32,970);\n",
    "\n",
    "\n",
    "- Impact of the user’s position on the main metric:  \n",
    "1) Purchased membership - most often achieved by the CEO, this position implies a high level of managerial work and interaction between people, as well as skills in various areas of business. These are the people who are interested in purchasing tickets and membership in the organization;  \n",
    "2) In the other category, there is a large percentage of those who were already members of the organization in 2021, therefore such people can be converted into purchased membership by conducting a marketing campaign. The percentage out of sequence is also high. Therefore, you need to work with objections and improve your performance;  \n",
    "3) A similar story with the other groups, it is interesting that in the CEO & Founder category, the number of those who were members of the organization is more than out of sequence. The conversion rate in this group will be quite high.  \n",
    "\n",
    "\n",
    "- Regardless of the level of education of users, those who were already members of the club in 2021 are in first place. The greatest potential is for users with an education level of Bachelor of Science - BS. Firstly, there are quite a lot of such users relative to the total number, and invitations have already been sent to most.\n",
    "\n",
    "\n",
    "**Recommendations:**\n",
    "\n",
    "1) It is necessary to work with two categories of users - member and out of sequence. These categories have the greatest potential to convert them into Purchased membership. Various marketing strategies will be suitable for this;  \n",
    "2) Pay attention to users holding the position of CEO, this category has the highest potential for purchasing membership;  \n",
    "3) The current dataset represents an already warm base that acquired membership in 2021. It may be worth expanding your base and working with a new audience, which can attract some profit.  "
   ]
  },
  {
   "cell_type": "markdown",
   "id": "60cfb4f1",
   "metadata": {},
   "source": [
    "## General conclusion on the project"
   ]
  },
  {
   "cell_type": "markdown",
   "id": "d4d14ded",
   "metadata": {},
   "source": [
    "**Main results of working with the project:**\n",
    "\n",
    "1) All the main stages of data preprocessing have been completed, conclusions have been made that the data is clean and can be worked with;  \n",
    "2) Data research was carried out in accordance with the technical specifications;  \n",
    "3) Visualizations have been built that allow you to more clearly see various indicators and draw certain conclusions;  \n",
    "4) Recommendations for improving key metric indicators are given.  "
   ]
  }
 ],
 "metadata": {
  "kernelspec": {
   "display_name": "Python 3 (ipykernel)",
   "language": "python",
   "name": "python3"
  },
  "language_info": {
   "codemirror_mode": {
    "name": "ipython",
    "version": 3
   },
   "file_extension": ".py",
   "mimetype": "text/x-python",
   "name": "python",
   "nbconvert_exporter": "python",
   "pygments_lexer": "ipython3",
   "version": "3.9.13"
  },
  "toc": {
   "base_numbering": 1,
   "nav_menu": {},
   "number_sections": true,
   "sideBar": true,
   "skip_h1_title": true,
   "title_cell": "Table of Contents",
   "title_sidebar": "Contents",
   "toc_cell": true,
   "toc_position": {},
   "toc_section_display": true,
   "toc_window_display": true
  }
 },
 "nbformat": 4,
 "nbformat_minor": 5
}
