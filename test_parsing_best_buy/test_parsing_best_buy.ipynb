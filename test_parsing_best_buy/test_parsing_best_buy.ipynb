{
 "cells": [
  {
   "cell_type": "markdown",
   "id": "61a1d887",
   "metadata": {
    "toc": true
   },
   "source": [
    "<h1>Оглавление<span class=\"tocSkip\"></span></h1>\n",
    "<div class=\"toc\"><ul class=\"toc-item\"><li><span><a href=\"#Получение-данных.\" data-toc-modified-id=\"Получение-данных.-1\"><span class=\"toc-item-num\">1&nbsp;&nbsp;</span>Получение данных.</a></span></li><li><span><a href=\"#Предобработка-данных.\" data-toc-modified-id=\"Предобработка-данных.-2\"><span class=\"toc-item-num\">2&nbsp;&nbsp;</span>Предобработка данных.</a></span><ul class=\"toc-item\"><li><span><a href=\"#Результат-предобработки-данных.\" data-toc-modified-id=\"Результат-предобработки-данных.-2.1\"><span class=\"toc-item-num\">2.1&nbsp;&nbsp;</span>Результат предобработки данных.</a></span></li></ul></li><li><span><a href=\"#Исследование-данных.\" data-toc-modified-id=\"Исследование-данных.-3\"><span class=\"toc-item-num\">3&nbsp;&nbsp;</span>Исследование данных.</a></span></li><li><span><a href=\"#Вывод-по-проекту.\" data-toc-modified-id=\"Вывод-по-проекту.-4\"><span class=\"toc-item-num\">4&nbsp;&nbsp;</span>Вывод по проекту.</a></span></li></ul></div>"
   ]
  },
  {
   "cell_type": "markdown",
   "id": "2f25448a",
   "metadata": {},
   "source": [
    "# Описание проекта."
   ]
  },
  {
   "cell_type": "markdown",
   "id": "179526bd",
   "metadata": {},
   "source": [
    "**Задание:**\n",
    "\n",
    "**Выполнить подключение к любому API из раздела Shopping https://github.com/public-apis/public-apis#shopping  \n",
    "Получить данные   \n",
    "Выполнить базовый анализ данных и сделать общие выводы**\n",
    "\n",
    "**Формат: ссылка на репозиторий гитхаб.**"
   ]
  },
  {
   "cell_type": "markdown",
   "id": "70fe3524",
   "metadata": {},
   "source": [
    "# Импорт данных через api Best Buy."
   ]
  },
  {
   "cell_type": "markdown",
   "id": "9f6534e7",
   "metadata": {},
   "source": [
    "В качестве источника получения данных был выбран сайт Best Buy. После изучения документации к API на сайте https://bestbuyapis.github.io/api-documentation/#overview выяснилось, что для получения токена и использования API необходимо произвести регистрацию на сайте https://www.bestbuy.com/identity/signin?token=tid%3A92d3993c-9354-11ed-9fb4-1297d60b998f. К сожалению осуществить регистрацию на сайте не удалось, ввиду того что номер телефона любой отличный от США не принимается. Можно было бы создать виртуальную sim с помощью стороних сервисов, но было принято другое решение."
   ]
  },
  {
   "cell_type": "markdown",
   "id": "7ddb2fc1",
   "metadata": {},
   "source": [
    "# Создание собственного парсера."
   ]
  },
  {
   "cell_type": "markdown",
   "id": "dbabbcfd",
   "metadata": {},
   "source": [
    "Попробуем написать собственную программу для парсинга данных из раздела https://www.bestbuy.com/site/promo/laptop-and-computer-deals"
   ]
  },
  {
   "cell_type": "markdown",
   "id": "6dee37ac",
   "metadata": {},
   "source": [
    "## Получение данных."
   ]
  },
  {
   "cell_type": "markdown",
   "id": "42726675",
   "metadata": {},
   "source": [
    "Импортируем основные библиотеки для работы с парсингом."
   ]
  },
  {
   "cell_type": "code",
   "execution_count": 1,
   "id": "85fec21a",
   "metadata": {},
   "outputs": [],
   "source": [
    "import requests  # Импорт библиотеки для запросов к серверу\n",
    "from bs4 import BeautifulSoup # Импорт библиотеки для автоматического парсинга странички\n",
    "import csv"
   ]
  },
  {
   "cell_type": "markdown",
   "id": "f63d00bf",
   "metadata": {},
   "source": [
    "Создадим основные переменные куда пропишем сохраняемый csv файл, а также HOST и URL куда пропишем адрес сайта и данные с запрашиваемой страницы."
   ]
  },
  {
   "cell_type": "code",
   "execution_count": 2,
   "id": "a091fd3f",
   "metadata": {},
   "outputs": [],
   "source": [
    "CSV = 'laptops.csv'\n",
    "HOST = 'https://www.bestbuy.com/'\n",
    "URL = 'https://www.bestbuy.com/site/promo/laptop-and-computer-deals'"
   ]
  },
  {
   "cell_type": "markdown",
   "id": "a41088a0",
   "metadata": {},
   "source": [
    "Для того чтобы сайт нас не блокировал в процессе запросов, необходимо создать переменную HEADERS (заголовки) куда мы занесем данные о нашем окружении. Переменную HEADERS создаем в качестве словаря. "
   ]
  },
  {
   "cell_type": "code",
   "execution_count": 3,
   "id": "1114a9e5",
   "metadata": {},
   "outputs": [],
   "source": [
    "HEADERS = {\n",
    "    'accept': 'text/html,application/xhtml+xml,application/xml;q=0.9,image/avif,image/webp,image/apng,*/*;q=0.8,application/signed-exchange;v=b3;q=0.9',\n",
    "    'user-agent': 'Mozilla/5.0 (Windows NT 10.0; Win64; x64) AppleWebKit/537.36 (KHTML, like Gecko) Chrome/108.0.0.0 Safari/537.36'\n",
    "}"
   ]
  },
  {
   "cell_type": "markdown",
   "id": "463af26e",
   "metadata": {},
   "source": [
    "Далее необходимо написать функцию get_html, которая будет принимать на себя адрес страницы в интернете и параметры. "
   ]
  },
  {
   "cell_type": "code",
   "execution_count": 4,
   "id": "49797d9f",
   "metadata": {},
   "outputs": [
    {
     "name": "stdout",
     "output_type": "stream",
     "text": [
      "<Response [200]>\n"
     ]
    }
   ],
   "source": [
    "def get_html(url, params=''):\n",
    "    r = requests.get(url, headers=HEADERS, params=params)\n",
    "    return r\n",
    "\n",
    "html = get_html(URL)\n",
    "print(html)"
   ]
  },
  {
   "cell_type": "markdown",
   "id": "9e9fa877",
   "metadata": {},
   "source": [
    "Код 200 свидетельствует о том что доступ к странице получен успешно."
   ]
  },
  {
   "cell_type": "markdown",
   "id": "ed94911f",
   "metadata": {},
   "source": [
    "Далее напишем функцию get_content, которая с помощью библиотеки BeautifulSoup будем получать объект со страницы."
   ]
  },
  {
   "cell_type": "code",
   "execution_count": 5,
   "id": "96e0264a",
   "metadata": {},
   "outputs": [
    {
     "name": "stdout",
     "output_type": "stream",
     "text": [
      "Укажите количество страниц для парсинга: 1\n"
     ]
    }
   ],
   "source": [
    "def get_content(html):\n",
    "    soup = BeautifulSoup(html, 'html.parser')\n",
    "    items = soup.find_all('div', class_='app-container lv')\n",
    "    laptops = []\n",
    "\n",
    "    for item in items:\n",
    "        laptops.append(\n",
    "            {\n",
    "                'title':item.find('div', class_='sku-title').get_text(strip=True),\n",
    "                'link_product': HOST + item.find('div', class_='sku-title').find('a').get('href'),\n",
    "                'product_info':item.find('div', class_='variation-info').get_text(),\n",
    "                'product_image': HOST + item.find('div', class_='image-link').find('img').get(src)\n",
    "            }\n",
    "        )\n",
    "    return laptops\n",
    "\n",
    "\n",
    "def save_doc(items, path):\n",
    "    with open(path, 'w', newline='') as file:\n",
    "        writer = csv.writer(file, delimiter=';')\n",
    "        writer.writerow(['Название продукта', 'Ссылка на продукт', 'Информация о товаре', 'Изображение товара'])\n",
    "        for item in items:\n",
    "            writer.writerow( [item['title'], item['link_product'], item['product_info'], item['product_image']])\n",
    "           \n",
    "    \n",
    "\n",
    "def parser():\n",
    "    PAGENATION = input('Укажите количество страниц для парсинга: ')\n",
    "    PAGENATION = int(PAGENATION.strip())\n",
    "    html = get_html(URL)\n",
    "    if html.status_code == 200:\n",
    "        laptops = []\n",
    "        for cp in range(1, PAGENATION):\n",
    "            print(f'Парсим страницу: {cp}')\n",
    "            html = get_html(URL, params={'cp': cp})\n",
    "            laptops.extend(get_content(html.text))\n",
    "            save_doc(laptops, CSV)\n",
    "        pass\n",
    "    else:\n",
    "        print('Error')\n",
    "        \n",
    "parser()"
   ]
  },
  {
   "cell_type": "markdown",
   "id": "96fbf26a",
   "metadata": {},
   "source": [
    "Как видно из результатов работы функций, программа не возвращает нам данные. Полученный файл содержит только названия столбцов. Это свидетельствует о том, что к данному сайту получить доступ можно исключительно через API. "
   ]
  },
  {
   "cell_type": "markdown",
   "id": "d1cfa10f",
   "metadata": {},
   "source": [
    "Воспользуемся другим способом получения данных. Для этого воспользуемся следующим сервисом: https://blog.apify.com/how-to-scrape-best-buy-product-data/. Данный сервис представляет собой сторонее API для подключения к различным сайтам и позволяет выгрузить итоговые данные в любом удобном для нас формате. Выбираем csv файл."
   ]
  },
  {
   "cell_type": "markdown",
   "id": "ffc24194",
   "metadata": {},
   "source": [
    "## Предобработка данных."
   ]
  },
  {
   "cell_type": "markdown",
   "id": "65e35f81",
   "metadata": {},
   "source": [
    "Загрузим дополнительные библиотеки для работы с данными."
   ]
  },
  {
   "cell_type": "code",
   "execution_count": 6,
   "id": "ad4bafc2",
   "metadata": {},
   "outputs": [],
   "source": [
    "import numpy as np #это база\n",
    "import pandas as pd\n",
    "import seaborn as sns\n",
    "import datetime as dt\n",
    "\n",
    "import plotly.express as px # графики\n",
    "import re #уточнить\n",
    "import math as mth #уточнить\n",
    "\n",
    "from matplotlib import pyplot as plt # графики (это база)\n",
    "from IPython.display import display\n",
    "from scipy import stats as st  #AB test\n",
    "from plotly import graph_objects as go # строить воронки"
   ]
  },
  {
   "cell_type": "markdown",
   "id": "40ae36f8",
   "metadata": {},
   "source": [
    "Откроет датасет с помощью конструкции try\\except."
   ]
  },
  {
   "cell_type": "code",
   "execution_count": 7,
   "id": "e1223e4e",
   "metadata": {},
   "outputs": [],
   "source": [
    "try:\n",
    "    data = pd.read_csv('https://api.apify.com/v2/datasets/U7uUaF1c6TSx2p6TK/items?attachment=true&clean=true&format=csv', sep=',') #конструкция try/except если датасет есть на сайте\n",
    "except:\n",
    "    data = pd.read_csv('/datasets/dataset_bestbuy', sep=',')"
   ]
  },
  {
   "cell_type": "code",
   "execution_count": 8,
   "id": "6a6268a3",
   "metadata": {},
   "outputs": [],
   "source": [
    "pd.set_option('display.max_columns', None) #добавим параметр отображать все столбцы"
   ]
  },
  {
   "cell_type": "code",
   "execution_count": 9,
   "id": "bdd499b2",
   "metadata": {
    "scrolled": true
   },
   "outputs": [
    {
     "name": "stdout",
     "output_type": "stream",
     "text": [
      "<class 'pandas.core.frame.DataFrame'>\n",
      "RangeIndex: 22 entries, 0 to 21\n",
      "Columns: 1503 entries, aggregateRating/ratingValue to width\n",
      "dtypes: float64(144), int64(27), object(1332)\n",
      "memory usage: 258.5+ KB\n"
     ]
    }
   ],
   "source": [
    "data.info()"
   ]
  },
  {
   "cell_type": "markdown",
   "id": "1955a988",
   "metadata": {},
   "source": [
    "Как видно из датасета, спарсилось большое количество столбцов(1503), причем некоторые из них не несут смысловую нагрузку, необходимо почистить датасет оставив только основную информацию."
   ]
  },
  {
   "cell_type": "code",
   "execution_count": 10,
   "id": "bea73c9e",
   "metadata": {},
   "outputs": [],
   "source": [
    "data.drop(data.columns[254:1498], axis = 1, inplace=True)"
   ]
  },
  {
   "cell_type": "code",
   "execution_count": 11,
   "id": "6da23af9",
   "metadata": {},
   "outputs": [],
   "source": [
    "data.drop(data.columns[238:252], axis = 1, inplace=True)"
   ]
  },
  {
   "cell_type": "code",
   "execution_count": 12,
   "id": "428237f4",
   "metadata": {},
   "outputs": [],
   "source": [
    "data.drop(data.columns[158:197], axis = 1, inplace=True)"
   ]
  },
  {
   "cell_type": "code",
   "execution_count": 13,
   "id": "9a22e608",
   "metadata": {},
   "outputs": [],
   "source": [
    "data.drop(data.columns[173:194], axis = 1, inplace=True)"
   ]
  },
  {
   "cell_type": "code",
   "execution_count": 14,
   "id": "0951d211",
   "metadata": {},
   "outputs": [],
   "source": [
    "data.drop(data.columns[13:78], axis = 1, inplace=True)"
   ]
  },
  {
   "cell_type": "code",
   "execution_count": 15,
   "id": "5d2e6844",
   "metadata": {},
   "outputs": [
    {
     "name": "stdout",
     "output_type": "stream",
     "text": [
      "<class 'pandas.core.frame.DataFrame'>\n",
      "RangeIndex: 22 entries, 0 to 21\n",
      "Columns: 120 entries, aggregateRating/ratingValue to width\n",
      "dtypes: float64(10), int64(4), object(106)\n",
      "memory usage: 20.8+ KB\n"
     ]
    }
   ],
   "source": [
    "data.info()"
   ]
  },
  {
   "cell_type": "code",
   "execution_count": 16,
   "id": "1b31d527",
   "metadata": {},
   "outputs": [],
   "source": [
    "data.drop(data.columns[13:90], axis = 1, inplace=True)"
   ]
  },
  {
   "cell_type": "code",
   "execution_count": 17,
   "id": "9bfad2e1",
   "metadata": {},
   "outputs": [],
   "source": [
    "data.drop(data.columns[[5,7,10,12,13,14,16,17,26,27,29,30,31,32,34,37,38,40]], axis = 1, inplace=True)"
   ]
  },
  {
   "cell_type": "code",
   "execution_count": 18,
   "id": "04df1d3c",
   "metadata": {},
   "outputs": [],
   "source": [
    "data.drop(data.columns[[13,19]], axis = 1, inplace=True)"
   ]
  },
  {
   "cell_type": "code",
   "execution_count": 19,
   "id": "99aea4e9",
   "metadata": {},
   "outputs": [
    {
     "name": "stdout",
     "output_type": "stream",
     "text": [
      "<class 'pandas.core.frame.DataFrame'>\n",
      "RangeIndex: 22 entries, 0 to 21\n",
      "Data columns (total 23 columns):\n",
      " #   Column                       Non-Null Count  Dtype  \n",
      "---  ------                       --------------  -----  \n",
      " 0   aggregateRating/ratingValue  22 non-null     float64\n",
      " 1   aggregateRating/reviewCount  22 non-null     int64  \n",
      " 2   brand                        22 non-null     object \n",
      " 3   color/category               22 non-null     object \n",
      " 4   color/displayName            20 non-null     object \n",
      " 5   condition/type               22 non-null     object \n",
      " 6   description                  22 non-null     object \n",
      " 7   descriptions/long            22 non-null     object \n",
      " 8   features/0/description       22 non-null     object \n",
      " 9   height                       18 non-null     object \n",
      " 10  model                        22 non-null     object \n",
      " 11  modelFamily                  9 non-null      object \n",
      " 12  name                         22 non-null     object \n",
      " 13  names/display                22 non-null     object \n",
      " 14  names/rawShort               22 non-null     object \n",
      " 15  names/short                  22 non-null     object \n",
      " 16  names/title                  22 non-null     object \n",
      " 17  offers/highPrice             17 non-null     float64\n",
      " 18  offers/priceCurrency         22 non-null     object \n",
      " 19  productSeries                8 non-null      object \n",
      " 20  warranties/labor             22 non-null     object \n",
      " 21  weight                       22 non-null     object \n",
      " 22  width                        20 non-null     object \n",
      "dtypes: float64(2), int64(1), object(20)\n",
      "memory usage: 4.1+ KB\n"
     ]
    }
   ],
   "source": [
    "data.info()"
   ]
  },
  {
   "cell_type": "markdown",
   "id": "b2bb0ae3",
   "metadata": {},
   "source": [
    "Остановимся на этом моменте. Итак у нас получилось 22 строки, а именно 22 модели ноутбуков. Изучим различные особенности имеющихся данных."
   ]
  },
  {
   "cell_type": "markdown",
   "id": "6b7c92bc",
   "metadata": {},
   "source": [
    "Проверим датасет на наличие дубликатов методом duplicated().sum()"
   ]
  },
  {
   "cell_type": "code",
   "execution_count": 20,
   "id": "f07c6ef2",
   "metadata": {},
   "outputs": [
    {
     "data": {
      "text/plain": [
       "0"
      ]
     },
     "execution_count": 20,
     "metadata": {},
     "output_type": "execute_result"
    }
   ],
   "source": [
    "data.duplicated().sum()"
   ]
  },
  {
   "cell_type": "markdown",
   "id": "82a81801",
   "metadata": {},
   "source": [
    "В датасете дубликаты не найдены. Воспользуемся методом isna().sum() и определим количество пропусков в каждом из столбцов датасета."
   ]
  },
  {
   "cell_type": "code",
   "execution_count": 21,
   "id": "35f65bf7",
   "metadata": {},
   "outputs": [
    {
     "data": {
      "text/plain": [
       "aggregateRating/ratingValue     0\n",
       "aggregateRating/reviewCount     0\n",
       "brand                           0\n",
       "color/category                  0\n",
       "color/displayName               2\n",
       "condition/type                  0\n",
       "description                     0\n",
       "descriptions/long               0\n",
       "features/0/description          0\n",
       "height                          4\n",
       "model                           0\n",
       "modelFamily                    13\n",
       "name                            0\n",
       "names/display                   0\n",
       "names/rawShort                  0\n",
       "names/short                     0\n",
       "names/title                     0\n",
       "offers/highPrice                5\n",
       "offers/priceCurrency            0\n",
       "productSeries                  14\n",
       "warranties/labor                0\n",
       "weight                          0\n",
       "width                           2\n",
       "dtype: int64"
      ]
     },
     "execution_count": 21,
     "metadata": {},
     "output_type": "execute_result"
    }
   ],
   "source": [
    "data.isna().sum()"
   ]
  },
  {
   "cell_type": "markdown",
   "id": "6486e097",
   "metadata": {},
   "source": [
    "В столбцах датасета присутствуют пропущенные значения. Пропуски лучше не заполнять, так как у нас нет достоверных сведений,которые мы можем использовать. Заполнение пропусков средним или медианной могут исказить результаты исследования."
   ]
  },
  {
   "cell_type": "markdown",
   "id": "1e207158",
   "metadata": {},
   "source": [
    "### Результат предобработки данных."
   ]
  },
  {
   "cell_type": "markdown",
   "id": "db51c003",
   "metadata": {},
   "source": [
    "В результате предобработки данных датасет был проверен на дубликаты, пропуски. Для строк с пропусками было принято решение не заполнять их, так как заполнение средним или медианными значениями могут исказить результаты исследований. А проверенными данными мы не обладаем. Также были выборочно удалены столбцы не содержащие основную информацию о товаре."
   ]
  },
  {
   "cell_type": "markdown",
   "id": "c4eb204d",
   "metadata": {},
   "source": [
    "## Исследование данных."
   ]
  },
  {
   "cell_type": "code",
   "execution_count": 22,
   "id": "96710da7",
   "metadata": {},
   "outputs": [
    {
     "data": {
      "text/html": [
       "<div>\n",
       "<style scoped>\n",
       "    .dataframe tbody tr th:only-of-type {\n",
       "        vertical-align: middle;\n",
       "    }\n",
       "\n",
       "    .dataframe tbody tr th {\n",
       "        vertical-align: top;\n",
       "    }\n",
       "\n",
       "    .dataframe thead th {\n",
       "        text-align: right;\n",
       "    }\n",
       "</style>\n",
       "<table border=\"1\" class=\"dataframe\">\n",
       "  <thead>\n",
       "    <tr style=\"text-align: right;\">\n",
       "      <th></th>\n",
       "      <th>aggregateRating/ratingValue</th>\n",
       "      <th>aggregateRating/reviewCount</th>\n",
       "      <th>brand</th>\n",
       "      <th>color/category</th>\n",
       "      <th>color/displayName</th>\n",
       "      <th>condition/type</th>\n",
       "      <th>description</th>\n",
       "      <th>descriptions/long</th>\n",
       "      <th>features/0/description</th>\n",
       "      <th>height</th>\n",
       "      <th>model</th>\n",
       "      <th>modelFamily</th>\n",
       "      <th>name</th>\n",
       "      <th>names/display</th>\n",
       "      <th>names/rawShort</th>\n",
       "      <th>names/short</th>\n",
       "      <th>names/title</th>\n",
       "      <th>offers/highPrice</th>\n",
       "      <th>offers/priceCurrency</th>\n",
       "      <th>productSeries</th>\n",
       "      <th>warranties/labor</th>\n",
       "      <th>weight</th>\n",
       "      <th>width</th>\n",
       "    </tr>\n",
       "  </thead>\n",
       "  <tbody>\n",
       "    <tr>\n",
       "      <th>0</th>\n",
       "      <td>4.5</td>\n",
       "      <td>178</td>\n",
       "      <td>ASUS</td>\n",
       "      <td>Gray</td>\n",
       "      <td>NaN</td>\n",
       "      <td>new</td>\n",
       "      <td>Shop ASUS TUF Gaming A15 15.6\" FHD 144Hz Gamin...</td>\n",
       "      <td>ASUS TUF Gaming A15 Gaming Laptop gives you a ...</td>\n",
       "      <td>Family, friends, passions, music, creations, g...</td>\n",
       "      <td>0.88 inches</td>\n",
       "      <td>FA507RE-A15.R73050T</td>\n",
       "      <td>NaN</td>\n",
       "      <td>ASUS - TUF Gaming A15 15.6\" FHD 144Hz Gaming L...</td>\n",
       "      <td>TUF Gaming A15 15.6\" FHD 144Hz Gaming Laptop-A...</td>\n",
       "      <td>TUF Gaming A15 15.6\" FHD 144Hz Gaming Laptop-A...</td>\n",
       "      <td>ASUS - TUF Gaming A15 15.6\" FHD 144Hz Gaming L...</td>\n",
       "      <td>TUF Gaming A15 15.6\" FHD 144Hz Gaming Laptop-A...</td>\n",
       "      <td>879.99</td>\n",
       "      <td>USD</td>\n",
       "      <td>NaN</td>\n",
       "      <td>1 year</td>\n",
       "      <td>4.85 pounds</td>\n",
       "      <td>9.88 inches</td>\n",
       "    </tr>\n",
       "    <tr>\n",
       "      <th>1</th>\n",
       "      <td>4.6</td>\n",
       "      <td>53</td>\n",
       "      <td>Microsoft</td>\n",
       "      <td>Green</td>\n",
       "      <td>Sage</td>\n",
       "      <td>new</td>\n",
       "      <td>Shop Microsoft Surface Laptop 5 – 13.5” Touch ...</td>\n",
       "      <td>Multitasking speed powered by 12th Gen Intel C...</td>\n",
       "      <td>Family, friends, passions, music, creations – ...</td>\n",
       "      <td>0.57 inches</td>\n",
       "      <td>R1S-00051</td>\n",
       "      <td>Microsoft Surface Laptop 5 13.5\"</td>\n",
       "      <td>Microsoft - Surface Laptop 5 – 13.5” Touch Scr...</td>\n",
       "      <td>Surface Laptop 5 – 13.5” Touch Screen – Intel ...</td>\n",
       "      <td>Surface Laptop 5 – 13.5” Touch Screen – Intel ...</td>\n",
       "      <td>Microsoft - Surface Laptop 5 – 13.5” Touch Scr...</td>\n",
       "      <td>Surface Laptop 5 – 13.5” Touch Screen – Intel ...</td>\n",
       "      <td>NaN</td>\n",
       "      <td>USD</td>\n",
       "      <td>Surface Laptop 13\"</td>\n",
       "      <td>1 year</td>\n",
       "      <td>2.87 pounds</td>\n",
       "      <td>12.1 inches</td>\n",
       "    </tr>\n",
       "    <tr>\n",
       "      <th>2</th>\n",
       "      <td>4.7</td>\n",
       "      <td>465</td>\n",
       "      <td>HP</td>\n",
       "      <td>Silver</td>\n",
       "      <td>Natural Silver</td>\n",
       "      <td>new</td>\n",
       "      <td>Shop HP ENVY x360 2-in-1 15.6\" Touch-Screen La...</td>\n",
       "      <td>Your ideas deserve the best: It packs in all o...</td>\n",
       "      <td>From a rejuvenated Start menu, to new ways to ...</td>\n",
       "      <td>0.73 inches</td>\n",
       "      <td>15-ew0013dx</td>\n",
       "      <td>NaN</td>\n",
       "      <td>HP - ENVY x360 2-in-1 15.6\" Touch-Screen Lapto...</td>\n",
       "      <td>ENVY x360 2-in-1 15.6\" Touch-Screen Laptop - I...</td>\n",
       "      <td>ENVY x360 2-in-1 15.6\" Touch-Screen Laptop - I...</td>\n",
       "      <td>HP - ENVY x360 2-in-1 15.6\" Touch-Screen Lapto...</td>\n",
       "      <td>ENVY x360 2-in-1 15.6\" Touch-Screen Laptop - I...</td>\n",
       "      <td>649.99</td>\n",
       "      <td>USD</td>\n",
       "      <td>NaN</td>\n",
       "      <td>1 year</td>\n",
       "      <td>3.88 pounds</td>\n",
       "      <td>14.13 inches</td>\n",
       "    </tr>\n",
       "    <tr>\n",
       "      <th>3</th>\n",
       "      <td>4.7</td>\n",
       "      <td>167</td>\n",
       "      <td>LG</td>\n",
       "      <td>Black</td>\n",
       "      <td>Black</td>\n",
       "      <td>new</td>\n",
       "      <td>Shop LG 27” IPS LED FHD AMD FreeSync Monitor (...</td>\n",
       "      <td>27” FHD 3-Side Virtually Borderless Design IPS...</td>\n",
       "      <td>From sharp imagery to spot-on color, watch you...</td>\n",
       "      <td>NaN</td>\n",
       "      <td>27MQ44B-B</td>\n",
       "      <td>NaN</td>\n",
       "      <td>LG - 27” IPS LED FHD AMD FreeSync Monitor (HDM...</td>\n",
       "      <td>27” IPS LED FHD AMD FreeSync Monitor (HDMI, Di...</td>\n",
       "      <td>27” IPS LED FHD AMD FreeSync Monitor (HDMI, Di...</td>\n",
       "      <td>LG - 27” IPS LED FHD AMD FreeSync Monitor (HDM...</td>\n",
       "      <td>27” IPS LED FHD AMD FreeSync Monitor (HDMI, Di...</td>\n",
       "      <td>119.99</td>\n",
       "      <td>USD</td>\n",
       "      <td>NaN</td>\n",
       "      <td>1 year</td>\n",
       "      <td>8.6 pounds</td>\n",
       "      <td>24.1 inches</td>\n",
       "    </tr>\n",
       "    <tr>\n",
       "      <th>4</th>\n",
       "      <td>4.5</td>\n",
       "      <td>291</td>\n",
       "      <td>Samsung</td>\n",
       "      <td>Silver</td>\n",
       "      <td>Mystic Silver</td>\n",
       "      <td>new</td>\n",
       "      <td>Shop Samsung Galaxy Book 15.6\" LED Touch Scree...</td>\n",
       "      <td>Why can’t laptops be more like phones? Thin, l...</td>\n",
       "      <td>Get the fast, reliable power you need to make ...</td>\n",
       "      <td>0.61 inches</td>\n",
       "      <td>NP750TDA-XD2US</td>\n",
       "      <td>NaN</td>\n",
       "      <td>Samsung - Galaxy Book 15.6\" LED Touch Screen -...</td>\n",
       "      <td>Galaxy Book 15.6\" LED Touch Screen - Intel® Co...</td>\n",
       "      <td>Galaxy Book 15.6\" LED Touch Screen - Intel® Co...</td>\n",
       "      <td>Samsung - Galaxy Book 15.6\" LED Touch Screen -...</td>\n",
       "      <td>Galaxy Book 15.6\" LED Touch Screen - Intel® Co...</td>\n",
       "      <td>799.99</td>\n",
       "      <td>USD</td>\n",
       "      <td>NaN</td>\n",
       "      <td>1 year</td>\n",
       "      <td>3.51 pounds</td>\n",
       "      <td>9.02 inches</td>\n",
       "    </tr>\n",
       "  </tbody>\n",
       "</table>\n",
       "</div>"
      ],
      "text/plain": [
       "   aggregateRating/ratingValue  aggregateRating/reviewCount      brand  \\\n",
       "0                          4.5                          178       ASUS   \n",
       "1                          4.6                           53  Microsoft   \n",
       "2                          4.7                          465         HP   \n",
       "3                          4.7                          167         LG   \n",
       "4                          4.5                          291    Samsung   \n",
       "\n",
       "  color/category color/displayName condition/type  \\\n",
       "0           Gray               NaN            new   \n",
       "1          Green              Sage            new   \n",
       "2         Silver    Natural Silver            new   \n",
       "3          Black             Black            new   \n",
       "4         Silver     Mystic Silver            new   \n",
       "\n",
       "                                         description  \\\n",
       "0  Shop ASUS TUF Gaming A15 15.6\" FHD 144Hz Gamin...   \n",
       "1  Shop Microsoft Surface Laptop 5 – 13.5” Touch ...   \n",
       "2  Shop HP ENVY x360 2-in-1 15.6\" Touch-Screen La...   \n",
       "3  Shop LG 27” IPS LED FHD AMD FreeSync Monitor (...   \n",
       "4  Shop Samsung Galaxy Book 15.6\" LED Touch Scree...   \n",
       "\n",
       "                                   descriptions/long  \\\n",
       "0  ASUS TUF Gaming A15 Gaming Laptop gives you a ...   \n",
       "1  Multitasking speed powered by 12th Gen Intel C...   \n",
       "2  Your ideas deserve the best: It packs in all o...   \n",
       "3  27” FHD 3-Side Virtually Borderless Design IPS...   \n",
       "4  Why can’t laptops be more like phones? Thin, l...   \n",
       "\n",
       "                              features/0/description       height  \\\n",
       "0  Family, friends, passions, music, creations, g...  0.88 inches   \n",
       "1  Family, friends, passions, music, creations – ...  0.57 inches   \n",
       "2  From a rejuvenated Start menu, to new ways to ...  0.73 inches   \n",
       "3  From sharp imagery to spot-on color, watch you...          NaN   \n",
       "4  Get the fast, reliable power you need to make ...  0.61 inches   \n",
       "\n",
       "                 model                       modelFamily  \\\n",
       "0  FA507RE-A15.R73050T                               NaN   \n",
       "1            R1S-00051  Microsoft Surface Laptop 5 13.5\"   \n",
       "2          15-ew0013dx                               NaN   \n",
       "3            27MQ44B-B                               NaN   \n",
       "4       NP750TDA-XD2US                               NaN   \n",
       "\n",
       "                                                name  \\\n",
       "0  ASUS - TUF Gaming A15 15.6\" FHD 144Hz Gaming L...   \n",
       "1  Microsoft - Surface Laptop 5 – 13.5” Touch Scr...   \n",
       "2  HP - ENVY x360 2-in-1 15.6\" Touch-Screen Lapto...   \n",
       "3  LG - 27” IPS LED FHD AMD FreeSync Monitor (HDM...   \n",
       "4  Samsung - Galaxy Book 15.6\" LED Touch Screen -...   \n",
       "\n",
       "                                       names/display  \\\n",
       "0  TUF Gaming A15 15.6\" FHD 144Hz Gaming Laptop-A...   \n",
       "1  Surface Laptop 5 – 13.5” Touch Screen – Intel ...   \n",
       "2  ENVY x360 2-in-1 15.6\" Touch-Screen Laptop - I...   \n",
       "3  27” IPS LED FHD AMD FreeSync Monitor (HDMI, Di...   \n",
       "4  Galaxy Book 15.6\" LED Touch Screen - Intel® Co...   \n",
       "\n",
       "                                      names/rawShort  \\\n",
       "0  TUF Gaming A15 15.6\" FHD 144Hz Gaming Laptop-A...   \n",
       "1  Surface Laptop 5 – 13.5” Touch Screen – Intel ...   \n",
       "2  ENVY x360 2-in-1 15.6\" Touch-Screen Laptop - I...   \n",
       "3  27” IPS LED FHD AMD FreeSync Monitor (HDMI, Di...   \n",
       "4  Galaxy Book 15.6\" LED Touch Screen - Intel® Co...   \n",
       "\n",
       "                                         names/short  \\\n",
       "0  ASUS - TUF Gaming A15 15.6\" FHD 144Hz Gaming L...   \n",
       "1  Microsoft - Surface Laptop 5 – 13.5” Touch Scr...   \n",
       "2  HP - ENVY x360 2-in-1 15.6\" Touch-Screen Lapto...   \n",
       "3  LG - 27” IPS LED FHD AMD FreeSync Monitor (HDM...   \n",
       "4  Samsung - Galaxy Book 15.6\" LED Touch Screen -...   \n",
       "\n",
       "                                         names/title  offers/highPrice  \\\n",
       "0  TUF Gaming A15 15.6\" FHD 144Hz Gaming Laptop-A...            879.99   \n",
       "1  Surface Laptop 5 – 13.5” Touch Screen – Intel ...               NaN   \n",
       "2  ENVY x360 2-in-1 15.6\" Touch-Screen Laptop - I...            649.99   \n",
       "3  27” IPS LED FHD AMD FreeSync Monitor (HDMI, Di...            119.99   \n",
       "4  Galaxy Book 15.6\" LED Touch Screen - Intel® Co...            799.99   \n",
       "\n",
       "  offers/priceCurrency       productSeries warranties/labor       weight  \\\n",
       "0                  USD                 NaN           1 year  4.85 pounds   \n",
       "1                  USD  Surface Laptop 13\"           1 year  2.87 pounds   \n",
       "2                  USD                 NaN           1 year  3.88 pounds   \n",
       "3                  USD                 NaN           1 year   8.6 pounds   \n",
       "4                  USD                 NaN           1 year  3.51 pounds   \n",
       "\n",
       "          width  \n",
       "0   9.88 inches  \n",
       "1   12.1 inches  \n",
       "2  14.13 inches  \n",
       "3   24.1 inches  \n",
       "4   9.02 inches  "
      ]
     },
     "execution_count": 22,
     "metadata": {},
     "output_type": "execute_result"
    }
   ],
   "source": [
    "data.head()"
   ]
  },
  {
   "cell_type": "markdown",
   "id": "a48ca5e5",
   "metadata": {},
   "source": [
    "Столбец aggregateRating/ratingValue содержит агрегированный рейтинг присвоенный ноутбуку на основе оценок пользователей. Отобразим данный рейтинг с помощью гистограммы методом hist()."
   ]
  },
  {
   "cell_type": "code",
   "execution_count": 23,
   "id": "5f0eba2e",
   "metadata": {},
   "outputs": [
    {
     "data": {
      "image/png": "[encoded data removed]",
      "text/plain": [
       "<Figure size 800x800 with 1 Axes>"
      ]
     },
     "metadata": {},
     "output_type": "display_data"
    }
   ],
   "source": [
    "data['aggregateRating/ratingValue'].hist(figsize=(8, 8));"
   ]
  },
  {
   "cell_type": "markdown",
   "id": "13f9a6a2",
   "metadata": {},
   "source": [
    "Как видно на диаграмме, большинство устройств с достаточном высоким рейтингом(от 4.5 до 4.75) Интересно что есть устройство с оценкой 3 балла. Сделаем срез данных и посмотрим что это за устройство."
   ]
  },
  {
   "cell_type": "code",
   "execution_count": 24,
   "id": "98d138f1",
   "metadata": {},
   "outputs": [
    {
     "data": {
      "text/html": [
       "<div>\n",
       "<style scoped>\n",
       "    .dataframe tbody tr th:only-of-type {\n",
       "        vertical-align: middle;\n",
       "    }\n",
       "\n",
       "    .dataframe tbody tr th {\n",
       "        vertical-align: top;\n",
       "    }\n",
       "\n",
       "    .dataframe thead th {\n",
       "        text-align: right;\n",
       "    }\n",
       "</style>\n",
       "<table border=\"1\" class=\"dataframe\">\n",
       "  <thead>\n",
       "    <tr style=\"text-align: right;\">\n",
       "      <th></th>\n",
       "      <th>aggregateRating/ratingValue</th>\n",
       "      <th>aggregateRating/reviewCount</th>\n",
       "      <th>brand</th>\n",
       "      <th>color/category</th>\n",
       "      <th>color/displayName</th>\n",
       "      <th>condition/type</th>\n",
       "      <th>description</th>\n",
       "      <th>descriptions/long</th>\n",
       "      <th>features/0/description</th>\n",
       "      <th>height</th>\n",
       "      <th>model</th>\n",
       "      <th>modelFamily</th>\n",
       "      <th>name</th>\n",
       "      <th>names/display</th>\n",
       "      <th>names/rawShort</th>\n",
       "      <th>names/short</th>\n",
       "      <th>names/title</th>\n",
       "      <th>offers/highPrice</th>\n",
       "      <th>offers/priceCurrency</th>\n",
       "      <th>productSeries</th>\n",
       "      <th>warranties/labor</th>\n",
       "      <th>weight</th>\n",
       "      <th>width</th>\n",
       "    </tr>\n",
       "  </thead>\n",
       "  <tbody>\n",
       "    <tr>\n",
       "      <th>0</th>\n",
       "      <td>3.0</td>\n",
       "      <td>3</td>\n",
       "      <td>Microsoft</td>\n",
       "      <td>Silver</td>\n",
       "      <td>Platinum</td>\n",
       "      <td>new</td>\n",
       "      <td>Shop Microsoft Surface Pro 9 – 13\" Touch Scree...</td>\n",
       "      <td>Surface Pro 9 gives you the tablet flexibility...</td>\n",
       "      <td>Surface Pro 9 gives you the tablet flexibility...</td>\n",
       "      <td>0.37 inches</td>\n",
       "      <td>QCB-00001</td>\n",
       "      <td>Microsoft Surface Pro 9</td>\n",
       "      <td>Microsoft - Surface Pro 9 – 13\" Touch Screen –...</td>\n",
       "      <td>Surface Pro 9 – 13\" Touch Screen – Intel Core ...</td>\n",
       "      <td>Surface Pro 9 – 13\" Touch Screen – Intel Core ...</td>\n",
       "      <td>Microsoft - Surface Pro 9 – 13\" Touch Screen –...</td>\n",
       "      <td>Surface Pro 9 – 13\" Touch Screen – Intel Core ...</td>\n",
       "      <td>NaN</td>\n",
       "      <td>USD</td>\n",
       "      <td>NaN</td>\n",
       "      <td>1 year</td>\n",
       "      <td>31.74 ounces</td>\n",
       "      <td>11.3 inches</td>\n",
       "    </tr>\n",
       "  </tbody>\n",
       "</table>\n",
       "</div>"
      ],
      "text/plain": [
       "   aggregateRating/ratingValue  aggregateRating/reviewCount      brand  \\\n",
       "0                          3.0                            3  Microsoft   \n",
       "\n",
       "  color/category color/displayName condition/type  \\\n",
       "0         Silver          Platinum            new   \n",
       "\n",
       "                                         description  \\\n",
       "0  Shop Microsoft Surface Pro 9 – 13\" Touch Scree...   \n",
       "\n",
       "                                   descriptions/long  \\\n",
       "0  Surface Pro 9 gives you the tablet flexibility...   \n",
       "\n",
       "                              features/0/description       height      model  \\\n",
       "0  Surface Pro 9 gives you the tablet flexibility...  0.37 inches  QCB-00001   \n",
       "\n",
       "               modelFamily                                               name  \\\n",
       "0  Microsoft Surface Pro 9  Microsoft - Surface Pro 9 – 13\" Touch Screen –...   \n",
       "\n",
       "                                       names/display  \\\n",
       "0  Surface Pro 9 – 13\" Touch Screen – Intel Core ...   \n",
       "\n",
       "                                      names/rawShort  \\\n",
       "0  Surface Pro 9 – 13\" Touch Screen – Intel Core ...   \n",
       "\n",
       "                                         names/short  \\\n",
       "0  Microsoft - Surface Pro 9 – 13\" Touch Screen –...   \n",
       "\n",
       "                                         names/title  offers/highPrice  \\\n",
       "0  Surface Pro 9 – 13\" Touch Screen – Intel Core ...               NaN   \n",
       "\n",
       "  offers/priceCurrency productSeries warranties/labor        weight  \\\n",
       "0                  USD           NaN           1 year  31.74 ounces   \n",
       "\n",
       "         width  \n",
       "0  11.3 inches  "
      ]
     },
     "execution_count": 24,
     "metadata": {},
     "output_type": "execute_result"
    }
   ],
   "source": [
    "bad_rating = data.loc[data['aggregateRating/ratingValue'] < 4].reset_index(drop=True)\n",
    "bad_rating"
   ]
  },
  {
   "cell_type": "markdown",
   "id": "d1ef70a9",
   "metadata": {},
   "source": [
    "Данное устройство бренда Microsoft. Возможно данному рейтингу нельзя доверять, так как значение в столбце aggregateRating/reviewCount равно 3. Это значит, что всего три пользователя поставили оценку данному устройству. Попробуем посчитать сколько пользователей оценили то или иное устройство.  "
   ]
  },
  {
   "cell_type": "code",
   "execution_count": 25,
   "id": "5337506d",
   "metadata": {},
   "outputs": [
    {
     "data": {
      "text/plain": [
       "brand      aggregateRating/reviewCount\n",
       "ASUS       99                             1\n",
       "           178                            1\n",
       "Apple      1347                           2\n",
       "           411                            1\n",
       "           2825                           1\n",
       "Dell       321                            1\n",
       "           381                            1\n",
       "HP         14                             1\n",
       "           214                            1\n",
       "           296                            1\n",
       "           465                            1\n",
       "           508                            1\n",
       "           865                            1\n",
       "           990                            1\n",
       "LG         167                            1\n",
       "Microsoft  3                              1\n",
       "           53                             1\n",
       "Samsung    291                            1\n",
       "SanDisk    8792                           1\n",
       "WD         2470                           1\n",
       "           12664                          1\n",
       "Name: aggregateRating/reviewCount, dtype: int64"
      ]
     },
     "execution_count": 25,
     "metadata": {},
     "output_type": "execute_result"
    }
   ],
   "source": [
    "data_brand_rating = data.groupby('brand')['aggregateRating/reviewCount'].value_counts()\n",
    "data_brand_rating"
   ]
  },
  {
   "cell_type": "markdown",
   "id": "6843526d",
   "metadata": {},
   "source": [
    "Больше всего оценок у ноутбука бренда WD."
   ]
  },
  {
   "cell_type": "markdown",
   "id": "6d05482f",
   "metadata": {},
   "source": [
    "Теперь посмотрим распределение популярности по брендам ноутбуков. Отобразим данные на гистограмме. "
   ]
  },
  {
   "cell_type": "code",
   "execution_count": 26,
   "id": "3e62c093",
   "metadata": {},
   "outputs": [
    {
     "data": {
      "image/png": "[encoded data removed]",
      "text/plain": [
       "<Figure size 800x800 with 1 Axes>"
      ]
     },
     "metadata": {},
     "output_type": "display_data"
    }
   ],
   "source": [
    "data['brand'].hist(figsize=(8, 8));"
   ]
  },
  {
   "cell_type": "markdown",
   "id": "4d982a01",
   "metadata": {},
   "source": [
    "Можем выделить два самых популярных бренда в текущем датасете. Это HP и Apple."
   ]
  },
  {
   "cell_type": "code",
   "execution_count": 27,
   "id": "d2620117",
   "metadata": {},
   "outputs": [
    {
     "data": {
      "text/html": [
       "<div>\n",
       "<style scoped>\n",
       "    .dataframe tbody tr th:only-of-type {\n",
       "        vertical-align: middle;\n",
       "    }\n",
       "\n",
       "    .dataframe tbody tr th {\n",
       "        vertical-align: top;\n",
       "    }\n",
       "\n",
       "    .dataframe thead th {\n",
       "        text-align: right;\n",
       "    }\n",
       "</style>\n",
       "<table border=\"1\" class=\"dataframe\">\n",
       "  <thead>\n",
       "    <tr style=\"text-align: right;\">\n",
       "      <th></th>\n",
       "      <th>aggregateRating/ratingValue</th>\n",
       "      <th>aggregateRating/reviewCount</th>\n",
       "      <th>brand</th>\n",
       "      <th>color/category</th>\n",
       "      <th>color/displayName</th>\n",
       "      <th>condition/type</th>\n",
       "      <th>description</th>\n",
       "      <th>descriptions/long</th>\n",
       "      <th>features/0/description</th>\n",
       "      <th>height</th>\n",
       "      <th>model</th>\n",
       "      <th>modelFamily</th>\n",
       "      <th>name</th>\n",
       "      <th>names/display</th>\n",
       "      <th>names/rawShort</th>\n",
       "      <th>names/short</th>\n",
       "      <th>names/title</th>\n",
       "      <th>offers/highPrice</th>\n",
       "      <th>offers/priceCurrency</th>\n",
       "      <th>productSeries</th>\n",
       "      <th>warranties/labor</th>\n",
       "      <th>weight</th>\n",
       "      <th>width</th>\n",
       "    </tr>\n",
       "  </thead>\n",
       "  <tbody>\n",
       "    <tr>\n",
       "      <th>0</th>\n",
       "      <td>4.5</td>\n",
       "      <td>178</td>\n",
       "      <td>ASUS</td>\n",
       "      <td>Gray</td>\n",
       "      <td>NaN</td>\n",
       "      <td>new</td>\n",
       "      <td>Shop ASUS TUF Gaming A15 15.6\" FHD 144Hz Gamin...</td>\n",
       "      <td>ASUS TUF Gaming A15 Gaming Laptop gives you a ...</td>\n",
       "      <td>Family, friends, passions, music, creations, g...</td>\n",
       "      <td>0.88 inches</td>\n",
       "      <td>FA507RE-A15.R73050T</td>\n",
       "      <td>NaN</td>\n",
       "      <td>ASUS - TUF Gaming A15 15.6\" FHD 144Hz Gaming L...</td>\n",
       "      <td>TUF Gaming A15 15.6\" FHD 144Hz Gaming Laptop-A...</td>\n",
       "      <td>TUF Gaming A15 15.6\" FHD 144Hz Gaming Laptop-A...</td>\n",
       "      <td>ASUS - TUF Gaming A15 15.6\" FHD 144Hz Gaming L...</td>\n",
       "      <td>TUF Gaming A15 15.6\" FHD 144Hz Gaming Laptop-A...</td>\n",
       "      <td>879.99</td>\n",
       "      <td>USD</td>\n",
       "      <td>NaN</td>\n",
       "      <td>1 year</td>\n",
       "      <td>4.85 pounds</td>\n",
       "      <td>9.88 inches</td>\n",
       "    </tr>\n",
       "    <tr>\n",
       "      <th>1</th>\n",
       "      <td>4.6</td>\n",
       "      <td>53</td>\n",
       "      <td>Microsoft</td>\n",
       "      <td>Green</td>\n",
       "      <td>Sage</td>\n",
       "      <td>new</td>\n",
       "      <td>Shop Microsoft Surface Laptop 5 – 13.5” Touch ...</td>\n",
       "      <td>Multitasking speed powered by 12th Gen Intel C...</td>\n",
       "      <td>Family, friends, passions, music, creations – ...</td>\n",
       "      <td>0.57 inches</td>\n",
       "      <td>R1S-00051</td>\n",
       "      <td>Microsoft Surface Laptop 5 13.5\"</td>\n",
       "      <td>Microsoft - Surface Laptop 5 – 13.5” Touch Scr...</td>\n",
       "      <td>Surface Laptop 5 – 13.5” Touch Screen – Intel ...</td>\n",
       "      <td>Surface Laptop 5 – 13.5” Touch Screen – Intel ...</td>\n",
       "      <td>Microsoft - Surface Laptop 5 – 13.5” Touch Scr...</td>\n",
       "      <td>Surface Laptop 5 – 13.5” Touch Screen – Intel ...</td>\n",
       "      <td>NaN</td>\n",
       "      <td>USD</td>\n",
       "      <td>Surface Laptop 13\"</td>\n",
       "      <td>1 year</td>\n",
       "      <td>2.87 pounds</td>\n",
       "      <td>12.1 inches</td>\n",
       "    </tr>\n",
       "    <tr>\n",
       "      <th>2</th>\n",
       "      <td>4.7</td>\n",
       "      <td>465</td>\n",
       "      <td>HP</td>\n",
       "      <td>Silver</td>\n",
       "      <td>Natural Silver</td>\n",
       "      <td>new</td>\n",
       "      <td>Shop HP ENVY x360 2-in-1 15.6\" Touch-Screen La...</td>\n",
       "      <td>Your ideas deserve the best: It packs in all o...</td>\n",
       "      <td>From a rejuvenated Start menu, to new ways to ...</td>\n",
       "      <td>0.73 inches</td>\n",
       "      <td>15-ew0013dx</td>\n",
       "      <td>NaN</td>\n",
       "      <td>HP - ENVY x360 2-in-1 15.6\" Touch-Screen Lapto...</td>\n",
       "      <td>ENVY x360 2-in-1 15.6\" Touch-Screen Laptop - I...</td>\n",
       "      <td>ENVY x360 2-in-1 15.6\" Touch-Screen Laptop - I...</td>\n",
       "      <td>HP - ENVY x360 2-in-1 15.6\" Touch-Screen Lapto...</td>\n",
       "      <td>ENVY x360 2-in-1 15.6\" Touch-Screen Laptop - I...</td>\n",
       "      <td>649.99</td>\n",
       "      <td>USD</td>\n",
       "      <td>NaN</td>\n",
       "      <td>1 year</td>\n",
       "      <td>3.88 pounds</td>\n",
       "      <td>14.13 inches</td>\n",
       "    </tr>\n",
       "    <tr>\n",
       "      <th>3</th>\n",
       "      <td>4.7</td>\n",
       "      <td>167</td>\n",
       "      <td>LG</td>\n",
       "      <td>Black</td>\n",
       "      <td>Black</td>\n",
       "      <td>new</td>\n",
       "      <td>Shop LG 27” IPS LED FHD AMD FreeSync Monitor (...</td>\n",
       "      <td>27” FHD 3-Side Virtually Borderless Design IPS...</td>\n",
       "      <td>From sharp imagery to spot-on color, watch you...</td>\n",
       "      <td>NaN</td>\n",
       "      <td>27MQ44B-B</td>\n",
       "      <td>NaN</td>\n",
       "      <td>LG - 27” IPS LED FHD AMD FreeSync Monitor (HDM...</td>\n",
       "      <td>27” IPS LED FHD AMD FreeSync Monitor (HDMI, Di...</td>\n",
       "      <td>27” IPS LED FHD AMD FreeSync Monitor (HDMI, Di...</td>\n",
       "      <td>LG - 27” IPS LED FHD AMD FreeSync Monitor (HDM...</td>\n",
       "      <td>27” IPS LED FHD AMD FreeSync Monitor (HDMI, Di...</td>\n",
       "      <td>119.99</td>\n",
       "      <td>USD</td>\n",
       "      <td>NaN</td>\n",
       "      <td>1 year</td>\n",
       "      <td>8.6 pounds</td>\n",
       "      <td>24.1 inches</td>\n",
       "    </tr>\n",
       "    <tr>\n",
       "      <th>4</th>\n",
       "      <td>4.5</td>\n",
       "      <td>291</td>\n",
       "      <td>Samsung</td>\n",
       "      <td>Silver</td>\n",
       "      <td>Mystic Silver</td>\n",
       "      <td>new</td>\n",
       "      <td>Shop Samsung Galaxy Book 15.6\" LED Touch Scree...</td>\n",
       "      <td>Why can’t laptops be more like phones? Thin, l...</td>\n",
       "      <td>Get the fast, reliable power you need to make ...</td>\n",
       "      <td>0.61 inches</td>\n",
       "      <td>NP750TDA-XD2US</td>\n",
       "      <td>NaN</td>\n",
       "      <td>Samsung - Galaxy Book 15.6\" LED Touch Screen -...</td>\n",
       "      <td>Galaxy Book 15.6\" LED Touch Screen - Intel® Co...</td>\n",
       "      <td>Galaxy Book 15.6\" LED Touch Screen - Intel® Co...</td>\n",
       "      <td>Samsung - Galaxy Book 15.6\" LED Touch Screen -...</td>\n",
       "      <td>Galaxy Book 15.6\" LED Touch Screen - Intel® Co...</td>\n",
       "      <td>799.99</td>\n",
       "      <td>USD</td>\n",
       "      <td>NaN</td>\n",
       "      <td>1 year</td>\n",
       "      <td>3.51 pounds</td>\n",
       "      <td>9.02 inches</td>\n",
       "    </tr>\n",
       "  </tbody>\n",
       "</table>\n",
       "</div>"
      ],
      "text/plain": [
       "   aggregateRating/ratingValue  aggregateRating/reviewCount      brand  \\\n",
       "0                          4.5                          178       ASUS   \n",
       "1                          4.6                           53  Microsoft   \n",
       "2                          4.7                          465         HP   \n",
       "3                          4.7                          167         LG   \n",
       "4                          4.5                          291    Samsung   \n",
       "\n",
       "  color/category color/displayName condition/type  \\\n",
       "0           Gray               NaN            new   \n",
       "1          Green              Sage            new   \n",
       "2         Silver    Natural Silver            new   \n",
       "3          Black             Black            new   \n",
       "4         Silver     Mystic Silver            new   \n",
       "\n",
       "                                         description  \\\n",
       "0  Shop ASUS TUF Gaming A15 15.6\" FHD 144Hz Gamin...   \n",
       "1  Shop Microsoft Surface Laptop 5 – 13.5” Touch ...   \n",
       "2  Shop HP ENVY x360 2-in-1 15.6\" Touch-Screen La...   \n",
       "3  Shop LG 27” IPS LED FHD AMD FreeSync Monitor (...   \n",
       "4  Shop Samsung Galaxy Book 15.6\" LED Touch Scree...   \n",
       "\n",
       "                                   descriptions/long  \\\n",
       "0  ASUS TUF Gaming A15 Gaming Laptop gives you a ...   \n",
       "1  Multitasking speed powered by 12th Gen Intel C...   \n",
       "2  Your ideas deserve the best: It packs in all o...   \n",
       "3  27” FHD 3-Side Virtually Borderless Design IPS...   \n",
       "4  Why can’t laptops be more like phones? Thin, l...   \n",
       "\n",
       "                              features/0/description       height  \\\n",
       "0  Family, friends, passions, music, creations, g...  0.88 inches   \n",
       "1  Family, friends, passions, music, creations – ...  0.57 inches   \n",
       "2  From a rejuvenated Start menu, to new ways to ...  0.73 inches   \n",
       "3  From sharp imagery to spot-on color, watch you...          NaN   \n",
       "4  Get the fast, reliable power you need to make ...  0.61 inches   \n",
       "\n",
       "                 model                       modelFamily  \\\n",
       "0  FA507RE-A15.R73050T                               NaN   \n",
       "1            R1S-00051  Microsoft Surface Laptop 5 13.5\"   \n",
       "2          15-ew0013dx                               NaN   \n",
       "3            27MQ44B-B                               NaN   \n",
       "4       NP750TDA-XD2US                               NaN   \n",
       "\n",
       "                                                name  \\\n",
       "0  ASUS - TUF Gaming A15 15.6\" FHD 144Hz Gaming L...   \n",
       "1  Microsoft - Surface Laptop 5 – 13.5” Touch Scr...   \n",
       "2  HP - ENVY x360 2-in-1 15.6\" Touch-Screen Lapto...   \n",
       "3  LG - 27” IPS LED FHD AMD FreeSync Monitor (HDM...   \n",
       "4  Samsung - Galaxy Book 15.6\" LED Touch Screen -...   \n",
       "\n",
       "                                       names/display  \\\n",
       "0  TUF Gaming A15 15.6\" FHD 144Hz Gaming Laptop-A...   \n",
       "1  Surface Laptop 5 – 13.5” Touch Screen – Intel ...   \n",
       "2  ENVY x360 2-in-1 15.6\" Touch-Screen Laptop - I...   \n",
       "3  27” IPS LED FHD AMD FreeSync Monitor (HDMI, Di...   \n",
       "4  Galaxy Book 15.6\" LED Touch Screen - Intel® Co...   \n",
       "\n",
       "                                      names/rawShort  \\\n",
       "0  TUF Gaming A15 15.6\" FHD 144Hz Gaming Laptop-A...   \n",
       "1  Surface Laptop 5 – 13.5” Touch Screen – Intel ...   \n",
       "2  ENVY x360 2-in-1 15.6\" Touch-Screen Laptop - I...   \n",
       "3  27” IPS LED FHD AMD FreeSync Monitor (HDMI, Di...   \n",
       "4  Galaxy Book 15.6\" LED Touch Screen - Intel® Co...   \n",
       "\n",
       "                                         names/short  \\\n",
       "0  ASUS - TUF Gaming A15 15.6\" FHD 144Hz Gaming L...   \n",
       "1  Microsoft - Surface Laptop 5 – 13.5” Touch Scr...   \n",
       "2  HP - ENVY x360 2-in-1 15.6\" Touch-Screen Lapto...   \n",
       "3  LG - 27” IPS LED FHD AMD FreeSync Monitor (HDM...   \n",
       "4  Samsung - Galaxy Book 15.6\" LED Touch Screen -...   \n",
       "\n",
       "                                         names/title  offers/highPrice  \\\n",
       "0  TUF Gaming A15 15.6\" FHD 144Hz Gaming Laptop-A...            879.99   \n",
       "1  Surface Laptop 5 – 13.5” Touch Screen – Intel ...               NaN   \n",
       "2  ENVY x360 2-in-1 15.6\" Touch-Screen Laptop - I...            649.99   \n",
       "3  27” IPS LED FHD AMD FreeSync Monitor (HDMI, Di...            119.99   \n",
       "4  Galaxy Book 15.6\" LED Touch Screen - Intel® Co...            799.99   \n",
       "\n",
       "  offers/priceCurrency       productSeries warranties/labor       weight  \\\n",
       "0                  USD                 NaN           1 year  4.85 pounds   \n",
       "1                  USD  Surface Laptop 13\"           1 year  2.87 pounds   \n",
       "2                  USD                 NaN           1 year  3.88 pounds   \n",
       "3                  USD                 NaN           1 year   8.6 pounds   \n",
       "4                  USD                 NaN           1 year  3.51 pounds   \n",
       "\n",
       "          width  \n",
       "0   9.88 inches  \n",
       "1   12.1 inches  \n",
       "2  14.13 inches  \n",
       "3   24.1 inches  \n",
       "4   9.02 inches  "
      ]
     },
     "execution_count": 27,
     "metadata": {},
     "output_type": "execute_result"
    }
   ],
   "source": [
    "data.head()"
   ]
  },
  {
   "cell_type": "markdown",
   "id": "28051301",
   "metadata": {},
   "source": [
    "Построим гистограмму для столбца color/category."
   ]
  },
  {
   "cell_type": "code",
   "execution_count": 28,
   "id": "398c28dd",
   "metadata": {},
   "outputs": [
    {
     "data": {
      "image/png": "[encoded data removed]",
      "text/plain": [
       "<Figure size 800x800 with 1 Axes>"
      ]
     },
     "metadata": {},
     "output_type": "display_data"
    }
   ],
   "source": [
    "data['color/category'].hist(figsize=(8, 8));"
   ]
  },
  {
   "cell_type": "markdown",
   "id": "29f9fcd6",
   "metadata": {},
   "source": [
    "Два самых популярных цвета - серебрянный и черный. Наименее популярные цвета - серый, зеленый, космический серый и синий."
   ]
  },
  {
   "cell_type": "markdown",
   "id": "54753d8b",
   "metadata": {},
   "source": [
    "Изучим столбец condition/type и посмотрим какие значения присутствуют в столбце с помощью метода unique()."
   ]
  },
  {
   "cell_type": "code",
   "execution_count": 29,
   "id": "3ef6415f",
   "metadata": {},
   "outputs": [
    {
     "data": {
      "text/plain": [
       "array(['new'], dtype=object)"
      ]
     },
     "execution_count": 29,
     "metadata": {},
     "output_type": "execute_result"
    }
   ],
   "source": [
    "data['condition/type'].unique()"
   ]
  },
  {
   "cell_type": "markdown",
   "id": "231a6e48",
   "metadata": {},
   "source": [
    "В данном столбце присутствует одно значение - new. Следовательно все ноутбуки из текущего набора данных являются новыми."
   ]
  },
  {
   "cell_type": "markdown",
   "id": "8adec9ac",
   "metadata": {},
   "source": [
    "В столбце description присутствует достаточно длинное описание товара. На основе этих данных пользователь может больше узнать о товаре и определиться с покупкой. "
   ]
  },
  {
   "cell_type": "markdown",
   "id": "69237311",
   "metadata": {},
   "source": [
    "Построим гистограмму для столбца height. "
   ]
  },
  {
   "cell_type": "code",
   "execution_count": 30,
   "id": "d2489635",
   "metadata": {},
   "outputs": [
    {
     "data": {
      "image/png": "[encoded data removed]",
      "text/plain": [
       "<Figure size 1000x500 with 1 Axes>"
      ]
     },
     "metadata": {},
     "output_type": "display_data"
    }
   ],
   "source": [
    "data['height'].value_counts().sort_values(ascending=False).plot(figsize=(10,5),kind=\"bar\",title='Распределение ноутбуков по высоте');"
   ]
  },
  {
   "cell_type": "markdown",
   "id": "d1ef4466",
   "metadata": {},
   "source": [
    "Больше всего ноутбуков высотой:\n",
    "1) 0.71 дюйма - 3 модели;  \n",
    "2) 0.61 дюйма - 2 модели;  \n",
    "3) 0.74 дюйма - 2 модели.   \n",
    "\n",
    "Вероятно в данных также присутствуют ошибки - есть 2 ноутбука с высотой 20.3 дюйма и 6.7 дюйма. "
   ]
  },
  {
   "cell_type": "markdown",
   "id": "275105ed",
   "metadata": {},
   "source": [
    "Построим диаграмму рассеяния для столбцов offers/highPrice и brand. Определим стоимость ноутбуков для различных брендов."
   ]
  },
  {
   "cell_type": "code",
   "execution_count": 31,
   "id": "a83d98fc",
   "metadata": {},
   "outputs": [
    {
     "data": {
      "image/png": "[encoded data removed]",
      "text/plain": [
       "<Figure size 1500x800 with 1 Axes>"
      ]
     },
     "metadata": {},
     "output_type": "display_data"
    }
   ],
   "source": [
    "data.plot(kind='scatter',\n",
    "        y='offers/highPrice' , x='brand', alpha=0.5, subplots=True, figsize=(15,8), c = 'b', s = 4)\n",
    "plt.title('Диаграмма рассеяния — Стоимость ноутбуков');"
   ]
  },
  {
   "cell_type": "markdown",
   "id": "d07f9d26",
   "metadata": {},
   "source": [
    "Как видно на диаграмме рассеяния самый дорогой бренд - это Apple (цена начинается от 1000 долларов). Два самых недорогих бренда: Asus(200 долларов) и LG(менее 200 долларов). В нашем датасете самый широкий разброс цен у бренда HP(цены варьируются от 200 до 1000)."
   ]
  },
  {
   "cell_type": "markdown",
   "id": "046917ba",
   "metadata": {},
   "source": [
    "Убедимся что стоимость товаров представлена в одной валюте - USD. Для этого воспользуемся методом unique для столбца offers/priceCurrency."
   ]
  },
  {
   "cell_type": "code",
   "execution_count": 32,
   "id": "fcd5b6f5",
   "metadata": {},
   "outputs": [
    {
     "data": {
      "text/plain": [
       "array(['USD'], dtype=object)"
      ]
     },
     "execution_count": 32,
     "metadata": {},
     "output_type": "execute_result"
    }
   ],
   "source": [
    "data['offers/priceCurrency'].unique()"
   ]
  },
  {
   "cell_type": "markdown",
   "id": "d70142f8",
   "metadata": {},
   "source": [
    "Валюта действительно только одна - USD."
   ]
  },
  {
   "cell_type": "markdown",
   "id": "2ac0199b",
   "metadata": {},
   "source": [
    "Определим какую гарантию на товар предоставляют производители. Построим диаграмму рассеяния для столбцов warranties/labor и brand."
   ]
  },
  {
   "cell_type": "code",
   "execution_count": 33,
   "id": "10c076a2",
   "metadata": {},
   "outputs": [
    {
     "data": {
      "text/plain": [
       "array(['1 year', '1 year limited', '2 Years',\n",
       "       '1 Year Hardware Service with Onsite/In-Home Service After Remote Diagnosis',\n",
       "       '2 years', '5 years limited', '1 Year Mail In Service'],\n",
       "      dtype=object)"
      ]
     },
     "execution_count": 33,
     "metadata": {},
     "output_type": "execute_result"
    }
   ],
   "source": [
    "data['warranties/labor'].unique()"
   ]
  },
  {
   "cell_type": "code",
   "execution_count": 34,
   "id": "044b5c11",
   "metadata": {},
   "outputs": [
    {
     "data": {
      "image/png": "[encoded data removed]",
      "text/plain": [
       "<Figure size 1500x800 with 1 Axes>"
      ]
     },
     "metadata": {},
     "output_type": "display_data"
    }
   ],
   "source": [
    "data.plot(kind='scatter',\n",
    "        y='warranties/labor' , x='brand', alpha=0.5, subplots=True, figsize=(15,8), c = 'b', s = 4)\n",
    "plt.title('Диаграмма рассеяния — Гарантия производителя на товар');"
   ]
  },
  {
   "cell_type": "markdown",
   "id": "50cbe99b",
   "metadata": {},
   "source": [
    "Самую продолжительную гарантию предоставляет бренд SanDisk - 5 лет гарантии. WD предоставляет гарантию 2 года на одну из моделей. В среднем производитель предлагает 1 год гарантии. Это самый распространненый срок гарантии."
   ]
  },
  {
   "cell_type": "markdown",
   "id": "c3008078",
   "metadata": {},
   "source": [
    "Отобразим распределение ноутбуков по весу на гистограмме."
   ]
  },
  {
   "cell_type": "code",
   "execution_count": 35,
   "id": "0f1610a6",
   "metadata": {},
   "outputs": [
    {
     "data": {
      "image/png": "[encoded data removed]",
      "text/plain": [
       "<Figure size 1000x500 with 1 Axes>"
      ]
     },
     "metadata": {},
     "output_type": "display_data"
    }
   ],
   "source": [
    "data['weight'].value_counts().sort_values(ascending=False).plot(figsize=(10,5),kind=\"bar\",title='Распределение ноутбуков по весу');"
   ]
  },
  {
   "cell_type": "markdown",
   "id": "d4a14dee",
   "metadata": {},
   "source": [
    "Все ноутбуки весят по разному. Самое популярное значение - 2.7 фунта. Такой вес представлен у двух моделей. Также стоит отметить,что вес представлен в двух значениях - pounds(фунт) и ounces(унция). "
   ]
  },
  {
   "cell_type": "markdown",
   "id": "58c4f58d",
   "metadata": {},
   "source": [
    "Построим аналогичную диаграмму для столбца width."
   ]
  },
  {
   "cell_type": "code",
   "execution_count": 36,
   "id": "8c076e86",
   "metadata": {},
   "outputs": [
    {
     "data": {
      "image/png": "[encoded data removed]",
      "text/plain": [
       "<Figure size 1000x500 with 1 Axes>"
      ]
     },
     "metadata": {},
     "output_type": "display_data"
    }
   ],
   "source": [
    "data['width'].value_counts().sort_values(ascending=False).plot(figsize=(10,5),kind=\"bar\",title='Распределение ноутбуков по ширине');"
   ]
  },
  {
   "cell_type": "markdown",
   "id": "6044a2c2",
   "metadata": {},
   "source": [
    "Аналогичная ситуация как и на предыдущем графике. Распределение ноутбуков по ширине разнообразно. 14.11 дюйма самое популярное значение встречается у двух моделей. "
   ]
  },
  {
   "cell_type": "markdown",
   "id": "28f54df7",
   "metadata": {},
   "source": [
    "## Вывод по проекту."
   ]
  },
  {
   "cell_type": "markdown",
   "id": "5c2b145d",
   "metadata": {},
   "source": [
    "**Технические особенности получения данных:**\n",
    "\n",
    "- Данные получены через стороний сервис blog.apify.com. В качестве источниках данных был выбран сайт bestbuy.com, раздел laptop-and-computer-deals;  \n",
    "- Полученные данные выгружены в качестве ссылки и csv файла;    \n",
    "- В результате предобработки данных датасет был проверен на дубликаты, пропуски. Для строк с пропусками было принято решение не заполнять их, так как заполнение средним или медианными значениями могут исказить результаты исследований. А проверенными данными мы не обладаем. Также были выборочно удалены столбцы не содержащие основную информацию о товаре;  \n",
    "\n",
    "**Основные тезисы сформулированные в процессе исследования данных:**\n",
    "- Два самых популярных бренда в текущем датасете. Это HP и Apple;\n",
    "- Cамый дорогой бренд - это Apple (цена начинается от 1000 долларов). Два самых недорогих бренда: Asus(200 долларов) и LG(менее 200 долларов). В нашем датасете самый широкий разброс цен у бренда HP(цены варьируются от 200 до 1000);\n",
    "- Два самых популярных цвета - серебрянный и черный. Наименее популярные цвета - серый, зеленый, космический серый и синий;\n",
    "- Большинство устройств с достаточном высоким рейтингом(от 4.5 до 4.75) по оценке пользователей;\n",
    "- Больше всего устройств высотой 0.71 дюйма - 3 модели;\n",
    "- Все товары представлен в валюте USD;\n",
    "- Самую продолжительную гарантию предоставляет бренд SanDisk - 5 лет гарантии. WD предоставляет гарантию 2 года на одну из моделей. В среднем производитель предлагает 1 год гарантии. Это самый распространненый срок гарантии;\n",
    "- Все ноутбуки весят по разному. Самое популярное значение - 2.7 фунта. Такой вес представлен у двух моделей. Также стоит отметить,что вес представлен в двух значениях - pounds(фунт) и ounces(унция)."
   ]
  }
 ],
 "metadata": {
  "kernelspec": {
   "display_name": "Python 3 (ipykernel)",
   "language": "python",
   "name": "python3"
  },
  "language_info": {
   "codemirror_mode": {
    "name": "ipython",
    "version": 3
   },
   "file_extension": ".py",
   "mimetype": "text/x-python",
   "name": "python",
   "nbconvert_exporter": "python",
   "pygments_lexer": "ipython3",
   "version": "3.9.13"
  },
  "toc": {
   "base_numbering": 1,
   "nav_menu": {},
   "number_sections": true,
   "sideBar": true,
   "skip_h1_title": true,
   "title_cell": "Оглавление",
   "title_sidebar": "Contents",
   "toc_cell": true,
   "toc_position": {},
   "toc_section_display": true,
   "toc_window_display": true
  }
 },
 "nbformat": 4,
 "nbformat_minor": 5
}
