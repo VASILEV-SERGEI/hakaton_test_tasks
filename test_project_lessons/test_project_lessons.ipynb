{
 "cells": [
  {
   "cell_type": "markdown",
   "id": "9eee886b",
   "metadata": {
    "toc": true
   },
   "source": [
    "<h1>Оглавление<span class=\"tocSkip\"></span></h1>\n",
    "<div class=\"toc\"><ul class=\"toc-item\"><li><span><a href=\"#Описание-проекта.\" data-toc-modified-id=\"Описание-проекта.-1\"><span class=\"toc-item-num\">1&nbsp;&nbsp;</span>Описание проекта.</a></span></li><li><span><a href=\"#Описание-данных.\" data-toc-modified-id=\"Описание-данных.-2\"><span class=\"toc-item-num\">2&nbsp;&nbsp;</span>Описание данных.</a></span></li><li><span><a href=\"#Создание-датафрейма-и-генерация-данных.\" data-toc-modified-id=\"Создание-датафрейма-и-генерация-данных.-3\"><span class=\"toc-item-num\">3&nbsp;&nbsp;</span>Создание датафрейма и генерация данных.</a></span></li><li><span><a href=\"#Общий-вывод.\" data-toc-modified-id=\"Общий-вывод.-4\"><span class=\"toc-item-num\">4&nbsp;&nbsp;</span>Общий вывод.</a></span></li></ul></div>"
   ]
  },
  {
   "cell_type": "markdown",
   "id": "2a32a1e0",
   "metadata": {},
   "source": [
    "# Тестовое задание: генерация датафрейма для работы с дашбордом."
   ]
  },
  {
   "cell_type": "markdown",
   "id": "94d47e27",
   "metadata": {},
   "source": [
    "### Описание проекта."
   ]
  },
  {
   "cell_type": "markdown",
   "id": "08dfca82",
   "metadata": {},
   "source": [
    "Постройте дашборд (можно использовать python или tableau public), который позволит быстро ответить на вопросы:\n",
    "\n",
    "- \"Есть ли сейчас уроки с слишком быстрым (менее 7 секунд) временем прохождения?\"\n",
    "- \"Сколько таких уроков?\"\n",
    "- \"Как называются эти уроки?\" (необходимо использовать lesson_id)\n",
    "\n",
    "Представьте, что у вас есть все необходимые для подобного дашборда данные, взятые из предыдущего задания. Можете сгенерировать их уже в нужных вам агрегациях - сами цифры не важны, важна логика отображения показателей."
   ]
  },
  {
   "cell_type": "markdown",
   "id": "c75c4fae",
   "metadata": {},
   "source": [
    "### Описание данных."
   ]
  },
  {
   "cell_type": "markdown",
   "id": "761461c6",
   "metadata": {},
   "source": [
    "Датафрейм содержит следующие столбцы с данными:\n",
    "\n",
    "- delta_seconds - разница в секундах между временем прохождения следующего урока и текущего;\n",
    "- lesson_datetime - дата и время прохождения урока;\n",
    "- lesson_id - идентификатор урока;\n",
    "- next_lesson_datetime - дата и время прохождения следующего урока;\n",
    "- profession_name - название профессии; \n",
    "- user_id - уникальный идентификатор пользователя. "
   ]
  },
  {
   "cell_type": "markdown",
   "id": "a521f830",
   "metadata": {},
   "source": [
    "### Создание датафрейма и генерация данных."
   ]
  },
  {
   "cell_type": "markdown",
   "id": "0675d3a0",
   "metadata": {},
   "source": [
    "Импортируем основные библиотеки для работы."
   ]
  },
  {
   "cell_type": "code",
   "execution_count": 4,
   "id": "5af70d7c",
   "metadata": {},
   "outputs": [],
   "source": [
    "import pandas as pd\n",
    "import numpy as np"
   ]
  },
  {
   "cell_type": "markdown",
   "id": "00a0227f",
   "metadata": {},
   "source": [
    "Сгенерируем случайные данные, создадим таблицу и наполним её данными. Распечатаем таблицу и проверим что все получилось."
   ]
  },
  {
   "cell_type": "code",
   "execution_count": 2,
   "id": "22da7739",
   "metadata": {},
   "outputs": [
    {
     "name": "stdout",
     "output_type": "stream",
     "text": [
      "    delta_seconds     lesson_datetime  lesson_id next_lesson_datetime  \\\n",
      "0            1216 2022-01-01 00:00:00          3  2022-01-01 00:00:00   \n",
      "1             650 2022-01-01 01:00:00          3  2022-01-01 01:00:00   \n",
      "2            1058 2022-01-01 02:00:00          2  2022-01-01 02:00:00   \n",
      "3             497 2022-01-01 03:00:00          2  2022-01-01 03:00:00   \n",
      "4            1401 2022-01-01 04:00:00          2  2022-01-01 04:00:00   \n",
      "..            ...                 ...        ...                  ...   \n",
      "95           2635 2022-01-04 23:00:00          3  2022-01-04 23:00:00   \n",
      "96           1100 2022-01-05 00:00:00          2  2022-01-05 00:00:00   \n",
      "97           1694 2022-01-05 01:00:00          2  2022-01-05 01:00:00   \n",
      "98           1887 2022-01-05 02:00:00          1  2022-01-05 02:00:00   \n",
      "99           3002 2022-01-05 03:00:00          3  2022-01-05 03:00:00   \n",
      "\n",
      "     profession_name  user_id  \n",
      "0      Web Developer        2  \n",
      "1   Python Developer        3  \n",
      "2     Data Scientist        9  \n",
      "3     Data Scientist       10  \n",
      "4     Data Scientist       10  \n",
      "..               ...      ...  \n",
      "95  Python Developer        8  \n",
      "96    Data Scientist        9  \n",
      "97  Python Developer        1  \n",
      "98     Web Developer       10  \n",
      "99    Data Scientist        5  \n",
      "\n",
      "[100 rows x 6 columns]\n"
     ]
    }
   ],
   "source": [
    "# Генерируем случайные данные\n",
    "delta_seconds = np.random.randint(0, 3600, size=100)\n",
    "lesson_datetime = pd.date_range(start='2022-01-01', periods=100, freq='H')\n",
    "lesson_id = np.random.randint(1, 4, size=100)\n",
    "next_lesson_datetime = pd.date_range(start='2022-01-01', periods=100, freq='H')\n",
    "profession_name = np.random.choice(['Python Developer', 'Data Scientist', 'Web Developer'], size=100)\n",
    "user_id = np.random.randint(1, 11, size=100)\n",
    "\n",
    "# Создаем таблицу и заполняем данными\n",
    "df = pd.DataFrame({'delta_seconds': delta_seconds,\n",
    "                   'lesson_datetime': lesson_datetime,\n",
    "                   'lesson_id': lesson_id,\n",
    "                   'next_lesson_datetime': next_lesson_datetime,\n",
    "                   'profession_name': profession_name,\n",
    "                   'user_id': user_id})\n",
    "\n",
    "# Выводим таблицу\n",
    "print(df)\n"
   ]
  },
  {
   "cell_type": "markdown",
   "id": "5a3e82db",
   "metadata": {},
   "source": [
    "Сохраним полученный датафрейм в формат csv для дальнейшей работы с дашбордом."
   ]
  },
  {
   "cell_type": "code",
   "execution_count": 3,
   "id": "cbb12bbe",
   "metadata": {},
   "outputs": [],
   "source": [
    "df.to_csv('df.csv', index=False)"
   ]
  },
  {
   "cell_type": "markdown",
   "id": "980e66cb",
   "metadata": {},
   "source": [
    "### Общий вывод."
   ]
  },
  {
   "attachments": {},
   "cell_type": "markdown",
   "id": "0276fc1f",
   "metadata": {},
   "source": [
    "В данном тестовом задании был написан код необходимый для создания таблицы со столбцами: delta_seconds, lesson_datetime, lesson_id , next_lesson_datetime, profession_name, user_id.\n",
    "Сгенерированы случайные данные для формирования датасета df, далее датафрейм был выгружен в формате csv для работы в программе TableaU."
   ]
  }
 ],
 "metadata": {
  "kernelspec": {
   "display_name": "Python 3 (ipykernel)",
   "language": "python",
   "name": "python3"
  },
  "language_info": {
   "codemirror_mode": {
    "name": "ipython",
    "version": 3
   },
   "file_extension": ".py",
   "mimetype": "text/x-python",
   "name": "python",
   "nbconvert_exporter": "python",
   "pygments_lexer": "ipython3",
   "version": "3.9.13"
  },
  "toc": {
   "base_numbering": 1,
   "nav_menu": {},
   "number_sections": true,
   "sideBar": true,
   "skip_h1_title": true,
   "title_cell": "Оглавление",
   "title_sidebar": "Contents",
   "toc_cell": true,
   "toc_position": {},
   "toc_section_display": true,
   "toc_window_display": true
  }
 },
 "nbformat": 4,
 "nbformat_minor": 5
}
